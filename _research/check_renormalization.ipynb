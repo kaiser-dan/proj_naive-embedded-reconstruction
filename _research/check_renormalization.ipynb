{
 "cells": [
  {
   "attachments": {},
   "cell_type": "markdown",
   "metadata": {},
   "source": [
    "# Setup"
   ]
  },
  {
   "cell_type": "code",
   "execution_count": null,
   "metadata": {},
   "outputs": [],
   "source": [
    "# --- Standard library ---\n",
    "import sys\n",
    "import os\n",
    "\n",
    "# --- Scientific computing ---\n",
    "import numpy as np\n",
    "import scipy.stats as stats\n",
    "\n",
    "from sklearn.linear_model import LogisticRegression\n",
    "from sklearn.metrics import accuracy_score, roc_auc_score, precision_score, recall_score, confusion_matrix, ConfusionMatrixDisplay\n",
    "from sklearn.metrics import roc_curve, auc\n",
    "\n",
    "# --- Network science ---\n",
    "import networkx as nx\n",
    "\n",
    "# --- Data handling and visualization ---\n",
    "import pandas as pd\n",
    "\n",
    "import seaborn as sns\n",
    "import matplotlib as mpl\n",
    "import matplotlib.pyplot as plt\n",
    "%matplotlib inline\n",
    "\n",
    "# --- Project source code ---\n",
    "sys.path.append(\"../src/\")\n",
    "\n",
    "from classifiers.features import get_degrees, get_configuration_probabilities_feature\n",
    "from classifiers.features import get_distances, get_configuration_distances_feature, get_distance_ratios_feature\n",
    "# from classifiers.features import get_labels, format_feature_matrix\n",
    "from classifiers.logreg import *\n",
    "from data.observations import get_preprocessed_data"
   ]
  },
  {
   "cell_type": "code",
   "execution_count": 2,
   "metadata": {},
   "outputs": [],
   "source": [
    "SYSTEM = \"drosophila\"\n",
    "LAYERS = [1, 2]\n",
    "REP = 1\n",
    "\n",
    "THETAS = [0.05,0.07,0.10,0.12,0.15,0.17,0.20,0.22,0.25,0.27,0.30,0.32,0.35,0.37,0.40,0.42,0.45,0.47,0.50,0.53,0.55,0.57,0.60,0.62,0.65,0.68,0.70,0.72,0.75,0.78,0.80,0.82,0.85,0.88,0.90,0.92,0.95]\n",
    "# THETA = 0.50  # before threshold\n",
    "# THETA = 0.65  # approaching threshold from the left\n",
    "THETA = 0.68  # approaching threshold from the right\n",
    "# THETA = 0.85  # after threshold"
   ]
  },
  {
   "attachments": {},
   "cell_type": "markdown",
   "metadata": {},
   "source": [
    "# My code"
   ]
  },
  {
   "cell_type": "code",
   "execution_count": 3,
   "metadata": {},
   "outputs": [],
   "source": [
    "cache = get_preprocessed_data(SYSTEM, LAYERS, THETA, REP, ROOT=\"../data/input/preprocessed/\")\n",
    "cache.embeddings = cache.align_centers()\n",
    "cache.embeddings = cache.renormalize()"
   ]
  },
  {
   "cell_type": "code",
   "execution_count": 4,
   "metadata": {},
   "outputs": [],
   "source": [
    "components = sorted(nx.connected_components(cache.remnants[0]), key=len, reverse=True)"
   ]
  },
  {
   "cell_type": "code",
   "execution_count": 5,
   "metadata": {},
   "outputs": [],
   "source": [
    "centers = []\n",
    "norms = []\n",
    "sum_norms = []\n",
    "sizes = []\n",
    "for component in components:\n",
    "    vectors = [cache.embeddings[0][node] for node in component]\n",
    "    center_of_mass = np.mean(vectors, axis=0)\n",
    "    average_norm = np.mean([np.linalg.norm(vector) for vector in vectors])\n",
    "    sum_norm = np.sum([np.linalg.norm(vector) for vector in vectors])\n",
    "\n",
    "    sizes.append(len(component))\n",
    "    centers.append(center_of_mass)\n",
    "    norms.append(average_norm)\n",
    "    sum_norms.append(sum_norm)"
   ]
  },
  {
   "cell_type": "code",
   "execution_count": 6,
   "metadata": {},
   "outputs": [
    {
     "name": "stdout",
     "output_type": "stream",
     "text": [
      "GCC Average Norm:\n",
      "\t 0.00013635122741106898\n",
      " GCC Sum of Norms:\n",
      "\t 0.9999999403953552\n",
      " GCC Center of mass (first two coordinates):\n",
      "\t [-1.2159174e-12  8.1285933e-13]\n",
      "\n"
     ]
    }
   ],
   "source": [
    "print(\n",
    "    f\"GCC Average Norm:\\n\\t {norms[0]}\\n\",\n",
    "    f\"GCC Sum of Norms:\\n\\t {sum_norms[0]}\\n\",\n",
    "    f\"GCC Center of mass (first two coordinates):\\n\\t {centers[0][:2]}\\n\"\n",
    ")"
   ]
  },
  {
   "attachments": {},
   "cell_type": "markdown",
   "metadata": {},
   "source": [
    "# Filippo's code"
   ]
  },
  {
   "cell_type": "code",
   "execution_count": 7,
   "metadata": {},
   "outputs": [],
   "source": [
    "cache = get_preprocessed_data(SYSTEM, LAYERS, THETA, REP, ROOT=\"../data/input/preprocessed/\")\n",
    "cache.embeddings = cache.align_centers()\n",
    "cache.embeddings = cache.renormalize()"
   ]
  },
  {
   "cell_type": "code",
   "execution_count": 8,
   "metadata": {},
   "outputs": [],
   "source": [
    "G = cache.remnants[0]\n",
    "n2v_emb_rescaled = cache.embeddings[0].copy()\n",
    "\n",
    "nr_comp = 0\n",
    "components = sorted(nx.connected_components(G), key=len, reverse=True)\n",
    "for c in components:\n",
    "    nr_comp += 1\n",
    "    list_of_nodes = []\n",
    "    norm = 0.0\n",
    "    for n in c:\n",
    "        list_of_nodes.append(n2v_emb_rescaled[n])\n",
    "    cm = np.add.reduce(list_of_nodes) / float(len(list_of_nodes))\n",
    "    for n in c:\n",
    "        n2v_emb_rescaled[n] = n2v_emb_rescaled[n] - cm \n",
    "        norm += np.linalg.norm(n2v_emb_rescaled[n])\n",
    "    if norm > 0.0:\n",
    "        for n in c:\n",
    "            n2v_emb_rescaled[n] = n2v_emb_rescaled[n] / norm \n"
   ]
  },
  {
   "cell_type": "code",
   "execution_count": 9,
   "metadata": {},
   "outputs": [],
   "source": [
    "centers = []\n",
    "norms = []\n",
    "sum_norms = []\n",
    "sizes = []\n",
    "for component in components:\n",
    "    vectors = [n2v_emb_rescaled[node] for node in component]\n",
    "    center_of_mass = np.mean(vectors, axis=0)\n",
    "    average_norm = np.mean([np.linalg.norm(vector) for vector in vectors])\n",
    "    sum_norm = np.sum([np.linalg.norm(vector) for vector in vectors])\n",
    "\n",
    "    sizes.append(len(component))\n",
    "    centers.append(center_of_mass)\n",
    "    norms.append(average_norm)\n",
    "    sum_norms.append(sum_norm)"
   ]
  },
  {
   "cell_type": "code",
   "execution_count": 10,
   "metadata": {},
   "outputs": [
    {
     "name": "stdout",
     "output_type": "stream",
     "text": [
      "GCC Average Norm:\n",
      "\t 0.00013635125651489943\n",
      " GCC Sum of Norms:\n",
      "\t 1.0000001192092896\n",
      " GCC Center of mass (first two coordinates):\n",
      "\t [-1.6345390e-13 -5.9959186e-14]\n",
      "\n"
     ]
    }
   ],
   "source": [
    "print(\n",
    "    f\"GCC Average Norm:\\n\\t {norms[0]}\\n\",\n",
    "    f\"GCC Sum of Norms:\\n\\t {sum_norms[0]}\\n\",\n",
    "    f\"GCC Center of mass (first two coordinates):\\n\\t {centers[0][:2]}\\n\"\n",
    ")"
   ]
  },
  {
   "cell_type": "code",
   "execution_count": null,
   "metadata": {},
   "outputs": [],
   "source": []
  }
 ],
 "metadata": {
  "kernelspec": {
   "display_name": "EmbeddedNaive",
   "language": "python",
   "name": "python3"
  },
  "language_info": {
   "codemirror_mode": {
    "name": "ipython",
    "version": 3
   },
   "file_extension": ".py",
   "mimetype": "text/x-python",
   "name": "python",
   "nbconvert_exporter": "python",
   "pygments_lexer": "ipython3",
   "version": "3.10.6"
  },
  "orig_nbformat": 4
 },
 "nbformat": 4,
 "nbformat_minor": 2
}
