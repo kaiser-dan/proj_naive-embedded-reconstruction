{
 "cells": [
  {
   "cell_type": "code",
   "execution_count": 1,
   "metadata": {},
   "outputs": [
    {
     "name": "stdout",
     "output_type": "stream",
     "text": [
      "Note: to be able to use all crisp methods, you need to install some additional packages:  {'leidenalg', 'karateclub', 'graph_tool', 'infomap', 'wurlitzer'}\n",
      "Note: to be able to use all overlapping methods, you need to install some additional packages:  {'ASLPAw', 'karateclub'}\n",
      "Note: to be able to use all bipartite methods, you need to install some additional packages:  {'infomap', 'leidenalg', 'wurlitzer'}\n"
     ]
    }
   ],
   "source": [
    "import networkx as nx\n",
    "from node2vec import Node2Vec\n",
    "from src import *\n",
    "import numpy as np\n",
    "from sklearn import metrics"
   ]
  },
  {
   "cell_type": "code",
   "execution_count": 2,
   "metadata": {},
   "outputs": [],
   "source": [
    "N = 100\n",
    "gamma = 2.5\n",
    "kmin = 3\n",
    "kmax = np.sqrt(N)\n",
    "prob = 1.0\n",
    "sign = -1\n",
    "\n",
    "pfi = 0.4\n",
    "\n",
    "\n",
    "D = generate_multiplex_configuration(N, gamma, kmin, kmax, prob, sign)"
   ]
  },
  {
   "cell_type": "code",
   "execution_count": 3,
   "metadata": {},
   "outputs": [
    {
     "name": "stdout",
     "output_type": "stream",
     "text": [
      "10\n"
     ]
    }
   ],
   "source": [
    "G, H = duplex_network(D, 1, 2)\n",
    "\n",
    "R_G, R_H, agg = partial_information(G, H, pfi)"
   ]
  },
  {
   "cell_type": "code",
   "execution_count": 4,
   "metadata": {},
   "outputs": [
    {
     "name": "stderr",
     "output_type": "stream",
     "text": [
      "Computing transition probabilities: 100%|██████████| 100/100 [00:00<00:00, 5439.66it/s]\n",
      "Generating walks (CPU: 4): 100%|██████████| 50/50 [00:00<00:00, 101.33it/s]\n",
      "Generating walks (CPU: 2): 100%|██████████| 50/50 [00:00<00:00, 90.88it/s]\n",
      "Generating walks (CPU: 3): 100%|██████████| 50/50 [00:00<00:00, 84.20it/s] \n",
      "Generating walks (CPU: 1): 100%|██████████| 50/50 [00:00<00:00, 77.60it/s]\n",
      "Computing transition probabilities: 100%|██████████| 100/100 [00:00<00:00, 4687.16it/s]\n",
      "Generating walks (CPU: 3): 100%|██████████| 50/50 [00:00<00:00, 95.46it/s] \n",
      "Generating walks (CPU: 4): 100%|██████████| 50/50 [00:00<00:00, 92.11it/s]\n",
      "Generating walks (CPU: 1): 100%|██████████| 50/50 [00:00<00:00, 79.46it/s]\n",
      "Generating walks (CPU: 2): 100%|██████████| 50/50 [00:00<00:00, 79.09it/s]\n"
     ]
    },
    {
     "name": "stdout",
     "output_type": "stream",
     "text": [
      "(100, 128) (100, 128)\n"
     ]
    }
   ],
   "source": [
    "G_emb = Node2Vec(R_G, dimensions=128, walk_length=30, num_walks=200, workers=4).fit(window=10, min_count=1, batch_words=4)\n",
    "H_emb = Node2Vec(R_H, dimensions=128, walk_length=30, num_walks=200, workers=4).fit(window=10, min_count=1, batch_words=4)\n",
    "\n",
    "G_ = G_emb.wv.vectors\n",
    "H_ = H_emb.wv.vectors\n",
    "\n",
    "print(G_.shape, H_.shape)"
   ]
  },
  {
   "cell_type": "code",
   "execution_count": 5,
   "metadata": {},
   "outputs": [],
   "source": [
    "cls = []\n",
    "gt = []\n",
    "for src, tgt in agg:\n",
    "    v_G_src = G_[src, :]\n",
    "    v_G_tgt = G_[tgt, :]\n",
    "    v_H_src = H_[src, :]\n",
    "    v_H_tgt = H_[tgt, :]\n",
    "\n",
    "    d_G = np.linalg.norm(v_G_src - v_G_tgt)\n",
    "    d_H = np.linalg.norm(v_H_src - v_H_tgt)\n",
    "\n",
    "    if d_G < d_H:\n",
    "        cls.append(0)\n",
    "    elif d_H > d_G:\n",
    "        cls.append(1)\n",
    "    else:\n",
    "        cls.append(np.random.randint(0, 2))\n",
    "\n",
    "    if (src, tgt) in G.edges():\n",
    "        gt.append(0)\n",
    "    else:\n",
    "        gt.append(1)\n",
    "\n",
    "acc = metrics.accuracy_score(gt, cls)"
   ]
  },
  {
   "cell_type": "code",
   "execution_count": 6,
   "metadata": {},
   "outputs": [
    {
     "name": "stdout",
     "output_type": "stream",
     "text": [
      "0.5411255411255411\n"
     ]
    }
   ],
   "source": [
    "print(acc)"
   ]
  },
  {
   "cell_type": "code",
   "execution_count": 7,
   "metadata": {},
   "outputs": [],
   "source": [
    "def embbedding_exp(N, gamma, kmin, kmax, prob, sign, pfis):\n",
    "    D = generate_multiplex_configuration(N, gamma, kmin, kmax, prob, sign)\n",
    "    G, H = duplex_network(D, 1, 2)\n",
    "\n",
    "    accs = []\n",
    "    for pfi in pfis:\n",
    "        R_G, R_H, agg = partial_information(G, H, pfi)\n",
    "        G_emb = Node2Vec(R_G, dimensions=128, walk_length=30, num_walks=200, workers=4).fit(window=10, min_count=1, batch_words=4)\n",
    "        H_emb = Node2Vec(R_H, dimensions=128, walk_length=30, num_walks=200, workers=4).fit(window=10, min_count=1, batch_words=4)\n",
    "\n",
    "        G_ = G_emb.wv.vectors\n",
    "        H_ = H_emb.wv.vectors\n",
    "\n",
    "        cls = []\n",
    "        gt = []\n",
    "        for src, tgt in agg:\n",
    "            v_G_src = G_[src, :]\n",
    "            v_G_tgt = G_[tgt, :]\n",
    "            v_H_src = H_[src, :]\n",
    "            v_H_tgt = H_[tgt, :]\n",
    "\n",
    "            d_G = np.linalg.norm(v_G_src - v_G_tgt)\n",
    "            d_H = np.linalg.norm(v_H_src - v_H_tgt)\n",
    "\n",
    "            if d_G < d_H:\n",
    "                cls.append(0)\n",
    "            elif d_H > d_G:\n",
    "                cls.append(1)\n",
    "            else:\n",
    "                cls.append(np.random.randint(0, 2))\n",
    "\n",
    "            if (src, tgt) in G.edges():\n",
    "                gt.append(0)\n",
    "            else:\n",
    "                gt.append(1)\n",
    "\n",
    "        acc = metrics.accuracy_score(gt, cls)\n",
    "        accs.append(acc)\n",
    "\n",
    "    return pfis, accs"
   ]
  },
  {
   "cell_type": "code",
   "execution_count": 8,
   "metadata": {},
   "outputs": [
    {
     "name": "stdout",
     "output_type": "stream",
     "text": [
      "12\n"
     ]
    },
    {
     "name": "stderr",
     "output_type": "stream",
     "text": [
      "Computing transition probabilities: 100%|██████████| 100/100 [00:00<00:00, 3133.09it/s]\n",
      "Generating walks (CPU: 2): 100%|██████████| 50/50 [00:00<00:00, 95.32it/s] \n",
      "Generating walks (CPU: 3): 100%|██████████| 50/50 [00:00<00:00, 95.96it/s]\n",
      "Generating walks (CPU: 1): 100%|██████████| 50/50 [00:00<00:00, 80.66it/s]\n",
      "Generating walks (CPU: 4): 100%|██████████| 50/50 [00:00<00:00, 84.51it/s]\n",
      "Computing transition probabilities: 100%|██████████| 100/100 [00:00<00:00, 4345.89it/s]\n",
      "Generating walks (CPU: 1): 100%|██████████| 50/50 [00:00<00:00, 93.64it/s] \n",
      "Generating walks (CPU: 3): 100%|██████████| 50/50 [00:00<00:00, 93.79it/s]\n",
      "Generating walks (CPU: 2): 100%|██████████| 50/50 [00:00<00:00, 64.31it/s]\n",
      "Generating walks (CPU: 4): 100%|██████████| 50/50 [00:00<00:00, 62.94it/s]\n",
      "Computing transition probabilities: 100%|██████████| 100/100 [00:00<00:00, 5010.70it/s]\n",
      "Generating walks (CPU: 2): 100%|██████████| 50/50 [00:00<00:00, 96.72it/s] \n",
      "Generating walks (CPU: 4): 100%|██████████| 50/50 [00:00<00:00, 98.98it/s]\n",
      "Generating walks (CPU: 1): 100%|██████████| 50/50 [00:00<00:00, 63.15it/s]\n",
      "Generating walks (CPU: 3): 100%|██████████| 50/50 [00:00<00:00, 64.77it/s]\n",
      "Computing transition probabilities: 100%|██████████| 100/100 [00:00<00:00, 4016.42it/s]\n",
      "Generating walks (CPU: 2): 100%|██████████| 50/50 [00:00<00:00, 81.55it/s]\n",
      "Generating walks (CPU: 3): 100%|██████████| 50/50 [00:00<00:00, 80.80it/s]\n",
      "Generating walks (CPU: 1): 100%|██████████| 50/50 [00:00<00:00, 72.02it/s]\n",
      "Generating walks (CPU: 4): 100%|██████████| 50/50 [00:00<00:00, 72.61it/s]\n",
      "Computing transition probabilities: 100%|██████████| 100/100 [00:00<00:00, 6258.10it/s]\n",
      "Generating walks (CPU: 1): 100%|██████████| 50/50 [00:00<00:00, 98.03it/s]]\n",
      "Generating walks (CPU: 2): 100%|██████████| 50/50 [00:00<00:00, 99.73it/s]\n",
      "Generating walks (CPU: 3): 100%|██████████| 50/50 [00:00<00:00, 96.90it/s]\n",
      "Generating walks (CPU: 4): 100%|██████████| 50/50 [00:00<00:00, 98.57it/s] \n",
      "Computing transition probabilities: 100%|██████████| 100/100 [00:00<00:00, 5462.83it/s]\n",
      "Generating walks (CPU: 1): 100%|██████████| 50/50 [00:00<00:00, 104.33it/s]\n",
      "Generating walks (CPU: 3): 100%|██████████| 50/50 [00:00<00:00, 101.44it/s]\n",
      "Generating walks (CPU: 4): 100%|██████████| 50/50 [00:00<00:00, 70.65it/s]\n",
      "Generating walks (CPU: 2): 100%|██████████| 50/50 [00:00<00:00, 67.00it/s]\n",
      "Computing transition probabilities: 100%|██████████| 100/100 [00:00<00:00, 8025.84it/s]\n",
      "Generating walks (CPU: 2): 100%|██████████| 50/50 [00:00<00:00, 106.65it/s]\n",
      "Generating walks (CPU: 1): 100%|██████████| 50/50 [00:00<00:00, 101.96it/s]\n",
      "Generating walks (CPU: 3): 100%|██████████| 50/50 [00:00<00:00, 105.91it/s]\n",
      "Generating walks (CPU: 4): 100%|██████████| 50/50 [00:00<00:00, 100.38it/s]\n",
      "Computing transition probabilities: 100%|██████████| 100/100 [00:00<00:00, 5793.40it/s]\n",
      "Generating walks (CPU: 1): 100%|██████████| 50/50 [00:00<00:00, 98.57it/s] \n",
      "Generating walks (CPU: 2): 100%|██████████| 50/50 [00:00<00:00, 97.00it/s]\n",
      "Generating walks (CPU: 3): 100%|██████████| 50/50 [00:00<00:00, 87.26it/s]\n",
      "Generating walks (CPU: 4): 100%|██████████| 50/50 [00:00<00:00, 88.99it/s]\n",
      "Computing transition probabilities: 100%|██████████| 100/100 [00:00<00:00, 8930.70it/s]\n",
      "Generating walks (CPU: 1): 100%|██████████| 50/50 [00:00<00:00, 100.56it/s]\n",
      "Generating walks (CPU: 2): 100%|██████████| 50/50 [00:00<00:00, 101.90it/s]\n",
      "Generating walks (CPU: 3): 100%|██████████| 50/50 [00:00<00:00, 98.92it/s] \n",
      "Generating walks (CPU: 4): 100%|██████████| 50/50 [00:00<00:00, 97.62it/s] \n",
      "Computing transition probabilities: 100%|██████████| 100/100 [00:00<00:00, 6015.24it/s]\n",
      "Generating walks (CPU: 1): 100%|██████████| 50/50 [00:00<00:00, 104.80it/s]\n",
      "Generating walks (CPU: 2): 100%|██████████| 50/50 [00:00<00:00, 100.27it/s]\n",
      "Generating walks (CPU: 4): 100%|██████████| 50/50 [00:00<00:00, 104.68it/s]\n",
      "Generating walks (CPU: 3): 100%|██████████| 50/50 [00:00<00:00, 99.88it/s] \n"
     ]
    }
   ],
   "source": [
    "N = 100\n",
    "gamma = 2.5\n",
    "kmin = 3\n",
    "kmax = np.sqrt(N)\n",
    "prob = 1.0\n",
    "sign = -1\n",
    "\n",
    "pfis = [0.0, 0.2, 0.4, 0.6, 0.8]\n",
    "pfis, accs = embbedding_exp(N, gamma, kmin, kmax, prob, sign, pfis)"
   ]
  },
  {
   "cell_type": "code",
   "execution_count": 9,
   "metadata": {},
   "outputs": [
    {
     "data": {
      "text/plain": [
       "[<matplotlib.lines.Line2D at 0x7efbd322cc70>]"
      ]
     },
     "execution_count": 9,
     "metadata": {},
     "output_type": "execute_result"
    },
    {
     "data": {
      "image/png": "[encoded data removed]",
      "text/plain": [
       "<Figure size 640x480 with 1 Axes>"
      ]
     },
     "metadata": {},
     "output_type": "display_data"
    }
   ],
   "source": [
    "plt.figure()\n",
    "plt.plot(pfis, accs)"
   ]
  },
  {
   "cell_type": "code",
   "execution_count": null,
   "metadata": {},
   "outputs": [],
   "source": []
  }
 ],
 "metadata": {
  "kernelspec": {
   "display_name": "Python 3.8.10 ('.venv': venv)",
   "language": "python",
   "name": "python3"
  },
  "language_info": {
   "codemirror_mode": {
    "name": "ipython",
    "version": 3
   },
   "file_extension": ".py",
   "mimetype": "text/x-python",
   "name": "python",
   "nbconvert_exporter": "python",
   "pygments_lexer": "ipython3",
   "version": "3.8.10"
  },
  "orig_nbformat": 4,
  "vscode": {
   "interpreter": {
    "hash": "d5f2e7ca23ec104f273660b56aa9afd5cc6a028f175c294497d639b317afa0e1"
   }
  }
 },
 "nbformat": 4,
 "nbformat_minor": 2
}
