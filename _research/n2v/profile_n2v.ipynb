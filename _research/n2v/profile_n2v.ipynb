{
 "cells": [
  {
   "cell_type": "markdown",
   "metadata": {},
   "source": [
    "# Set up"
   ]
  },
  {
   "cell_type": "markdown",
   "metadata": {},
   "source": [
    "## Imports"
   ]
  },
  {
   "cell_type": "code",
   "execution_count": 6,
   "metadata": {},
   "outputs": [],
   "source": [
    "# --- Standard library ---\n",
    "import os\n",
    "import subprocess\n",
    "from time import perf_counter as pc\n",
    "\n",
    "# --- Scientific ---\n",
    "import numpy as np  # General computational tools\n",
    "\n",
    "# --- Network science ---\n",
    "import networkx as nx\n",
    "from node2vec import Node2Vec as N2V  # Embedding tools\n",
    "\n",
    "# --- Data handling and visualization ---\n",
    "import matplotlib.pyplot as plt\n",
    "%matplotlib inline"
   ]
  },
  {
   "cell_type": "markdown",
   "metadata": {},
   "source": [
    "## Globals"
   ]
  },
  {
   "cell_type": "code",
   "execution_count": 2,
   "metadata": {},
   "outputs": [],
   "source": [
    "Ns = np.logspace(2, 5, num=11, endpoint=True)\n",
    "gamma = 2.1\n",
    "tau = 1.0\n",
    "mu = 0.1\n",
    "avgk = 20"
   ]
  },
  {
   "cell_type": "markdown",
   "metadata": {},
   "source": [
    "## Functions"
   ]
  },
  {
   "cell_type": "code",
   "execution_count": 3,
   "metadata": {},
   "outputs": [],
   "source": [
    "def generate_LFR(N):\n",
    "    # Generate LFR benchmark\n",
    "    subprocess.call(\n",
    "        \" \".join([\n",
    "            \"../../bin/LFR/benchmark.sh\",\n",
    "            \"-N\", f\"{N}\",\n",
    "            \"-k\", f\"{avgk}\",\n",
    "            \"-maxk\", f\"{np.sqrt(N)}\",\n",
    "            \"-t1\", f\"{gamma}\",\n",
    "            \"-t2\", f\"{tau}\",\n",
    "            \"-mu\", f\"{mu}\"\n",
    "        ]),\n",
    "        stdout=open(os.devnull, 'w'),\n",
    "        stderr=open(os.devnull, 'w'),\n",
    "        shell=True\n",
    "    )\n",
    "\n",
    "    x=np.loadtxt('../../bin/LFR/network.dat')\n",
    "    edges=[(int(x[i][0])-1,int(x[i][1])-1) for i in range(len(x))]\n",
    "    g=nx.Graph(edges)\n",
    "\n",
    "    return g\n",
    "\n",
    "def embed_graph(g):\n",
    "    N2V(g, dimensions=128, walk_length=30, num_walks=100, workers=4, quiet=True).fit()\n",
    "\n",
    "def time_embedding(N):\n",
    "    g = generate_LFR(N)\n",
    "    start = pc()\n",
    "    embed_graph(g)\n",
    "    return pc() - start"
   ]
  },
  {
   "cell_type": "markdown",
   "metadata": {},
   "source": [
    "# Sweep w.r.t. N"
   ]
  },
  {
   "cell_type": "code",
   "execution_count": 4,
   "metadata": {},
   "outputs": [],
   "source": [
    "times = []\n",
    "Ns_axis = []\n",
    "for N in Ns:\n",
    "    for _ in range(5):\n",
    "        Ns_axis.append(N)\n",
    "        times.append(time_embedding(N))"
   ]
  },
  {
   "cell_type": "code",
   "execution_count": 9,
   "metadata": {},
   "outputs": [
    {
     "data": {
      "image/png": "[encoded data removed]",
      "text/plain": [
       "<Figure size 640x480 with 1 Axes>"
      ]
     },
     "metadata": {},
     "output_type": "display_data"
    }
   ],
   "source": [
    "plt.scatter(Ns_axis, times)\n",
    "plt.savefig(\"initial_n2v_profiling.png\", facecolor=\"white\", transparent=False)"
   ]
  },
  {
   "cell_type": "code",
   "execution_count": null,
   "metadata": {},
   "outputs": [],
   "source": []
  }
 ],
 "metadata": {
  "kernelspec": {
   "display_name": "Python 3.10.6 ('EmbeddedNaive')",
   "language": "python",
   "name": "python3"
  },
  "language_info": {
   "codemirror_mode": {
    "name": "ipython",
    "version": 3
   },
   "file_extension": ".py",
   "mimetype": "text/x-python",
   "name": "python",
   "nbconvert_exporter": "python",
   "pygments_lexer": "ipython3",
   "version": "3.10.6"
  },
  "orig_nbformat": 4,
  "vscode": {
   "interpreter": {
    "hash": "f5825d70345ee2a3649307867a940362a6242bb96acddd38c1a628ab339f97fa"
   }
  }
 },
 "nbformat": 4,
 "nbformat_minor": 2
}
