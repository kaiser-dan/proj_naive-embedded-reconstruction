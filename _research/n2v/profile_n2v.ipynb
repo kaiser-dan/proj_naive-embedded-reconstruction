{
 "cells": [
  {
   "cell_type": "markdown",
   "metadata": {},
   "source": [
    "# Set up"
   ]
  },
  {
   "cell_type": "markdown",
   "metadata": {},
   "source": [
    "## Imports"
   ]
  },
  {
   "cell_type": "code",
   "execution_count": 27,
   "metadata": {},
   "outputs": [],
   "source": [
    "# --- Standard library ---\n",
    "import os\n",
    "import subprocess\n",
    "from time import perf_counter as pc\n",
    "\n",
    "# --- Scientific ---\n",
    "import numpy as np  # General computational tools\n",
    "\n",
    "# --- Network science ---\n",
    "import networkx as nx\n",
    "from node2vec import Node2Vec as N2V  # Embedding tools\n",
    "\n",
    "# --- Data handling and visualization ---\n",
    "import pandas as pd\n",
    "import seaborn as sns\n",
    "import matplotlib.pyplot as plt\n",
    "%matplotlib inline"
   ]
  },
  {
   "cell_type": "markdown",
   "metadata": {},
   "source": [
    "## Functions"
   ]
  },
  {
   "cell_type": "code",
   "execution_count": 28,
   "metadata": {},
   "outputs": [],
   "source": [
    "def read_file(filename):\n",
    "    G = {}\n",
    "\n",
    "    with open(filename) as file:\n",
    "        for line in file:\n",
    "            data = line.strip().split()\n",
    "            l = int(data[0])\n",
    "            n = int(data[1])\n",
    "            m = int(data[2])\n",
    "            if l not in G:\n",
    "                G[l] = nx.Graph()\n",
    "            G[l].add_edge(n, m)\n",
    "\n",
    "    return G\n",
    "\n",
    "def generate_LFR(N, avgk, gamma, tau, mu):\n",
    "    # Generate LFR benchmark\n",
    "    subprocess.call(\n",
    "        \" \".join([\n",
    "            \"../../bin/LFR/benchmark.sh\",\n",
    "            \"-N\", f\"{N}\",\n",
    "            \"-k\", f\"{avgk}\",\n",
    "            \"-maxk\", f\"{np.sqrt(N)}\",\n",
    "            \"-t1\", f\"{gamma}\",\n",
    "            \"-t2\", f\"{tau}\",\n",
    "            \"-mu\", f\"{mu}\"\n",
    "        ]),\n",
    "        stdout=open(os.devnull, 'w'),\n",
    "        stderr=open(os.devnull, 'w'),\n",
    "        shell=True\n",
    "    )\n",
    "\n",
    "    x=np.loadtxt('../../bin/LFR/network.dat')\n",
    "    edges=[(int(x[i][0])-1,int(x[i][1])-1) for i in range(len(x))]\n",
    "    g=nx.Graph(edges)\n",
    "\n",
    "    return g"
   ]
  },
  {
   "cell_type": "code",
   "execution_count": 29,
   "metadata": {},
   "outputs": [],
   "source": [
    "def embed_graph(g):\n",
    "    N2V(g, dimensions=128, walk_length=30, num_walks=100, workers=4, quiet=True).fit()\n",
    "\n",
    "def time_embedding(g):\n",
    "    start = pc()\n",
    "    embed_graph(g)\n",
    "    return pc() - start"
   ]
  },
  {
   "cell_type": "markdown",
   "metadata": {},
   "source": [
    "## Globals"
   ]
  },
  {
   "cell_type": "code",
   "execution_count": 25,
   "metadata": {},
   "outputs": [],
   "source": [
    "Ns = np.logspace(2, 5, num=6, endpoint=True)\n",
    "gamma = 2.1\n",
    "tau = 1.0\n",
    "mu = 0.1\n",
    "avgk = 20"
   ]
  },
  {
   "cell_type": "markdown",
   "metadata": {},
   "source": [
    "# Sweep w.r.t. N"
   ]
  },
  {
   "cell_type": "code",
   "execution_count": 26,
   "metadata": {},
   "outputs": [
    {
     "ename": "KeyboardInterrupt",
     "evalue": "",
     "output_type": "error",
     "traceback": [
      "\u001b[0;31m---------------------------------------------------------------------------\u001b[0m",
      "\u001b[0;31mKeyboardInterrupt\u001b[0m                         Traceback (most recent call last)",
      "\u001b[1;32m/home/daniel/.symlinks/EMB/proj_naive-embedded-reconstruction/_research/n2v/profile_n2v.ipynb Cell 10\u001b[0m in \u001b[0;36m<module>\u001b[0;34m\u001b[0m\n\u001b[1;32m      <a href='vscode-notebook-cell://wsl%2Bubuntu/home/daniel/.symlinks/EMB/proj_naive-embedded-reconstruction/_research/n2v/profile_n2v.ipynb#X11sdnNjb2RlLXJlbW90ZQ%3D%3D?line=4'>5</a>\u001b[0m Ns_axis\u001b[39m.\u001b[39mappend(N)\n\u001b[1;32m      <a href='vscode-notebook-cell://wsl%2Bubuntu/home/daniel/.symlinks/EMB/proj_naive-embedded-reconstruction/_research/n2v/profile_n2v.ipynb#X11sdnNjb2RlLXJlbW90ZQ%3D%3D?line=5'>6</a>\u001b[0m g \u001b[39m=\u001b[39m generate_LFR(N, avgk, gamma, tau, mu)\n\u001b[0;32m----> <a href='vscode-notebook-cell://wsl%2Bubuntu/home/daniel/.symlinks/EMB/proj_naive-embedded-reconstruction/_research/n2v/profile_n2v.ipynb#X11sdnNjb2RlLXJlbW90ZQ%3D%3D?line=6'>7</a>\u001b[0m times\u001b[39m.\u001b[39mappend(time_embedding(g))\n",
      "\u001b[1;32m/home/daniel/.symlinks/EMB/proj_naive-embedded-reconstruction/_research/n2v/profile_n2v.ipynb Cell 10\u001b[0m in \u001b[0;36mtime_embedding\u001b[0;34m(g)\u001b[0m\n\u001b[1;32m      <a href='vscode-notebook-cell://wsl%2Bubuntu/home/daniel/.symlinks/EMB/proj_naive-embedded-reconstruction/_research/n2v/profile_n2v.ipynb#X11sdnNjb2RlLXJlbW90ZQ%3D%3D?line=3'>4</a>\u001b[0m \u001b[39mdef\u001b[39;00m \u001b[39mtime_embedding\u001b[39m(g):\n\u001b[1;32m      <a href='vscode-notebook-cell://wsl%2Bubuntu/home/daniel/.symlinks/EMB/proj_naive-embedded-reconstruction/_research/n2v/profile_n2v.ipynb#X11sdnNjb2RlLXJlbW90ZQ%3D%3D?line=4'>5</a>\u001b[0m     start \u001b[39m=\u001b[39m pc()\n\u001b[0;32m----> <a href='vscode-notebook-cell://wsl%2Bubuntu/home/daniel/.symlinks/EMB/proj_naive-embedded-reconstruction/_research/n2v/profile_n2v.ipynb#X11sdnNjb2RlLXJlbW90ZQ%3D%3D?line=5'>6</a>\u001b[0m     embed_graph(g)\n\u001b[1;32m      <a href='vscode-notebook-cell://wsl%2Bubuntu/home/daniel/.symlinks/EMB/proj_naive-embedded-reconstruction/_research/n2v/profile_n2v.ipynb#X11sdnNjb2RlLXJlbW90ZQ%3D%3D?line=6'>7</a>\u001b[0m     \u001b[39mreturn\u001b[39;00m pc() \u001b[39m-\u001b[39m start\n",
      "\u001b[1;32m/home/daniel/.symlinks/EMB/proj_naive-embedded-reconstruction/_research/n2v/profile_n2v.ipynb Cell 10\u001b[0m in \u001b[0;36membed_graph\u001b[0;34m(g)\u001b[0m\n\u001b[1;32m      <a href='vscode-notebook-cell://wsl%2Bubuntu/home/daniel/.symlinks/EMB/proj_naive-embedded-reconstruction/_research/n2v/profile_n2v.ipynb#X11sdnNjb2RlLXJlbW90ZQ%3D%3D?line=0'>1</a>\u001b[0m \u001b[39mdef\u001b[39;00m \u001b[39membed_graph\u001b[39m(g):\n\u001b[0;32m----> <a href='vscode-notebook-cell://wsl%2Bubuntu/home/daniel/.symlinks/EMB/proj_naive-embedded-reconstruction/_research/n2v/profile_n2v.ipynb#X11sdnNjb2RlLXJlbW90ZQ%3D%3D?line=1'>2</a>\u001b[0m     N2V(g, dimensions\u001b[39m=\u001b[39;49m\u001b[39m128\u001b[39;49m, walk_length\u001b[39m=\u001b[39;49m\u001b[39m30\u001b[39;49m, num_walks\u001b[39m=\u001b[39;49m\u001b[39m100\u001b[39;49m, workers\u001b[39m=\u001b[39;49m\u001b[39m4\u001b[39;49m, quiet\u001b[39m=\u001b[39;49m\u001b[39mTrue\u001b[39;49;00m)\u001b[39m.\u001b[39mfit()\n",
      "File \u001b[0;32m~/.conda/envs/EmbeddedNaive/lib/python3.10/site-packages/node2vec/node2vec.py:71\u001b[0m, in \u001b[0;36mNode2Vec.__init__\u001b[0;34m(self, graph, dimensions, walk_length, num_walks, p, q, weight_key, workers, sampling_strategy, quiet, temp_folder)\u001b[0m\n\u001b[1;32m     68\u001b[0m     \u001b[39mself\u001b[39m\u001b[39m.\u001b[39mrequire \u001b[39m=\u001b[39m \u001b[39m\"\u001b[39m\u001b[39msharedmem\u001b[39m\u001b[39m\"\u001b[39m\n\u001b[1;32m     70\u001b[0m \u001b[39mself\u001b[39m\u001b[39m.\u001b[39m_precompute_probabilities()\n\u001b[0;32m---> 71\u001b[0m \u001b[39mself\u001b[39m\u001b[39m.\u001b[39mwalks \u001b[39m=\u001b[39m \u001b[39mself\u001b[39;49m\u001b[39m.\u001b[39;49m_generate_walks()\n",
      "File \u001b[0;32m~/.conda/envs/EmbeddedNaive/lib/python3.10/site-packages/node2vec/node2vec.py:145\u001b[0m, in \u001b[0;36mNode2Vec._generate_walks\u001b[0;34m(self)\u001b[0m\n\u001b[1;32m    142\u001b[0m \u001b[39m# Split num_walks for each worker\u001b[39;00m\n\u001b[1;32m    143\u001b[0m num_walks_lists \u001b[39m=\u001b[39m np\u001b[39m.\u001b[39marray_split(\u001b[39mrange\u001b[39m(\u001b[39mself\u001b[39m\u001b[39m.\u001b[39mnum_walks), \u001b[39mself\u001b[39m\u001b[39m.\u001b[39mworkers)\n\u001b[0;32m--> 145\u001b[0m walk_results \u001b[39m=\u001b[39m Parallel(n_jobs\u001b[39m=\u001b[39;49m\u001b[39mself\u001b[39;49m\u001b[39m.\u001b[39;49mworkers, temp_folder\u001b[39m=\u001b[39;49m\u001b[39mself\u001b[39;49m\u001b[39m.\u001b[39;49mtemp_folder, require\u001b[39m=\u001b[39;49m\u001b[39mself\u001b[39;49m\u001b[39m.\u001b[39;49mrequire)(\n\u001b[1;32m    146\u001b[0m     delayed(parallel_generate_walks)(\u001b[39mself\u001b[39;49m\u001b[39m.\u001b[39;49md_graph,\n\u001b[1;32m    147\u001b[0m                                      \u001b[39mself\u001b[39;49m\u001b[39m.\u001b[39;49mwalk_length,\n\u001b[1;32m    148\u001b[0m                                      \u001b[39mlen\u001b[39;49m(num_walks),\n\u001b[1;32m    149\u001b[0m                                      idx,\n\u001b[1;32m    150\u001b[0m                                      \u001b[39mself\u001b[39;49m\u001b[39m.\u001b[39;49msampling_strategy,\n\u001b[1;32m    151\u001b[0m                                      \u001b[39mself\u001b[39;49m\u001b[39m.\u001b[39;49mNUM_WALKS_KEY,\n\u001b[1;32m    152\u001b[0m                                      \u001b[39mself\u001b[39;49m\u001b[39m.\u001b[39;49mWALK_LENGTH_KEY,\n\u001b[1;32m    153\u001b[0m                                      \u001b[39mself\u001b[39;49m\u001b[39m.\u001b[39;49mNEIGHBORS_KEY,\n\u001b[1;32m    154\u001b[0m                                      \u001b[39mself\u001b[39;49m\u001b[39m.\u001b[39;49mPROBABILITIES_KEY,\n\u001b[1;32m    155\u001b[0m                                      \u001b[39mself\u001b[39;49m\u001b[39m.\u001b[39;49mFIRST_TRAVEL_KEY,\n\u001b[1;32m    156\u001b[0m                                      \u001b[39mself\u001b[39;49m\u001b[39m.\u001b[39;49mquiet) \u001b[39mfor\u001b[39;49;00m\n\u001b[1;32m    157\u001b[0m     idx, num_walks\n\u001b[1;32m    158\u001b[0m     \u001b[39min\u001b[39;49;00m \u001b[39menumerate\u001b[39;49m(num_walks_lists, \u001b[39m1\u001b[39;49m))\n\u001b[1;32m    160\u001b[0m walks \u001b[39m=\u001b[39m flatten(walk_results)\n\u001b[1;32m    162\u001b[0m \u001b[39mreturn\u001b[39;00m walks\n",
      "File \u001b[0;32m~/.local/lib/python3.10/site-packages/joblib/parallel.py:1056\u001b[0m, in \u001b[0;36mParallel.__call__\u001b[0;34m(self, iterable)\u001b[0m\n\u001b[1;32m   1053\u001b[0m     \u001b[39mself\u001b[39m\u001b[39m.\u001b[39m_iterating \u001b[39m=\u001b[39m \u001b[39mFalse\u001b[39;00m\n\u001b[1;32m   1055\u001b[0m \u001b[39mwith\u001b[39;00m \u001b[39mself\u001b[39m\u001b[39m.\u001b[39m_backend\u001b[39m.\u001b[39mretrieval_context():\n\u001b[0;32m-> 1056\u001b[0m     \u001b[39mself\u001b[39;49m\u001b[39m.\u001b[39;49mretrieve()\n\u001b[1;32m   1057\u001b[0m \u001b[39m# Make sure that we get a last message telling us we are done\u001b[39;00m\n\u001b[1;32m   1058\u001b[0m elapsed_time \u001b[39m=\u001b[39m time\u001b[39m.\u001b[39mtime() \u001b[39m-\u001b[39m \u001b[39mself\u001b[39m\u001b[39m.\u001b[39m_start_time\n",
      "File \u001b[0;32m~/.local/lib/python3.10/site-packages/joblib/parallel.py:935\u001b[0m, in \u001b[0;36mParallel.retrieve\u001b[0;34m(self)\u001b[0m\n\u001b[1;32m    933\u001b[0m \u001b[39mtry\u001b[39;00m:\n\u001b[1;32m    934\u001b[0m     \u001b[39mif\u001b[39;00m \u001b[39mgetattr\u001b[39m(\u001b[39mself\u001b[39m\u001b[39m.\u001b[39m_backend, \u001b[39m'\u001b[39m\u001b[39msupports_timeout\u001b[39m\u001b[39m'\u001b[39m, \u001b[39mFalse\u001b[39;00m):\n\u001b[0;32m--> 935\u001b[0m         \u001b[39mself\u001b[39m\u001b[39m.\u001b[39m_output\u001b[39m.\u001b[39mextend(job\u001b[39m.\u001b[39;49mget(timeout\u001b[39m=\u001b[39;49m\u001b[39mself\u001b[39;49m\u001b[39m.\u001b[39;49mtimeout))\n\u001b[1;32m    936\u001b[0m     \u001b[39melse\u001b[39;00m:\n\u001b[1;32m    937\u001b[0m         \u001b[39mself\u001b[39m\u001b[39m.\u001b[39m_output\u001b[39m.\u001b[39mextend(job\u001b[39m.\u001b[39mget())\n",
      "File \u001b[0;32m~/.local/lib/python3.10/site-packages/joblib/_parallel_backends.py:542\u001b[0m, in \u001b[0;36mLokyBackend.wrap_future_result\u001b[0;34m(future, timeout)\u001b[0m\n\u001b[1;32m    539\u001b[0m \u001b[39m\"\"\"Wrapper for Future.result to implement the same behaviour as\u001b[39;00m\n\u001b[1;32m    540\u001b[0m \u001b[39mAsyncResults.get from multiprocessing.\"\"\"\u001b[39;00m\n\u001b[1;32m    541\u001b[0m \u001b[39mtry\u001b[39;00m:\n\u001b[0;32m--> 542\u001b[0m     \u001b[39mreturn\u001b[39;00m future\u001b[39m.\u001b[39;49mresult(timeout\u001b[39m=\u001b[39;49mtimeout)\n\u001b[1;32m    543\u001b[0m \u001b[39mexcept\u001b[39;00m CfTimeoutError \u001b[39mas\u001b[39;00m e:\n\u001b[1;32m    544\u001b[0m     \u001b[39mraise\u001b[39;00m \u001b[39mTimeoutError\u001b[39;00m \u001b[39mfrom\u001b[39;00m \u001b[39me\u001b[39;00m\n",
      "File \u001b[0;32m~/.conda/envs/EmbeddedNaive/lib/python3.10/concurrent/futures/_base.py:453\u001b[0m, in \u001b[0;36mFuture.result\u001b[0;34m(self, timeout)\u001b[0m\n\u001b[1;32m    450\u001b[0m \u001b[39melif\u001b[39;00m \u001b[39mself\u001b[39m\u001b[39m.\u001b[39m_state \u001b[39m==\u001b[39m FINISHED:\n\u001b[1;32m    451\u001b[0m     \u001b[39mreturn\u001b[39;00m \u001b[39mself\u001b[39m\u001b[39m.\u001b[39m__get_result()\n\u001b[0;32m--> 453\u001b[0m \u001b[39mself\u001b[39;49m\u001b[39m.\u001b[39;49m_condition\u001b[39m.\u001b[39;49mwait(timeout)\n\u001b[1;32m    455\u001b[0m \u001b[39mif\u001b[39;00m \u001b[39mself\u001b[39m\u001b[39m.\u001b[39m_state \u001b[39min\u001b[39;00m [CANCELLED, CANCELLED_AND_NOTIFIED]:\n\u001b[1;32m    456\u001b[0m     \u001b[39mraise\u001b[39;00m CancelledError()\n",
      "File \u001b[0;32m~/.conda/envs/EmbeddedNaive/lib/python3.10/threading.py:320\u001b[0m, in \u001b[0;36mCondition.wait\u001b[0;34m(self, timeout)\u001b[0m\n\u001b[1;32m    318\u001b[0m \u001b[39mtry\u001b[39;00m:    \u001b[39m# restore state no matter what (e.g., KeyboardInterrupt)\u001b[39;00m\n\u001b[1;32m    319\u001b[0m     \u001b[39mif\u001b[39;00m timeout \u001b[39mis\u001b[39;00m \u001b[39mNone\u001b[39;00m:\n\u001b[0;32m--> 320\u001b[0m         waiter\u001b[39m.\u001b[39;49macquire()\n\u001b[1;32m    321\u001b[0m         gotit \u001b[39m=\u001b[39m \u001b[39mTrue\u001b[39;00m\n\u001b[1;32m    322\u001b[0m     \u001b[39melse\u001b[39;00m:\n",
      "\u001b[0;31mKeyboardInterrupt\u001b[0m: "
     ]
    }
   ],
   "source": [
    "times = []\n",
    "Ns_axis = []\n",
    "for N in Ns:\n",
    "    for _ in range(5):\n",
    "        Ns_axis.append(N)\n",
    "        g = generate_LFR(N, avgk, gamma, tau, mu)\n",
    "        times.append(time_embedding(g))"
   ]
  },
  {
   "cell_type": "code",
   "execution_count": null,
   "metadata": {},
   "outputs": [
    {
     "data": {
      "image/png": "[encoded data removed]",
      "text/plain": [
       "<Figure size 432x288 with 1 Axes>"
      ]
     },
     "metadata": {
      "needs_background": "light"
     },
     "output_type": "display_data"
    }
   ],
   "source": [
    "plt.scatter(Ns_axis, times)\n",
    "plt.xscale(\"log\")\n",
    "\n",
    "\n",
    "\n",
    "plt.savefig(\"initial_n2v_profiling.png\", facecolor=\"white\", transparent=False)"
   ]
  },
  {
   "cell_type": "markdown",
   "metadata": {},
   "source": [
    "# Real Corpus"
   ]
  },
  {
   "cell_type": "code",
   "execution_count": 30,
   "metadata": {},
   "outputs": [
    {
     "name": "stdout",
     "output_type": "stream",
     "text": [
      "===== Starting profiling =====\n",
      "Layer 1 of 13\n",
      "Layer 2 of 13\n",
      "Layer 3 of 13\n",
      "Layer 4 of 13\n",
      "Layer 5 of 13\n",
      "Layer 6 of 13\n",
      "Layer 7 of 13\n",
      "Layer 8 of 13\n",
      "Layer 9 of 13\n",
      "Layer 10 of 13\n",
      "Layer 11 of 13\n",
      "Layer 12 of 13\n",
      "Layer 13 of 13\n",
      "===== Completed profiling =====\n"
     ]
    },
    {
     "data": {
      "text/plain": [
       "<Figure size 864x648 with 0 Axes>"
      ]
     },
     "metadata": {},
     "output_type": "display_data"
    },
    {
     "data": {
      "image/png": "[encoded data removed]",
      "text/plain": [
       "<Figure size 360x360 with 1 Axes>"
      ]
     },
     "metadata": {
      "needs_background": "light"
     },
     "output_type": "display_data"
    }
   ],
   "source": [
    "system = \"arxiv\"\n",
    "records = []\n",
    "\n",
    "G = read_file(f\"../../data/input/preprocessed/real/duplex_system={system}.edgelist\")\n",
    "layers_ = len(G)\n",
    "\n",
    "print(\"===== Starting profiling =====\")\n",
    "for layer in G:\n",
    "    print(f\"Layer {layer} of {layers_}\")\n",
    "    g = G[layer]\n",
    "    N = g.number_of_nodes()\n",
    "\n",
    "    time = time_embedding(g)\n",
    "\n",
    "    records.append({\n",
    "        \"N\": N,\n",
    "        \"Layer\": layer,\n",
    "        \"Time\": time\n",
    "    })\n",
    "print(\"===== Completed profiling =====\")\n",
    "\n",
    "df = pd.DataFrame.from_records(records)\n",
    "\n",
    "# Timing scatter\n",
    "plt.figure(figsize=(12, 9))\n",
    "sns.relplot(\n",
    "    data=df, kind=\"scatter\",\n",
    "    x=\"N\", y=\"Time\",\n",
    ")\n",
    "\n",
    "# Reference line (eyeballed)\n",
    "plt.plot([300, 6000], [10, 160], color=\"lightgray\", linestyle=\"--\")\n",
    "\n",
    "# Figure tidying\n",
    "plt.ylabel(\"Time (s)\")\n",
    "plt.title(\"arXiv N2V Time Complexity\")\n",
    "\n",
    "# Save to disk\n",
    "plt.savefig(f\"n2v-profiling_system={system}.png\", facecolor=\"white\", transparent=False)"
   ]
  },
  {
   "cell_type": "code",
   "execution_count": 32,
   "metadata": {},
   "outputs": [
    {
     "data": {
      "text/plain": [
       "<Figure size 864x648 with 0 Axes>"
      ]
     },
     "metadata": {},
     "output_type": "display_data"
    },
    {
     "data": {
      "image/png": "[encoded data removed]",
      "text/plain": [
       "<Figure size 360x360 with 1 Axes>"
      ]
     },
     "metadata": {
      "needs_background": "light"
     },
     "output_type": "display_data"
    }
   ],
   "source": [
    "system = \"drosophila\"\n",
    "records = []\n",
    "\n",
    "G = read_file(f\"../../data/input/preprocessed/real/duplex_system={system}.edgelist\")\n",
    "layers_ = len(G)\n",
    "\n",
    "print(\"===== Starting profiling =====\")\n",
    "for layer in G:\n",
    "    print(f\"Layer {layer} of {layers_}\")\n",
    "    g = G[layer]\n",
    "    N = g.number_of_nodes()\n",
    "\n",
    "    time = time_embedding(g)\n",
    "\n",
    "    records.append({\n",
    "        \"N\": N,\n",
    "        \"Layer\": layer,\n",
    "        \"Time\": time\n",
    "    })\n",
    "print(\"===== Completed profiling =====\")\n",
    "\n",
    "df = pd.DataFrame.from_records(records)\n",
    "\n",
    "# Timing scatter\n",
    "plt.figure(figsize=(12, 9))\n",
    "sns.relplot(\n",
    "    data=df, kind=\"scatter\",\n",
    "    x=\"N\", y=\"Time\",\n",
    ")\n",
    "\n",
    "# Reference line (eyeballed)\n",
    "# plt.plot([300, 6000], [10, 160], color=\"lightgray\", linestyle=\"--\")\n",
    "\n",
    "# Figure tidying\n",
    "plt.ylabel(\"Time (s)\")\n",
    "plt.title(f\"{system} N2V Time Complexity\")\n",
    "\n",
    "# Save to disk\n",
    "plt.savefig(f\"n2v-profiling_system={system}.png\", facecolor=\"white\", transparent=False)"
   ]
  },
  {
   "cell_type": "code",
   "execution_count": null,
   "metadata": {},
   "outputs": [],
   "source": []
  }
 ],
 "metadata": {
  "kernelspec": {
   "display_name": "Python 3.10.6 ('EmbeddedNaive')",
   "language": "python",
   "name": "python3"
  },
  "language_info": {
   "codemirror_mode": {
    "name": "ipython",
    "version": 3
   },
   "file_extension": ".py",
   "mimetype": "text/x-python",
   "name": "python",
   "nbconvert_exporter": "python",
   "pygments_lexer": "ipython3",
   "version": "3.10.6"
  },
  "orig_nbformat": 4,
  "vscode": {
   "interpreter": {
    "hash": "a083d5e8c532765d2eec356e783bdd8fa78e916ec600eb079fbf4e07ec45903c"
   }
  }
 },
 "nbformat": 4,
 "nbformat_minor": 2
}
