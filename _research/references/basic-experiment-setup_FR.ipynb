{
 "cells": [
  {
   "cell_type": "code",
   "execution_count": 157,
   "metadata": {},
   "outputs": [],
   "source": [
    "import networkx as nx\n",
    "import random\n",
    "from sklearn import metrics\n",
    "from cdlib import algorithms\n",
    "from cdlib import evaluation\n",
    "import numpy as np\n",
    "import matplotlib.pyplot as plt\n",
    "%matplotlib inline\n",
    "import time\n",
    "from scipy import stats\n",
    "import os\n",
    "from tqdm import tqdm as tqdm\n",
    "import pickle"
   ]
  },
  {
   "cell_type": "code",
   "execution_count": 158,
   "metadata": {},
   "outputs": [],
   "source": [
    "def duplex_network (G, l1, l2):\n",
    "    \n",
    "    G1 = G[l1].copy()\n",
    "    G2 = G[l2].copy()\n",
    "    \n",
    "    ##delete common edges\n",
    "    list_of_common_edges = []\n",
    "    \n",
    "    for e in G[l1].edges():\n",
    "        if G[l2].has_edge(e[0], e[1]):\n",
    "            list_of_common_edges.append([e[0], e[1]])\n",
    "            \n",
    "            \n",
    "    print (len(list_of_common_edges))\n",
    "    \n",
    "    \n",
    "    for e in list_of_common_edges:\n",
    "        G1.remove_edge(e[0], e[1])\n",
    "        G2.remove_edge(e[0], e[1])\n",
    "        \n",
    "    \n",
    "    \n",
    "    ##delete nodes with zero degree\n",
    "    list_of_nodes = []\n",
    "    for n in G1.nodes():\n",
    "        if G1.degree(n)==0:\n",
    "            list_of_nodes.append(n)\n",
    "    for n in list_of_nodes:\n",
    "        G1.remove_node(n)\n",
    "        \n",
    "    list_of_nodes = []\n",
    "    for n in G2.nodes():\n",
    "        if G2.degree(n)==0:\n",
    "            list_of_nodes.append(n)\n",
    "    for n in list_of_nodes:\n",
    "        G2.remove_node(n)\n",
    "            \n",
    "    \n",
    "\n",
    "    ##create union of nodes\n",
    "    list_of_nodes = []\n",
    "    for n in G1.nodes():\n",
    "        list_of_nodes.append(n)\n",
    "    for n in G2.nodes():\n",
    "        list_of_nodes.append(n)\n",
    "    for n in list_of_nodes:\n",
    "        G1.add_node(n)\n",
    "        G2.add_node(n)\n",
    "        \n",
    "        \n",
    "        \n",
    "\n",
    "    return G1, G2\n",
    "\n",
    "\n",
    "#######\n",
    "\n",
    "def partial_information (G1, G2, frac):\n",
    "    \n",
    "    \n",
    "#     print ('# option = ', option)\n",
    "    \n",
    "    ##training/test sets\n",
    "    Etest = {}\n",
    "    Etrain = {}\n",
    "    \n",
    "    for e in G1.edges():\n",
    "        if random.random() < frac:\n",
    "            Etrain[e] = 1\n",
    "        else:\n",
    "            Etest[e] = 1\n",
    "            \n",
    "    for e in G2.edges():\n",
    "        if random.random() < frac:\n",
    "            Etrain[e] = 0\n",
    "        else:\n",
    "            Etest[e] = 0\n",
    "        \n",
    "        \n",
    "    \n",
    "    ##remnants\n",
    "    rem_G1 = nx.Graph()\n",
    "    rem_G2 = nx.Graph()\n",
    "    for n in G1:\n",
    "        rem_G1.add_node(n)\n",
    "        rem_G2.add_node(n)\n",
    "    for n in G2:\n",
    "        rem_G1.add_node(n)\n",
    "        rem_G2.add_node(n)\n",
    "        \n",
    "        \n",
    "    \n",
    "    for e in Etest:\n",
    "        rem_G1.add_edge(e[0], e[1])\n",
    "        rem_G2.add_edge(e[0], e[1])\n",
    "            \n",
    "    \n",
    "    for e in Etrain:\n",
    "        if Etrain[e] == 1:\n",
    "            rem_G1.add_edge(e[0], e[1])\n",
    "        if Etrain[e] == 0:\n",
    "            rem_G2.add_edge(e[0], e[1])\n",
    "    \n",
    "    \n",
    "    return rem_G1, rem_G2, Etest \n",
    "\n",
    "\n",
    "#####\n",
    "\n",
    "\n",
    "\n",
    "\n",
    "\n",
    "\n",
    "\n",
    "\n",
    "\n",
    "def community_finder (G):\n",
    "    \n",
    "    C = algorithms.louvain(G)\n",
    "#     C = algorithms.label_propagation(G)\n",
    "    sigma = {}\n",
    "    c = 0\n",
    "    for r in C.communities:\n",
    "        for q in r:\n",
    "            sigma[q] = c\n",
    "        c = c + 1\n",
    "        \n",
    "    mu = tot = 0.0\n",
    "    for n in G.nodes():\n",
    "        for m in G.neighbors(n):\n",
    "            tot += 1.0\n",
    "            if sigma[n] == sigma[m]:\n",
    "                mu += 1.0\n",
    "            \n",
    "        \n",
    "    return sigma, mu, tot\n",
    "\n",
    "\n",
    "\n",
    "\n",
    "\n",
    "def classifier (rem_G1, rem_G2, Etest, TT = 0, show_log = False):\n",
    "    \n",
    "    ## degree/community\n",
    "    if TT == 0:\n",
    "        sigma1, mu1, tot1 = community_finder(rem_G1)\n",
    "        sigma2, mu2, tot2 = community_finder(rem_G2)\n",
    "        \n",
    "        \n",
    "        mu = 0.5\n",
    "        if tot1 + tot2 > 0.0:\n",
    "            mu = (mu1 + mu2) / (tot1 + tot2)\n",
    "\n",
    "\n",
    "        \n",
    "        classification, scores, ground_truth = [], [], []\n",
    "        \n",
    "        for e in Etest:\n",
    "            \n",
    "                \n",
    "            n = e[0]\n",
    "            m = e[1]\n",
    "            \n",
    "            s1 = rem_G1.degree(n)*rem_G1.degree(m)\n",
    "            if sigma1[n] == sigma1[m]:\n",
    "                s1 = s1 * mu\n",
    "            else:\n",
    "                s1 = s1 * (1.0-mu)\n",
    "                \n",
    "                \n",
    "                \n",
    "            s2 = rem_G2.degree(n)*rem_G2.degree(m)\n",
    "            if sigma2[n] == sigma2[m]:\n",
    "                s2 = s2 * mu\n",
    "            else:\n",
    "                s2 = s2 * (1.0-mu)\n",
    "                \n",
    "            \n",
    "            t1 = t2 = 0.5\n",
    "            if s1 + s2 > 0.0:\n",
    "                t1 = s1 / (s1 + s2)\n",
    "                t2 = s2 / (s1 + s2)\n",
    "            \n",
    "            \n",
    "            s = random.randint(0,1)\n",
    "            if t1 > t2:\n",
    "                s = 1\n",
    "            if t2 > t1:\n",
    "                s = 0\n",
    "                \n",
    "            if show_log == True: \n",
    "                print (mu)\n",
    "                print (rem_G1.degree(n), rem_G1.degree(m), t1)\n",
    "                print (rem_G2.degree(n), rem_G2.degree(m), t2)\n",
    "                print (Etest[e], '\\n')\n",
    "                \n",
    "                \n",
    "            \n",
    "            scores.append(t1)\n",
    "            classification.append(s)\n",
    "            ground_truth.append(Etest[e])\n",
    "            \n",
    "                \n",
    "    \n",
    "        return classification, scores, ground_truth\n",
    "    \n",
    "    \n",
    "    ## degree\n",
    "    if TT == 1:\n",
    "        \n",
    "        classification, scores, ground_truth = [], [], []\n",
    "        \n",
    "        for e in Etest:\n",
    "            \n",
    "                \n",
    "            n = e[0]\n",
    "            m = e[1]\n",
    "            \n",
    "            s1 = rem_G1.degree(n)*rem_G1.degree(m)    \n",
    "            s2 = rem_G2.degree(n)*rem_G2.degree(m)\n",
    "            \n",
    "            \n",
    "            t1 = t2 = 0.5\n",
    "            if s1 + s2 > 0.0:\n",
    "                t1 = s1 / (s1 + s2)\n",
    "                t2 = s2 / (s1 + s2)\n",
    "            \n",
    "            \n",
    "            s = random.randint(0,1)\n",
    "            if t1 > t2:\n",
    "                s = 1\n",
    "            if t2 > t1:\n",
    "                s = 0\n",
    "                   \n",
    "            scores.append(t1)\n",
    "            classification.append(s)\n",
    "            ground_truth.append(Etest[e])\n",
    "            \n",
    "                \n",
    "        return classification, scores, ground_truth\n",
    "    \n",
    "        \n",
    "        \n",
    "        \n",
    "    ## community\n",
    "    if TT == 2:\n",
    "        sigma1, mu1, tot1 = community_finder(rem_G1)\n",
    "        sigma2, mu2, tot2 = community_finder(rem_G2)\n",
    "        \n",
    "        mu = 0.5\n",
    "        if tot1 + tot2 > 0.0:\n",
    "            mu = (mu1 + mu2) / (tot1 + tot2)\n",
    "        \n",
    "        \n",
    "        classification, scores, ground_truth = [], [], []\n",
    "        \n",
    "        for e in Etest:\n",
    "            \n",
    "                \n",
    "            n = e[0]\n",
    "            m = e[1]\n",
    "            \n",
    "            s1 = 1.0\n",
    "            if sigma1[n] == sigma1[m]:\n",
    "                s1 = s1 * mu\n",
    "            else:\n",
    "                s1 = s1 * (1.0-mu)\n",
    "                \n",
    "                \n",
    "                \n",
    "            s2 = 1.0\n",
    "            if sigma2[n] == sigma2[m]:\n",
    "                s2 = s2 * mu\n",
    "            else:\n",
    "                s2 = s2 * (1.0-mu)\n",
    "                \n",
    "            \n",
    "            t1 = t2 = 0.5\n",
    "            if s1 + s2 > 0.0:\n",
    "                t1 = s1 / (s1 + s2)\n",
    "                t2 = s2 / (s1 + s2)\n",
    "            \n",
    "            \n",
    "            s = random.randint(0,1)\n",
    "            if t1 > t2:\n",
    "                s = 1\n",
    "            if t2 > t1:\n",
    "                s = 0\n",
    "                \n",
    "                \n",
    "            \n",
    "            scores.append(t1)\n",
    "            classification.append(s)\n",
    "            ground_truth.append(Etest[e])\n",
    "            \n",
    "                \n",
    "    \n",
    "        return classification, scores, ground_truth\n",
    "    \n",
    "        \n",
    "        \n",
    "    \n",
    "####\n",
    "\n",
    "\n",
    "def perform_analysis (G1, G2, step, TT = 0):\n",
    "    \n",
    "    \n",
    "    #print ('# option = ', option)\n",
    "    \n",
    "    \n",
    "    x , y, z  = [], [], []\n",
    "    \n",
    "    \n",
    "    frac = 0.0\n",
    "    while frac < 1.0:\n",
    "        \n",
    "        if frac <= 1.0 - step:\n",
    "            \n",
    "            print ('# %.2f ' %frac, ' %.2f' %(1.0 - step))\n",
    "            \n",
    "            rem_G1, rem_G2, Etest  = partial_information (G1, G2, frac)\n",
    "            classification, scores, ground_truth = classifier (rem_G1, rem_G2, Etest, TT)\n",
    "            acc = metrics.accuracy_score(ground_truth, classification)\n",
    "            auc = metrics.roc_auc_score(ground_truth, scores)\n",
    "            \n",
    "            \n",
    "            \n",
    "            x.append(frac)\n",
    "            y.append(acc)\n",
    "            z.append(auc)\n",
    "            \n",
    "            \n",
    "        frac += step\n",
    "        \n",
    "        \n",
    "    results = [x, y, z]\n",
    "    return results\n",
    "\n"
   ]
  },
  {
   "cell_type": "markdown",
   "metadata": {},
   "source": [
    "## Figure 2a"
   ]
  },
  {
   "cell_type": "code",
   "execution_count": 323,
   "metadata": {},
   "outputs": [],
   "source": [
    "def generate_power_law (gamma, kmin, kmax):\n",
    "    \n",
    "    xmin = np.power(kmin, 1.0 - gamma)\n",
    "    xmax = np.power(kmax, 1.0 - gamma)\n",
    "    x = xmax - random.random()*(xmax - xmin)\n",
    "    x = np.power(x, 1.0 / (1.0 -gamma))\n",
    "    return int(x)\n",
    "\n",
    "######\n",
    "\n",
    "def control_correlation (degree, prob):\n",
    "    \n",
    "    tmp_degree = []\n",
    "    for i in range(len(degree)):\n",
    "        tmp_degree.append(degree[i])\n",
    "        \n",
    "    for i in range(len(tmp_degree)):\n",
    "        if random.random()<prob:\n",
    "            n = tmp_degree[i]\n",
    "            j = random.randint(0, len(degree)-1)\n",
    "            tmp_degree[i] = tmp_degree[j]\n",
    "            tmp_degree[j] = n\n",
    "            \n",
    "    return tmp_degree\n",
    "\n",
    "\n",
    "#####\n",
    "\n",
    "\n",
    "def generate_configuration_model (degree):\n",
    "    \n",
    "    edges = []\n",
    "    for i in range(0, len(degree)):\n",
    "        k = degree[i]\n",
    "        for j in range(0, k):\n",
    "            edges.append(i)\n",
    "            \n",
    "    ##random.shuffle(edges)\n",
    "    for i in range(0, len(edges)):\n",
    "        j = random.randint(0, len(edges)-1)\n",
    "        tmp = edges[i]\n",
    "        edges[i] = edges[j]\n",
    "        edges[j] = tmp\n",
    "    \n",
    "    \n",
    "    \n",
    "    G = nx.Graph()\n",
    "    for n in range(0, len(degree)):\n",
    "        G.add_node(n)\n",
    "        \n",
    "    for i in range(0, len(edges)-1, 2):\n",
    "        n = edges[i]\n",
    "        m = edges[i+1]\n",
    "        if G.has_edge(n, m) == False and n!=m:\n",
    "            G.add_edge(n, m)\n",
    "            \n",
    "    return G\n",
    "    \n",
    "\n",
    "################\n",
    "    \n",
    "def generate_multiplex_configuration (N, gamma, kmin, kmax, prob, sign):\n",
    "    \n",
    "#     print ('# N = ', N)\n",
    "#     print ('# gamma = ', gamma)\n",
    "#     print ('# kmin = ', kmin)\n",
    "#     print ('# kmax = ', kmax)\n",
    "#     print ('# prob = ', prob)\n",
    "#     print ('# sign = ' , sign)\n",
    "    \n",
    "    degree = []\n",
    "    for i in range(0, N):\n",
    "        degree.append(generate_power_law (gamma, kmin, kmax))\n",
    "    degree = sorted(degree)\n",
    "    tmp_degree = []\n",
    "    for i in range (0, len(degree)):\n",
    "        if sign > 0:\n",
    "            tmp_degree.append(degree[i])\n",
    "        if sign < 0:\n",
    "            tmp_degree.append(degree[len(degree)-i-1])\n",
    "            \n",
    "    \n",
    "    ###\n",
    "    tmp_degree = control_correlation (tmp_degree, prob)\n",
    "    ###\n",
    "    \n",
    "    G = {}\n",
    "    G[1] = generate_configuration_model (degree)\n",
    "    G[2] = generate_configuration_model (tmp_degree)\n",
    "    \n",
    "    \n",
    "    ###\n",
    "    \n",
    "    return G\n",
    "    \n",
    "    \n",
    "#########"
   ]
  },
  {
   "cell_type": "code",
   "execution_count": 324,
   "metadata": {},
   "outputs": [],
   "source": [
    "N = 100000\n",
    "kmin = 3\n",
    "sign = 1\n",
    "prob = 1.0\n",
    "step = 0.1\n",
    "\n",
    "results = {}"
   ]
  },
  {
   "cell_type": "code",
   "execution_count": 325,
   "metadata": {},
   "outputs": [
    {
     "name": "stdout",
     "output_type": "stream",
     "text": [
      "85\n",
      "# 0.00   0.90\n",
      "# 0.10   0.90\n",
      "# 0.20   0.90\n",
      "# 0.30   0.90\n",
      "# 0.40   0.90\n",
      "# 0.50   0.90\n",
      "# 0.60   0.90\n",
      "# 0.70   0.90\n",
      "# 0.80   0.90\n",
      "# 0.90   0.90\n"
     ]
    }
   ],
   "source": [
    "gamma = 2.1\n",
    "kmax = int(np.sqrt(N))\n",
    "G = generate_multiplex_configuration (N, gamma, kmin, kmax, prob, sign)\n",
    "l1 = 1\n",
    "l2 = 2\n",
    "G1, G2 = duplex_network (G, l1, l2)\n",
    "\n",
    "results[gamma] = perform_analysis (G1, G2, step, TT=1)"
   ]
  },
  {
   "cell_type": "code",
   "execution_count": 326,
   "metadata": {},
   "outputs": [
    {
     "name": "stdout",
     "output_type": "stream",
     "text": [
      "28\n",
      "# 0.00   0.90\n",
      "# 0.10   0.90\n",
      "# 0.20   0.90\n",
      "# 0.30   0.90\n",
      "# 0.40   0.90\n",
      "# 0.50   0.90\n",
      "# 0.60   0.90\n",
      "# 0.70   0.90\n",
      "# 0.80   0.90\n",
      "# 0.90   0.90\n"
     ]
    }
   ],
   "source": [
    "gamma = 2.5\n",
    "kmax = int(np.sqrt(N))\n",
    "G = generate_multiplex_configuration (N, gamma, kmin, kmax, prob, sign)\n",
    "l1 = 1\n",
    "l2 = 2\n",
    "G1, G2 = duplex_network (G, l1, l2)\n",
    "\n",
    "results[gamma] = perform_analysis (G1, G2, step, TT=1)"
   ]
  },
  {
   "cell_type": "code",
   "execution_count": 327,
   "metadata": {},
   "outputs": [
    {
     "name": "stdout",
     "output_type": "stream",
     "text": [
      "20\n",
      "# 0.00   0.90\n",
      "# 0.10   0.90\n",
      "# 0.20   0.90\n",
      "# 0.30   0.90\n",
      "# 0.40   0.90\n",
      "# 0.50   0.90\n",
      "# 0.60   0.90\n",
      "# 0.70   0.90\n",
      "# 0.80   0.90\n",
      "# 0.90   0.90\n"
     ]
    }
   ],
   "source": [
    "gamma = 2.9\n",
    "kmax = int(np.sqrt(N))\n",
    "G = generate_multiplex_configuration (N, gamma, kmin, kmax, prob, sign)\n",
    "l1 = 1\n",
    "l2 = 2\n",
    "G1, G2 = duplex_network (G, l1, l2)\n",
    "\n",
    "results[gamma] = perform_analysis (G1, G2, step, TT=1)"
   ]
  },
  {
   "cell_type": "code",
   "execution_count": 328,
   "metadata": {},
   "outputs": [
    {
     "name": "stdout",
     "output_type": "stream",
     "text": [
      "18\n",
      "# 0.00   0.90\n",
      "# 0.10   0.90\n",
      "# 0.20   0.90\n",
      "# 0.30   0.90\n",
      "# 0.40   0.90\n",
      "# 0.50   0.90\n",
      "# 0.60   0.90\n",
      "# 0.70   0.90\n",
      "# 0.80   0.90\n",
      "# 0.90   0.90\n"
     ]
    }
   ],
   "source": [
    "gamma = 3.5\n",
    "kmax = int(np.power(N, 1.0/(gamma-1.0)))\n",
    "G = generate_multiplex_configuration (N, gamma, kmin, kmax, prob, sign)\n",
    "l1 = 1\n",
    "l2 = 2\n",
    "G1, G2 = duplex_network (G, l1, l2)\n",
    "\n",
    "results[gamma] = perform_analysis (G1, G2, step, TT=1)"
   ]
  },
  {
   "cell_type": "code",
   "execution_count": 329,
   "metadata": {},
   "outputs": [],
   "source": [
    "with open('figure2a_data.pk', 'wb') as handle:\n",
    "    pickle.dump(results, handle, protocol=pickle.HIGHEST_PROTOCOL)"
   ]
  },
  {
   "cell_type": "code",
   "execution_count": 330,
   "metadata": {},
   "outputs": [],
   "source": [
    "with open('figure2a_data.pk', 'rb') as handle:\n",
    "    results = pickle.load(handle)"
   ]
  },
  {
   "cell_type": "code",
   "execution_count": 331,
   "metadata": {},
   "outputs": [
    {
     "data": {
      "text/plain": [
       "(0.0, 1)"
      ]
     },
     "execution_count": 331,
     "metadata": {},
     "output_type": "execute_result"
    },
    {
     "data": {
      "image/png": "[encoded data removed]",
      "text/plain": [
       "<Figure size 504x360 with 1 Axes>"
      ]
     },
     "metadata": {
      "needs_background": "light"
     },
     "output_type": "display_data"
    }
   ],
   "source": [
    "fig = plt.figure()\n",
    "fig.set_size_inches(7,5)\n",
    "plt.rc('text', usetex=False)\n",
    "plt.rc('font', size=20, **{'family':'DejaVu Sans','sans-serif':['Helvetica']})\n",
    "plt.rcParams['xtick.major.pad'] = 8\n",
    "plt.rcParams['ytick.major.pad'] = 8\n",
    "\n",
    "gamma = 2.1\n",
    "plt.plot(results[gamma][0], results[gamma][2], marker='s', linewidth=2, color = 'black', label='$\\gamma = 2.1$')\n",
    "\n",
    "gamma = 2.5\n",
    "plt.plot(results[gamma][0], results[gamma][2], marker='o', linewidth=2, color = 'red', label='$\\gamma = 2.5$')\n",
    "\n",
    "\n",
    "gamma = 2.9\n",
    "plt.plot(results[gamma][0], results[gamma][2], marker='v', linewidth=2, color = 'blue', label='$\\gamma = 2.9$')\n",
    "\n",
    "\n",
    "gamma = 3.5\n",
    "plt.plot(results[gamma][0], results[gamma][2], marker='d', linewidth=2, color = 'green', label='$\\gamma = 3.5$')\n",
    "\n",
    "\n",
    "\n",
    "\n",
    "plt.legend(loc='lower right', fontsize = 16)\n",
    "plt.xlabel('Relative size of the training set')\n",
    "plt.ylabel('ROC AUC')\n",
    "plt.ylim(.0,1)\n",
    "plt.xlim(.0,1)"
   ]
  },
  {
   "cell_type": "markdown",
   "metadata": {},
   "source": [
    "## Figure 2b"
   ]
  },
  {
   "cell_type": "code",
   "execution_count": 21,
   "metadata": {},
   "outputs": [],
   "source": [
    "def LFR(n,t1,t2,mu,avg_k,max_k):\n",
    "    #function to generate LFR network as a networkx object and obtain community assignments\n",
    "    N,Mu,T1,T2,maxk,k=str(n),str(mu),str(t1),str(t2),str(max_k),str(avg_k)\n",
    "    s='./benchmark -N '+N+' -mu '+Mu+ ' -maxk ' +maxk  + ' -k '+k  +' -t1 ' +T1+' -t2 ' +T2\n",
    "    os.system(s)\n",
    "    \n",
    "    x=np.loadtxt('network.dat')\n",
    "    edges=[(int(x[i][0])-1,int(x[i][1])-1) for i in range(len(x))]\n",
    "    g=nx.Graph(edges)\n",
    "    \n",
    "    x=np.loadtxt('community.dat')\n",
    "    coms={int(x[i][0])-1:int(x[i][1]) for i in range(len(x))}\n",
    "    #nx.set_node_attributes(g,coms,name='community')\n",
    "    \n",
    "    return g, coms\n",
    "\n",
    "\n",
    "\n",
    "\n",
    "def lfr_multiplex (N, tau1, tau2, mu, average_degree, max_degree, min_community, prob_relabel):\n",
    "\n",
    "                \n",
    "    #############################        \n",
    "            \n",
    "    H, comm = LFR(n=N, t1=tau1, t2=tau2, mu=mu, avg_k=average_degree, max_k = max_degree)   \n",
    "    groups = {}\n",
    "    for n in comm:\n",
    "        c = comm[n]\n",
    "        if c not in groups:\n",
    "            groups[c] = []\n",
    "        groups[c].append(n)\n",
    "        \n",
    "   #############################   \n",
    "\n",
    "    sigma1 = {}\n",
    "    for n in comm:\n",
    "        sigma1[n] = comm[n]\n",
    "\n",
    "   #########\n",
    "        \n",
    "    \n",
    "    new_labels = {}\n",
    "    for C in groups:\n",
    "        tmp = groups[C].copy()\n",
    "        random.shuffle(tmp)\n",
    "        for i in range(0, len(groups[C])):\n",
    "            n = groups[C][i]\n",
    "            m = tmp[i]\n",
    "            new_labels[n] = m\n",
    "    ###########################################  \n",
    "    \n",
    "    tmp_sigma2 = {}\n",
    "    for n in sigma1:\n",
    "        m = new_labels[n]\n",
    "        tmp_sigma2[m] = sigma1[n]\n",
    "        \n",
    "    ###########################################\n",
    "    \n",
    "    \n",
    "    \n",
    "    \n",
    "    G = {}\n",
    "    G[1] = H.copy()\n",
    "    G[2] = nx.Graph()\n",
    "    for n in G[1]:\n",
    "        G[2].add_node(n)\n",
    "    for e in G[1].edges():\n",
    "        n = new_labels[e[0]]\n",
    "        m = new_labels[e[1]]\n",
    "        G[2].add_edge(n, m)\n",
    "    ############################################\n",
    "    \n",
    "    \n",
    "    \n",
    "    \n",
    "    \n",
    "    \n",
    "    #############################################\n",
    "    ## break community correlation\n",
    "    \n",
    "    list_nodes = list(G[2].nodes())\n",
    "    new_labels = {}\n",
    "    H = G[2].copy()\n",
    "    for n in G[2]:\n",
    "        new_labels[n] = n\n",
    "    for n in new_labels:\n",
    "        if random.random()<prob_relabel:\n",
    "            m = random.choice(list_nodes)\n",
    "            tmp = new_labels[n]\n",
    "            new_labels[n] = new_labels[m]\n",
    "            new_labels[m] = tmp\n",
    "            \n",
    "    G[2] = nx.Graph()\n",
    "    for n in H:\n",
    "        m = new_labels[n]\n",
    "        G[2].add_node(m)\n",
    "    for e in H.edges():\n",
    "        n = new_labels[e[0]]\n",
    "        m = new_labels[e[1]]\n",
    "        G[2].add_edge(n, m)\n",
    "    ##############################################\n",
    "    \n",
    "    \n",
    "    sigma2 = {}\n",
    "    for n in tmp_sigma2:\n",
    "        m = new_labels[n]\n",
    "        sigma2[m] = tmp_sigma2[n]\n",
    "    \n",
    "    \n",
    "    \n",
    "#     print(len(G[1].edges()))\n",
    "#     print(len(G[2].edges()))\n",
    "    \n",
    "    \n",
    "    \n",
    "    return G, sigma1, sigma2, mu\n",
    "\n",
    "\n"
   ]
  },
  {
   "cell_type": "code",
   "execution_count": 222,
   "metadata": {},
   "outputs": [],
   "source": [
    "N = 10000\n",
    "tau2 = 1.0\n",
    "mu = 0.1\n",
    "average_degree = 5.0\n",
    "min_community = 1\n",
    "prob = 1.0\n",
    "\n",
    "\n",
    "results_lfr = {}"
   ]
  },
  {
   "cell_type": "code",
   "execution_count": 223,
   "metadata": {},
   "outputs": [
    {
     "name": "stdout",
     "output_type": "stream",
     "text": [
      "18\n",
      "# 0.00   0.90\n",
      "# 0.10   0.90\n",
      "# 0.20   0.90\n",
      "# 0.30   0.90\n",
      "# 0.40   0.90\n",
      "# 0.50   0.90\n",
      "# 0.60   0.90\n",
      "# 0.70   0.90\n",
      "# 0.80   0.90\n",
      "# 0.90   0.90\n"
     ]
    }
   ],
   "source": [
    "gamma = 2.1\n",
    "max_degree = int(np.sqrt(N))\n",
    "\n",
    "\n",
    "G, sigma1, sigma2, mu_tmp = lfr_multiplex (N, gamma, tau2, mu, average_degree, max_degree, min_community, prob)\n",
    "l1 = 1\n",
    "l2 = 2\n",
    "G1, G2 = duplex_network (G, l1, l2)\n",
    "\n",
    "results_lfr[gamma] = perform_analysis (G1, G2, step, TT=0)"
   ]
  },
  {
   "cell_type": "code",
   "execution_count": 224,
   "metadata": {},
   "outputs": [
    {
     "name": "stdout",
     "output_type": "stream",
     "text": [
      "6\n",
      "# 0.00   0.90\n",
      "# 0.10   0.90\n",
      "# 0.20   0.90\n",
      "# 0.30   0.90\n",
      "# 0.40   0.90\n",
      "# 0.50   0.90\n",
      "# 0.60   0.90\n",
      "# 0.70   0.90\n",
      "# 0.80   0.90\n",
      "# 0.90   0.90\n"
     ]
    }
   ],
   "source": [
    "gamma = 2.5\n",
    "max_degree = int(np.sqrt(N))\n",
    "\n",
    "\n",
    "G, sigma1, sigma2, mu_tmp = lfr_multiplex (N, gamma, tau2, mu, average_degree, max_degree, min_community, prob)\n",
    "l1 = 1\n",
    "l2 = 2\n",
    "G1, G2 = duplex_network (G, l1, l2)\n",
    "\n",
    "results_lfr[gamma] = perform_analysis (G1, G2, step, TT=0)"
   ]
  },
  {
   "cell_type": "code",
   "execution_count": 225,
   "metadata": {},
   "outputs": [
    {
     "name": "stdout",
     "output_type": "stream",
     "text": [
      "18\n",
      "# 0.00   0.90\n",
      "# 0.10   0.90\n",
      "# 0.20   0.90\n",
      "# 0.30   0.90\n",
      "# 0.40   0.90\n",
      "# 0.50   0.90\n",
      "# 0.60   0.90\n",
      "# 0.70   0.90\n",
      "# 0.80   0.90\n",
      "# 0.90   0.90\n"
     ]
    }
   ],
   "source": [
    "gamma = 2.9\n",
    "max_degree = int(np.sqrt(N))\n",
    "\n",
    "\n",
    "G, sigma1, sigma2, mu_tmp = lfr_multiplex (N, gamma, tau2, mu, average_degree, max_degree, min_community, prob)\n",
    "l1 = 1\n",
    "l2 = 2\n",
    "G1, G2 = duplex_network (G, l1, l2)\n",
    "\n",
    "results_lfr[gamma] = perform_analysis (G1, G2, step, TT=0)"
   ]
  },
  {
   "cell_type": "code",
   "execution_count": 226,
   "metadata": {},
   "outputs": [
    {
     "name": "stdout",
     "output_type": "stream",
     "text": [
      "11\n",
      "# 0.00   0.90\n",
      "# 0.10   0.90\n",
      "# 0.20   0.90\n",
      "# 0.30   0.90\n",
      "# 0.40   0.90\n",
      "# 0.50   0.90\n",
      "# 0.60   0.90\n",
      "# 0.70   0.90\n",
      "# 0.80   0.90\n",
      "# 0.90   0.90\n"
     ]
    }
   ],
   "source": [
    "gamma = 3.5\n",
    "kmax = int(np.power(N, 1.0/(gamma-1.0)))\n",
    "\n",
    "\n",
    "G, sigma1, sigma2, mu_tmp = lfr_multiplex (N, gamma, tau2, mu, average_degree, max_degree, min_community, prob)\n",
    "l1 = 1\n",
    "l2 = 2\n",
    "G1, G2 = duplex_network (G, l1, l2)\n",
    "\n",
    "results_lfr[gamma] = perform_analysis (G1, G2, step, TT=0)"
   ]
  },
  {
   "cell_type": "code",
   "execution_count": 227,
   "metadata": {},
   "outputs": [],
   "source": [
    "with open('figure2b_data.pk', 'wb') as handle:\n",
    "    pickle.dump(results_lfr, handle, protocol=pickle.HIGHEST_PROTOCOL)"
   ]
  },
  {
   "cell_type": "code",
   "execution_count": 228,
   "metadata": {},
   "outputs": [],
   "source": [
    "with open('figure2b_data.pk', 'rb') as handle:\n",
    "    results_lfr = pickle.load(handle)"
   ]
  },
  {
   "cell_type": "code",
   "execution_count": 229,
   "metadata": {},
   "outputs": [
    {
     "data": {
      "text/plain": [
       "(0.0, 1)"
      ]
     },
     "execution_count": 229,
     "metadata": {},
     "output_type": "execute_result"
    },
    {
     "data": {
      "image/png": "[encoded data removed]",
      "text/plain": [
       "<Figure size 504x360 with 1 Axes>"
      ]
     },
     "metadata": {
      "needs_background": "light"
     },
     "output_type": "display_data"
    }
   ],
   "source": [
    "fig = plt.figure()\n",
    "fig.set_size_inches(7,5)\n",
    "plt.rc('text', usetex=False)\n",
    "plt.rc('font', size=20, **{'family':'DejaVu Sans','sans-serif':['Helvetica']})\n",
    "plt.rcParams['xtick.major.pad'] = 8\n",
    "plt.rcParams['ytick.major.pad'] = 8\n",
    "\n",
    "gamma = 2.1\n",
    "plt.plot(results_lfr[gamma][0], results_lfr[gamma][2], marker='s', linewidth=2, color = 'black', label='$\\gamma = 2.1$')\n",
    "\n",
    "gamma = 2.5\n",
    "plt.plot(results_lfr[gamma][0], results_lfr[gamma][2], marker='o', linewidth=2, color = 'red', label='$\\gamma = 2.5$')\n",
    "\n",
    "gamma = 2.9\n",
    "plt.plot(results_lfr[gamma][0], results_lfr[gamma][2], marker='v', linewidth=2, color = 'blue', label='$\\gamma = 2.9$')\n",
    "\n",
    "\n",
    "gamma = 3.5\n",
    "plt.plot(results_lfr[gamma][0], results_lfr[gamma][2], marker='d', linewidth=2, color = 'green', label='$\\gamma = 3.5$')\n",
    "\n",
    "\n",
    "\n",
    "\n",
    "\n",
    "plt.legend(loc='lower right')\n",
    "plt.xlabel('Relative size of the training set')\n",
    "plt.ylabel('ROC AUC')\n",
    "plt.ylim(.0,1)\n",
    "plt.xlim(.0,1)"
   ]
  },
  {
   "cell_type": "markdown",
   "metadata": {},
   "source": [
    "## Figure 2c"
   ]
  },
  {
   "cell_type": "code",
   "execution_count": 190,
   "metadata": {},
   "outputs": [],
   "source": [
    "N = 10000\n",
    "tau2 = 1.0\n",
    "gamma = 2.1\n",
    "max_degree = int(np.sqrt(N))\n",
    "average_degree = 5.0\n",
    "min_community = 1\n",
    "prob = 1.0\n",
    "\n",
    "\n",
    "results_lfr = {}"
   ]
  },
  {
   "cell_type": "code",
   "execution_count": 191,
   "metadata": {},
   "outputs": [
    {
     "name": "stdout",
     "output_type": "stream",
     "text": [
      "11\n",
      "# 0.00   0.90\n",
      "# 0.10   0.90\n",
      "# 0.20   0.90\n",
      "# 0.30   0.90\n",
      "# 0.40   0.90\n",
      "# 0.50   0.90\n",
      "# 0.60   0.90\n",
      "# 0.70   0.90\n",
      "# 0.80   0.90\n",
      "# 0.90   0.90\n"
     ]
    }
   ],
   "source": [
    "mu = 0.1\n",
    "\n",
    "G, sigma1, sigma2, mu_tmp = lfr_multiplex (N, gamma, tau2, mu, average_degree, max_degree, min_community, prob)\n",
    "l1 = 1\n",
    "l2 = 2\n",
    "G1, G2 = duplex_network (G, l1, l2)\n",
    "\n",
    "results_lfr[mu] = perform_analysis (G1, G2, step, TT=0)"
   ]
  },
  {
   "cell_type": "code",
   "execution_count": 192,
   "metadata": {},
   "outputs": [
    {
     "name": "stdout",
     "output_type": "stream",
     "text": [
      "19\n",
      "# 0.00   0.90\n",
      "# 0.10   0.90\n",
      "# 0.20   0.90\n",
      "# 0.30   0.90\n",
      "# 0.40   0.90\n",
      "# 0.50   0.90\n",
      "# 0.60   0.90\n",
      "# 0.70   0.90\n",
      "# 0.80   0.90\n",
      "# 0.90   0.90\n"
     ]
    }
   ],
   "source": [
    "mu = 0.2\n",
    "\n",
    "G, sigma1, sigma2, mu_tmp = lfr_multiplex (N, gamma, tau2, mu, average_degree, max_degree, min_community, prob)\n",
    "l1 = 1\n",
    "l2 = 2\n",
    "G1, G2 = duplex_network (G, l1, l2)\n",
    "\n",
    "results_lfr[mu] = perform_analysis (G1, G2, step, TT=0)"
   ]
  },
  {
   "cell_type": "code",
   "execution_count": 193,
   "metadata": {},
   "outputs": [
    {
     "name": "stdout",
     "output_type": "stream",
     "text": [
      "15\n",
      "# 0.00   0.90\n",
      "# 0.10   0.90\n",
      "# 0.20   0.90\n",
      "# 0.30   0.90\n",
      "# 0.40   0.90\n",
      "# 0.50   0.90\n",
      "# 0.60   0.90\n",
      "# 0.70   0.90\n",
      "# 0.80   0.90\n",
      "# 0.90   0.90\n"
     ]
    }
   ],
   "source": [
    "mu = 0.3\n",
    "\n",
    "G, sigma1, sigma2, mu_tmp = lfr_multiplex (N, gamma, tau2, mu, average_degree, max_degree, min_community, prob)\n",
    "l1 = 1\n",
    "l2 = 2\n",
    "G1, G2 = duplex_network (G, l1, l2)\n",
    "\n",
    "results_lfr[mu] = perform_analysis (G1, G2, step, TT=0)"
   ]
  },
  {
   "cell_type": "code",
   "execution_count": 194,
   "metadata": {},
   "outputs": [
    {
     "name": "stdout",
     "output_type": "stream",
     "text": [
      "18\n",
      "# 0.00   0.90\n",
      "# 0.10   0.90\n",
      "# 0.20   0.90\n",
      "# 0.30   0.90\n",
      "# 0.40   0.90\n",
      "# 0.50   0.90\n",
      "# 0.60   0.90\n",
      "# 0.70   0.90\n",
      "# 0.80   0.90\n",
      "# 0.90   0.90\n"
     ]
    }
   ],
   "source": [
    "mu = 0.4\n",
    "\n",
    "G, sigma1, sigma2, mu_tmp = lfr_multiplex (N, gamma, tau2, mu, average_degree, max_degree, min_community, prob)\n",
    "l1 = 1\n",
    "l2 = 2\n",
    "G1, G2 = duplex_network (G, l1, l2)\n",
    "\n",
    "results_lfr[mu] = perform_analysis (G1, G2, step, TT=0)"
   ]
  },
  {
   "cell_type": "code",
   "execution_count": 195,
   "metadata": {},
   "outputs": [
    {
     "name": "stdout",
     "output_type": "stream",
     "text": [
      "21\n",
      "# 0.00   0.90\n",
      "# 0.10   0.90\n",
      "# 0.20   0.90\n",
      "# 0.30   0.90\n",
      "# 0.40   0.90\n",
      "# 0.50   0.90\n",
      "# 0.60   0.90\n",
      "# 0.70   0.90\n",
      "# 0.80   0.90\n",
      "# 0.90   0.90\n"
     ]
    }
   ],
   "source": [
    "mu = 0.5\n",
    "\n",
    "G, sigma1, sigma2, mu_tmp = lfr_multiplex (N, gamma, tau2, mu, average_degree, max_degree, min_community, prob)\n",
    "l1 = 1\n",
    "l2 = 2\n",
    "G1, G2 = duplex_network (G, l1, l2)\n",
    "\n",
    "results_lfr[mu] = perform_analysis (G1, G2, step, TT=0)"
   ]
  },
  {
   "cell_type": "code",
   "execution_count": 197,
   "metadata": {},
   "outputs": [],
   "source": [
    "# mu = 0.6\n",
    "\n",
    "# G, sigma1, sigma2, mu_tmp = lfr_multiplex (N, gamma, tau2, mu, average_degree, max_degree, min_community, prob)\n",
    "# l1 = 1\n",
    "# l2 = 2\n",
    "# G1, G2 = duplex_network (G, l1, l2)\n",
    "\n",
    "# results_lfr[mu] = perform_analysis (G1, G2, step, TT=0)"
   ]
  },
  {
   "cell_type": "code",
   "execution_count": 198,
   "metadata": {},
   "outputs": [],
   "source": [
    "with open('figure2c_data.pk', 'wb') as handle:\n",
    "    pickle.dump(results_lfr, handle, protocol=pickle.HIGHEST_PROTOCOL)"
   ]
  },
  {
   "cell_type": "code",
   "execution_count": 199,
   "metadata": {},
   "outputs": [],
   "source": [
    "with open('figure2c_data.pk', 'rb') as handle:\n",
    "    results_lfr = pickle.load(handle)"
   ]
  },
  {
   "cell_type": "code",
   "execution_count": 200,
   "metadata": {},
   "outputs": [
    {
     "data": {
      "text/plain": [
       "(0.0, 1)"
      ]
     },
     "execution_count": 200,
     "metadata": {},
     "output_type": "execute_result"
    },
    {
     "data": {
      "image/png": "[encoded data removed]",
      "text/plain": [
       "<Figure size 504x360 with 1 Axes>"
      ]
     },
     "metadata": {
      "needs_background": "light"
     },
     "output_type": "display_data"
    }
   ],
   "source": [
    "fig = plt.figure()\n",
    "fig.set_size_inches(7,5)\n",
    "plt.rc('text', usetex=False)\n",
    "plt.rc('font', size=20, **{'family':'DejaVu Sans','sans-serif':['Helvetica']})\n",
    "plt.rcParams['xtick.major.pad'] = 8\n",
    "plt.rcParams['ytick.major.pad'] = 8\n",
    "\n",
    "mu = 0.1\n",
    "plt.plot(results_lfr[mu][0], results_lfr[mu][2], marker='s', linewidth=2, color = 'black', label='$\\mu = 0.1$')\n",
    "\n",
    "mu = 0.2\n",
    "plt.plot(results_lfr[mu][0], results_lfr[mu][2], marker='o', linewidth=2, color = 'red', label='$\\mu = 0.2$')\n",
    "\n",
    "\n",
    "mu = 0.3\n",
    "plt.plot(results_lfr[mu][0], results_lfr[mu][2], marker='v', linewidth=2, color = 'blue', label='$\\mu = 0.3$')\n",
    "\n",
    "\n",
    "mu = 0.4\n",
    "plt.plot(results_lfr[mu][0], results_lfr[mu][2], marker='d', linewidth=2, color = 'green', label='$\\mu = 0.4$')\n",
    "\n",
    "\n",
    "mu = 0.5\n",
    "plt.plot(results_lfr[mu][0], results_lfr[mu][2], marker='D', linewidth=2, color = 'orange', label='$\\mu = 0.5$')\n",
    "\n",
    "\n",
    "# mu = 0.6\n",
    "# plt.plot(results_lfr[mu][0], results_lfr[mu][2], marker='D', linewidth=2, color = 'orange', label='$\\mu = 0.6$')\n",
    "\n",
    "\n",
    "\n",
    "plt.legend(loc='lower right')\n",
    "plt.xlabel('Relative size of the training set')\n",
    "plt.ylabel('ROC AUC')\n",
    "plt.ylim(.0,1)\n",
    "plt.xlim(.0,1)"
   ]
  },
  {
   "cell_type": "markdown",
   "metadata": {},
   "source": [
    "# Wu et al. method"
   ]
  },
  {
   "cell_type": "code",
   "execution_count": 290,
   "metadata": {},
   "outputs": [],
   "source": [
    "#######\n",
    "\n",
    "def partial_information_wu_et_al (G1, G2, frac):\n",
    "    \n",
    "    \n",
    "#     print ('# option = ', option)\n",
    "    \n",
    "    ##training/test sets\n",
    "    Etest = {}\n",
    "    Etrain = {}\n",
    "    \n",
    "    for e in G1.edges():\n",
    "        if random.random() < frac:\n",
    "            Etrain[e] = 1\n",
    "        else:\n",
    "            Etest[e] = 1\n",
    "            \n",
    "    for e in G2.edges():\n",
    "        if random.random() < frac:\n",
    "            Etrain[e] = 0\n",
    "        else:\n",
    "            Etest[e] = 0\n",
    "\n",
    "    \n",
    "    \n",
    "    return Etrain, Etest \n",
    "\n",
    "\n",
    "#####\n",
    "\n",
    "\n",
    "\n",
    "def wu_et_al_classifier_final (Etrain, Etest, max_iter, tol, show_log = False):\n",
    "    \n",
    "    \n",
    "\n",
    "     \n",
    "    ################################\n",
    "    Q = {}\n",
    "    for e in Etest:\n",
    "        n = e[0]\n",
    "        m = e[1]\n",
    "        Q[e] = 0.5\n",
    "    ################################\n",
    "    \n",
    "    \n",
    "    \n",
    "    #######################################\n",
    "    ##partial observation of layers 1 and 2\n",
    "    obs_degree1 = {}\n",
    "    obs_degree2 = {}\n",
    "    \n",
    "    \n",
    "    \n",
    "    for e in Etest:\n",
    "        n = e[0]\n",
    "        m = e[1]\n",
    "        if n not in obs_degree1:\n",
    "            obs_degree1[n] = 0\n",
    "            obs_degree2[n] = 0\n",
    "        if m not in obs_degree1:\n",
    "            obs_degree1[m] = 0\n",
    "            obs_degree2[m] = 0\n",
    "            \n",
    "    for e in Etrain:\n",
    "        n = e[0]\n",
    "        m = e[1]\n",
    "        if n not in obs_degree1:\n",
    "            obs_degree1[n] = 0\n",
    "            obs_degree2[n] = 0\n",
    "        if m not in obs_degree1:\n",
    "            obs_degree1[m] = 0\n",
    "            obs_degree2[m] = 0\n",
    "            \n",
    "        if Etrain[e] == 1:\n",
    "            obs_degree1[n] += 1\n",
    "            obs_degree1[m] += 1\n",
    "        else:\n",
    "            obs_degree2[n] += 1\n",
    "            obs_degree2[m] += 1\n",
    "    #######################################\n",
    "\n",
    "    \n",
    "   \n",
    "    \n",
    "    \n",
    "        \n",
    "        \n",
    "    iteration = 0\n",
    "    max_err = tol + 1\n",
    "    while iteration < max_iter:\n",
    "        \n",
    "        \n",
    "        #######################################\n",
    "        ##update degree sequences\n",
    "        degree1, degree2 = {}, {}\n",
    "        for n in obs_degree1:\n",
    "            degree1[n] = obs_degree1[n]\n",
    "        for n in obs_degree2:\n",
    "            degree2[n] = obs_degree2[n]\n",
    "        for e in Q:\n",
    "            n = e[0]\n",
    "            m = e[1]\n",
    "#             if n not in degree1:\n",
    "#                 degree1[n] = 0.0\n",
    "#                 degree2[n] = 0.0\n",
    "#             if m not in degree1:\n",
    "#                 degree1[m] = 0.0\n",
    "#                 degree2[m] = 0.0\n",
    "            degree1[n] += Q[e]\n",
    "            degree1[m] += Q[e]\n",
    "            degree2[n] += 1.0 - Q[e]\n",
    "            degree2[m] += 1.0 - Q[e]\n",
    "        #######################################\n",
    "\n",
    "        max_err = 0.0\n",
    "        #######################################\n",
    "        ##update probabilities\n",
    "        for e in Etest:\n",
    "            n = e[0]\n",
    "            m = e[1]\n",
    "                \n",
    "            old = Q[e]\n",
    "            Q[e] = degree1[n]*degree1[m] / (degree1[n]*degree1[m] + degree2[n]*degree2[m])\n",
    "            \n",
    "            err = abs(old-Q[e])\n",
    "            if err > max_err:\n",
    "                max_err = err\n",
    "        #######################################\n",
    "                \n",
    "                \n",
    "#         print ('iter = ', iteration, ' max_err = ', max_err)\n",
    "        iteration += 1\n",
    "        if max_err < tol:\n",
    "            print ('iter = ', iteration, ' max_err = ', max_err)\n",
    "            iteration = max_iter + 1\n",
    "            \n",
    "   \n",
    "\n",
    "\n",
    "    \n",
    "    print ('iter = ', iteration, ' max_err = ', max_err)\n",
    "    \n",
    "        \n",
    "    ########  \n",
    "    classification, scores, ground_truth = [], [], []\n",
    "        \n",
    "    for e in Etest:\n",
    "\n",
    "\n",
    "        n = e[0]\n",
    "        m = e[1]\n",
    "\n",
    "        s1 = Q[e]\n",
    "        s2 = 1.0 - Q[e]\n",
    "        \n",
    "        \n",
    "\n",
    "        t1 = t2 = 0.5\n",
    "        if s1 + s2 > 0.0:\n",
    "            t1 = s1 / (s1 + s2)\n",
    "            t2 = s2 / (s1 + s2)\n",
    "\n",
    "\n",
    "        s = random.randint(0,1)\n",
    "        if t1 > t2:\n",
    "            s = 1\n",
    "        if t2 > t1:\n",
    "            s = 0\n",
    "\n",
    "    \n",
    "        scores.append(t1)\n",
    "        classification.append(s)\n",
    "        ground_truth.append(Etest[e])\n",
    "\n",
    "\n",
    "\n",
    "    return classification, scores, ground_truth\n",
    "\n",
    "\n",
    "#################\n",
    "\n",
    "\n",
    "\n",
    "\n",
    "\n",
    "\n",
    "########################\n",
    "\n",
    "\n",
    "def perform_analysis_wu_et_al (G1, G2, step):\n",
    "    \n",
    "    \n",
    "    #print ('# option = ', option)\n",
    "    \n",
    "    \n",
    "    x , y, z  = [], [], []\n",
    "    \n",
    "    max_iter = 10000\n",
    "    tol = 1e-3\n",
    "    \n",
    "    \n",
    "    frac = 0.0\n",
    "    while frac < 1.0:\n",
    "        \n",
    "        if frac <= 1.0 - step:\n",
    "            \n",
    "            print ('# %.2f ' %frac, ' %.2f' %(1.0 - step))\n",
    "            \n",
    "            Etrain, Etest  = partial_information_wu_et_al (G1, G2, frac)\n",
    "            classification, scores, ground_truth = wu_et_al_classifier_final (Etrain, Etest, max_iter, tol, show_log = True)\n",
    "            acc = metrics.accuracy_score(ground_truth, classification)\n",
    "            auc = metrics.roc_auc_score(ground_truth, scores)\n",
    "            \n",
    "            \n",
    "            \n",
    "            x.append(frac)\n",
    "            y.append(acc)\n",
    "            z.append(auc)\n",
    "            \n",
    "            \n",
    "        frac += step\n",
    "        \n",
    "    results = [x, y, z]\n",
    "    return results\n",
    "\n",
    "\n",
    "\n",
    "\n",
    "\n"
   ]
  },
  {
   "cell_type": "markdown",
   "metadata": {},
   "source": [
    "## Figure 3d"
   ]
  },
  {
   "cell_type": "code",
   "execution_count": 270,
   "metadata": {},
   "outputs": [],
   "source": [
    "N = 10000\n",
    "tau2 = 1.0\n",
    "gamma = 2.1\n",
    "max_degree = int(np.sqrt(N))\n",
    "average_degree = 5.0\n",
    "min_community = 1\n",
    "prob = 1.0\n",
    "mu = 0.1\n",
    "step = 0.1\n",
    "\n",
    "\n",
    "results_lfr = {}"
   ]
  },
  {
   "cell_type": "code",
   "execution_count": 271,
   "metadata": {},
   "outputs": [
    {
     "name": "stdout",
     "output_type": "stream",
     "text": [
      "6\n"
     ]
    }
   ],
   "source": [
    "G, sigma1, sigma2, mu_tmp = lfr_multiplex (N, gamma, tau2, mu, average_degree, max_degree, min_community, prob)\n",
    "l1 = 1\n",
    "l2 = 2\n",
    "G1, G2 = duplex_network (G, l1, l2)"
   ]
  },
  {
   "cell_type": "code",
   "execution_count": 272,
   "metadata": {},
   "outputs": [
    {
     "name": "stdout",
     "output_type": "stream",
     "text": [
      "# 0.00   0.90\n",
      "# 0.10   0.90\n",
      "# 0.20   0.90\n",
      "# 0.30   0.90\n",
      "# 0.40   0.90\n",
      "# 0.50   0.90\n",
      "# 0.60   0.90\n",
      "# 0.70   0.90\n",
      "# 0.80   0.90\n",
      "# 0.90   0.90\n"
     ]
    }
   ],
   "source": [
    "results_lfr['DC'] = perform_analysis (G1, G2, step, TT=0)"
   ]
  },
  {
   "cell_type": "code",
   "execution_count": 273,
   "metadata": {},
   "outputs": [
    {
     "name": "stdout",
     "output_type": "stream",
     "text": [
      "# 0.00   0.90\n",
      "# 0.10   0.90\n",
      "# 0.20   0.90\n",
      "# 0.30   0.90\n",
      "# 0.40   0.90\n",
      "# 0.50   0.90\n",
      "# 0.60   0.90\n",
      "# 0.70   0.90\n",
      "# 0.80   0.90\n",
      "# 0.90   0.90\n"
     ]
    }
   ],
   "source": [
    "results_lfr['C'] = perform_analysis (G1, G2, step, TT=2)"
   ]
  },
  {
   "cell_type": "code",
   "execution_count": 274,
   "metadata": {},
   "outputs": [
    {
     "name": "stdout",
     "output_type": "stream",
     "text": [
      "# 0.00   0.90\n",
      "# 0.10   0.90\n",
      "# 0.20   0.90\n",
      "# 0.30   0.90\n",
      "# 0.40   0.90\n",
      "# 0.50   0.90\n",
      "# 0.60   0.90\n",
      "# 0.70   0.90\n",
      "# 0.80   0.90\n",
      "# 0.90   0.90\n"
     ]
    }
   ],
   "source": [
    "results_lfr['D'] = perform_analysis (G1, G2, step, TT=1)"
   ]
  },
  {
   "cell_type": "code",
   "execution_count": 291,
   "metadata": {},
   "outputs": [
    {
     "name": "stdout",
     "output_type": "stream",
     "text": [
      "# 0.00   0.90\n",
      "iter =  1  max_err =  0.0\n",
      "iter =  10001  max_err =  0.0\n",
      "# 0.10   0.90\n",
      "iter =  203  max_err =  0.0005053468010930429\n",
      "iter =  10001  max_err =  0.0005053468010930429\n",
      "# 0.20   0.90\n",
      "iter =  687  max_err =  0.000849327135661937\n",
      "iter =  10001  max_err =  0.000849327135661937\n",
      "# 0.30   0.90\n",
      "iter =  667  max_err =  0.0009998529670437462\n",
      "iter =  10001  max_err =  0.0009998529670437462\n",
      "# 0.40   0.90\n",
      "iter =  422  max_err =  0.0009770675367143378\n",
      "iter =  10001  max_err =  0.0009770675367143378\n",
      "# 0.50   0.90\n",
      "iter =  327  max_err =  0.0009877608039872143\n",
      "iter =  10001  max_err =  0.0009877608039872143\n",
      "# 0.60   0.90\n",
      "iter =  144  max_err =  0.000970765203546331\n",
      "iter =  10001  max_err =  0.000970765203546331\n",
      "# 0.70   0.90\n",
      "iter =  145  max_err =  0.0009894860177477316\n",
      "iter =  10001  max_err =  0.0009894860177477316\n",
      "# 0.80   0.90\n",
      "iter =  65  max_err =  0.0009712759346524602\n",
      "iter =  10001  max_err =  0.0009712759346524602\n",
      "# 0.90   0.90\n",
      "iter =  60  max_err =  0.0009776725203456405\n",
      "iter =  10001  max_err =  0.0009776725203456405\n"
     ]
    }
   ],
   "source": [
    "results_lfr['Wu'] = perform_analysis_wu_et_al (G1, G2, step)"
   ]
  },
  {
   "cell_type": "code",
   "execution_count": 292,
   "metadata": {},
   "outputs": [],
   "source": [
    "with open('figure2d_data.pk', 'wb') as handle:\n",
    "    pickle.dump(results_lfr, handle, protocol=pickle.HIGHEST_PROTOCOL)"
   ]
  },
  {
   "cell_type": "code",
   "execution_count": 293,
   "metadata": {},
   "outputs": [],
   "source": [
    "with open('figure2d_data.pk', 'rb') as handle:\n",
    "    results_lfr = pickle.load(handle)"
   ]
  },
  {
   "cell_type": "code",
   "execution_count": 309,
   "metadata": {},
   "outputs": [
    {
     "data": {
      "text/plain": [
       "(0.0, 1)"
      ]
     },
     "execution_count": 309,
     "metadata": {},
     "output_type": "execute_result"
    },
    {
     "data": {
      "image/png": "[encoded data removed]",
      "text/plain": [
       "<Figure size 504x360 with 1 Axes>"
      ]
     },
     "metadata": {
      "needs_background": "light"
     },
     "output_type": "display_data"
    }
   ],
   "source": [
    "fig = plt.figure()\n",
    "fig.set_size_inches(7,5)\n",
    "plt.rc('text', usetex=False)\n",
    "plt.rc('font', size=20, **{'family':'DejaVu Sans','sans-serif':['Helvetica']})\n",
    "plt.rcParams['xtick.major.pad'] = 8\n",
    "plt.rcParams['ytick.major.pad'] = 8\n",
    "\n",
    "\n",
    "plt.plot(results_lfr['DC'][0], results_lfr['DC'][2], marker='s', linewidth=2, color = 'black', label='DC')\n",
    "plt.plot(results_lfr['C'][0], results_lfr['C'][2], marker='^', linewidth=2, color = 'green', label='C')\n",
    "plt.plot(results_lfr['D'][0], results_lfr['D'][2], marker='D', linewidth=2, color = 'blue', label='D')\n",
    "\n",
    "#plt.plot(results_lfr['Wu'][0], results_lfr['Wu'][2], marker='o', linewidth=2, color = 'red', label='Wu et al.')\n",
    "\n",
    "\n",
    "plt.legend(loc='lower right')\n",
    "plt.xlabel('Relabiling probability')\n",
    "plt.ylabel('ROC AUC')\n",
    "plt.ylim(.0,1)\n",
    "plt.xlim(.0,1)"
   ]
  },
  {
   "cell_type": "markdown",
   "metadata": {},
   "source": [
    "## Figure 2d"
   ]
  },
  {
   "cell_type": "code",
   "execution_count": 314,
   "metadata": {},
   "outputs": [],
   "source": [
    "N = 10000\n",
    "gamma = 2.1\n",
    "kmax = int(np.sqrt(N))\n",
    "kmin = 3\n",
    "sign = 1\n",
    "prob = 1.0\n",
    "step = 0.1\n",
    "\n",
    "\n",
    "results = {}"
   ]
  },
  {
   "cell_type": "code",
   "execution_count": 315,
   "metadata": {},
   "outputs": [
    {
     "name": "stdout",
     "output_type": "stream",
     "text": [
      "45\n"
     ]
    }
   ],
   "source": [
    "G = generate_multiplex_configuration (N, gamma, kmin, kmax, prob, sign)\n",
    "l1 = 1\n",
    "l2 = 2\n",
    "G1, G2 = duplex_network (G, l1, l2)"
   ]
  },
  {
   "cell_type": "code",
   "execution_count": 316,
   "metadata": {},
   "outputs": [
    {
     "name": "stdout",
     "output_type": "stream",
     "text": [
      "# 0.00   0.90\n",
      "# 0.10   0.90\n",
      "# 0.20   0.90\n",
      "# 0.30   0.90\n",
      "# 0.40   0.90\n",
      "# 0.50   0.90\n",
      "# 0.60   0.90\n",
      "# 0.70   0.90\n",
      "# 0.80   0.90\n",
      "# 0.90   0.90\n"
     ]
    }
   ],
   "source": [
    "results['DC'] = perform_analysis (G1, G2, step, TT=0)"
   ]
  },
  {
   "cell_type": "code",
   "execution_count": 317,
   "metadata": {},
   "outputs": [
    {
     "name": "stdout",
     "output_type": "stream",
     "text": [
      "# 0.00   0.90\n",
      "# 0.10   0.90\n",
      "# 0.20   0.90\n",
      "# 0.30   0.90\n",
      "# 0.40   0.90\n",
      "# 0.50   0.90\n",
      "# 0.60   0.90\n",
      "# 0.70   0.90\n",
      "# 0.80   0.90\n",
      "# 0.90   0.90\n"
     ]
    }
   ],
   "source": [
    "results['C'] = perform_analysis (G1, G2, step, TT=2)"
   ]
  },
  {
   "cell_type": "code",
   "execution_count": 318,
   "metadata": {},
   "outputs": [
    {
     "name": "stdout",
     "output_type": "stream",
     "text": [
      "# 0.00   0.90\n",
      "# 0.10   0.90\n",
      "# 0.20   0.90\n",
      "# 0.30   0.90\n",
      "# 0.40   0.90\n",
      "# 0.50   0.90\n",
      "# 0.60   0.90\n",
      "# 0.70   0.90\n",
      "# 0.80   0.90\n",
      "# 0.90   0.90\n"
     ]
    }
   ],
   "source": [
    "results['D'] = perform_analysis (G1, G2, step, TT=1)"
   ]
  },
  {
   "cell_type": "code",
   "execution_count": 319,
   "metadata": {},
   "outputs": [
    {
     "name": "stdout",
     "output_type": "stream",
     "text": [
      "# 0.00   0.90\n",
      "iter =  1  max_err =  0.0\n",
      "iter =  10001  max_err =  0.0\n",
      "# 0.10   0.90\n",
      "iter =  54  max_err =  0.0007922679511980007\n",
      "iter =  10001  max_err =  0.0007922679511980007\n",
      "# 0.20   0.90\n",
      "iter =  97  max_err =  0.00042413695664698936\n",
      "iter =  10001  max_err =  0.00042413695664698936\n",
      "# 0.30   0.90\n",
      "iter =  1047  max_err =  0.0008927382154509944\n",
      "iter =  10001  max_err =  0.0008927382154509944\n",
      "# 0.40   0.90\n",
      "iter =  163  max_err =  0.000995612861532158\n",
      "iter =  10001  max_err =  0.000995612861532158\n",
      "# 0.50   0.90\n",
      "iter =  146  max_err =  0.0009871402832163437\n",
      "iter =  10001  max_err =  0.0009871402832163437\n",
      "# 0.60   0.90\n",
      "iter =  186  max_err =  0.0009933167497825426\n",
      "iter =  10001  max_err =  0.0009933167497825426\n",
      "# 0.70   0.90\n",
      "iter =  59  max_err =  0.0009723823487092186\n",
      "iter =  10001  max_err =  0.0009723823487092186\n",
      "# 0.80   0.90\n",
      "iter =  62  max_err =  0.000989678336897809\n",
      "iter =  10001  max_err =  0.000989678336897809\n",
      "# 0.90   0.90\n",
      "iter =  30  max_err =  0.0008947054927349596\n",
      "iter =  10001  max_err =  0.0008947054927349596\n"
     ]
    }
   ],
   "source": [
    "results['Wu'] = perform_analysis_wu_et_al (G1, G2, step)"
   ]
  },
  {
   "cell_type": "code",
   "execution_count": 320,
   "metadata": {},
   "outputs": [],
   "source": [
    "with open('figure2dbis_data.pk', 'wb') as handle:\n",
    "    pickle.dump(results, handle, protocol=pickle.HIGHEST_PROTOCOL)"
   ]
  },
  {
   "cell_type": "code",
   "execution_count": 321,
   "metadata": {},
   "outputs": [],
   "source": [
    "with open('figure2dbis_data.pk', 'rb') as handle:\n",
    "    results = pickle.load(handle)"
   ]
  },
  {
   "cell_type": "code",
   "execution_count": 322,
   "metadata": {},
   "outputs": [
    {
     "data": {
      "text/plain": [
       "(0.0, 1)"
      ]
     },
     "execution_count": 322,
     "metadata": {},
     "output_type": "execute_result"
    },
    {
     "data": {
      "image/png": "[encoded data removed]",
      "text/plain": [
       "<Figure size 504x360 with 1 Axes>"
      ]
     },
     "metadata": {
      "needs_background": "light"
     },
     "output_type": "display_data"
    }
   ],
   "source": [
    "fig = plt.figure()\n",
    "fig.set_size_inches(7,5)\n",
    "plt.rc('text', usetex=False)\n",
    "plt.rc('font', size=20, **{'family':'DejaVu Sans','sans-serif':['Helvetica']})\n",
    "plt.rcParams['xtick.major.pad'] = 8\n",
    "plt.rcParams['ytick.major.pad'] = 8\n",
    "\n",
    "\n",
    "plt.plot(results['DC'][0], results['DC'][2], marker='s', linewidth=2, color = 'black', label='DC')\n",
    "plt.plot(results['C'][0], results['C'][2], marker='^', linewidth=2, color = 'green', label='C')\n",
    "plt.plot(results['D'][0], results['D'][2], marker='D', linewidth=2, color = 'blue', label='D')\n",
    "\n",
    "#plt.plot(results['Wu'][0], results['Wu'][2], marker='o', linewidth=2, color = 'red', label='Wu et al.')\n",
    "\n",
    "\n",
    "plt.legend(loc='lower right')\n",
    "plt.xlabel('Relabiling probability')\n",
    "plt.ylabel('ROC AUC')\n",
    "plt.ylim(.0,1)\n",
    "plt.xlim(.0,1)"
   ]
  },
  {
   "cell_type": "code",
   "execution_count": null,
   "metadata": {},
   "outputs": [],
   "source": []
  }
 ],
 "metadata": {
  "kernelspec": {
   "display_name": "Python 3.10.6 ('EmbeddedNaive')",
   "language": "python",
   "name": "python3"
  },
  "language_info": {
   "codemirror_mode": {
    "name": "ipython",
    "version": 3
   },
   "file_extension": ".py",
   "mimetype": "text/x-python",
   "name": "python",
   "nbconvert_exporter": "python",
   "pygments_lexer": "ipython3",
   "version": "3.10.6"
  },
  "vscode": {
   "interpreter": {
    "hash": "f5825d70345ee2a3649307867a940362a6242bb96acddd38c1a628ab339f97fa"
   }
  }
 },
 "nbformat": 4,
 "nbformat_minor": 4
}
