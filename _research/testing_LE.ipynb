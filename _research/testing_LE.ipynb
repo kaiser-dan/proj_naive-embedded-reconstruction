{
 "cells": [
  {
   "attachments": {},
   "cell_type": "markdown",
   "metadata": {},
   "source": [
    "# Set-up"
   ]
  },
  {
   "attachments": {},
   "cell_type": "markdown",
   "metadata": {},
   "source": [
    "## Package management"
   ]
  },
  {
   "cell_type": "code",
   "execution_count": 16,
   "metadata": {},
   "outputs": [],
   "source": [
    "# --- Standard library ---\n",
    "import sys\n",
    "import pickle\n",
    "from enum import Enum\n",
    "import random\n",
    "\n",
    "# --- Scientific computing ---\n",
    "import numpy as np\n",
    "from sklearn.metrics import accuracy_score, roc_auc_score\n",
    "\n",
    "# --- Network science ---\n",
    "from cdlib import algorithms\n",
    "import networkx as nx\n",
    "\n",
    "# --- Data handling and visualization ---\n",
    "\n",
    "import matplotlib as mpl\n",
    "import matplotlib.pyplot as plt\n",
    "from matplotlib.ticker import AutoMinorLocator\n",
    "%matplotlib inline\n",
    "\n",
    "# --- Project source code ---\n",
    "sys.path.append(\"../\")\n",
    "sys.path.append(\"../src/\")\n",
    "\n",
    "# Data\n",
    "from src.data.preprocessing import duplex_network  # handle overlap, inconsistent node sets\n",
    "from src.data.benchmarks import lfr_multiplex  # benchmark samplers\n",
    "\n",
    "# Sampling\n",
    "from src.sampling.random import partial_information  # PFI observation\n",
    "\n",
    "# Embedding\n",
    "from src.embed.LE import LE\n",
    "\n",
    "# Classifiers\n",
    "from src.classifiers.features import *  # degree feature calculations, label wrapper\n",
    "from src.classifiers.logreg import *  # wrappers for scikit-learn logistic regression model functions\n",
    "\n",
    "# Utils\n",
    "from src.utils.parameters import set_parameters_LE"
   ]
  },
  {
   "attachments": {},
   "cell_type": "markdown",
   "metadata": {},
   "source": [
    "## Global config"
   ]
  },
  {
   "cell_type": "code",
   "execution_count": 34,
   "metadata": {},
   "outputs": [],
   "source": [
    "# * Pathing aliases\n",
    "_ROOT = \"../\"\n",
    "_DATA = _ROOT + \"data/input/\"\n",
    "_DFS = _ROOT + \"results/dataframes/\"\n",
    "_FIGS = _ROOT + \"results/plots/\""
   ]
  },
  {
   "cell_type": "code",
   "execution_count": 18,
   "metadata": {},
   "outputs": [],
   "source": [
    "# * Plotting parameters\n",
    "custom_plot_settings = {\n",
    "    # Figure config\n",
    "    \"figure.figsize\": (8,6),\n",
    "    \"figure.frameon\": True,\n",
    "    \"figure.autolayout\": True,\n",
    "    \"axes.titlesize\": 16,\n",
    "    # Axes config\n",
    "    \"xtick.minor.size\": 2,\n",
    "    # Save-to-disk config\n",
    "    \"savefig.facecolor\": \"white\",\n",
    "    \"savefig.transparent\": False\n",
    "}\n",
    "mpl.rcParams.update(custom_plot_settings)\n",
    "\n",
    "# * Plotting aliases\n",
    "colors_ = [\"black\", \"red\", \"blue\", \"green\"]\n",
    "markers_ = [\"o\", \"s\", \"+\", \"^\"]\n",
    "viridis_ = mpl.colormaps['viridis']"
   ]
  },
  {
   "attachments": {},
   "cell_type": "markdown",
   "metadata": {},
   "source": [
    "## Data set-up"
   ]
  },
  {
   "cell_type": "code",
   "execution_count": 19,
   "metadata": {},
   "outputs": [],
   "source": [
    "# --- Describing attributes ---\n",
    "_ATTR_DICT = {\n",
    "    \"N\": \"number of nodes (in shared node set)\",\n",
    "    \"GAMMA\": \"degree exponent of power-law degree distribution (from sampled distribution, finite sampling effects may yield different exponent if re-fit)\",\n",
    "    \"MU\": \"mixing parameter for LFR model. Smaller MU implies (and is implied by) stronger modular structure.\",\n",
    "    \"KMIN\": \"minimum degree (in either layer)\",\n",
    "    \"KMAX\": \"maximum degree (in either layer)\",\n",
    "    \"AVG_K\": \"average degree (in both layers)\",\n",
    "    \"T1\": \"equivalent to GAMMA for LFR models\",\n",
    "    \"T2\": \"community size power-law distribution exponent\",\n",
    "    \"PROB\": \"relabeling probability. Controls correlation, with 0->1 = correlated->uncorrelated\",\n",
    "    \"SIGN\": \"degree sequence sorting. Couples with PROB to produce anti/directly correlated degree sequences. -1 => anticorrelated, 1 => correlated\"\n",
    "}"
   ]
  },
  {
   "cell_type": "code",
   "execution_count": 20,
   "metadata": {},
   "outputs": [],
   "source": [
    "# --- Data/Experiment Configurations ---\n",
    "class NetworkParams(Enum):\n",
    "    # Shared params\n",
    "    N = 1_000\n",
    "    PROB = 1.0\n",
    "    GAMMA = 2.1\n",
    "    KMAX = np.sqrt(1_000)\n",
    "    # Configuration model params\n",
    "    KMIN = 3\n",
    "    SIGN = 1\n",
    "    # LFR params\n",
    "    AVG_K = 6.0\n",
    "    T2 = 1.0\n",
    "    MU = 0.1\n",
    "    MIN_COMMUNITY = 1 # ignored\n",
    "\n",
    "class ExperimentParams(Enum):\n",
    "    THETAS = np.linspace(0.05, 0.95, 11, endpoint=True)\n",
    "\n",
    "LOGREG = {\n",
    "    \"fit_intercept\": True,  # include intercept accounting for class imbalance\n",
    "    \"solver\": \"newton-cholesky\",  # uses Cholesky-decomposition to approximate Hessian for Newton-esque method\n",
    "    \"penalty\": None  # do not include coefficient regularization\n",
    "}"
   ]
  },
  {
   "attachments": {},
   "cell_type": "markdown",
   "metadata": {},
   "source": [
    "## Function set-up"
   ]
  },
  {
   "cell_type": "code",
   "execution_count": 21,
   "metadata": {},
   "outputs": [],
   "source": [
    "def get_network():\n",
    "    duplex, _, _, _ = lfr_multiplex(\n",
    "        int(NetworkParams.N.value),  # number of nodes\n",
    "        NetworkParams.GAMMA.value,  # degree distribution exponent\n",
    "        NetworkParams.T2.value,  # community size distribution exponent\n",
    "        NetworkParams.MU.value,  # community mixing parameter\n",
    "        NetworkParams.AVG_K.value,  # average degree\n",
    "        NetworkParams.KMAX.value,  # maximum degree\n",
    "        NetworkParams.MIN_COMMUNITY.value,  # minimum community size (ignored)\n",
    "        NetworkParams.PROB.value,  # degree sequence correlation,\n",
    "        ROOT=\"../\"\n",
    "    )\n",
    "\n",
    "    duplex = duplex_network(duplex, 1, 2, verbose=True)\n",
    "\n",
    "    return duplex"
   ]
  },
  {
   "cell_type": "code",
   "execution_count": 22,
   "metadata": {},
   "outputs": [],
   "source": [
    "def get_remnants(theta, G, H):\n",
    "    remnant_G, remnant_H, test_edges, train_edges = partial_information(G, H, theta)\n",
    "    record = {\n",
    "        \"remnants\": (remnant_G, remnant_H),\n",
    "        \"observed_edges\": train_edges,\n",
    "        \"unobserved_edges\": test_edges\n",
    "    }\n",
    "\n",
    "    return record"
   ]
  },
  {
   "cell_type": "code",
   "execution_count": 23,
   "metadata": {},
   "outputs": [],
   "source": [
    "def embed_remnants(\n",
    "        remnants_record,\n",
    "        params, hyperparams,\n",
    "        normalize=True,\n",
    "        per_component=False):\n",
    "    G, H = remnants_record[\"remnants\"]\n",
    "    E_train = remnants_record[\"observed_edges\"]\n",
    "    E_test = remnants_record[\"unobserved_edges\"]\n",
    "\n",
    "    embeddings_G = LE(G, params, hyperparams, per_component=per_component)\n",
    "    embeddings_H = LE(H, params, hyperparams, per_component=per_component)\n",
    "\n",
    "    distances_G_train, distances_H_train = get_distances((embeddings_G, embeddings_H), E_train)\n",
    "    distances_G_test, distances_H_test = get_distances((embeddings_G, embeddings_H), E_test)\n",
    "\n",
    "    feature_distances_train = get_configuration_distances_feature(distances_G_train, distances_H_train, zde_penalty=0.1)\n",
    "    feature_distances_test = get_configuration_distances_feature(distances_G_test, distances_H_test, zde_penalty=0.1)\n",
    "\n",
    "    if normalize:\n",
    "        normalizer = max(np.abs(feature_distances_train))\n",
    "        feature_distances_train = list(map(lambda x: x / normalizer, feature_distances_train))\n",
    "\n",
    "        normalizer = max(np.abs(feature_distances_test))\n",
    "        feature_distances_test = list(map(lambda x: x / normalizer, feature_distances_test))\n",
    "\n",
    "    return feature_distances_train, feature_distances_test"
   ]
  },
  {
   "cell_type": "code",
   "execution_count": 24,
   "metadata": {},
   "outputs": [],
   "source": [
    "def get_degree_features(remnants_record):\n",
    "    G, H = remnants_record[\"remnants\"]\n",
    "    E_train = remnants_record[\"observed_edges\"]\n",
    "    E_test = remnants_record[\"unobserved_edges\"]\n",
    "    # Partially compute degree likelihood feature\n",
    "    src_degrees_train, tgt_degrees_train = get_degrees((G, H), E_train)\n",
    "    src_degrees_test, tgt_degrees_test = get_degrees((G, H), E_test)\n",
    "\n",
    "    # Complete degree likelihood feature calculations\n",
    "    feature_degrees_train = get_configuration_probabilities_feature(src_degrees_train, tgt_degrees_train)\n",
    "    feature_degrees_test = get_configuration_probabilities_feature(src_degrees_test, tgt_degrees_test)\n",
    "\n",
    "    return feature_degrees_train, feature_degrees_test"
   ]
  },
  {
   "cell_type": "code",
   "execution_count": 25,
   "metadata": {},
   "outputs": [],
   "source": [
    "def train_test_model(remnants_record, distances, degrees):\n",
    "    E_train = remnants_record[\"observed_edges\"]\n",
    "    E_test = remnants_record[\"unobserved_edges\"]\n",
    "\n",
    "    # Retrieve data labels\n",
    "    Y_train, Y_test = get_labels(E_train, E_test)\n",
    "\n",
    "    # Unpack training features\n",
    "    dist_train, dist_test = distances\n",
    "    degs_train, degs_test = degrees\n",
    "    X_train, X_test = format_feature_matrix(\n",
    "        {\"emb\", \"imb\", \"deg\"},\n",
    "        len(E_train), len(E_test),\n",
    "        dist_train, dist_test,\n",
    "        degs_train, degs_test\n",
    "    )\n",
    "\n",
    "    # Train model\n",
    "    model = train_fit_logreg(X_train, Y_train, LOGREG)\n",
    "\n",
    "    # Evaluate model\n",
    "    accuracy = get_model_accuracy(model, X_test, Y_test)\n",
    "    auroc = get_model_auroc(model, X_test, Y_test)\n",
    "    aupr = get_model_aupr(model, X_test, Y_test)\n",
    "\n",
    "    # Pack output\n",
    "    output = {\n",
    "        \"model\": model,\n",
    "        \"intercept\": model.intercept_[0],\n",
    "        \"coefs\": model.coef_[0],\n",
    "        \"accuracy\": accuracy,\n",
    "        \"auroc\": auroc,\n",
    "        \"aupr\": aupr,\n",
    "    }\n",
    "\n",
    "    return output"
   ]
  },
  {
   "cell_type": "code",
   "execution_count": 26,
   "metadata": {},
   "outputs": [],
   "source": [
    "def analysis():\n",
    "    df = dict()\n",
    "\n",
    "    G, H = get_network()\n",
    "    params, hyperparams, _ = set_parameters_LE()\n",
    "    hyperparams = hyperparams[\"embedding\"]\n",
    "\n",
    "    for theta in ExperimentParams.THETAS.value:\n",
    "        remnants_record = get_remnants(theta, G, H)\n",
    "        degrees = get_degree_features(remnants_record)\n",
    "\n",
    "        df_ = dict()\n",
    "        for dimensions in np.linspace(10, 100, num=11, dtype=int):\n",
    "            params[\"k\"] = dimensions\n",
    "            distances = embed_remnants(remnants_record, params, hyperparams)\n",
    "\n",
    "            df_[dimensions] = train_test_model(remnants_record, distances, degrees)\n",
    "        df[theta] = df_\n",
    "\n",
    "    return df"
   ]
  },
  {
   "attachments": {},
   "cell_type": "markdown",
   "metadata": {},
   "source": [
    "# Experiment"
   ]
  },
  {
   "cell_type": "code",
   "execution_count": 27,
   "metadata": {},
   "outputs": [
    {
     "name": "stdout",
     "output_type": "stream",
     "text": [
      "Number of common edges removed: 19\n",
      "Number of inactive nodes removed from layer 1: 0\n",
      "Number of inactive nodes removed from layer 2: 0\n",
      "Size of active node set union from layers 1 and 2: 2000\n"
     ]
    }
   ],
   "source": [
    "results = analysis()"
   ]
  },
  {
   "cell_type": "code",
   "execution_count": 29,
   "metadata": {},
   "outputs": [
    {
     "data": {
      "text/plain": [
       "{10: {'model': LogisticRegression(penalty=None, solver='newton-cholesky'),\n",
       "  'intercept': 0.1709594279266587,\n",
       "  'coefs': array([ 6.27185604, 68.83268442]),\n",
       "  'accuracy': 0.5858042710093716,\n",
       "  'auroc': 0.6064201392704747,\n",
       "  'aupr': 0.582120506789887},\n",
       " 19: {'model': LogisticRegression(penalty=None, solver='newton-cholesky'),\n",
       "  'intercept': 0.21149167703996197,\n",
       "  'coefs': array([ 8.82521798, 60.89269537]),\n",
       "  'accuracy': 0.5775080657551083,\n",
       "  'auroc': 0.5961535774399807,\n",
       "  'aupr': 0.5742293082310392},\n",
       " 28: {'model': LogisticRegression(penalty=None, solver='newton-cholesky'),\n",
       "  'intercept': 0.026579050588873606,\n",
       "  'coefs': array([ 9.51639263, 60.1874976 ]),\n",
       "  'accuracy': 0.5739744968505147,\n",
       "  'auroc': 0.5903214044421685,\n",
       "  'aupr': 0.5705814866354348},\n",
       " 37: {'model': LogisticRegression(penalty=None, solver='newton-cholesky'),\n",
       "  'intercept': -0.009293951712169277,\n",
       "  'coefs': array([17.59864612, 66.08826606]),\n",
       "  'accuracy': 0.5581502534951606,\n",
       "  'auroc': 0.5714390917320288,\n",
       "  'aupr': 0.5538964811200113},\n",
       " 46: {'model': LogisticRegression(penalty=None, solver='newton-cholesky'),\n",
       "  'intercept': 0.03673715687008776,\n",
       "  'coefs': array([17.95514993, 69.1949254 ]),\n",
       "  'accuracy': 0.5596865878015056,\n",
       "  'auroc': 0.5705025149729546,\n",
       "  'aupr': 0.5535903705662192},\n",
       " 55: {'model': LogisticRegression(penalty=None, solver='newton-cholesky'),\n",
       "  'intercept': 0.16472668961987477,\n",
       "  'coefs': array([23.93877196, 59.30115035]),\n",
       "  'accuracy': 0.5435550775848824,\n",
       "  'auroc': 0.550838462790523,\n",
       "  'aupr': 0.5329304635408094},\n",
       " 64: {'model': LogisticRegression(penalty=None, solver='newton-cholesky'),\n",
       "  'intercept': 0.21096594588590833,\n",
       "  'coefs': array([27.49407523, 55.88289846]),\n",
       "  'accuracy': 0.5174373943770164,\n",
       "  'auroc': 0.5267032951262888,\n",
       "  'aupr': 0.5132907249197751},\n",
       " 73: {'model': LogisticRegression(penalty=None, solver='newton-cholesky'),\n",
       "  'intercept': 0.4214033680880803,\n",
       "  'coefs': array([22.88528536, 57.60742269]),\n",
       "  'accuracy': 0.5220463972960516,\n",
       "  'auroc': 0.537184457659744,\n",
       "  'aupr': 0.5285422735457559},\n",
       " 82: {'model': LogisticRegression(penalty=None, solver='newton-cholesky'),\n",
       "  'intercept': 0.3330270942308008,\n",
       "  'coefs': array([46.61489775, 79.5875867 ]),\n",
       "  'accuracy': 0.5089875556921186,\n",
       "  'auroc': 0.5092185777553201,\n",
       "  'aupr': 0.5009254187303167},\n",
       " 91: {'model': LogisticRegression(penalty=None, solver='newton-cholesky'),\n",
       "  'intercept': 0.33752258832900806,\n",
       "  'coefs': array([ 76.04821954, 102.08526041]),\n",
       "  'accuracy': 0.4940851129205715,\n",
       "  'auroc': 0.49224921363429175,\n",
       "  'aupr': 0.4862207894718422},\n",
       " 100: {'model': LogisticRegression(penalty=None, solver='newton-cholesky'),\n",
       "  'intercept': 0.27814147073653755,\n",
       "  'coefs': array([50.35707243, 81.96085013]),\n",
       "  'accuracy': 0.4962359809494546,\n",
       "  'auroc': 0.4933297229809879,\n",
       "  'aupr': 0.4874030210494927}}"
      ]
     },
     "execution_count": 29,
     "metadata": {},
     "output_type": "execute_result"
    }
   ],
   "source": [
    "results[0.05]"
   ]
  },
  {
   "attachments": {},
   "cell_type": "markdown",
   "metadata": {},
   "source": [
    "# Analysis"
   ]
  },
  {
   "cell_type": "code",
   "execution_count": 35,
   "metadata": {},
   "outputs": [
    {
     "data": {
      "image/png": "[encoded data removed]",
      "text/plain": [
       "<Figure size 576x432 with 1 Axes>"
      ]
     },
     "metadata": {
      "needs_background": "light"
     },
     "output_type": "display_data"
    }
   ],
   "source": [
    "# Instantiate figure, subset relevant data\n",
    "fig = plt.figure()\n",
    "dimensions = np.linspace(10, 100, num=11, dtype=int)\n",
    "\n",
    "# Plotting data\n",
    "X = sorted(results.keys())\n",
    "for dimension in dimensions[::2]:\n",
    "    Y = [\n",
    "        record[dimension][\"aupr\"]\n",
    "        for record in results.values()\n",
    "    ]\n",
    "    plt.plot(\n",
    "        X, Y,\n",
    "        label=f\"{dimension}\",\n",
    "        # color=\"red\",\n",
    "        marker=\"^\"\n",
    "    )\n",
    "\n",
    "plt.hlines(0.5, 0, 1, linestyles=\":\", color=\"gray\", alpha=0.5)\n",
    "\n",
    "# Axes configuration\n",
    "ax = fig.axes[0]\n",
    "\n",
    "plt.xticks(np.linspace(0, 1, 11))\n",
    "ax.xaxis.set_minor_locator(AutoMinorLocator(2))\n",
    "\n",
    "plt.xlabel(\"$\\\\theta$\")\n",
    "plt.ylabel(\"ROC-AUC\")\n",
    "\n",
    "# Figure-level attributes\n",
    "plt.legend(title=\"Dimension\", loc=\"lower right\", bbox_to_anchor=(0.95, 0.15))\n",
    "plt.title(\"Examining LE dimension effect\")\n",
    "\n",
    "# Save plot\n",
    "plt.savefig(f\"{_FIGS}/line_auroc-pfi_hue-dimension_EMB_test-LE.png\")"
   ]
  },
  {
   "cell_type": "code",
   "execution_count": null,
   "metadata": {},
   "outputs": [],
   "source": []
  }
 ],
 "metadata": {
  "kernelspec": {
   "display_name": "EmbeddedNaive",
   "language": "python",
   "name": "python3"
  },
  "language_info": {
   "codemirror_mode": {
    "name": "ipython",
    "version": 3
   },
   "file_extension": ".py",
   "mimetype": "text/x-python",
   "name": "python",
   "nbconvert_exporter": "python",
   "pygments_lexer": "ipython3",
   "version": "3.10.10"
  },
  "orig_nbformat": 4
 },
 "nbformat": 4,
 "nbformat_minor": 2
}
