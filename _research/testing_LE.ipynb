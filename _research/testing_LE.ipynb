{
 "cells": [
  {
   "attachments": {},
   "cell_type": "markdown",
   "metadata": {},
   "source": [
    "# Set-up"
   ]
  },
  {
   "attachments": {},
   "cell_type": "markdown",
   "metadata": {},
   "source": [
    "## Package management"
   ]
  },
  {
   "cell_type": "code",
   "execution_count": 1,
   "metadata": {},
   "outputs": [
    {
     "name": "stdout",
     "output_type": "stream",
     "text": [
      "Note: to be able to use all crisp methods, you need to install some additional packages:  {'infomap', 'graph_tool', 'leidenalg', 'karateclub', 'wurlitzer'}\n",
      "Note: to be able to use all overlapping methods, you need to install some additional packages:  {'ASLPAw', 'karateclub'}\n",
      "Note: to be able to use all bipartite methods, you need to install some additional packages:  {'infomap', 'wurlitzer', 'leidenalg'}\n"
     ]
    }
   ],
   "source": [
    "# --- Standard library ---\n",
    "import sys\n",
    "import pickle\n",
    "from enum import Enum\n",
    "import random\n",
    "\n",
    "# --- Scientific computing ---\n",
    "import numpy as np\n",
    "from sklearn.metrics import accuracy_score, roc_auc_score\n",
    "\n",
    "# --- Network science ---\n",
    "from cdlib import algorithms\n",
    "import networkx as nx\n",
    "\n",
    "# --- Data handling and visualization ---\n",
    "import matplotlib as mpl\n",
    "import matplotlib.pyplot as plt\n",
    "from matplotlib.ticker import AutoMinorLocator\n",
    "%matplotlib inline\n",
    "\n",
    "# --- Miscelleaneous ---\n",
    "from tqdm.auto import tqdm\n",
    "\n",
    "# --- Project source code ---\n",
    "sys.path.append(\"../\")\n",
    "sys.path.append(\"../src/\")\n",
    "\n",
    "# Data\n",
    "from src.data.preprocessing import duplex_network  # handle overlap, inconsistent node sets\n",
    "from src.data.benchmarks import lfr_multiplex  # benchmark samplers\n",
    "\n",
    "# Sampling\n",
    "from src.sampling.random import partial_information  # PFI observation\n",
    "\n",
    "# Embedding\n",
    "from src.embed.LE import LE\n",
    "\n",
    "# Classifiers\n",
    "from src.classifiers.features import *  # degree feature calculations, label wrapper\n",
    "from src.classifiers.logreg import *  # wrappers for scikit-learn logistic regression model functions\n",
    "\n",
    "# Utils\n",
    "from src.utils.parameters import set_parameters_LE"
   ]
  },
  {
   "attachments": {},
   "cell_type": "markdown",
   "metadata": {},
   "source": [
    "## Global config"
   ]
  },
  {
   "cell_type": "code",
   "execution_count": 2,
   "metadata": {},
   "outputs": [],
   "source": [
    "# * Pathing aliases\n",
    "_ROOT = \"../\"\n",
    "_DATA = _ROOT + \"data/input/\"\n",
    "_DFS = _ROOT + \"results/dataframes/\"\n",
    "_FIGS = _ROOT + \"results/plots/\""
   ]
  },
  {
   "cell_type": "code",
   "execution_count": 3,
   "metadata": {},
   "outputs": [],
   "source": [
    "# * Plotting parameters\n",
    "custom_plot_settings = {\n",
    "    # Figure config\n",
    "    \"figure.figsize\": (8,6),\n",
    "    \"figure.frameon\": True,\n",
    "    \"figure.autolayout\": True,\n",
    "    \"axes.titlesize\": 16,\n",
    "    # Axes config\n",
    "    \"xtick.minor.size\": 2,\n",
    "    # Save-to-disk config\n",
    "    \"savefig.facecolor\": \"white\",\n",
    "    \"savefig.transparent\": False\n",
    "}\n",
    "mpl.rcParams.update(custom_plot_settings)\n",
    "\n",
    "# * Plotting aliases\n",
    "colors_ = [\"black\", \"red\", \"blue\", \"green\"]\n",
    "markers_ = [\"o\", \"s\", \"+\", \"^\"]\n",
    "viridis_ = mpl.colormaps['viridis']"
   ]
  },
  {
   "attachments": {},
   "cell_type": "markdown",
   "metadata": {},
   "source": [
    "## Data set-up"
   ]
  },
  {
   "cell_type": "code",
   "execution_count": 4,
   "metadata": {},
   "outputs": [],
   "source": [
    "# --- Describing attributes ---\n",
    "_ATTR_DICT = {\n",
    "    \"N\": \"number of nodes (in shared node set)\",\n",
    "    \"GAMMA\": \"degree exponent of power-law degree distribution (from sampled distribution, finite sampling effects may yield different exponent if re-fit)\",\n",
    "    \"MU\": \"mixing parameter for LFR model. Smaller MU implies (and is implied by) stronger modular structure.\",\n",
    "    \"KMIN\": \"minimum degree (in either layer)\",\n",
    "    \"KMAX\": \"maximum degree (in either layer)\",\n",
    "    \"AVG_K\": \"average degree (in both layers)\",\n",
    "    \"T1\": \"equivalent to GAMMA for LFR models\",\n",
    "    \"T2\": \"community size power-law distribution exponent\",\n",
    "    \"PROB\": \"relabeling probability. Controls correlation, with 0->1 = correlated->uncorrelated\",\n",
    "    \"SIGN\": \"degree sequence sorting. Couples with PROB to produce anti/directly correlated degree sequences. -1 => anticorrelated, 1 => correlated\"\n",
    "}"
   ]
  },
  {
   "cell_type": "code",
   "execution_count": 5,
   "metadata": {},
   "outputs": [],
   "source": [
    "# --- Data/Experiment Configurations ---\n",
    "class NetworkParams(Enum):\n",
    "    # Shared params\n",
    "    N = 500\n",
    "    PROB = 1.0\n",
    "    GAMMA = 2.1\n",
    "    KMAX = np.sqrt(500)\n",
    "    # Configuration model params\n",
    "    KMIN = 3\n",
    "    SIGN = 1\n",
    "    # LFR params\n",
    "    AVG_K = 5.0\n",
    "    T2 = 1.0\n",
    "    MU = 0.1\n",
    "    MIN_COMMUNITY = 1 # ignored\n",
    "\n",
    "class ExperimentParams(Enum):\n",
    "    THETAS = np.linspace(0.05, 0.95, 6, endpoint=True)\n",
    "\n",
    "LOGREG = {\n",
    "    \"fit_intercept\": True,  # include intercept accounting for class imbalance\n",
    "    \"solver\": \"newton-cholesky\",  # uses Cholesky-decomposition to approximate Hessian for Newton-esque method\n",
    "    \"penalty\": None  # do not include coefficient regularization\n",
    "}"
   ]
  },
  {
   "attachments": {},
   "cell_type": "markdown",
   "metadata": {},
   "source": [
    "## Function set-up"
   ]
  },
  {
   "cell_type": "code",
   "execution_count": 6,
   "metadata": {},
   "outputs": [],
   "source": [
    "def get_network():\n",
    "    duplex, _, _, _ = lfr_multiplex(\n",
    "        int(NetworkParams.N.value),  # number of nodes\n",
    "        NetworkParams.GAMMA.value,  # degree distribution exponent\n",
    "        NetworkParams.T2.value,  # community size distribution exponent\n",
    "        NetworkParams.MU.value,  # community mixing parameter\n",
    "        NetworkParams.AVG_K.value,  # average degree\n",
    "        NetworkParams.KMAX.value,  # maximum degree\n",
    "        NetworkParams.MIN_COMMUNITY.value,  # minimum community size (ignored)\n",
    "        NetworkParams.PROB.value,  # degree sequence correlation,\n",
    "        ROOT=\"../\"\n",
    "    )\n",
    "\n",
    "    duplex = duplex_network(duplex, 1, 2, verbose=True)\n",
    "\n",
    "    return duplex"
   ]
  },
  {
   "cell_type": "code",
   "execution_count": 7,
   "metadata": {},
   "outputs": [],
   "source": [
    "def get_remnants(theta, G, H):\n",
    "    remnant_G, remnant_H, test_edges, train_edges = partial_information(G, H, theta)\n",
    "    record = {\n",
    "        \"remnants\": (remnant_G, remnant_H),\n",
    "        \"observed_edges\": train_edges,\n",
    "        \"unobserved_edges\": test_edges\n",
    "    }\n",
    "\n",
    "    return record"
   ]
  },
  {
   "cell_type": "code",
   "execution_count": 8,
   "metadata": {},
   "outputs": [],
   "source": [
    "def embed_remnants(\n",
    "        remnants_record,\n",
    "        params, hyperparams,\n",
    "        normalize=True,\n",
    "        per_component=False,\n",
    "        nodelist=None):\n",
    "    G, H = remnants_record[\"remnants\"]\n",
    "    E_train = remnants_record[\"observed_edges\"]\n",
    "    E_test = remnants_record[\"unobserved_edges\"]\n",
    "\n",
    "    embeddings_G = LE(G, params, hyperparams, per_component=per_component)\n",
    "    embeddings_H = LE(H, params, hyperparams, per_component=per_component)\n",
    "\n",
    "    distances_G_train, distances_H_train = get_distances((embeddings_G, embeddings_H), E_train)\n",
    "    distances_G_test, distances_H_test = get_distances((embeddings_G, embeddings_H), E_test)\n",
    "\n",
    "    # * >>> Match FR notebook >>>\n",
    "    distances_G_train = [x**2 for x in distances_G_train]\n",
    "    distances_H_train = [x**2 for x in distances_H_train]\n",
    "    distances_G_test = [x**2 for x in distances_G_test]\n",
    "    distances_H_test = [x**2 for x in distances_H_test]\n",
    "    # * <<< Match FR notebook <<<\n",
    "\n",
    "    feature_distances_train = get_configuration_distances_feature(distances_G_train, distances_H_train, zde_penalty=0.1)\n",
    "    feature_distances_test = get_configuration_distances_feature(distances_G_test, distances_H_test, zde_penalty=0.1)\n",
    "\n",
    "    if normalize:\n",
    "        normalizer = max(np.abs(feature_distances_train))\n",
    "        feature_distances_train = list(map(lambda x: x / normalizer, feature_distances_train))\n",
    "\n",
    "        normalizer = max(np.abs(feature_distances_test))\n",
    "        feature_distances_test = list(map(lambda x: x / normalizer, feature_distances_test))\n",
    "\n",
    "    return feature_distances_train, feature_distances_test"
   ]
  },
  {
   "cell_type": "code",
   "execution_count": 9,
   "metadata": {},
   "outputs": [],
   "source": [
    "def get_degree_features(remnants_record):\n",
    "    G, H = remnants_record[\"remnants\"]\n",
    "    E_train = remnants_record[\"observed_edges\"]\n",
    "    E_test = remnants_record[\"unobserved_edges\"]\n",
    "    # Partially compute degree likelihood feature\n",
    "    src_degrees_train, tgt_degrees_train = get_degrees((G, H), E_train)\n",
    "    src_degrees_test, tgt_degrees_test = get_degrees((G, H), E_test)\n",
    "\n",
    "    # Complete degree likelihood feature calculations\n",
    "    feature_degrees_train = get_configuration_probabilities_feature(src_degrees_train, tgt_degrees_train)\n",
    "    feature_degrees_test = get_configuration_probabilities_feature(src_degrees_test, tgt_degrees_test)\n",
    "\n",
    "    return feature_degrees_train, feature_degrees_test"
   ]
  },
  {
   "cell_type": "code",
   "execution_count": 10,
   "metadata": {},
   "outputs": [],
   "source": [
    "def train_test_model(remnants_record, distances, degrees):\n",
    "    E_train = remnants_record[\"observed_edges\"]\n",
    "    E_test = remnants_record[\"unobserved_edges\"]\n",
    "\n",
    "    # Retrieve data labels\n",
    "    Y_train, Y_test = get_labels(E_train, E_test)\n",
    "\n",
    "    # Unpack training features\n",
    "    dist_train, dist_test = distances\n",
    "    degs_train, degs_test = degrees\n",
    "    X_train, X_test = format_feature_matrix(\n",
    "        {\"emb\", \"imb\", \"deg\"},\n",
    "        len(E_train), len(E_test),\n",
    "        dist_train, dist_test,\n",
    "        degs_train, degs_test\n",
    "    )\n",
    "\n",
    "    # Train model\n",
    "    model = train_fit_logreg(X_train, Y_train, LOGREG)\n",
    "\n",
    "    # Evaluate model\n",
    "    accuracy = get_model_accuracy(model, X_test, Y_test)\n",
    "    auroc = get_model_auroc(model, X_test, Y_test)\n",
    "    aupr = get_model_aupr(model, X_test, Y_test)\n",
    "\n",
    "    # Pack output\n",
    "    output = {\n",
    "        \"model\": model,\n",
    "        \"intercept\": model.intercept_[0],\n",
    "        \"coefs\": model.coef_[0],\n",
    "        \"accuracy\": accuracy,\n",
    "        \"auroc\": auroc,\n",
    "        \"aupr\": aupr,\n",
    "    }\n",
    "\n",
    "    return output"
   ]
  },
  {
   "cell_type": "code",
   "execution_count": 14,
   "metadata": {},
   "outputs": [],
   "source": [
    "def analysis():\n",
    "    df = dict()\n",
    "\n",
    "    G, H = get_network()\n",
    "    params, hyperparams, _ = set_parameters_LE()\n",
    "    hyperparams = hyperparams[\"embedding\"]\n",
    "    nodelist = sorted(G.nodes())\n",
    "\n",
    "    for theta in tqdm(ExperimentParams.THETAS.value, desc=\"Sweeping theta...\"):\n",
    "        remnants_record = get_remnants(theta, G, H)\n",
    "        degrees = get_degree_features(remnants_record)\n",
    "\n",
    "        df_ = dict()\n",
    "        for dimensions in np.linspace(10, 100, num=11, dtype=int):\n",
    "            params[\"k\"] = dimensions\n",
    "            distances = embed_remnants(remnants_record, params, hyperparams, nodelist=nodelist)\n",
    "\n",
    "            df_[dimensions] = train_test_model(remnants_record, distances, degrees)\n",
    "        df[theta] = df_\n",
    "\n",
    "    return df"
   ]
  },
  {
   "attachments": {},
   "cell_type": "markdown",
   "metadata": {},
   "source": [
    "# Experiment"
   ]
  },
  {
   "cell_type": "code",
   "execution_count": 15,
   "metadata": {},
   "outputs": [
    {
     "name": "stdout",
     "output_type": "stream",
     "text": [
      "Number of common edges removed: 12\n",
      "Number of inactive nodes removed from layer 1: 0\n",
      "Number of inactive nodes removed from layer 2: 0\n",
      "Size of active node set union from layers 1 and 2: 1000\n"
     ]
    },
    {
     "name": "stderr",
     "output_type": "stream",
     "text": [
      "Sweeping theta...:   0%|          | 0/6 [00:00<?, ?it/s]\n"
     ]
    },
    {
     "ename": "TypeError",
     "evalue": "embed_remnants() got an unexpected keyword argument 'nodelist'",
     "output_type": "error",
     "traceback": [
      "\u001b[0;31m---------------------------------------------------------------------------\u001b[0m",
      "\u001b[0;31mTypeError\u001b[0m                                 Traceback (most recent call last)",
      "\u001b[1;32m/home/kaiserd/Science/projects/MultiplexReconstruction/Embedded/proj_naive-embedded-reconstruction/_research/testing_LE.ipynb Cell 18\u001b[0m in \u001b[0;36m<cell line: 1>\u001b[0;34m()\u001b[0m\n\u001b[0;32m----> <a href='vscode-notebook-cell:/home/kaiserd/Science/projects/MultiplexReconstruction/Embedded/proj_naive-embedded-reconstruction/_research/testing_LE.ipynb#Y151sZmlsZQ%3D%3D?line=0'>1</a>\u001b[0m results \u001b[39m=\u001b[39m analysis()\n",
      "\u001b[1;32m/home/kaiserd/Science/projects/MultiplexReconstruction/Embedded/proj_naive-embedded-reconstruction/_research/testing_LE.ipynb Cell 18\u001b[0m in \u001b[0;36manalysis\u001b[0;34m()\u001b[0m\n\u001b[1;32m     <a href='vscode-notebook-cell:/home/kaiserd/Science/projects/MultiplexReconstruction/Embedded/proj_naive-embedded-reconstruction/_research/testing_LE.ipynb#Y151sZmlsZQ%3D%3D?line=13'>14</a>\u001b[0m \u001b[39mfor\u001b[39;00m dimensions \u001b[39min\u001b[39;00m np\u001b[39m.\u001b[39mlinspace(\u001b[39m10\u001b[39m, \u001b[39m100\u001b[39m, num\u001b[39m=\u001b[39m\u001b[39m11\u001b[39m, dtype\u001b[39m=\u001b[39m\u001b[39mint\u001b[39m):\n\u001b[1;32m     <a href='vscode-notebook-cell:/home/kaiserd/Science/projects/MultiplexReconstruction/Embedded/proj_naive-embedded-reconstruction/_research/testing_LE.ipynb#Y151sZmlsZQ%3D%3D?line=14'>15</a>\u001b[0m     params[\u001b[39m\"\u001b[39m\u001b[39mk\u001b[39m\u001b[39m\"\u001b[39m] \u001b[39m=\u001b[39m dimensions\n\u001b[0;32m---> <a href='vscode-notebook-cell:/home/kaiserd/Science/projects/MultiplexReconstruction/Embedded/proj_naive-embedded-reconstruction/_research/testing_LE.ipynb#Y151sZmlsZQ%3D%3D?line=15'>16</a>\u001b[0m     distances \u001b[39m=\u001b[39m embed_remnants(remnants_record, params, hyperparams, nodelist\u001b[39m=\u001b[39;49mnodelist)\n\u001b[1;32m     <a href='vscode-notebook-cell:/home/kaiserd/Science/projects/MultiplexReconstruction/Embedded/proj_naive-embedded-reconstruction/_research/testing_LE.ipynb#Y151sZmlsZQ%3D%3D?line=17'>18</a>\u001b[0m     df_[dimensions] \u001b[39m=\u001b[39m train_test_model(remnants_record, distances, degrees)\n\u001b[1;32m     <a href='vscode-notebook-cell:/home/kaiserd/Science/projects/MultiplexReconstruction/Embedded/proj_naive-embedded-reconstruction/_research/testing_LE.ipynb#Y151sZmlsZQ%3D%3D?line=18'>19</a>\u001b[0m df[theta] \u001b[39m=\u001b[39m df_\n",
      "\u001b[0;31mTypeError\u001b[0m: embed_remnants() got an unexpected keyword argument 'nodelist'"
     ]
    }
   ],
   "source": [
    "results = analysis()"
   ]
  },
  {
   "attachments": {},
   "cell_type": "markdown",
   "metadata": {},
   "source": [
    "# Analysis"
   ]
  },
  {
   "cell_type": "code",
   "execution_count": 13,
   "metadata": {},
   "outputs": [
    {
     "data": {
      "image/png": "[encoded data removed]",
      "text/plain": [
       "<Figure size 800x600 with 1 Axes>"
      ]
     },
     "metadata": {},
     "output_type": "display_data"
    }
   ],
   "source": [
    "# Instantiate figure, subset relevant data\n",
    "fig = plt.figure()\n",
    "dimensions = np.linspace(10, 100, num=11, dtype=int)\n",
    "\n",
    "# Plotting data\n",
    "X = sorted(results.keys())\n",
    "for dimension in dimensions[::2]:\n",
    "    Y = [\n",
    "        record[dimension][\"aupr\"]\n",
    "        for record in results.values()\n",
    "    ]\n",
    "    plt.plot(\n",
    "        X, Y,\n",
    "        label=f\"{dimension}\",\n",
    "        # color=\"red\",\n",
    "        marker=\"^\"\n",
    "    )\n",
    "\n",
    "plt.hlines(0.5, 0, 1, linestyles=\":\", color=\"gray\", alpha=0.5)\n",
    "\n",
    "# Axes configuration\n",
    "ax = fig.axes[0]\n",
    "\n",
    "plt.xticks(np.linspace(0, 1, 11))\n",
    "ax.xaxis.set_minor_locator(AutoMinorLocator(2))\n",
    "\n",
    "plt.xlabel(\"$\\\\theta$\")\n",
    "plt.ylabel(\"ROC-AUC\")\n",
    "\n",
    "# Figure-level attributes\n",
    "plt.legend(title=\"Dimension\", loc=\"lower right\", bbox_to_anchor=(0.95, 0.15))\n",
    "plt.title(\"Examining LE dimension effect\")\n",
    "plt.text(0.2, 0.675, f\"T2 = {NetworkParams.T2.value}, <k> = {NetworkParams.AVG_K.value}\")\n",
    "\n",
    "# Save plot\n",
    "plt.savefig(f\"{_FIGS}/line_auroc-pfi_hue-dimension_T2={NetworkParams.T2.value}_avgk={NetworkParams.AVG_K.value}_.png\")"
   ]
  },
  {
   "cell_type": "code",
   "execution_count": null,
   "metadata": {},
   "outputs": [],
   "source": []
  }
 ],
 "metadata": {
  "kernelspec": {
   "display_name": "EmbeddedNaive",
   "language": "python",
   "name": "python3"
  },
  "language_info": {
   "codemirror_mode": {
    "name": "ipython",
    "version": 3
   },
   "file_extension": ".py",
   "mimetype": "text/x-python",
   "name": "python",
   "nbconvert_exporter": "python",
   "pygments_lexer": "ipython3",
   "version": "3.10.10"
  },
  "orig_nbformat": 4
 },
 "nbformat": 4,
 "nbformat_minor": 2
}
