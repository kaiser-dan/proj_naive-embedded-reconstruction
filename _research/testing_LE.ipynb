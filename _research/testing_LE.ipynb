{
 "cells": [
  {
   "attachments": {},
   "cell_type": "markdown",
   "metadata": {},
   "source": [
    "# Set-up"
   ]
  },
  {
   "attachments": {},
   "cell_type": "markdown",
   "metadata": {},
   "source": [
    "## Package management"
   ]
  },
  {
   "cell_type": "code",
   "execution_count": 70,
   "metadata": {},
   "outputs": [],
   "source": [
    "# --- Standard library ---\n",
    "import sys\n",
    "import pickle\n",
    "from enum import Enum\n",
    "import random\n",
    "\n",
    "# --- Scientific computing ---\n",
    "import numpy as np\n",
    "from sklearn.metrics import accuracy_score, roc_auc_score\n",
    "\n",
    "# --- Network science ---\n",
    "from cdlib import algorithms\n",
    "import networkx as nx\n",
    "\n",
    "# --- Data handling and visualization ---\n",
    "\n",
    "import matplotlib as mpl\n",
    "import matplotlib.pyplot as plt\n",
    "from matplotlib.ticker import AutoMinorLocator\n",
    "%matplotlib inline\n",
    "\n",
    "# --- Project source code ---\n",
    "sys.path.append(\"../\")\n",
    "sys.path.append(\"../src/\")\n",
    "\n",
    "# Data\n",
    "from src.data.preprocessing import duplex_network  # handle overlap, inconsistent node sets\n",
    "from src.data.benchmarks import lfr_multiplex  # benchmark samplers\n",
    "\n",
    "# Sampling\n",
    "from src.sampling.random import partial_information  # PFI observation\n",
    "\n",
    "# Embedding\n",
    "from src.embed.LE import LE\n",
    "\n",
    "# Classifiers\n",
    "from src.classifiers.features import *  # degree feature calculations, label wrapper\n",
    "from src.classifiers.logreg import *  # wrappers for scikit-learn logistic regression model functions\n",
    "\n",
    "# Utils\n",
    "from src.utils.parameters import set_parameters_LE"
   ]
  },
  {
   "attachments": {},
   "cell_type": "markdown",
   "metadata": {},
   "source": [
    "## Global config"
   ]
  },
  {
   "cell_type": "code",
   "execution_count": 71,
   "metadata": {},
   "outputs": [],
   "source": [
    "# * Pathing aliases\n",
    "_ROOT = \"../../\"\n",
    "_DATA = _ROOT + \"data/input/\"\n",
    "_DFS = _ROOT + \"results/dataframes/\"\n",
    "_FIGS = _ROOT + \"results/plots/\""
   ]
  },
  {
   "cell_type": "code",
   "execution_count": 72,
   "metadata": {},
   "outputs": [],
   "source": [
    "# * Plotting parameters\n",
    "custom_plot_settings = {\n",
    "    # Figure config\n",
    "    \"figure.figsize\": (8,6),\n",
    "    \"figure.frameon\": True,\n",
    "    \"figure.autolayout\": True,\n",
    "    \"axes.titlesize\": 16,\n",
    "    # Axes config\n",
    "    \"xtick.minor.size\": 2,\n",
    "    # Save-to-disk config\n",
    "    \"savefig.facecolor\": \"white\",\n",
    "    \"savefig.transparent\": False\n",
    "}\n",
    "mpl.rcParams.update(custom_plot_settings)\n",
    "\n",
    "# * Plotting aliases\n",
    "colors_ = [\"black\", \"red\", \"blue\", \"green\"]\n",
    "markers_ = [\"o\", \"s\", \"+\", \"^\"]\n",
    "viridis_ = mpl.colormaps['viridis']"
   ]
  },
  {
   "attachments": {},
   "cell_type": "markdown",
   "metadata": {},
   "source": [
    "---"
   ]
  },
  {
   "attachments": {},
   "cell_type": "markdown",
   "metadata": {},
   "source": [
    "# Experiment"
   ]
  },
  {
   "attachments": {},
   "cell_type": "markdown",
   "metadata": {},
   "source": [
    "## Function set-up"
   ]
  },
  {
   "attachments": {},
   "cell_type": "markdown",
   "metadata": {},
   "source": [
    "## Data set-up"
   ]
  },
  {
   "attachments": {},
   "cell_type": "markdown",
   "metadata": {},
   "source": [
    "### Specify parameters"
   ]
  },
  {
   "cell_type": "code",
   "execution_count": 79,
   "metadata": {},
   "outputs": [],
   "source": [
    "_DATA_DICT = {\n",
    "    \"N\": \"number of nodes (in shared node set)\",\n",
    "    \"GAMMA\": \"degree exponent of power-law degree distribution (from sampled distribution, finite sampling effects may yield different exponent if re-fit)\",\n",
    "    \"MU\": \"mixing parameter for LFR model. Smaller MU implies (and is implied by) stronger modular structure.\",\n",
    "    \"KMIN\": \"minimum degree (in either layer)\",\n",
    "    \"KMAX\": \"maximum degree (in either layer)\",\n",
    "    \"AVG_K\": \"average degree (in both layers)\",\n",
    "    \"T1\": \"equivalent to GAMMA for LFR models\",\n",
    "    \"T2\": \"community size power-law distribution exponent\",\n",
    "    \"PROB\": \"relabeling probability. Controls correlation, with 0->1 = correlated->uncorrelated\",\n",
    "    \"SIGN\": \"degree sequence sorting. Couples with PROB to produce anti/directly correlated degree sequences. -1 => anticorrelated, 1 => correlated\"\n",
    "}"
   ]
  },
  {
   "cell_type": "code",
   "execution_count": 80,
   "metadata": {},
   "outputs": [],
   "source": [
    "class NetworkParams(Enum):\n",
    "    # Shared params\n",
    "    N = 1_000\n",
    "    PROB = 1.0\n",
    "    GAMMA = 2.1\n",
    "    KMAX = np.sqrt(1_000)\n",
    "    # Configuration model params\n",
    "    KMIN = 3\n",
    "    SIGN = 1\n",
    "    # LFR params\n",
    "    AVG_K = 10.0\n",
    "    T2 = 4.0\n",
    "    MU = 0.1\n",
    "    MIN_COMMUNITY = 1 # ignored"
   ]
  },
  {
   "cell_type": "code",
   "execution_count": 81,
   "metadata": {},
   "outputs": [],
   "source": [
    "class ExperimentParams(Enum):\n",
    "    THETAS = np.linspace(0.05, 0.95, 10, endpoint=True)"
   ]
  },
  {
   "cell_type": "code",
   "execution_count": 82,
   "metadata": {},
   "outputs": [],
   "source": [
    "LOGREG = {\"fit_intercept\": True, \"solver\": \"newton-cholesky\", \"penalty\": None}"
   ]
  },
  {
   "attachments": {},
   "cell_type": "markdown",
   "metadata": {},
   "source": [
    "### Sample duplex"
   ]
  },
  {
   "cell_type": "code",
   "execution_count": 83,
   "metadata": {},
   "outputs": [],
   "source": [
    "duplex, _, _, _ = lfr_multiplex(\n",
    "    int(NetworkParams.N.value),  # number of nodes\n",
    "    NetworkParams.GAMMA.value,  # degree distribution exponent\n",
    "    NetworkParams.T2.value,  # community size distribution exponent\n",
    "    NetworkParams.MU.value,  # community mixing parameter\n",
    "    NetworkParams.AVG_K.value,  # average degree\n",
    "    NetworkParams.KMAX.value,  # maximum degree\n",
    "    NetworkParams.MIN_COMMUNITY.value,  # minimum community size (ignored)\n",
    "    NetworkParams.PROB.value,  # degree sequence correlation,\n",
    "    ROOT=\"../\"\n",
    ")"
   ]
  },
  {
   "cell_type": "code",
   "execution_count": 84,
   "metadata": {},
   "outputs": [
    {
     "name": "stdout",
     "output_type": "stream",
     "text": [
      "Number of common edges removed: 47\n",
      "Number of inactive nodes removed from layer 1: 0\n",
      "Number of inactive nodes removed from layer 2: 0\n",
      "Size of active node set union from layers 1 and 2: 2000\n"
     ]
    }
   ],
   "source": [
    "G, H = duplex_network(duplex, 1, 2, verbose=True)"
   ]
  },
  {
   "attachments": {},
   "cell_type": "markdown",
   "metadata": {},
   "source": [
    "### Compute remnants"
   ]
  },
  {
   "cell_type": "code",
   "execution_count": 85,
   "metadata": {},
   "outputs": [],
   "source": [
    "remnants = dict()  # theta -> [remnants infomation] mapping\n",
    "for theta in ExperimentParams.THETAS.value:\n",
    "    remnant_G, remnant_H, test_edges, train_edges = partial_information(G, H, theta)\n",
    "    record = {\n",
    "        \"remnants\": (remnant_G, remnant_H),\n",
    "        \"observed_edges\": train_edges,\n",
    "        \"unobserved_edges\": test_edges\n",
    "    }\n",
    "    remnants[theta] = record"
   ]
  },
  {
   "attachments": {},
   "cell_type": "markdown",
   "metadata": {},
   "source": [
    "## Feature calculation"
   ]
  },
  {
   "cell_type": "code",
   "execution_count": 86,
   "metadata": {},
   "outputs": [],
   "source": [
    "features = dict()  # theta -> [train features, test features]\n",
    "labels = dict()  # theta -> [train labels, test labels]"
   ]
  },
  {
   "cell_type": "code",
   "execution_count": 87,
   "metadata": {},
   "outputs": [],
   "source": [
    "for theta, record in remnants.items():\n",
    "    # --- Degree feature ---\n",
    "    # Partially compute degree likelihood feature\n",
    "    src_degrees_train, tgt_degrees_train = get_degrees(record[\"remnants\"], list(record[\"observed_edges\"].keys()))\n",
    "    src_degrees_test, tgt_degrees_test = get_degrees(record[\"remnants\"], list(record[\"unobserved_edges\"].keys()))\n",
    "\n",
    "    # Complete degree likelihood feature calculations\n",
    "    feature_degrees_train = get_configuration_probabilities_feature(src_degrees_train, tgt_degrees_train)\n",
    "    feature_degrees_test = get_configuration_probabilities_feature(src_degrees_test, tgt_degrees_test)\n",
    "\n",
    "    # --- Embedding feature ---\n",
    "    # & Embed remnants\n",
    "    params, hyperparams, _ = set_parameters_LE(dimensions=2000)\n",
    "    embeddings_G = LE(G, params, hyperparams[\"embedding\"])\n",
    "    embeddings_H = LE(H, params, hyperparams[\"embedding\"])\n",
    "\n",
    "    distances_G_train, distances_H_train = \\\n",
    "        get_distances((embeddings_G, embeddings_H), list(record[\"observed_edges\"].keys()))\n",
    "    distances_G_test, distances_H_test = \\\n",
    "        get_distances((embeddings_G, embeddings_H), list(record[\"unobserved_edges\"].keys()))\n",
    "\n",
    "    feature_distances_train = get_configuration_distances_feature(distances_G_train, distances_H_train, zde_penalty=0.1)\n",
    "    feature_distances_test = get_configuration_distances_feature(distances_G_test, distances_H_test, zde_penalty=0.1)\n",
    "\n",
    "    normalizer = max(\n",
    "        np.abs(min(feature_distances_train)),\n",
    "        np.abs(max(feature_distances_train)),\n",
    "    )\n",
    "    feature_distances_train = [x / normalizer for x in feature_distances_train]\n",
    "\n",
    "    normalizer = max(\n",
    "        np.abs(min(feature_distances_test)),\n",
    "        np.abs(max(feature_distances_test)),\n",
    "    )\n",
    "    feature_distances_test = [x / normalizer for x in feature_distances_test]\n",
    "\n",
    "    # --- Cleaning up features ---\n",
    "    feature_matrix_train, feature_matrix_test = \\\n",
    "        format_feature_matrix(\n",
    "            {\"emb\", \"imb\", \"deg\"},\n",
    "            len(record[\"observed_edges\"]), len(record[\"unobserved_edges\"]),\n",
    "            feature_distances_train, feature_distances_test,\n",
    "            feature_degrees_train, feature_degrees_test\n",
    "        )\n",
    "\n",
    "    # --- Labels ---\n",
    "    labels_train, labels_test = get_labels(record[\"observed_edges\"], record[\"unobserved_edges\"])\n",
    "\n",
    "    # Save to feature and label mappings\n",
    "    features[theta] = (feature_matrix_train, feature_matrix_test)\n",
    "    labels[theta] = (labels_train, labels_test)"
   ]
  },
  {
   "attachments": {},
   "cell_type": "markdown",
   "metadata": {},
   "source": [
    "## Model training and evaluation"
   ]
  },
  {
   "cell_type": "code",
   "execution_count": 88,
   "metadata": {},
   "outputs": [],
   "source": [
    "models = dict()  # theta -> [trained logistic regression]"
   ]
  },
  {
   "cell_type": "code",
   "execution_count": 89,
   "metadata": {},
   "outputs": [],
   "source": [
    "for theta in ExperimentParams.THETAS.value:\n",
    "    # Retrieve training labels\n",
    "    Y = labels[theta][0]\n",
    "\n",
    "    # Retrieve training features\n",
    "    X = features[theta][0]\n",
    "\n",
    "    # Format training features for scikit-learn models\n",
    "    # X = np.array(X).reshape(-1,1)\n",
    "\n",
    "    # Train model\n",
    "    model = train_fit_logreg(X, Y, LOGREG)\n",
    "\n",
    "    # Save to models mapping\n",
    "    models[theta] = model"
   ]
  },
  {
   "cell_type": "code",
   "execution_count": 90,
   "metadata": {},
   "outputs": [],
   "source": [
    "model_performances = dict()  # theta -> [performances]"
   ]
  },
  {
   "cell_type": "code",
   "execution_count": 91,
   "metadata": {},
   "outputs": [],
   "source": [
    "for theta in ExperimentParams.THETAS.value:\n",
    "    # Retrieve testing labels\n",
    "    Y = labels[theta][1]\n",
    "\n",
    "    # Retrieve testing features\n",
    "    X = features[theta][1]\n",
    "\n",
    "    # Format testing features for scikit-learn models\n",
    "    # X = np.array(X).reshape(-1,1)\n",
    "\n",
    "    # Apply model to test data\n",
    "    model = models[theta]\n",
    "    accuracy = get_model_accuracy(model, X, Y)\n",
    "    auroc = get_model_auroc(model, X, Y)\n",
    "    aupr = get_model_aupr(model, X, Y)\n",
    "    performances = {\n",
    "        \"accuracy\": accuracy,\n",
    "        \"auroc\": auroc,\n",
    "        \"aupr\": aupr,\n",
    "    }\n",
    "\n",
    "    # Save to models mapping\n",
    "    model_performances[theta] = performances"
   ]
  },
  {
   "attachments": {},
   "cell_type": "markdown",
   "metadata": {},
   "source": [
    "# Analysis"
   ]
  },
  {
   "cell_type": "code",
   "execution_count": 92,
   "metadata": {},
   "outputs": [
    {
     "data": {
      "text/plain": [
       "Text(0.5, 1.0, 'Examining size effect with LE')"
      ]
     },
     "execution_count": 92,
     "metadata": {},
     "output_type": "execute_result"
    },
    {
     "data": {
      "image/png": "[encoded data removed]",
      "text/plain": [
       "<Figure size 800x600 with 1 Axes>"
      ]
     },
     "metadata": {},
     "output_type": "display_data"
    }
   ],
   "source": [
    "# Instantiate figure, subset relevant data\n",
    "fig = plt.figure()\n",
    "\n",
    "# Plotting data\n",
    "X = sorted(model_performances.keys())\n",
    "Y = [perfs[\"auroc\"] for perfs in model_performances.values()]\n",
    "plt.plot(\n",
    "    X, Y,\n",
    "    label=\"LogReg-classifier\",\n",
    "    color=\"red\",\n",
    "    marker=\"^\"\n",
    ")\n",
    "\n",
    "plt.hlines(0.5, 0, 1, linestyles=\":\", color=\"gray\", alpha=0.5)\n",
    "\n",
    "# Axes configuration\n",
    "ax = fig.axes[0]\n",
    "\n",
    "plt.xticks(np.linspace(0, 1, 11))\n",
    "ax.xaxis.set_minor_locator(AutoMinorLocator(2))\n",
    "\n",
    "plt.xlabel(\"$\\\\theta$\")\n",
    "plt.ylabel(\"ROC-AUC\")\n",
    "\n",
    "# Figure-level attributes\n",
    "plt.legend(title=\"Reconstruction\", loc=\"lower right\", bbox_to_anchor=(0.95, 0.25))\n",
    "plt.title(\"Examining size effect with LE\")\n",
    "\n",
    "# Save plot\n",
    "# plt.savefig(f\"{_FIGS}/line_auroc-pfi_hue-method_walklength-20_EMBex35.png\")"
   ]
  }
 ],
 "metadata": {
  "kernelspec": {
   "display_name": "EmbeddedNaive",
   "language": "python",
   "name": "python3"
  },
  "language_info": {
   "codemirror_mode": {
    "name": "ipython",
    "version": 3
   },
   "file_extension": ".py",
   "mimetype": "text/x-python",
   "name": "python",
   "nbconvert_exporter": "python",
   "pygments_lexer": "ipython3",
   "version": "3.10.9"
  },
  "orig_nbformat": 4
 },
 "nbformat": 4,
 "nbformat_minor": 2
}
