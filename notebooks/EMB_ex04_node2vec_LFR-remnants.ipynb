{
 "cells": [
  {
   "cell_type": "markdown",
   "metadata": {},
   "source": [
    "# Metadata\n",
    "---"
   ]
  },
  {
   "cell_type": "markdown",
   "metadata": {},
   "source": [
    "- Created: 2022-09-03\n",
    "- Last modified: 2022-09-07\n",
    "- Author: Daniel Kaiser\n",
    "- Project Identifiers: EMB_ex04\n",
    "- Last read and understood by: ???\n",
    "- Changelog:\n",
    "    - (2022-09-03) Initialized notebook\n",
    "    - (2022-09-03) Added LFR configuration, new probability models\n",
    "    - (2022-09-04) Updated parameters\n",
    "    - (2022-09-06) Updated parameters, added logistic probability model, fixed precision error bug\n",
    "    - (2022-09-06) Temporarily re-added PCA (removed > v1.3)\n",
    "    - (2022-09-07) Fixed score bug\n",
    "    - (2022-09-07) Added \"soft\" predictions"
   ]
  },
  {
   "cell_type": "markdown",
   "metadata": {},
   "source": [
    "# Preface\n",
    "---"
   ]
  },
  {
   "cell_type": "markdown",
   "metadata": {},
   "source": [
    "## Experiment protocol"
   ]
  },
  {
   "cell_type": "markdown",
   "metadata": {},
   "source": [
    "<!-- Yes, I know the &nbsp is annoying, tabs are automatically removed in basic markdown ok -->\n",
    "<u>**Experiment ID and project**</u>\n",
    "\n",
    "EMB_ex04\n",
    "\n",
    "<u>**Date designed and version**</u>\n",
    "\n",
    "- 2022-09-03v1.0\n",
    "- 2022-09-04v1.1\n",
    "- 2022-09-06v1.2\n",
    "- 2022-09-06v1.3\n",
    "- 2022-09-07v2.0\n",
    "- 2022-09-07v3.0\n",
    "\n",
    "<u>**Date conducted**</u>\n",
    "\n",
    "- 2022-09-03v1.0\n",
    "- 2022-09-04v1.1\n",
    "- 2022-09-06v1.2\n",
    "- 2022-09-06v1.3\n",
    "- 2022-09-07v2.0\n",
    "- 2022-09-07v3.0\n",
    "\n",
    "<u>**Researcher(s)**</u>\n",
    "\n",
    "Daniel Kaiser\n",
    "\n",
    "<u>**Description**</u>\n",
    "\n",
    "**Purpose**\n",
    "\n",
    "This experiment is designed to explore the accuracy of multiplex reconstruction utilizing Euclidean distance as a proxy for the likelihood of edge-layer placement. Embedding the \"remnant\" of each layer of a XOR-aggregated duplex (scale-free layers, configurable edge correlation), an edge to be classified from the aggregate is predicted to originate from the layer whose remnant embedding yields a smaller distance of the edge endpoints.\n",
    "\n",
    "**Hypothesis (if applicable)**\n",
    "\n",
    "The expected outcome of this experiment is an AUROC curve of classification that is an increasing function of PFI, decreasing function of degree homogeneity and edge correlation. Note this matches the high-level qualitative results of the naive Bayes approach used in earlier work. (Project identifier \"MEC\")\n",
    "\n",
    "<u>**Data & Code**</u>\n",
    "\n",
    "**Prerequisite data (if applicable)**\n",
    "\n",
    "This experiment measures AUROC on synthetic, configurable scale-free duplexes. The layers of the duplex are generated according to `Utils.py:lfr_multiplex(N, tau1, tau2, mu, average_degree, max_degree, min_community, prob_relabel)`. The configurable parameters are:\n",
    "\n",
    "- N; number of nodes (forced exact node overlap in layers)\n",
    "- $\\tau_1$; power-law exponent of degree sequence in each layer\n",
    "- $\\tau_2$; power-law exponent of community size sequence in each layer\n",
    "- $\\mu$; mixing parameter\n",
    "- $\\langle k \\rangle$; average degree\n",
    "- max($k$); maximum degree - forced to be $\\sqrt{N}$\n",
    "- min_community; minimum community size\n",
    "- prob_relabel; probability to relabel node assignment - breaks community correlations\n",
    "\n",
    "Additional paramaters include:\n",
    "\n",
    "- largest_component; flag if remnants should be restricted to largest component (forced with Mercator, optional here to maintain consistency)\n",
    "- pfi; relative size of multiplex topology observed _a priori_\n",
    "- metric; probability model selected (see Procedure#5)\n",
    "\n",
    "\n",
    "**Resultant data**\n",
    "\n",
    "The resultant data is in the form of a dataframe with columns:\n",
    "- N\n",
    "- $\\tau_1$\n",
    "- $\\tau_2$\n",
    "- $\\langle k \\rangle$\n",
    "- $\\mu$\n",
    "- prob\n",
    "- min_community\n",
    "- largest_component\n",
    "- pfi\n",
    "- metric\n",
    "- Accuracy\n",
    "- AUROC\n",
    "- dimensions\n",
    "- walk_length\n",
    "- num_walks\n",
    "- workers\n",
    "- window\n",
    "- min_count\n",
    "- batch_words\n",
    "\n",
    "Optionally, the node embeddings for each layer of the duplexes associated to each of these dataframe records can be saved as well. They should be saved as pickled numpy arrays of size (N, dimensions).\n",
    "\n",
    "**Code**\n",
    "\n",
    "This experiment relies on the script `Utils.py` or functions in this document. All code from `Utils.py` is original or only slightly modified MEC code from @Filippo Radicchi.\n",
    "\n",
    "@Elior Cohen and node2vec's [GitHub repo](https://github.com/eliorc/node2vec) inspired the function `embed_system`.\n",
    "\n",
    "Some package version updates in Gensim forced some adjustments - thanks to @555wen on [this StackExchange post](https://stackoverflow.com/questions/67413006/typeerror-init-got-an-unexpected-keyword-argument-size) from @yinky for pointing out a parameter name change. In the site-packages for node2vec, `node2vec.py:175` was altered from `if 'size' not in skip_gram_params:` to `if 'vector_size' not in skip_gram_params:`and `node2vec.py:176` was altered from `skip_gram_params['size'] = self.dimensions` to `skip_gram_params['vector_size'] = self.dimensions`.\n",
    "\n",
    "<u>**Procedure**</u>\n",
    "\n",
    "The following procedure was conducted to run this experiment and is sufficient to replicate the workflow along with code described in the \"Code\" section above.\n",
    "1. Generate duplex, $\\mathcal{M} = (V, (\\alpha, \\beta))$\n",
    "2. Aggregate duplex into a monoplex, $G$, and observe some partial information for each layer $\\mathcal{O}_{\\alpha}, \\mathcal{O}_{\\beta}$\n",
    "3. Create remnants by $\\mathcal{R}_{\\alpha} = G \\setminus \\mathcal{O}_{\\beta}, \\mathcal{R}_{\\beta} = G \\setminus \\mathcal{O}_{\\alpha}$\n",
    "4. Embed $\\mathcal{R}_{\\alpha}, \\mathcal{R}_{\\beta}$ separately using node2vec. Call the resultant embedded points $\\mathcal{D}_{\\alpha}, \\mathcal{D}_{\\beta}$.\n",
    "5. For $(i, j) \\in G \\setminus (\\mathcal{O}_{\\alpha} \\cup \\mathcal{O}_{\\beta})$, classify $(i,j)$ as having originated from layer $\\alpha$ ($\\beta$) with (one minus) the following probability:\n",
    "    $$\n",
    "        P((i,j) \\in \\alpha) = \\frac{\n",
    "            \\frac{1}{d_{\\alpha}^{\\varepsilon}(i,j)}\n",
    "        }{\n",
    "            \\frac{1}{d_{\\alpha}^{\\varepsilon}(i,j)} + \\frac{1}{d_{\\beta}^{\\varepsilon}(i,j)}\n",
    "        }\n",
    "    $$\n",
    "    or\n",
    "    $$\n",
    "        P((i,j) \\in \\alpha) = \\frac{\n",
    "            e^{-d_{\\alpha}^{\\varepsilon}(i,j)}\n",
    "        }{\n",
    "            e^{-d_{\\alpha}^{\\varepsilon}(i,j)} + e^{-d_{\\beta}^{\\varepsilon}(i,j)}\n",
    "        }\n",
    "    $$\n",
    "\n",
    "6. Calling the true originating layer of $(i, j) \\in G \\setminus (\\mathcal{O}_{\\alpha} \\cup \\mathcal{O}_{\\beta})$ as $l_{ij}$, measure $\\| l - \\hat{l} \\|$\n",
    "    - NOTE: Since this is a binary classification problem, we actually elect to use the AUROC of the classification of $(i,j) \\mapsto \\hat{l}_{ij}$ with ground truth $l_{ij}$. The vector norm is simply a more general form of measuring \"difference\" in our classifications and the ground truth."
   ]
  },
  {
   "cell_type": "markdown",
   "metadata": {},
   "source": [
    "## Theoretical foundations and symbol/prior result guide"
   ]
  },
  {
   "cell_type": "markdown",
   "metadata": {},
   "source": [
    "Will eventually ill in with background from project \"MEC\" but this seemed like a waste of time at the current moment"
   ]
  },
  {
   "cell_type": "markdown",
   "metadata": {},
   "source": [
    "# Experiment\n",
    "---"
   ]
  },
  {
   "cell_type": "markdown",
   "metadata": {},
   "source": [
    "## Setup"
   ]
  },
  {
   "cell_type": "markdown",
   "metadata": {},
   "source": [
    "### Imports"
   ]
  },
  {
   "cell_type": "code",
   "execution_count": 32,
   "metadata": {},
   "outputs": [],
   "source": [
    "# --- Standard library ---\n",
    "import sys  # System pathing\n",
    "import os\n",
    "import yaml  # Configuration files\n",
    "from datetime import datetime  # Timestamping data\n",
    "from copy import deepcopy  # Parameter grid processing\n",
    "from itertools import product\n",
    "\n",
    "# --- Scientific ---\n",
    "import numpy as np  # General computational tools\n",
    "from sklearn import metrics, decomposition  # Measuring classifier performance\n",
    "\n",
    "# --- Network science ---\n",
    "import networkx as nx  # General network tools\n",
    "from node2vec import Node2Vec as N2V  # Embedding tools\n",
    "\n",
    "# --- Project source code ---\n",
    "sys.path.append(\"../src/\")\n",
    "from Utils import *  # Custom synthetic benchmarks\n",
    "\n",
    "# --- Data handling and visualization ---\n",
    "import pandas as pd  # Dataframe tools\n",
    "from tabulate import tabulate  # Pretty printing for dataframes\n",
    "\n",
    "import seaborn as sns  # Easier plotting tools\n",
    "import matplotlib.pyplot as plt\n",
    "%matplotlib inline\n",
    "\n",
    "# --- Miscellaneous ---\n",
    "from tqdm.auto import tqdm  # Progress bar"
   ]
  },
  {
   "cell_type": "markdown",
   "metadata": {},
   "source": [
    "### Globals"
   ]
  },
  {
   "cell_type": "code",
   "execution_count": 33,
   "metadata": {},
   "outputs": [],
   "source": [
    "# --- Other import aliases ---\n",
    "today = datetime.today\n",
    "accuracy = metrics.accuracy_score\n",
    "auroc = metrics.roc_auc_score\n",
    "\n",
    "# --- Visualization ---\n",
    "rc_dict = {\n",
    "#   \"savefig.dpi\": 600,  # Saved figure dots-per-inch. 600 is \"HD\"\n",
    "  \"savefig.facecolor\": \"white\",  # This, combined with transparent setting, keeps saved figs from looking like trash on dark backgrounds \n",
    "  \"savefig.transparent\": False,\n",
    "#   \"figure.figsize\": (14, 10),  # Default (width, height) of figure\n",
    "}\n",
    "plt.rcParams.update(rc_dict)"
   ]
  },
  {
   "cell_type": "markdown",
   "metadata": {},
   "source": [
    "### Configuration"
   ]
  },
  {
   "cell_type": "code",
   "execution_count": 34,
   "metadata": {},
   "outputs": [],
   "source": [
    "# Processing configuration file\n",
    "config_ = \"../workflow/configs/test/LFR.yaml\"\n",
    "with open(config_, 'r') as _fh:\n",
    "    config = yaml.safe_load(_fh)\n",
    "\n",
    "# --- Convenience aliasing ---\n",
    "datafiles_ = config[\"workflow\"][\"datafiles\"]\n",
    "pathing_ = config[\"workflow\"][\"pathing\"]\n",
    "versioning_ = config[\"workflow\"][\"versioning\"]\n",
    "\n",
    "# - Pathing -\n",
    "tmp = pathing_[\"TMP\"]\n",
    "raw = pathing_[\"RAW\"]\n",
    "processed = pathing_[\"PROCESSED\"]\n",
    "figures = pathing_[\"FIGURES\"]\n",
    "if not os.path.exists(tmp):\n",
    "    os.path.mkdir(tmp)\n",
    "\n",
    "# - Versioning -\n",
    "project_id = versioning_[\"project_id\"]\n",
    "current_version = versioning_[\"current_version\"]\n",
    "researcher = versioning_[\"researcher\"]\n",
    "date = today().strftime(\"%Y%m%d\")\n",
    "\n",
    "# - Datafiles -\n",
    "save_vectors = datafiles_[\"KEEP_EMBEDDINGS\"]\n",
    "save_dataframe = datafiles_[\"KEEP_DATAFRAME\"]\n",
    "template_df = datafiles_[\"TEMPLATE_DF\"].format(\n",
    "    project_id=project_id, current_version=current_version,\n",
    "    researcher=researcher, date=date\n",
    ")\n",
    "template_vectors = datafiles_[\"TEMPLATE_VECTORS\"]  # formatted later"
   ]
  },
  {
   "cell_type": "markdown",
   "metadata": {},
   "source": [
    "### Functions"
   ]
  },
  {
   "cell_type": "code",
   "execution_count": 35,
   "metadata": {},
   "outputs": [],
   "source": [
    "def form_system(params):\n",
    "    # Process parameters\n",
    "    N = params[\"N\"]\n",
    "    tau1, tau2 = params[\"tau1\"], params[\"tau2\"]\n",
    "    mu, min_community = params[\"mu\"], params[\"min_community\"]\n",
    "    average_degree, max_degree = params[\"avg_k\"], int(np.sqrt(N))\n",
    "    prob_relabel = params[\"prob\"]\n",
    "    pfi = params[\"pfi\"]\n",
    "\n",
    "    # Form \"raw\" duplex\n",
    "    D, _sigma1, _sigma2, _mu_temp = lfr_multiplex(N, tau1, tau2, mu, average_degree, max_degree, min_community, prob_relabel)\n",
    "\n",
    "    # Split into layers\n",
    "    G, H = duplex_network(D, 1, 2)\n",
    "\n",
    "    # Observe partial information\n",
    "    R_G, R_H, testset = partial_information(G, H, pfi)\n",
    "\n",
    "    # Restrict to largest connected component (if specified)\n",
    "    if params[\"largest_component\"]:\n",
    "        R_G_ = nx.Graph()\n",
    "        R_H_ = nx.Graph()\n",
    "        R_G_.add_nodes_from(R_G.nodes())\n",
    "        R_H_.add_nodes_from(R_H.nodes())\n",
    "\n",
    "        maxcc_R_G = max(nx.connected_components(R_G), key=len)\n",
    "        maxcc_R_H = max(nx.connected_components(R_H), key=len)\n",
    "\n",
    "        edges_R_G_ = set(R_G.subgraph(maxcc_R_G).edges())\n",
    "        edges_R_H_ = set(R_H.subgraph(maxcc_R_H).edges())\n",
    "        R_G_.add_edges_from(edges_R_G_)\n",
    "        R_H_.add_edges_from(edges_R_H_)\n",
    "\n",
    "        testset = {\n",
    "            edge: gt_\n",
    "            for edge, gt_ in testset.items()\n",
    "            if edge in edges_R_H_ | edges_R_H_\n",
    "        }\n",
    "\n",
    "    return G, H, R_G, R_H, testset\n",
    "\n",
    "def embed_system(R_G, R_H, params):\n",
    "    # Process parameters\n",
    "    dimensions, walk_length, num_walks = params[\"dimensions\"], params[\"walk_length\"], params[\"num_walks\"]\n",
    "    workers, window, min_count, batch_words = params[\"workers\"], params[\"window\"], params[\"min_count\"], params[\"batch_words\"]\n",
    "\n",
    "    # Generate walks\n",
    "    R_G_emb = N2V(R_G, dimensions=dimensions, walk_length=walk_length, num_walks=num_walks, workers=workers, quiet=True).fit(window=window, min_count=min_count, batch_words=batch_words)\n",
    "    R_H_emb = N2V(R_H, dimensions=dimensions, walk_length=walk_length, num_walks=num_walks, workers=workers, quiet=True).fit(window=window, min_count=min_count, batch_words=batch_words)\n",
    "\n",
    "    # Retrieve embedded models\n",
    "    G_ = R_G_emb.wv\n",
    "    H_ = R_H_emb.wv\n",
    "\n",
    "    return G_, H_\n",
    "\n",
    "def reconstruct_system(testset, G, H, G_, H_, params):\n",
    "    cls = []\n",
    "    scores = []\n",
    "    gt = []\n",
    "\n",
    "    _dot = lambda x, y: np.exp(-1*np.dot(np.transpose(x), y))\n",
    "\n",
    "    for edge, gt_ in testset.items():\n",
    "        i, j = edge\n",
    "        gt.append(gt_)\n",
    "\n",
    "        v_G_i = G_[i, :]\n",
    "        v_G_j = G_[j, :]\n",
    "        v_H_i = H_[i, :]\n",
    "        v_H_j = H_[j, :]\n",
    "\n",
    "        if params[\"metric\"] == \"logistic\":\n",
    "            d_G = 1 / (1 + _dot(v_G_i, v_G_j))\n",
    "            d_H = 1 / (1 + _dot(v_H_i, v_H_j))\n",
    "        else:\n",
    "            d_G = np.linalg.norm(v_G_i - v_G_j)\n",
    "            d_H = np.linalg.norm(v_H_i - v_H_j)\n",
    "\n",
    "            if params[\"metric\"] == \"inverse\":\n",
    "                d_G = 1 / d_G\n",
    "                d_H = 1 / d_H\n",
    "            elif params[\"metric\"] == \"negexp\":\n",
    "                d_G = np.exp(-d_G)\n",
    "                d_H = np.exp(-d_H)\n",
    "\n",
    "        t_G = d_G / (d_G + d_H)\n",
    "        t_H = 1 - t_G\n",
    "\n",
    "        scores.append(t_G)\n",
    "\n",
    "        cls_ = np.random.randint(2)\n",
    "        if t_G != t_H:\n",
    "            if np.random.rand() <= t_G:\n",
    "                cls_ = 1\n",
    "            else:\n",
    "                cls_ = 0\n",
    "        cls.append(cls_)\n",
    "\n",
    "    return cls, scores, gt\n",
    "\n",
    "def measure_performance(cls, scores, gt):\n",
    "    acc = accuracy(gt, cls)\n",
    "    auc = auroc(gt, scores)\n",
    "\n",
    "    return acc, auc"
   ]
  },
  {
   "cell_type": "markdown",
   "metadata": {},
   "source": [
    "### Workflow"
   ]
  },
  {
   "cell_type": "code",
   "execution_count": 36,
   "metadata": {},
   "outputs": [],
   "source": [
    "def _process_grid(config):\n",
    "    # Initialize parameter grid\n",
    "    grid = []\n",
    "\n",
    "    # Initialize grid vertex archetype\n",
    "    params = {}\n",
    "\n",
    "    # Fill in static parameters (mostly embedding)\n",
    "    params.update(config[\"experiment\"][\"embedding\"])\n",
    "    params[\"largest_component\"] = config[\"experiment\"][\"params\"][\"largest_component\"]\n",
    "\n",
    "    # Fill in each vertex with dynamic parameters (network configurations)\n",
    "    network_ = config[\"network\"]\n",
    "    network_grid_ = product(*network_.values())\n",
    "    for repetition in range(config[\"experiment\"][\"params\"][\"repetitions\"]):  # repetitions\n",
    "        for (N, tau1, tau2, mu, avg_k, min_community, prob, pfi) in network_grid_:\n",
    "            for metric in config[\"experiment\"][\"params\"][\"distance\"]:\n",
    "                params_ = deepcopy(params)\n",
    "\n",
    "                params_[\"metric\"] = metric\n",
    "\n",
    "                params_[\"N\"] = N\n",
    "                params_[\"tau1\"] = tau1\n",
    "                params_[\"tau2\"] = tau2\n",
    "                params_[\"mu\"] = mu\n",
    "                params_[\"avg_k\"] = avg_k\n",
    "                params_[\"min_community\"] = min_community\n",
    "                params_[\"prob\"] = prob\n",
    "\n",
    "                params_[\"pfi\"] = pfi\n",
    "\n",
    "                params_[\"repetition\"] = repetition\n",
    "                grid.append(params_)\n",
    "\n",
    "    return grid\n",
    "\n",
    "def workflow(config):\n",
    "    # Process parameter grid\n",
    "    grid = _process_grid(config)\n",
    "\n",
    "    # Prepare results dataframe (dict)\n",
    "    df_ = {key: [] for key in grid[0].keys()}\n",
    "    df_[\"Accuracy\"] = []\n",
    "    df_[\"AUROC\"] = []\n",
    "\n",
    "    # Run experiment\n",
    "    for gv in tqdm(grid):\n",
    "        # Track parameters\n",
    "        for key, value in gv.items():\n",
    "            df_[key].append(value)\n",
    "\n",
    "        # Generate synthetic system and form remnants\n",
    "        G, H, R_G, R_H, agg = form_system(gv)\n",
    "\n",
    "        # Apply node2vec\n",
    "        G_, H_ = embed_system(R_G, R_H, gv)\n",
    "\n",
    "        # Save embedding, if applicable\n",
    "        if save_vectors:\n",
    "            G_.save_word2vec_format(\n",
    "                    template_vectors.format(\n",
    "                    tmp=tmp, name=\"LFR-original\",\n",
    "                    tau1=gv[\"tau1\"], tau2=gv[\"tau2\"], mu=gv[\"mu\"],\n",
    "                    prob=gv[\"prob\"], pfi=gv[\"pfi\"], repetition=gv[\"repetition\"]\n",
    "                )+\".mat\"\n",
    "            )\n",
    "            H_.save_word2vec_format(\n",
    "                    template_vectors.format(\n",
    "                    tmp=tmp, name=\"LFR-shuffled\",\n",
    "                    tau1=gv[\"tau1\"], tau2=gv[\"tau2\"], mu=gv[\"mu\"],\n",
    "                    prob=gv[\"prob\"], pfi=gv[\"pfi\"], repetition=gv[\"repetition\"]\n",
    "                )+\".mat\"\n",
    "            )\n",
    "\n",
    "        # Reconstruct system from embeddings\n",
    "        cls, scores, gt = reconstruct_system(agg, G, H, G_.vectors, H_.vectors, gv)\n",
    "\n",
    "        # Measure performance\n",
    "        acc, auc = measure_performance(cls, scores, gt)\n",
    "\n",
    "        # Update performance measure columns\n",
    "        df_[\"Accuracy\"].append(acc)\n",
    "        df_[\"AUROC\"].append(auc)\n",
    "\n",
    "    # Format dataframe and save\n",
    "    df = pd.DataFrame(df_)\n",
    "\n",
    "    if save_dataframe:\n",
    "        df.to_csv(f\"{raw}/{template_df}.csv\")\n",
    "\n",
    "    return df"
   ]
  },
  {
   "cell_type": "markdown",
   "metadata": {},
   "source": [
    "## Computations"
   ]
  },
  {
   "cell_type": "code",
   "execution_count": 76,
   "metadata": {},
   "outputs": [
    {
     "name": "stderr",
     "output_type": "stream",
     "text": [
      "  0%|          | 0/8 [00:00<?, ?it/s]"
     ]
    },
    {
     "name": "stdout",
     "output_type": "stream",
     "text": [
      "setting... -N 500\n",
      "setting... -mu 0.1\n",
      "setting... -maxk 22\n",
      "setting... -k 5\n",
      "setting... -t1 2.1\n",
      "setting... -t2 1.0\n",
      "\n",
      "**************************************************************\n",
      "number of nodes:\t500\n",
      "average degree:\t5\n",
      "maximum degree:\t22\n",
      "exponent for the degree distribution:\t2.1\n",
      "exponent for the community size distribution:\t1\n",
      "mixing parameter:\t0.1\n",
      "number of overlapping nodes:\t0\n",
      "number of memberships of the overlapping nodes:\t0\n",
      "**************************************************************\n",
      "\n",
      "-----------------------------------------------------------\n",
      "community size range automatically set equal to [3 , 22]\n",
      "building communities... \n",
      "connecting communities... \n",
      "recording network...\n",
      "\n",
      "\n",
      "---------------------------------------------------------------------------\n",
      "network of 500 vertices and 1050 edges;\t average degree = 4.2\n",
      "\n",
      "average mixing parameter: 0.0987014 +/- 0.156089\n",
      "p_in: 0.524596\tp_out: 0.00074285\n"
     ]
    },
    {
     "name": "stderr",
     "output_type": "stream",
     "text": [
      "Segmentation fault (core dumped)\n",
      " 12%|█▎        | 1/8 [03:00<21:05, 180.77s/it]"
     ]
    },
    {
     "name": "stdout",
     "output_type": "stream",
     "text": [
      "setting... -N 500\n",
      "setting... -mu 0.1\n",
      "setting... -maxk 22\n",
      "setting... -k 5\n",
      "setting... -t1 2.1\n",
      "setting... -t2 1.0\n",
      "\n",
      "**************************************************************\n",
      "number of nodes:\t500\n",
      "average degree:\t5\n",
      "maximum degree:\t22\n",
      "exponent for the degree distribution:\t2.1\n",
      "exponent for the community size distribution:\t1\n",
      "mixing parameter:\t0.1\n",
      "number of overlapping nodes:\t0\n",
      "number of memberships of the overlapping nodes:\t0\n",
      "**************************************************************\n",
      "\n",
      "-----------------------------------------------------------\n",
      "community size range automatically set equal to [3 , 22]\n",
      "building communities... \n",
      "connecting communities... \n",
      "recording network...\n",
      "\n",
      "\n",
      "---------------------------------------------------------------------------\n",
      "network of 500 vertices and 1056 edges;\t average degree = 4.224\n",
      "\n",
      "average mixing parameter: 0.0992983 +/- 0.159308\n",
      "p_in: 0.459669\tp_out: 0.000752503\n"
     ]
    },
    {
     "name": "stderr",
     "output_type": "stream",
     "text": [
      "Segmentation fault (core dumped)\n",
      " 25%|██▌       | 2/8 [05:54<17:41, 176.90s/it]"
     ]
    },
    {
     "name": "stdout",
     "output_type": "stream",
     "text": [
      "setting... -N 500\n",
      "setting... -mu 0.1\n",
      "setting... -maxk 22\n",
      "setting... -k 5\n",
      "setting... -t1 2.1\n",
      "setting... -t2 1.0\n",
      "\n",
      "**************************************************************\n",
      "number of nodes:\t500\n",
      "average degree:\t5\n",
      "maximum degree:\t22\n",
      "exponent for the degree distribution:\t2.1\n",
      "exponent for the community size distribution:\t1\n",
      "mixing parameter:\t0.1\n",
      "number of overlapping nodes:\t0\n",
      "number of memberships of the overlapping nodes:\t0\n",
      "**************************************************************\n",
      "\n",
      "-----------------------------------------------------------\n",
      "community size range automatically set equal to [3 , 22]\n",
      "building communities... \n",
      "connecting communities... \n",
      "recording network...\n",
      "\n",
      "\n",
      "---------------------------------------------------------------------------\n",
      "network of 500 vertices and 1030 edges;\t average degree = 4.12\n",
      "\n",
      "average mixing parameter: 0.0952218 +/- 0.160756\n",
      "p_in: 0.599051\tp_out: 0.000685811\n"
     ]
    },
    {
     "name": "stderr",
     "output_type": "stream",
     "text": [
      "Segmentation fault (core dumped)\n",
      " 38%|███▊      | 3/8 [08:42<14:22, 172.58s/it]"
     ]
    },
    {
     "name": "stdout",
     "output_type": "stream",
     "text": [
      "setting... -N 500\n",
      "setting... -mu 0.1\n",
      "setting... -maxk 22\n",
      "setting... -k 5\n",
      "setting... -t1 2.1\n",
      "setting... -t2 1.0\n",
      "\n",
      "**************************************************************\n",
      "number of nodes:\t500\n",
      "average degree:\t5\n",
      "maximum degree:\t22\n",
      "exponent for the degree distribution:\t2.1\n",
      "exponent for the community size distribution:\t1\n",
      "mixing parameter:\t0.1\n",
      "number of overlapping nodes:\t0\n",
      "number of memberships of the overlapping nodes:\t0\n",
      "**************************************************************\n",
      "\n",
      "-----------------------------------------------------------\n",
      "community size range automatically set equal to [3 , 22]\n",
      "building communities... \n",
      "connecting communities... \n",
      "recording network...\n",
      "\n",
      "\n",
      "---------------------------------------------------------------------------\n",
      "network of 500 vertices and 1073 edges;\t average degree = 4.292\n",
      "\n",
      "average mixing parameter: 0.116366 +/- 0.177445\n",
      "p_in: 0.480475\tp_out: 0.00082448\n"
     ]
    },
    {
     "name": "stderr",
     "output_type": "stream",
     "text": [
      "Segmentation fault (core dumped)\n",
      " 50%|█████     | 4/8 [11:30<11:22, 170.63s/it]"
     ]
    },
    {
     "name": "stdout",
     "output_type": "stream",
     "text": [
      "setting... -N 500\n",
      "setting... -mu 0.1\n",
      "setting... -maxk 22\n",
      "setting... -k 5\n",
      "setting... -t1 2.1\n",
      "setting... -t2 1.0\n",
      "\n",
      "**************************************************************\n",
      "number of nodes:\t500\n",
      "average degree:\t5\n",
      "maximum degree:\t22\n",
      "exponent for the degree distribution:\t2.1\n",
      "exponent for the community size distribution:\t1\n",
      "mixing parameter:\t0.1\n",
      "number of overlapping nodes:\t0\n",
      "number of memberships of the overlapping nodes:\t0\n",
      "**************************************************************\n",
      "\n",
      "-----------------------------------------------------------\n",
      "community size range automatically set equal to [3 , 22]\n",
      "building communities... \n",
      "connecting communities... \n",
      "recording network...\n",
      "\n",
      "\n",
      "---------------------------------------------------------------------------\n",
      "network of 500 vertices and 1101 edges;\t average degree = 4.404\n",
      "\n",
      "average mixing parameter: 0.113564 +/- 0.169604\n",
      "p_in: 0.509138\tp_out: 0.000842561\n"
     ]
    },
    {
     "name": "stderr",
     "output_type": "stream",
     "text": [
      "Segmentation fault (core dumped)\n",
      " 62%|██████▎   | 5/8 [14:16<08:27, 169.18s/it]"
     ]
    },
    {
     "name": "stdout",
     "output_type": "stream",
     "text": [
      "setting... -N 500\n",
      "setting... -mu 0.1\n",
      "setting... -maxk 22\n",
      "setting... -k 5\n",
      "setting... -t1 2.1\n",
      "setting... -t2 1.0\n",
      "\n",
      "**************************************************************\n",
      "number of nodes:\t500\n",
      "average degree:\t5\n",
      "maximum degree:\t22\n",
      "exponent for the degree distribution:\t2.1\n",
      "exponent for the community size distribution:\t1\n",
      "mixing parameter:\t0.1\n",
      "number of overlapping nodes:\t0\n",
      "number of memberships of the overlapping nodes:\t0\n",
      "**************************************************************\n",
      "\n",
      "-----------------------------------------------------------\n",
      "community size range automatically set equal to [3 , 22]\n",
      "building communities... \n",
      "connecting communities... \n",
      "recording network...\n",
      "\n",
      "\n",
      "---------------------------------------------------------------------------\n",
      "network of 500 vertices and 1059 edges;\t average degree = 4.236\n",
      "\n",
      "average mixing parameter: 0.0983561 +/- 0.165331\n",
      "p_in: 0.495214\tp_out: 0.000731679\n"
     ]
    },
    {
     "name": "stderr",
     "output_type": "stream",
     "text": [
      "Segmentation fault (core dumped)\n",
      " 75%|███████▌  | 6/8 [17:02<05:36, 168.16s/it]"
     ]
    },
    {
     "name": "stdout",
     "output_type": "stream",
     "text": [
      "setting... -N 500\n",
      "setting... -mu 0.1\n",
      "setting... -maxk 22\n",
      "setting... -k 5\n",
      "setting... -t1 2.1\n",
      "setting... -t2 1.0\n",
      "\n",
      "**************************************************************\n",
      "number of nodes:\t500\n",
      "average degree:\t5\n",
      "maximum degree:\t22\n",
      "exponent for the degree distribution:\t2.1\n",
      "exponent for the community size distribution:\t1\n",
      "mixing parameter:\t0.1\n",
      "number of overlapping nodes:\t0\n",
      "number of memberships of the overlapping nodes:\t0\n",
      "**************************************************************\n",
      "\n",
      "-----------------------------------------------------------\n",
      "community size range automatically set equal to [3 , 22]\n",
      "building communities... \n",
      "connecting communities... \n",
      "recording network...\n",
      "\n",
      "\n",
      "---------------------------------------------------------------------------\n",
      "network of 500 vertices and 1041 edges;\t average degree = 4.164\n",
      "\n",
      "average mixing parameter: 0.105147 +/- 0.164611\n",
      "p_in: 0.497827\tp_out: 0.000771627\n"
     ]
    },
    {
     "name": "stderr",
     "output_type": "stream",
     "text": [
      "Segmentation fault (core dumped)\n",
      " 88%|████████▊ | 7/8 [19:41<02:45, 165.15s/it]"
     ]
    },
    {
     "name": "stdout",
     "output_type": "stream",
     "text": [
      "setting... -N 500\n",
      "setting... -mu 0.1\n",
      "setting... -maxk 22\n",
      "setting... -k 5\n",
      "setting... -t1 2.1\n",
      "setting... -t2 1.0\n",
      "\n",
      "**************************************************************\n",
      "number of nodes:\t500\n",
      "average degree:\t5\n",
      "maximum degree:\t22\n",
      "exponent for the degree distribution:\t2.1\n",
      "exponent for the community size distribution:\t1\n",
      "mixing parameter:\t0.1\n",
      "number of overlapping nodes:\t0\n",
      "number of memberships of the overlapping nodes:\t0\n",
      "**************************************************************\n",
      "\n",
      "-----------------------------------------------------------\n",
      "community size range automatically set equal to [3 , 22]\n",
      "building communities... \n",
      "connecting communities... \n",
      "recording network...\n",
      "\n",
      "\n",
      "---------------------------------------------------------------------------\n",
      "network of 500 vertices and 1050 edges;\t average degree = 4.2\n",
      "\n",
      "average mixing parameter: 0.0953608 +/- 0.159127\n",
      "p_in: 0.467684\tp_out: 0.000771224\n"
     ]
    },
    {
     "name": "stderr",
     "output_type": "stream",
     "text": [
      "Segmentation fault (core dumped)\n",
      "100%|██████████| 8/8 [22:17<00:00, 167.22s/it]\n"
     ]
    }
   ],
   "source": [
    "df = workflow(config)"
   ]
  },
  {
   "cell_type": "code",
   "execution_count": 77,
   "metadata": {},
   "outputs": [
    {
     "name": "stdout",
     "output_type": "stream",
     "text": [
      "+----+----------+-------+------------+----------+\n",
      "|    | metric   |   pfi |   Accuracy |    AUROC |\n",
      "|----+----------+-------+------------+----------|\n",
      "|  0 | inverse  |  0.05 |   0.494943 | 0.458487 |\n",
      "|  1 | negexp   |  0.05 |   0.496449 | 0.498988 |\n",
      "|  2 | inverse  |  0.33 |   0.48482  | 0.498933 |\n",
      "|  3 | negexp   |  0.33 |   0.484674 | 0.50092  |\n",
      "|  4 | inverse  |  0.67 |   0.457746 | 0.436469 |\n",
      "|  5 | negexp   |  0.67 |   0.532143 | 0.568982 |\n",
      "|  6 | inverse  |  0.95 |   0.459459 | 0.485577 |\n",
      "|  7 | negexp   |  0.95 |   0.565789 | 0.596154 |\n",
      "+----+----------+-------+------------+----------+\n"
     ]
    }
   ],
   "source": [
    "print(tabulate(df[[\"metric\", \"pfi\", \"Accuracy\", \"AUROC\"]], headers='keys', tablefmt='psql'))"
   ]
  },
  {
   "cell_type": "code",
   "execution_count": 78,
   "metadata": {},
   "outputs": [
    {
     "name": "stdout",
     "output_type": "stream",
     "text": [
      "+----+-------+------------+----------+\n",
      "|    |   pfi |   Accuracy |    AUROC |\n",
      "|----+-------+------------+----------|\n",
      "|  0 |  0.05 |   0.494943 | 0.458487 |\n",
      "|  2 |  0.33 |   0.48482  | 0.498933 |\n",
      "|  4 |  0.67 |   0.457746 | 0.436469 |\n",
      "|  6 |  0.95 |   0.459459 | 0.485577 |\n",
      "+----+-------+------------+----------+\n"
     ]
    }
   ],
   "source": [
    "print(tabulate(df.loc[df[\"metric\"] == 'inverse'][[\"pfi\", \"Accuracy\", \"AUROC\"]], headers='keys', tablefmt='psql'))"
   ]
  },
  {
   "cell_type": "markdown",
   "metadata": {},
   "source": [
    "## Debugging"
   ]
  },
  {
   "cell_type": "markdown",
   "metadata": {},
   "source": [
    "### Case studies"
   ]
  },
  {
   "cell_type": "code",
   "execution_count": 55,
   "metadata": {},
   "outputs": [
    {
     "name": "stdout",
     "output_type": "stream",
     "text": [
      "setting... -N 500\n",
      "setting... -mu 0.1\n",
      "setting... -maxk 22\n",
      "setting... -k 5\n",
      "setting... -t1 2.1\n",
      "setting... -t2 1.0\n",
      "\n",
      "**************************************************************\n",
      "number of nodes:\t500\n",
      "average degree:\t5\n",
      "maximum degree:\t22\n",
      "exponent for the degree distribution:\t2.1\n",
      "exponent for the community size distribution:\t1\n",
      "mixing parameter:\t0.1\n",
      "number of overlapping nodes:\t0\n",
      "number of memberships of the overlapping nodes:\t0\n",
      "**************************************************************\n",
      "\n",
      "-----------------------------------------------------------\n",
      "community size range automatically set equal to [3 , 22]\n",
      "building communities... \n",
      "connecting communities... \n",
      "recording network...\n",
      "\n",
      "\n",
      "---------------------------------------------------------------------------\n",
      "network of 500 vertices and 1067 edges;\t average degree = 4.268\n",
      "\n",
      "average mixing parameter: 0.114661 +/- 0.174622\n",
      "p_in: 0.545347\tp_out: 0.000830766\n"
     ]
    },
    {
     "name": "stderr",
     "output_type": "stream",
     "text": [
      "Segmentation fault (core dumped)\n"
     ]
    }
   ],
   "source": [
    "gv = {\n",
    "    \"largest_component\": True,\n",
    "    \"repetition\": 0,\n",
    "    \"metric\": \"negexp\",\n",
    "    \"N\": 500,\n",
    "    \"tau1\": 2.1,\n",
    "    \"tau2\": 1.0,\n",
    "    \"mu\": 0.1,\n",
    "    \"avg_k\": 5,\n",
    "    \"min_community\": 1,\n",
    "    \"prob\": 1.0,\n",
    "    \"pfi\": 0.95\n",
    "}\n",
    "gv.update(config[\"experiment\"][\"embedding\"])\n",
    "\n",
    "G, H, R_G, R_H, testset = form_system(gv)"
   ]
  },
  {
   "cell_type": "code",
   "execution_count": 56,
   "metadata": {},
   "outputs": [
    {
     "name": "stdout",
     "output_type": "stream",
     "text": [
      "G = 1058, H = 1058\n",
      "G + H = 2116\n",
      "Remnant of G = 1115, Remnant of H = 1106\n",
      "Remnant of G + Remnant of H = 2116, Remnant of G and Remnant of H = 105\n",
      "Test edges = 84\n"
     ]
    }
   ],
   "source": [
    "a = set(G.edges())\n",
    "b = set(H.edges())\n",
    "a_ = set(R_G.edges())\n",
    "b_ = set(R_H.edges())\n",
    "\n",
    "print(f\"G = {len(a)}, H = {len(b)}\")\n",
    "print(f\"G + H = {len(a | b)}\")\n",
    "print(f\"Remnant of G = {len(a_)}, Remnant of H = {len(b_)}\")\n",
    "print(f\"Remnant of G + Remnant of H = {len(a_ | b_)}, Remnant of G and Remnant of H = {len(a_ & b_)}\")\n",
    "print(f\"Test edges = {len(testset)}\")"
   ]
  },
  {
   "cell_type": "code",
   "execution_count": 57,
   "metadata": {},
   "outputs": [],
   "source": [
    "# Apply node2vec\n",
    "G_, H_ = embed_system(R_G, R_H, gv)"
   ]
  },
  {
   "cell_type": "code",
   "execution_count": 67,
   "metadata": {},
   "outputs": [
    {
     "data": {
      "text/plain": [
       "array([[-0.16475734,  0.12458883, -0.13533632, ..., -2.8326569 ,\n",
       "        -1.1519144 ,  1.0137866 ],\n",
       "       [-0.20070909,  0.9727871 ,  0.23552106, ...,  1.6153235 ,\n",
       "         1.855839  , -0.7462432 ],\n",
       "       [ 2.4400055 , -1.4113553 , -4.8508306 , ...,  1.8222839 ,\n",
       "        -1.1206628 ,  0.75983185],\n",
       "       ...,\n",
       "       [-0.6664043 ,  0.20304851,  0.2132825 , ..., -0.34787986,\n",
       "        -0.37838572, -0.3832558 ],\n",
       "       [ 0.7740765 ,  0.5125012 ,  0.15391627, ..., -0.583536  ,\n",
       "        -0.9481246 ,  1.9941169 ],\n",
       "       [ 1.3642265 , -1.5734551 , -0.33856854, ..., -3.642362  ,\n",
       "        -0.39626095, -2.4911308 ]], dtype=float32)"
      ]
     },
     "execution_count": 67,
     "metadata": {},
     "output_type": "execute_result"
    }
   ],
   "source": [
    "G_.vectors"
   ]
  },
  {
   "cell_type": "code",
   "execution_count": 68,
   "metadata": {},
   "outputs": [
    {
     "data": {
      "text/plain": [
       "array([[ 1.5692842 , -1.7580072 , -1.8213421 , ...,  4.40365   ,\n",
       "         2.351803  ,  3.7295094 ],\n",
       "       [ 1.6167153 ,  2.1008544 , -2.8778338 , ...,  0.07426742,\n",
       "        -1.5764915 , -2.5046718 ],\n",
       "       [ 0.30708167, -2.3544335 ,  0.6611072 , ...,  0.2895654 ,\n",
       "         1.6137731 , -1.7791792 ],\n",
       "       ...,\n",
       "       [ 2.2178483 ,  0.70402473,  2.249507  , ...,  0.33775163,\n",
       "         0.00870407, -0.29028454],\n",
       "       [ 2.5887396 , -1.4876729 , -0.8112774 , ..., -0.25371605,\n",
       "         0.54279673,  0.19990712],\n",
       "       [-1.4542723 ,  0.28177053,  0.09811338, ...,  0.5236919 ,\n",
       "         1.6001009 , -0.7468304 ]], dtype=float32)"
      ]
     },
     "execution_count": 68,
     "metadata": {},
     "output_type": "execute_result"
    }
   ],
   "source": [
    "H_.vectors"
   ]
  },
  {
   "cell_type": "code",
   "execution_count": 69,
   "metadata": {},
   "outputs": [],
   "source": [
    "# Reconstruct system from embeddings\n",
    "cls, scores, gt = reconstruct_system(testset, G, H, G_.vectors, H_.vectors, gv)"
   ]
  },
  {
   "cell_type": "code",
   "execution_count": 70,
   "metadata": {},
   "outputs": [
    {
     "name": "stdout",
     "output_type": "stream",
     "text": [
      "87 280\n"
     ]
    }
   ],
   "source": [
    "x, y = list(testset.keys())[-1]\n",
    "print(x, y)"
   ]
  },
  {
   "cell_type": "code",
   "execution_count": 71,
   "metadata": {},
   "outputs": [
    {
     "name": "stdout",
     "output_type": "stream",
     "text": [
      "27.042576\n",
      "27.315237\n",
      "0.5677461\n",
      "0.5025080222570857\n",
      "0.50250804\n"
     ]
    }
   ],
   "source": [
    "a = np.linalg.norm(G_.vectors[x, :] -  G_.vectors[y, :])\n",
    "b = np.linalg.norm(H_.vectors[x, :] - H_.vectors[y, :])\n",
    "print(a)\n",
    "print(b)\n",
    "\n",
    "print(np.exp(-a)/(np.exp(-a) + np.exp(-b)))\n",
    "print((1/a)/((1/a) + (1/b)))\n",
    "\n",
    "print(b/(a+b))"
   ]
  },
  {
   "cell_type": "code",
   "execution_count": 72,
   "metadata": {},
   "outputs": [
    {
     "data": {
      "text/plain": [
       "[0.48322448,\n",
       " 0.99998116,\n",
       " 0.22057453,\n",
       " 0.99999166,\n",
       " 1.1003668e-06,\n",
       " 1.8982097e-07,\n",
       " 0.9998017,\n",
       " 0.009427236,\n",
       " 0.99998504,\n",
       " 0.5677461]"
      ]
     },
     "execution_count": 72,
     "metadata": {},
     "output_type": "execute_result"
    }
   ],
   "source": [
    "scores[-10:]"
   ]
  },
  {
   "cell_type": "code",
   "execution_count": 73,
   "metadata": {},
   "outputs": [
    {
     "data": {
      "text/plain": [
       "[0, 0, 0, 0, 0, 0, 0, 0, 0, 0]"
      ]
     },
     "execution_count": 73,
     "metadata": {},
     "output_type": "execute_result"
    }
   ],
   "source": [
    "gt[-10:]"
   ]
  },
  {
   "cell_type": "code",
   "execution_count": 74,
   "metadata": {},
   "outputs": [
    {
     "data": {
      "text/plain": [
       "[1, 1, 0, 1, 0, 0, 1, 0, 1, 0]"
      ]
     },
     "execution_count": 74,
     "metadata": {},
     "output_type": "execute_result"
    }
   ],
   "source": [
    "cls[-10:]"
   ]
  },
  {
   "cell_type": "code",
   "execution_count": 75,
   "metadata": {},
   "outputs": [
    {
     "name": "stdout",
     "output_type": "stream",
     "text": [
      "0.39285714285714285 0.37094907407407407\n"
     ]
    }
   ],
   "source": [
    "# Measure performance\n",
    "acc, auc = measure_performance(cls, scores, gt)\n",
    "print(acc, auc)"
   ]
  },
  {
   "cell_type": "markdown",
   "metadata": {},
   "source": [
    "# Analysis\n",
    "---"
   ]
  },
  {
   "cell_type": "markdown",
   "metadata": {},
   "source": [
    "## Post-processing data"
   ]
  },
  {
   "cell_type": "markdown",
   "metadata": {},
   "source": [
    "## Visualization"
   ]
  },
  {
   "cell_type": "markdown",
   "metadata": {},
   "source": [
    "### Initial exploration"
   ]
  },
  {
   "cell_type": "code",
   "execution_count": 10,
   "metadata": {},
   "outputs": [
    {
     "data": {
      "text/plain": [
       "<Figure size 640x480 with 0 Axes>"
      ]
     },
     "metadata": {},
     "output_type": "display_data"
    },
    {
     "data": {
      "image/png": "[encoded data removed]",
      "text/plain": [
       "<Figure size 500x500 with 1 Axes>"
      ]
     },
     "metadata": {},
     "output_type": "display_data"
    }
   ],
   "source": [
    "# Declare figure\n",
    "plt.figure()\n",
    "figure_ = sns.displot(\n",
    "    data=df, kind=\"hist\",\n",
    "    x=\"AUROC\"\n",
    ")\n",
    "\n",
    "# Format figure\n",
    "figure_ = (\n",
    "    figure_\n",
    "    .refline(x=0.5)\n",
    ")\n",
    "\n",
    "# Save and display figure\n",
    "#plt.savefig(f\"{figures}/hist_auroc_{template_df}.png\")\n",
    "figure_"
   ]
  },
  {
   "cell_type": "code",
   "execution_count": 11,
   "metadata": {},
   "outputs": [
    {
     "data": {
      "text/plain": [
       "<Figure size 640x480 with 0 Axes>"
      ]
     },
     "metadata": {},
     "output_type": "display_data"
    },
    {
     "data": {
      "image/png": "[encoded data removed]",
      "text/plain": [
       "<Figure size 500x500 with 1 Axes>"
      ]
     },
     "metadata": {},
     "output_type": "display_data"
    }
   ],
   "source": [
    "# Declare figure\n",
    "plt.figure()\n",
    "figure_ = sns.displot(\n",
    "    data=df, kind=\"hist\",\n",
    "    x=\"Accuracy\"\n",
    ")\n",
    "\n",
    "# Format figure\n",
    "figure_ = (\n",
    "    figure_\n",
    "    .refline(x=0.5)\n",
    ")\n",
    "\n",
    "# Save and display figure\n",
    "#plt.savefig(f\"{figures}/hist_accuracy_{template_df}.png\")\n",
    "figure_"
   ]
  },
  {
   "cell_type": "code",
   "execution_count": 178,
   "metadata": {},
   "outputs": [
    {
     "data": {
      "text/plain": [
       "<Figure size 640x480 with 0 Axes>"
      ]
     },
     "metadata": {},
     "output_type": "display_data"
    },
    {
     "data": {
      "image/png": "[encoded data removed]",
      "text/plain": [
       "<Figure size 2063.75x1000 with 8 Axes>"
      ]
     },
     "metadata": {},
     "output_type": "display_data"
    }
   ],
   "source": [
    "# Declare figure\n",
    "plt.figure()\n",
    "figure_ = sns.relplot(\n",
    "    data=df, kind=\"scatter\",\n",
    "    x=\"pfi\", y=\"AUROC\",\n",
    "    row=\"gamma\",\n",
    "    col=\"prob\",\n",
    "    hue=\"sign\", palette=[\"blue\", \"red\"]\n",
    ")\n",
    "\n",
    "# Format figure\n",
    "figure_ = (\n",
    "    figure_\n",
    "    .set_axis_labels(\"PFI\", \"AUROC\")\n",
    "    .refline(y=0.5)\n",
    ")\n",
    "\n",
    "# Save and display figure\n",
    "plt.savefig(f\"{figures}/faceted-scatter_auroc-pfi-gamma-prob-sign_{template_}.png\")\n",
    "figure_"
   ]
  },
  {
   "cell_type": "markdown",
   "metadata": {},
   "source": [
    "### Effect of PFI"
   ]
  },
  {
   "cell_type": "code",
   "execution_count": 101,
   "metadata": {},
   "outputs": [
    {
     "data": {
      "text/plain": [
       "<Figure size 640x480 with 0 Axes>"
      ]
     },
     "metadata": {},
     "output_type": "display_data"
    },
    {
     "data": {
      "image/png": "[encoded data removed]",
      "text/plain": [
       "<Figure size 500x500 with 1 Axes>"
      ]
     },
     "metadata": {},
     "output_type": "display_data"
    }
   ],
   "source": [
    "# Declare figure\n",
    "plt.figure()\n",
    "figure_ = sns.relplot(\n",
    "    data=df, kind=\"scatter\",\n",
    "    x=\"pfi\", y=\"AUROC\",\n",
    ")\n",
    "\n",
    "# Format figure\n",
    "figure_ = (\n",
    "    figure_\n",
    "    .set_axis_labels(\"PFI\", \"AUROC\")\n",
    "    .refline(y=0.5)\n",
    ")\n",
    "\n",
    "# Save and display figure\n",
    "plt.savefig(f\"{figures}/scatter_auroc-pfi_{template_}.png\")\n",
    "figure_"
   ]
  },
  {
   "cell_type": "markdown",
   "metadata": {},
   "source": [
    "### Effect of degree heterogeneity ($\\gamma$)"
   ]
  },
  {
   "cell_type": "code",
   "execution_count": 13,
   "metadata": {},
   "outputs": [
    {
     "data": {
      "text/plain": [
       "<Figure size 640x480 with 0 Axes>"
      ]
     },
     "metadata": {},
     "output_type": "display_data"
    },
    {
     "data": {
      "image/png": "[encoded data removed]",
      "text/plain": [
       "<Figure size 500x500 with 1 Axes>"
      ]
     },
     "metadata": {},
     "output_type": "display_data"
    }
   ],
   "source": [
    "# Declare figure\n",
    "plt.figure()\n",
    "figure_ = sns.catplot(\n",
    "    data=df, kind=\"swarm\",\n",
    "    x=\"gamma\", y=\"AUROC\",\n",
    ")\n",
    "\n",
    "# Format figure\n",
    "figure_ = (\n",
    "    figure_\n",
    "    .set_axis_labels(\"$\\gamma$\", \"AUROC\")\n",
    "    .refline(y=0.5)\n",
    ")\n",
    "\n",
    "# Save and display figure\n",
    "plt.savefig(f\"{figures}/swarm_auroc-gamma_{template_}.png\")\n",
    "figure_"
   ]
  },
  {
   "cell_type": "code",
   "execution_count": 14,
   "metadata": {},
   "outputs": [
    {
     "data": {
      "text/plain": [
       "<Figure size 640x480 with 0 Axes>"
      ]
     },
     "metadata": {},
     "output_type": "display_data"
    },
    {
     "data": {
      "image/png": "[encoded data removed]",
      "text/plain": [
       "<Figure size 572.125x500 with 1 Axes>"
      ]
     },
     "metadata": {},
     "output_type": "display_data"
    }
   ],
   "source": [
    "# Declare figure\n",
    "plt.figure()\n",
    "figure_ = sns.displot(\n",
    "    data=df, kind=\"hist\",\n",
    "    x=\"AUROC\",\n",
    "    hue=\"gamma\", palette=[\"blue\", \"red\"]\n",
    ")\n",
    "\n",
    "# Format figure\n",
    "figure_ = (\n",
    "    figure_\n",
    "    .refline(y=0.5)\n",
    ")\n",
    "\n",
    "# Save and display figure\n",
    "plt.savefig(f\"{figures}/hist_auroc-gamma_{template_}.png\")\n",
    "figure_"
   ]
  },
  {
   "cell_type": "markdown",
   "metadata": {},
   "source": [
    "### Effect of correlation prob"
   ]
  },
  {
   "cell_type": "code",
   "execution_count": 15,
   "metadata": {},
   "outputs": [
    {
     "data": {
      "text/plain": [
       "<Figure size 640x480 with 0 Axes>"
      ]
     },
     "metadata": {},
     "output_type": "display_data"
    },
    {
     "data": {
      "image/png": "[encoded data removed]",
      "text/plain": [
       "<Figure size 500x500 with 1 Axes>"
      ]
     },
     "metadata": {},
     "output_type": "display_data"
    }
   ],
   "source": [
    "# Declare figure\n",
    "plt.figure()\n",
    "figure_ = sns.catplot(\n",
    "    data=df, kind=\"swarm\",\n",
    "    x=\"prob\", y=\"AUROC\",\n",
    ")\n",
    "\n",
    "# Format figure\n",
    "figure_ = (\n",
    "    figure_\n",
    "    .set_axis_labels(\"prob\", \"AUROC\")\n",
    "    .refline(y=0.5)\n",
    ")\n",
    "\n",
    "# Save and display figure\n",
    "plt.savefig(f\"{figures}/swarm_auroc-prob_{template_}.png\")\n",
    "figure_"
   ]
  },
  {
   "cell_type": "markdown",
   "metadata": {},
   "source": [
    "### Effect of sorting (sign)"
   ]
  },
  {
   "cell_type": "code",
   "execution_count": 16,
   "metadata": {},
   "outputs": [
    {
     "data": {
      "text/plain": [
       "<Figure size 640x480 with 0 Axes>"
      ]
     },
     "metadata": {},
     "output_type": "display_data"
    },
    {
     "data": {
      "image/png": "[encoded data removed]",
      "text/plain": [
       "<Figure size 500x500 with 1 Axes>"
      ]
     },
     "metadata": {},
     "output_type": "display_data"
    }
   ],
   "source": [
    "# Declare figure\n",
    "plt.figure()\n",
    "figure_ = sns.catplot(\n",
    "    data=df, kind=\"swarm\",\n",
    "    x=\"sign\", y=\"AUROC\",\n",
    ")\n",
    "\n",
    "# Format figure\n",
    "figure_ = (\n",
    "    figure_\n",
    "    .set_axis_labels(\"sign\", \"AUROC\")\n",
    "    .refline(y=0.5)\n",
    ")\n",
    "\n",
    "# Save and display figure\n",
    "plt.savefig(f\"{figures}/swarm_auroc-sign_{template_}.png\")\n",
    "figure_"
   ]
  },
  {
   "cell_type": "code",
   "execution_count": 17,
   "metadata": {},
   "outputs": [
    {
     "data": {
      "text/plain": [
       "<Figure size 640x480 with 0 Axes>"
      ]
     },
     "metadata": {},
     "output_type": "display_data"
    },
    {
     "data": {
      "image/png": "[encoded data removed]",
      "text/plain": [
       "<Figure size 563.75x500 with 1 Axes>"
      ]
     },
     "metadata": {},
     "output_type": "display_data"
    }
   ],
   "source": [
    "# Declare figure\n",
    "plt.figure()\n",
    "figure_ = sns.displot(\n",
    "    data=df, kind=\"hist\",\n",
    "    x=\"AUROC\",\n",
    "    hue=\"sign\", palette=[\"blue\", \"red\"]\n",
    ")\n",
    "\n",
    "# Format figure\n",
    "figure_ = (\n",
    "    figure_\n",
    "    .refline(y=0.5)\n",
    ")\n",
    "\n",
    "# Save and display figure\n",
    "plt.savefig(f\"{figures}/hist_auroc-sign_{template_}.png\")\n",
    "figure_"
   ]
  },
  {
   "cell_type": "markdown",
   "metadata": {},
   "source": [
    "# Discussion\n",
    "---"
   ]
  },
  {
   "cell_type": "markdown",
   "metadata": {},
   "source": [
    "## Observations"
   ]
  },
  {
   "cell_type": "markdown",
   "metadata": {},
   "source": [
    "Currently, the AUROC seems to be centered about 0.5 regardless of parameters."
   ]
  },
  {
   "cell_type": "markdown",
   "metadata": {},
   "source": [
    "## Interpretations"
   ]
  },
  {
   "cell_type": "markdown",
   "metadata": {},
   "source": [
    "The clear centering of $AUROC \\approx 0.5$ suggests that there is no noticeable effect from the parameters of the duplex. This certainly seems nonsensical, suggesting some bug.\n",
    "\n",
    "Note that I have also restricted to just the largest component of each remnant so the node2vec random walks wouldn't have to worry about isolated nodes."
   ]
  },
  {
   "cell_type": "markdown",
   "metadata": {},
   "source": [
    "## Follow-up"
   ]
  }
 ],
 "metadata": {
  "kernelspec": {
   "display_name": "Python 3.10.6 ('EmbeddedNaive')",
   "language": "python",
   "name": "python3"
  },
  "language_info": {
   "codemirror_mode": {
    "name": "ipython",
    "version": 3
   },
   "file_extension": ".py",
   "mimetype": "text/x-python",
   "name": "python",
   "nbconvert_exporter": "python",
   "pygments_lexer": "ipython3",
   "version": "3.10.6"
  },
  "orig_nbformat": 4,
  "vscode": {
   "interpreter": {
    "hash": "f5825d70345ee2a3649307867a940362a6242bb96acddd38c1a628ab339f97fa"
   }
  }
 },
 "nbformat": 4,
 "nbformat_minor": 2
}
