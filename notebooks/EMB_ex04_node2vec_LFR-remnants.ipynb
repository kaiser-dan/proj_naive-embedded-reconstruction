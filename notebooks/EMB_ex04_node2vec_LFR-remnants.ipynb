{
 "cells": [
  {
   "cell_type": "markdown",
   "metadata": {},
   "source": [
    "# Metadata\n",
    "---"
   ]
  },
  {
   "cell_type": "markdown",
   "metadata": {},
   "source": [
    "- Created: 2022-09-03\n",
    "- Last modified: 2022-09-20\n",
    "- Author: Daniel Kaiser\n",
    "- Project Identifiers: EMB_ex04\n",
    "- Last read and understood by: ???\n",
    "- Changelog:\n",
    "    - (2022-09-03) Initialized notebook\n",
    "    - (2022-09-03) Added LFR configuration, new probability models\n",
    "    - (2022-09-04) Updated parameters\n",
    "    - (2022-09-06) Updated parameters, added logistic probability model, fixed precision error bug\n",
    "    - (2022-09-06) Temporarily re-added PCA (removed > v1.3)\n",
    "    - (2022-09-07) Fixed score bug\n",
    "    - (2022-09-07) Added \"soft\" predictions\n",
    "    - (2022-09-08) Updated \"Discussion\" Reworked some pathing to make sharing with Filippo easier (removed later same day)\n",
    "    - (2022-09-12) Added Fast Laplacian Eigenmap Dimensionality Reduction to workflow\n",
    "    - (2022-09-20) Fixed indexing error"
   ]
  },
  {
   "cell_type": "markdown",
   "metadata": {},
   "source": [
    "# Preface\n",
    "---"
   ]
  },
  {
   "cell_type": "markdown",
   "metadata": {},
   "source": [
    "## Experiment protocol"
   ]
  },
  {
   "cell_type": "markdown",
   "metadata": {},
   "source": [
    "<!-- Yes, I know the &nbsp is annoying, tabs are automatically removed in basic markdown ok -->\n",
    "<u>**Experiment ID and project**</u>\n",
    "\n",
    "EMB_ex04\n",
    "\n",
    "<u>**Date designed and version**</u>\n",
    "\n",
    "- 2022-09-03v1.0\n",
    "- 2022-09-04v1.1\n",
    "- 2022-09-06v1.2\n",
    "- 2022-09-06v1.3\n",
    "- 2022-09-07v2.0\n",
    "- 2022-09-07v3.0\n",
    "- 2022-09-12v4.0\n",
    "- 2022-09-20v4.1\n",
    "\n",
    "<u>**Date conducted**</u>\n",
    "\n",
    "- 2022-09-03v1.0\n",
    "- 2022-09-04v1.1\n",
    "- 2022-09-06v1.2\n",
    "- 2022-09-06v1.3\n",
    "- 2022-09-07v2.0\n",
    "- 2022-09-07v3.0\n",
    "\n",
    "<u>**Researcher(s)**</u>\n",
    "\n",
    "Daniel Kaiser\n",
    "\n",
    "<u>**Description**</u>\n",
    "\n",
    "**Purpose**\n",
    "\n",
    "This experiment is designed to explore the accuracy of multiplex reconstruction utilizing Euclidean distance as a proxy for the likelihood of edge-layer placement. Embedding the \"remnant\" of each layer of a XOR-aggregated duplex (scale-free layers, configurable edge correlation), an edge to be classified from the aggregate is predicted to originate from the layer whose remnant embedding yields a smaller distance of the edge endpoints.\n",
    "\n",
    "**Hypothesis (if applicable)**\n",
    "\n",
    "The expected outcome of this experiment is an AUROC curve of classification that is an increasing function of PFI, decreasing function of degree homogeneity and edge correlation. Note this matches the high-level qualitative results of the naive Bayes approach used in earlier work. (Project identifier \"MEC\")\n",
    "\n",
    "<u>**Data & Code**</u>\n",
    "\n",
    "**Prerequisite data (if applicable)**\n",
    "\n",
    "This experiment measures AUROC on synthetic, configurable scale-free duplexes. The layers of the duplex are generated according to `Utils.py:lfr_multiplex(N, tau1, tau2, mu, average_degree, max_degree, min_community, prob_relabel)`. The configurable parameters are:\n",
    "\n",
    "- N; number of nodes (forced exact node overlap in layers)\n",
    "- $\\tau_1$; power-law exponent of degree sequence in each layer\n",
    "- $\\tau_2$; power-law exponent of community size sequence in each layer\n",
    "- $\\mu$; mixing parameter\n",
    "- $\\langle k \\rangle$; average degree\n",
    "- max($k$); maximum degree - forced to be $\\sqrt{N}$\n",
    "- min_community; minimum community size\n",
    "- prob_relabel; probability to relabel node assignment - breaks community correlations\n",
    "\n",
    "Additional paramaters include:\n",
    "\n",
    "- largest_component; flag if remnants should be restricted to largest component (forced with Mercator, optional here to maintain consistency)\n",
    "- pfi; relative size of multiplex topology observed _a priori_\n",
    "- metric; probability model selected (see Procedure#5)\n",
    "\n",
    "\n",
    "**Resultant data**\n",
    "\n",
    "The resultant data is in the form of a dataframe with columns:\n",
    "- N\n",
    "- $\\tau_1$\n",
    "- $\\tau_2$\n",
    "- $\\langle k \\rangle$\n",
    "- $\\mu$\n",
    "- prob\n",
    "- min_community\n",
    "- largest_component\n",
    "- pfi\n",
    "- metric\n",
    "- Accuracy\n",
    "- AUROC\n",
    "- dimensions\n",
    "- walk_length\n",
    "- num_walks\n",
    "- workers\n",
    "- window\n",
    "- min_count\n",
    "- batch_words\n",
    "\n",
    "Optionally, the node embeddings for each layer of the duplexes associated to each of these dataframe records can be saved as well. They should be saved as pickled numpy arrays of size (N, dimensions).\n",
    "\n",
    "**Code**\n",
    "\n",
    "This experiment relies on the script `Utils.py` or functions in this document. All code from `Utils.py` is original or only slightly modified MEC code from @Filippo Radicchi.\n",
    "\n",
    "@Elior Cohen and node2vec's [GitHub repo](https://github.com/eliorc/node2vec) inspired the function `embed_system`.\n",
    "\n",
    "Some package version updates in Gensim forced some adjustments - thanks to @555wen on [this StackExchange post](https://stackoverflow.com/questions/67413006/typeerror-init-got-an-unexpected-keyword-argument-size) from @yinky for pointing out a parameter name change. In the site-packages for node2vec, `node2vec.py:175` was altered from `if 'size' not in skip_gram_params:` to `if 'vector_size' not in skip_gram_params:`and `node2vec.py:176` was altered from `skip_gram_params['size'] = self.dimensions` to `skip_gram_params['vector_size'] = self.dimensions`.\n",
    "\n",
    "<u>**Procedure**</u>\n",
    "\n",
    "The following procedure was conducted to run this experiment and is sufficient to replicate the workflow along with code described in the \"Code\" section above.\n",
    "1. Generate duplex, $\\mathcal{M} = (V, (\\alpha, \\beta))$\n",
    "2. Aggregate duplex into a monoplex, $G$, and observe some partial information for each layer $\\mathcal{O}_{\\alpha}, \\mathcal{O}_{\\beta}$\n",
    "3. Create remnants by $\\mathcal{R}_{\\alpha} = G \\setminus \\mathcal{O}_{\\beta}, \\mathcal{R}_{\\beta} = G \\setminus \\mathcal{O}_{\\alpha}$\n",
    "4. Embed $\\mathcal{R}_{\\alpha}, \\mathcal{R}_{\\beta}$ separately using node2vec. Call the resultant embedded points $\\mathcal{D}_{\\alpha}, \\mathcal{D}_{\\beta}$.\n",
    "5. For $(i, j) \\in G \\setminus (\\mathcal{O}_{\\alpha} \\cup \\mathcal{O}_{\\beta})$, classify $(i,j)$ as having originated from layer $\\alpha$ ($\\beta$) with (one minus) the following probability:\n",
    "    $$\n",
    "        P((i,j) \\in \\alpha) = \\frac{\n",
    "            \\frac{1}{d_{\\alpha}^{\\varepsilon}(i,j)}\n",
    "        }{\n",
    "            \\frac{1}{d_{\\alpha}^{\\varepsilon}(i,j)} + \\frac{1}{d_{\\beta}^{\\varepsilon}(i,j)}\n",
    "        }\n",
    "    $$\n",
    "    or\n",
    "    $$\n",
    "        P((i,j) \\in \\alpha) = \\frac{\n",
    "            e^{-d_{\\alpha}^{\\varepsilon}(i,j)}\n",
    "        }{\n",
    "            e^{-d_{\\alpha}^{\\varepsilon}(i,j)} + e^{-d_{\\beta}^{\\varepsilon}(i,j)}\n",
    "        }\n",
    "    $$\n",
    "\n",
    "6. Calling the true originating layer of $(i, j) \\in G \\setminus (\\mathcal{O}_{\\alpha} \\cup \\mathcal{O}_{\\beta})$ as $l_{ij}$, measure $\\| l - \\hat{l} \\|$\n",
    "    - NOTE: Since this is a binary classification problem, we actually elect to use the AUROC of the classification of $(i,j) \\mapsto \\hat{l}_{ij}$ with ground truth $l_{ij}$. The vector norm is simply a more general form of measuring \"difference\" in our classifications and the ground truth."
   ]
  },
  {
   "cell_type": "markdown",
   "metadata": {},
   "source": [
    "## Theoretical foundations and symbol/prior result guide"
   ]
  },
  {
   "cell_type": "markdown",
   "metadata": {},
   "source": [
    "Will eventually ill in with background from project \"MEC\" but this seemed like a waste of time at the current moment"
   ]
  },
  {
   "cell_type": "markdown",
   "metadata": {},
   "source": [
    "# Experiment\n",
    "---"
   ]
  },
  {
   "cell_type": "markdown",
   "metadata": {},
   "source": [
    "## Setup"
   ]
  },
  {
   "cell_type": "markdown",
   "metadata": {},
   "source": [
    "### Imports"
   ]
  },
  {
   "cell_type": "code",
   "execution_count": 1,
   "metadata": {},
   "outputs": [],
   "source": [
    "# --- Standard library ---\n",
    "import sys  # System pathing\n",
    "import os\n",
    "import yaml  # Configuration files\n",
    "from datetime import datetime  # Timestamping data\n",
    "from copy import deepcopy  # Parameter grid processing\n",
    "from itertools import product\n",
    "\n",
    "# --- Scientific ---\n",
    "import numpy as np  # General computational tools\n",
    "from sklearn import metrics, decomposition  # Measuring classifier performance\n",
    "\n",
    "# --- Network science ---\n",
    "import networkx as nx  # General network tools\n",
    "from node2vec import Node2Vec as N2V  # Embedding tools\n",
    "from fastlapmap import LapEigenmap  # Laplacian Eigenmap dimensionality reduction\n",
    "\n",
    "# --- Project source code ---\n",
    "sys.path.append(\"../src/\")\n",
    "from Utils import *  # Custom synthetic benchmarks\n",
    "\n",
    "# --- Data handling and visualization ---\n",
    "import pandas as pd  # Dataframe tools\n",
    "from tabulate import tabulate  # Pretty printing for dataframes\n",
    "\n",
    "import seaborn as sns  # Easier plotting tools\n",
    "import matplotlib.pyplot as plt\n",
    "%matplotlib inline\n",
    "\n",
    "# --- Miscellaneous ---\n",
    "from tqdm.auto import tqdm  # Progress bar"
   ]
  },
  {
   "cell_type": "markdown",
   "metadata": {},
   "source": [
    "### Globals"
   ]
  },
  {
   "cell_type": "code",
   "execution_count": 2,
   "metadata": {},
   "outputs": [],
   "source": [
    "# --- Other import aliases ---\n",
    "today = datetime.today\n",
    "accuracy = metrics.accuracy_score\n",
    "auroc = metrics.roc_auc_score\n",
    "\n",
    "# --- Visualization ---\n",
    "rc_dict = {\n",
    "#   \"savefig.dpi\": 600,  # Saved figure dots-per-inch. 600 is \"HD\"\n",
    "  \"savefig.facecolor\": \"white\",  # This, combined with transparent setting, keeps saved figs from looking like trash on dark backgrounds \n",
    "  \"savefig.transparent\": False,\n",
    "#   \"figure.figsize\": (14, 10),  # Default (width, height) of figure\n",
    "}\n",
    "plt.rcParams.update(rc_dict)"
   ]
  },
  {
   "cell_type": "markdown",
   "metadata": {},
   "source": [
    "### Configuration"
   ]
  },
  {
   "cell_type": "code",
   "execution_count": 3,
   "metadata": {},
   "outputs": [],
   "source": [
    "# Processing configuration file\n",
    "config_ = \"../workflow/configs/test/LFR.yaml\"\n",
    "with open(config_, 'r') as _fh:\n",
    "    config = yaml.safe_load(_fh)\n",
    "\n",
    "# --- Convenience aliasing ---\n",
    "datafiles_ = config[\"workflow\"][\"datafiles\"]\n",
    "pathing_ = config[\"workflow\"][\"pathing\"]\n",
    "versioning_ = config[\"workflow\"][\"versioning\"]\n",
    "\n",
    "# - Pathing -\n",
    "tmp = pathing_[\"TMP\"]\n",
    "raw = pathing_[\"RAW\"]\n",
    "processed = pathing_[\"PROCESSED\"]\n",
    "figures = pathing_[\"FIGURES\"]\n",
    "if not os.path.exists(tmp):\n",
    "    os.path.mkdir(tmp)\n",
    "\n",
    "# - Versioning -\n",
    "project_id = versioning_[\"project_id\"]\n",
    "current_version = versioning_[\"current_version\"]\n",
    "researcher = versioning_[\"researcher\"]\n",
    "date = today().strftime(\"%Y%m%d\")\n",
    "\n",
    "# - Datafiles -\n",
    "save_vectors = datafiles_[\"KEEP_EMBEDDINGS\"]\n",
    "save_dataframe = datafiles_[\"KEEP_DATAFRAME\"]\n",
    "template_df = datafiles_[\"TEMPLATE_DF\"].format(\n",
    "    project_id=project_id, current_version=current_version,\n",
    "    researcher=researcher, date=date\n",
    ")\n",
    "template_vectors = datafiles_[\"TEMPLATE_VECTORS\"]  # formatted later"
   ]
  },
  {
   "cell_type": "markdown",
   "metadata": {},
   "source": [
    "### Functions"
   ]
  },
  {
   "cell_type": "code",
   "execution_count": 4,
   "metadata": {},
   "outputs": [],
   "source": [
    "def form_system(params):\n",
    "    # Process parameters\n",
    "    N = params[\"N\"]\n",
    "    tau1, tau2 = params[\"tau1\"], params[\"tau2\"]\n",
    "    mu, min_community = params[\"mu\"], params[\"min_community\"]\n",
    "    average_degree, max_degree = params[\"avg_k\"], int(np.sqrt(N))\n",
    "    prob_relabel = params[\"prob\"]\n",
    "    pfi = params[\"pfi\"]\n",
    "\n",
    "    # Form \"raw\" duplex\n",
    "    D, _sigma1, _sigma2, _mu_temp = lfr_multiplex(N, tau1, tau2, mu, average_degree, max_degree, min_community, prob_relabel)\n",
    "\n",
    "    # Split into layers\n",
    "    G, H = duplex_network(D, 1, 2)\n",
    "\n",
    "    # Observe partial information\n",
    "    R_G, R_H, testset = partial_information(G, H, pfi)\n",
    "\n",
    "    # Restrict to largest connected component (if specified)\n",
    "    if params[\"largest_component\"]:\n",
    "        R_G_ = nx.Graph()\n",
    "        R_H_ = nx.Graph()\n",
    "        R_G_.add_nodes_from(R_G.nodes())\n",
    "        R_H_.add_nodes_from(R_H.nodes())\n",
    "\n",
    "        maxcc_R_G = max(nx.connected_components(R_G), key=len)\n",
    "        maxcc_R_H = max(nx.connected_components(R_H), key=len)\n",
    "\n",
    "        edges_R_G_ = set(R_G.subgraph(maxcc_R_G).edges())\n",
    "        edges_R_H_ = set(R_H.subgraph(maxcc_R_H).edges())\n",
    "        R_G_.add_edges_from(edges_R_G_)\n",
    "        R_H_.add_edges_from(edges_R_H_)\n",
    "\n",
    "        testset = {\n",
    "            edge: gt_\n",
    "            for edge, gt_ in testset.items()\n",
    "            if edge in edges_R_H_ | edges_R_H_\n",
    "        }\n",
    "\n",
    "    return G, H, R_G, R_H, testset\n",
    "\n",
    "def embed_system(R_G, R_H, params):\n",
    "    # Process parameters\n",
    "    dimensions, walk_length, num_walks = params[\"dimensions\"], params[\"walk_length\"], params[\"num_walks\"]\n",
    "    workers, window, min_count, batch_words = params[\"workers\"], params[\"window\"], params[\"min_count\"], params[\"batch_words\"]\n",
    "\n",
    "    # Generate walks\n",
    "    R_G_emb = N2V(R_G, dimensions=dimensions, walk_length=walk_length, num_walks=num_walks, workers=workers, quiet=True).fit(window=window, min_count=min_count, batch_words=batch_words)\n",
    "    R_H_emb = N2V(R_H, dimensions=dimensions, walk_length=walk_length, num_walks=num_walks, workers=workers, quiet=True).fit(window=window, min_count=min_count, batch_words=batch_words)\n",
    "\n",
    "    # Retrieve embedded models\n",
    "    G_ = R_G_emb.wv\n",
    "    H_ = R_H_emb.wv\n",
    "\n",
    "    return G_, H_\n",
    "\n",
    "def reconstruct_system(testset, G, H, G_, H_, params):\n",
    "    cls = []\n",
    "    scores = []\n",
    "    gt = []\n",
    "\n",
    "    _dot = lambda x, y: np.exp(-1*np.dot(np.transpose(x), y))\n",
    "\n",
    "    for edge, gt_ in testset.items():\n",
    "        i, j = edge\n",
    "        gt.append(gt_)\n",
    "\n",
    "        v_G_i = G_[i]\n",
    "        v_G_j = G_[j]\n",
    "        v_H_i = H_[i]\n",
    "        v_H_j = H_[j]\n",
    "\n",
    "        if params[\"metric\"] == \"logistic\":\n",
    "            d_G = 1 / (1 + _dot(v_G_i, v_G_j))\n",
    "            d_H = 1 / (1 + _dot(v_H_i, v_H_j))\n",
    "        else:\n",
    "            d_G = np.linalg.norm(v_G_i - v_G_j)\n",
    "            d_H = np.linalg.norm(v_H_i - v_H_j)\n",
    "\n",
    "            if params[\"metric\"] == \"inverse\":\n",
    "                d_G = 1 / d_G\n",
    "                d_H = 1 / d_H\n",
    "            elif params[\"metric\"] == \"negexp\":\n",
    "                d_G = np.exp(-d_G)\n",
    "                d_H = np.exp(-d_H)\n",
    "\n",
    "        t_G = d_G / (d_G + d_H)\n",
    "        t_H = 1 - t_G\n",
    "\n",
    "        scores.append(t_G)\n",
    "\n",
    "        cls_ = np.random.randint(2)\n",
    "        if t_G != t_H:\n",
    "            if np.random.rand() <= t_G:\n",
    "                cls_ = 1\n",
    "            else:\n",
    "                cls_ = 0\n",
    "        cls.append(cls_)\n",
    "\n",
    "    return cls, scores, gt\n",
    "\n",
    "def measure_performance(cls, scores, gt):\n",
    "    acc = accuracy(gt, cls)\n",
    "    auc = auroc(gt, scores)\n",
    "\n",
    "    return acc, auc"
   ]
  },
  {
   "cell_type": "markdown",
   "metadata": {},
   "source": [
    "### Workflow"
   ]
  },
  {
   "cell_type": "code",
   "execution_count": 5,
   "metadata": {},
   "outputs": [],
   "source": [
    "def _process_grid(config):\n",
    "    # Initialize parameter grid\n",
    "    grid = []\n",
    "\n",
    "    # Initialize grid vertex archetype\n",
    "    params = {}\n",
    "\n",
    "    # Fill in static parameters (mostly embedding)\n",
    "    params.update(config[\"experiment\"][\"embedding\"])\n",
    "    params[\"largest_component\"] = config[\"experiment\"][\"params\"][\"largest_component\"]\n",
    "\n",
    "    # Fill in each vertex with dynamic parameters (network configurations)\n",
    "    network_ = config[\"network\"]\n",
    "    network_grid_ = product(*network_.values())\n",
    "    for repetition in range(config[\"experiment\"][\"params\"][\"repetitions\"]):  # repetitions\n",
    "        for (N, tau1, tau2, mu, avg_k, min_community, prob, pfi) in network_grid_:\n",
    "            for metric in config[\"experiment\"][\"params\"][\"distance\"]:\n",
    "                params_ = deepcopy(params)\n",
    "\n",
    "                params_[\"metric\"] = metric\n",
    "\n",
    "                params_[\"N\"] = N\n",
    "                params_[\"tau1\"] = tau1\n",
    "                params_[\"tau2\"] = tau2\n",
    "                params_[\"mu\"] = mu\n",
    "                params_[\"avg_k\"] = avg_k\n",
    "                params_[\"min_community\"] = min_community\n",
    "                params_[\"prob\"] = prob\n",
    "\n",
    "                params_[\"pfi\"] = pfi\n",
    "\n",
    "                params_[\"repetition\"] = repetition\n",
    "                grid.append(params_)\n",
    "\n",
    "    return grid\n",
    "\n",
    "def workflow(config):\n",
    "    # Process parameter grid\n",
    "    grid = _process_grid(config)\n",
    "\n",
    "    # Prepare results dataframe (dict)\n",
    "    df_ = {key: [] for key in grid[0].keys()}\n",
    "    df_[\"Accuracy\"] = []\n",
    "    df_[\"AUROC\"] = []\n",
    "\n",
    "    # Run experiment\n",
    "    for gv in tqdm(grid, desc=\"Experiment Parameter Sweep\", colour=\"purple\", ):\n",
    "        # Track parameters\n",
    "        for key, value in gv.items():\n",
    "            df_[key].append(value)\n",
    "\n",
    "        # Generate synthetic system and form remnants\n",
    "        G, H, R_G, R_H, agg = form_system(gv)\n",
    "\n",
    "        # Apply node2vec\n",
    "        R_G_embedding, R_H_embedding = embed_system(R_G, R_H, gv)\n",
    "\n",
    "        # Retrieve vectors from embedding model\n",
    "        # * NOTE: There is some random reindexing occuring\n",
    "        # * We use explicit index hash map here to avoid making embeddings incomparable\n",
    "        R_G_vectors = {\n",
    "            int(R_G_embedding.index_to_key[i]) : R_G_embedding.vectors[i]\n",
    "            for i in range(G.number_of_nodes())\n",
    "        }\n",
    "        R_H_vectors = {\n",
    "            int(R_H_embedding.index_to_key[i]) : R_H_embedding.vectors[i]\n",
    "            for i in range(H.number_of_nodes())\n",
    "        }\n",
    "\n",
    "        # Save embedding, if applicable\n",
    "        if save_vectors:\n",
    "            R_G_embedding.save_word2vec_format(\n",
    "                    template_vectors.format(\n",
    "                    tmp=tmp, name=\"LFR-original\",\n",
    "                    tau1=gv[\"tau1\"], tau2=gv[\"tau2\"], mu=gv[\"mu\"],\n",
    "                    prob=gv[\"prob\"], pfi=gv[\"pfi\"], repetition=gv[\"repetition\"]\n",
    "                )+\".mat\"\n",
    "            )\n",
    "            R_H_embedding.save_word2vec_format(\n",
    "                    template_vectors.format(\n",
    "                    tmp=tmp, name=\"LFR-shuffled\",\n",
    "                    tau1=gv[\"tau1\"], tau2=gv[\"tau2\"], mu=gv[\"mu\"],\n",
    "                    prob=gv[\"prob\"], pfi=gv[\"pfi\"], repetition=gv[\"repetition\"]\n",
    "                )+\".mat\"\n",
    "            )\n",
    "\n",
    "        # Reconstruct system from embeddings\n",
    "        cls, scores, gt = reconstruct_system(agg, G, H, R_G_vectors, R_H_vectors, gv)\n",
    "\n",
    "        # Measure performance\n",
    "        acc, auc = measure_performance(cls, scores, gt)\n",
    "\n",
    "        # Update performance measure columns\n",
    "        df_[\"Accuracy\"].append(acc)\n",
    "        df_[\"AUROC\"].append(auc)\n",
    "\n",
    "    # Format dataframe and save\n",
    "    df = pd.DataFrame(df_)\n",
    "\n",
    "    if save_dataframe:\n",
    "        df.to_csv(f\"{raw}/{template_df}.csv\")\n",
    "\n",
    "    return df"
   ]
  },
  {
   "cell_type": "markdown",
   "metadata": {},
   "source": [
    "## Computations"
   ]
  },
  {
   "cell_type": "code",
   "execution_count": 6,
   "metadata": {},
   "outputs": [
    {
     "name": "stderr",
     "output_type": "stream",
     "text": [
      "Experiment Parameter Sweep: 100%|██████████| 8/8 [08:15<00:00, 61.99s/it]\n"
     ]
    }
   ],
   "source": [
    "df = workflow(config)"
   ]
  },
  {
   "cell_type": "code",
   "execution_count": 7,
   "metadata": {},
   "outputs": [
    {
     "name": "stdout",
     "output_type": "stream",
     "text": [
      "╒════╤══════════╤═══════╤════════════╤══════════╕\n",
      "│    │ metric   │   pfi │   Accuracy │    AUROC │\n",
      "╞════╪══════════╪═══════╪════════════╪══════════╡\n",
      "│  0 │ inverse  │  0.05 │   0.503281 │ 0.608055 │\n",
      "├────┼──────────┼───────┼────────────┼──────────┤\n",
      "│  1 │ negexp   │  0.05 │   0.590582 │ 0.674203 │\n",
      "├────┼──────────┼───────┼────────────┼──────────┤\n",
      "│  2 │ inverse  │  0.33 │   0.517431 │ 0.789788 │\n",
      "├────┼──────────┼───────┼────────────┼──────────┤\n",
      "│  3 │ negexp   │  0.33 │   0.710775 │ 0.84197  │\n",
      "├────┼──────────┼───────┼────────────┼──────────┤\n",
      "│  4 │ inverse  │  0.67 │   0.551852 │ 0.850787 │\n",
      "├────┼──────────┼───────┼────────────┼──────────┤\n",
      "│  5 │ negexp   │  0.67 │   0.740038 │ 0.830074 │\n",
      "├────┼──────────┼───────┼────────────┼──────────┤\n",
      "│  6 │ inverse  │  0.95 │   0.55814  │ 0.650862 │\n",
      "├────┼──────────┼───────┼────────────┼──────────┤\n",
      "│  7 │ negexp   │  0.95 │   0.494505 │ 0.546154 │\n",
      "╘════╧══════════╧═══════╧════════════╧══════════╛\n"
     ]
    }
   ],
   "source": [
    "print(tabulate(df[[\"metric\", \"pfi\", \"Accuracy\", \"AUROC\"]], headers='keys', tablefmt='fancy_grid'))"
   ]
  },
  {
   "cell_type": "code",
   "execution_count": 8,
   "metadata": {},
   "outputs": [
    {
     "name": "stdout",
     "output_type": "stream",
     "text": [
      "╒════╤═══════╤════════════╤══════════╕\n",
      "│    │   pfi │   Accuracy │    AUROC │\n",
      "╞════╪═══════╪════════════╪══════════╡\n",
      "│  0 │  0.05 │   0.503281 │ 0.608055 │\n",
      "├────┼───────┼────────────┼──────────┤\n",
      "│  2 │  0.33 │   0.517431 │ 0.789788 │\n",
      "├────┼───────┼────────────┼──────────┤\n",
      "│  4 │  0.67 │   0.551852 │ 0.850787 │\n",
      "├────┼───────┼────────────┼──────────┤\n",
      "│  6 │  0.95 │   0.55814  │ 0.650862 │\n",
      "╘════╧═══════╧════════════╧══════════╛\n"
     ]
    }
   ],
   "source": [
    "print(tabulate(df.loc[df[\"metric\"] == 'inverse'][[\"pfi\", \"Accuracy\", \"AUROC\"]], headers='keys', tablefmt='fancy_grid'))"
   ]
  },
  {
   "cell_type": "markdown",
   "metadata": {},
   "source": [
    "# Analysis\n",
    "---"
   ]
  },
  {
   "cell_type": "markdown",
   "metadata": {},
   "source": [
    "## Post-processing data"
   ]
  },
  {
   "cell_type": "markdown",
   "metadata": {},
   "source": [
    "## Visualization"
   ]
  },
  {
   "cell_type": "markdown",
   "metadata": {},
   "source": [
    "### Initial exploration"
   ]
  },
  {
   "cell_type": "code",
   "execution_count": 21,
   "metadata": {},
   "outputs": [
    {
     "data": {
      "text/plain": [
       "<Figure size 640x480 with 0 Axes>"
      ]
     },
     "metadata": {},
     "output_type": "display_data"
    },
    {
     "data": {
      "image/png": "[encoded data removed]",
      "text/plain": [
       "<Figure size 500x500 with 1 Axes>"
      ]
     },
     "metadata": {},
     "output_type": "display_data"
    }
   ],
   "source": [
    "# Declare figure\n",
    "plt.figure()\n",
    "figure_ = sns.displot(\n",
    "    data=df, kind=\"hist\",\n",
    "    x=\"AUROC\"\n",
    ")\n",
    "\n",
    "# Format figure\n",
    "figure_ = (\n",
    "    figure_\n",
    "    .refline(x=0.5)\n",
    ")\n",
    "\n",
    "# Save and display figure\n",
    "#plt.savefig(f\"{figures}/hist_auroc_{template_df}.png\")\n",
    "figure_"
   ]
  },
  {
   "cell_type": "code",
   "execution_count": 22,
   "metadata": {},
   "outputs": [
    {
     "data": {
      "text/plain": [
       "<Figure size 640x480 with 0 Axes>"
      ]
     },
     "metadata": {},
     "output_type": "display_data"
    },
    {
     "data": {
      "image/png": "[encoded data removed]",
      "text/plain": [
       "<Figure size 500x500 with 1 Axes>"
      ]
     },
     "metadata": {},
     "output_type": "display_data"
    }
   ],
   "source": [
    "# Declare figure\n",
    "plt.figure()\n",
    "figure_ = sns.displot(\n",
    "    data=df, kind=\"hist\",\n",
    "    x=\"Accuracy\"\n",
    ")\n",
    "\n",
    "# Format figure\n",
    "figure_ = (\n",
    "    figure_\n",
    "    .refline(x=0.5)\n",
    ")\n",
    "\n",
    "# Save and display figure\n",
    "#plt.savefig(f\"{figures}/hist_accuracy_{template_df}.png\")\n",
    "figure_"
   ]
  },
  {
   "cell_type": "markdown",
   "metadata": {},
   "source": [
    "### Effect of PFI"
   ]
  },
  {
   "cell_type": "code",
   "execution_count": 24,
   "metadata": {},
   "outputs": [
    {
     "data": {
      "text/plain": [
       "<Figure size 640x480 with 0 Axes>"
      ]
     },
     "metadata": {},
     "output_type": "display_data"
    },
    {
     "data": {
      "image/png": "[encoded data removed]",
      "text/plain": [
       "<Figure size 500x500 with 1 Axes>"
      ]
     },
     "metadata": {},
     "output_type": "display_data"
    }
   ],
   "source": [
    "# Declare figure\n",
    "plt.figure()\n",
    "figure_ = sns.relplot(\n",
    "    data=df, kind=\"scatter\",\n",
    "    x=\"pfi\", y=\"AUROC\",\n",
    ")\n",
    "\n",
    "# Format figure\n",
    "figure_ = (\n",
    "    figure_\n",
    "    .set_axis_labels(\"PFI\", \"AUROC\")\n",
    "    .refline(y=0.5)\n",
    ")\n",
    "\n",
    "# Save and display figure\n",
    "#plt.savefig(f\"{figures}/scatter_auroc-pfi_{template_df}.png\")\n",
    "figure_"
   ]
  },
  {
   "cell_type": "markdown",
   "metadata": {},
   "source": [
    "### Effect of metric"
   ]
  },
  {
   "cell_type": "code",
   "execution_count": 31,
   "metadata": {},
   "outputs": [
    {
     "data": {
      "text/plain": [
       "<Figure size 640x480 with 0 Axes>"
      ]
     },
     "metadata": {},
     "output_type": "display_data"
    },
    {
     "data": {
      "image/png": "[encoded data removed]",
      "text/plain": [
       "<Figure size 601.5x500 with 1 Axes>"
      ]
     },
     "metadata": {},
     "output_type": "display_data"
    }
   ],
   "source": [
    "# Declare figure\n",
    "plt.figure()\n",
    "figure_ = sns.relplot(\n",
    "    data=df, kind=\"scatter\",\n",
    "    x=\"pfi\", y=\"AUROC\",\n",
    "    hue=\"metric\"\n",
    ")\n",
    "\n",
    "# Format figure\n",
    "figure_ = (\n",
    "    figure_\n",
    "    .set_axis_labels(\"PFI\", \"AUROC\")\n",
    "    .refline(y=0.5)\n",
    ")\n",
    "\n",
    "# Save and display figure\n",
    "#plt.savefig(f\"{figures}/scatter_auroc-pfi_{template_df}.png\")\n",
    "figure_"
   ]
  },
  {
   "cell_type": "markdown",
   "metadata": {},
   "source": [
    "### Effect of degree heterogeneity ($\\tau_1$)"
   ]
  },
  {
   "cell_type": "code",
   "execution_count": 27,
   "metadata": {},
   "outputs": [
    {
     "data": {
      "text/plain": [
       "<Figure size 640x480 with 0 Axes>"
      ]
     },
     "metadata": {},
     "output_type": "display_data"
    },
    {
     "data": {
      "image/png": "[encoded data removed]",
      "text/plain": [
       "<Figure size 500x500 with 1 Axes>"
      ]
     },
     "metadata": {},
     "output_type": "display_data"
    }
   ],
   "source": [
    "# Declare figure\n",
    "plt.figure()\n",
    "figure_ = sns.catplot(\n",
    "    data=df, kind=\"swarm\",\n",
    "    x=\"tau1\", y=\"AUROC\",\n",
    ")\n",
    "\n",
    "# Format figure\n",
    "figure_ = (\n",
    "    figure_\n",
    "    .set_axis_labels(\"$\\tau_1$\", \"AUROC\")\n",
    "    .refline(y=0.5)\n",
    ")\n",
    "\n",
    "# Save and display figure\n",
    "#plt.savefig(f\"{figures}/swarm_auroc-gamma_{template_df}.png\")\n",
    "figure_"
   ]
  },
  {
   "cell_type": "code",
   "execution_count": 29,
   "metadata": {},
   "outputs": [
    {
     "data": {
      "text/plain": [
       "<Figure size 640x480 with 0 Axes>"
      ]
     },
     "metadata": {},
     "output_type": "display_data"
    },
    {
     "data": {
      "image/png": "[encoded data removed]",
      "text/plain": [
       "<Figure size 572.125x500 with 1 Axes>"
      ]
     },
     "metadata": {},
     "output_type": "display_data"
    }
   ],
   "source": [
    "# Declare figure\n",
    "plt.figure()\n",
    "figure_ = sns.displot(\n",
    "    data=df, kind=\"hist\",\n",
    "    x=\"AUROC\",\n",
    "    hue=\"tau1\"\n",
    ")\n",
    "\n",
    "# Format figure\n",
    "figure_ = (\n",
    "    figure_\n",
    "    .refline(y=0.5)\n",
    ")\n",
    "\n",
    "# Save and display figure\n",
    "#plt.savefig(f\"{figures}/hist_auroc-gamma_{template_df}.png\")\n",
    "figure_"
   ]
  },
  {
   "cell_type": "markdown",
   "metadata": {},
   "source": [
    "### Effect of correlation prob"
   ]
  },
  {
   "cell_type": "code",
   "execution_count": 30,
   "metadata": {},
   "outputs": [
    {
     "data": {
      "text/plain": [
       "<Figure size 640x480 with 0 Axes>"
      ]
     },
     "metadata": {},
     "output_type": "display_data"
    },
    {
     "data": {
      "image/png": "[encoded data removed]",
      "text/plain": [
       "<Figure size 500x500 with 1 Axes>"
      ]
     },
     "metadata": {},
     "output_type": "display_data"
    }
   ],
   "source": [
    "# Declare figure\n",
    "plt.figure()\n",
    "figure_ = sns.catplot(\n",
    "    data=df, kind=\"swarm\",\n",
    "    x=\"prob\", y=\"AUROC\",\n",
    ")\n",
    "\n",
    "# Format figure\n",
    "figure_ = (\n",
    "    figure_\n",
    "    .set_axis_labels(\"prob\", \"AUROC\")\n",
    "    .refline(y=0.5)\n",
    ")\n",
    "\n",
    "# Save and display figure\n",
    "#plt.savefig(f\"{figures}/swarm_auroc-prob_{template_df}.png\")\n",
    "figure_"
   ]
  },
  {
   "cell_type": "markdown",
   "metadata": {},
   "source": [
    "# Discussion\n",
    "---"
   ]
  },
  {
   "cell_type": "markdown",
   "metadata": {},
   "source": [
    "## Observations"
   ]
  },
  {
   "cell_type": "markdown",
   "metadata": {},
   "source": [
    "With the node indexing fix the classifier appears to be performing significantly better.\n",
    "\n",
    "More precisely, the performance is increasing as a function of PFI - up to some threshold where it starts to \"lose steam.\" This maximum also appears to correspond to a point where the negative exponential and inverse likelihood functions switch relative performance rankings."
   ]
  },
  {
   "cell_type": "markdown",
   "metadata": {},
   "source": [
    "## Interpretations"
   ]
  },
  {
   "cell_type": "markdown",
   "metadata": {},
   "source": [
    "The dramatic improvement from last week is highly encouraging and suggests that perhaps the entirety of the problem was in the seemingly random reindexing of node vectors, not corresponding to node id.\n",
    "\n",
    "The concavity and maximum not at supremum boundary, however, is relatively concerning. Specifically, I expected the performance to be an approximately monotonic function of PFI, up to simulation noise.\n",
    "\n",
    "This was a \"debug\" run, so very minimal parameter values were explored. Hence, no other parameters have obvious effects here."
   ]
  },
  {
   "cell_type": "markdown",
   "metadata": {},
   "source": [
    "## Follow-up"
   ]
  },
  {
   "cell_type": "markdown",
   "metadata": {},
   "source": [
    "Now that we have a \"proof of concept\" run, it is time to set up a Snakemake workflow to do a larger sweep."
   ]
  }
 ],
 "metadata": {
  "kernelspec": {
   "display_name": "Python 3.9.5 64-bit",
   "language": "python",
   "name": "python3"
  },
  "language_info": {
   "codemirror_mode": {
    "name": "ipython",
    "version": 3
   },
   "file_extension": ".py",
   "mimetype": "text/x-python",
   "name": "python",
   "nbconvert_exporter": "python",
   "pygments_lexer": "ipython3",
   "version": "3.9.5"
  },
  "orig_nbformat": 4,
  "vscode": {
   "interpreter": {
    "hash": "36cf16204b8548560b1c020c4e8fb5b57f0e4c58016f52f2d4be01e192833930"
   }
  }
 },
 "nbformat": 4,
 "nbformat_minor": 2
}
