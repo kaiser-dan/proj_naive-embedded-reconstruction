{
 "cells": [
  {
   "cell_type": "markdown",
   "metadata": {},
   "source": [
    "# Metadata\n",
    "---"
   ]
  },
  {
   "cell_type": "markdown",
   "metadata": {},
   "source": [
    "- Created: 2022-10-03\n",
    "- Last modified: 2022-10-06\n",
    "- Author: Daniel Kaiser\n",
    "- Project Identifiers: EMB_ex07R\n",
    "- Last read and understood by: ???\n",
    "- Changelog:\n",
    "    - (2022-10-03) Initialized notebook\n",
    "    - (2022-10-06) Adjusted to remove custom per-component embedding"
   ]
  },
  {
   "cell_type": "markdown",
   "metadata": {},
   "source": [
    "# Preface\n",
    "---"
   ]
  },
  {
   "cell_type": "markdown",
   "metadata": {},
   "source": [
    "## Experiment protocol"
   ]
  },
  {
   "cell_type": "markdown",
   "metadata": {},
   "source": [
    "<u>**Experiment ID and project**</u>\n",
    "\n",
    "EMB_ex07R\n",
    "\n",
    "<u>**Date designed and version**</u>\n",
    "\n",
    "- (2022-10-03) v1.0\n",
    "- (2022-10-06) v2.0\n",
    "\n",
    "\n",
    "<u>**Date conducted**</u>\n",
    "\n",
    "- (2022-10-03) v1.0\n",
    "- (2022-10-06|) v2.0\n",
    "\n",
    "<u>**Researcher(s)**</u>\n",
    "\n",
    "Daniel Kaiser\n",
    "\n",
    "<u>**Description**</u>\n",
    "\n",
    "**Purpose**\n",
    "\n",
    "This experiment is designed to explore the accuracy of multiplex reconstruction utilizing Euclidean distance as a proxy for the likelihood of edge-layer placement. Embedding the \"remnant\" of each layer of a XOR-aggregated duplex, an edge to be classified from the aggregate is predicted to originate from the layer whose remnant embedding yields a smaller distance of the edge endpoints.\n",
    "\n",
    "**Hypothesis (if applicable)**\n",
    "\n",
    "The expected outcome of this experiment is an AUROC curve of classification that is an increasing function of PFI, decreasing function of degree homogeneity and edge correlation. Note this matches the high-level qualitative results of the naive Bayes approach used in earlier work. (Project identifier \"MEC\")\n",
    "\n",
    "<u>**Data & Code**</u>\n",
    "\n",
    "**Prerequisite data (if applicable)**\n",
    "\n",
    "This experiment measures AUROC on a small collection of well-researched dyadic multiplexes. These are the datasets:\n",
    "\n",
    "- arXiv collaborations (N nodes, 13 layers)\n",
    "- _C. Elegans_ connectome (279 nodes, 3 layers)\n",
    "- _Drosophila_ genetic interactions (N nodes, 7 layers)\n",
    "- London transportation (N nodes, 3 layers)\n",
    "\n",
    "Additional paramaters include:\n",
    "\n",
    "- largest_component; flag if remnants should be restricted to largest component (forced with Mercator, optional here to maintain consistency)\n",
    "- pfi; relative size of multiplex topology observed _a priori_\n",
    "- metric; probability model selected (see Procedure#5)\n",
    "\n",
    "\n",
    "**Resultant data**\n",
    "\n",
    "The resultant data is in the form of a dataframe with columns:\n",
    "- system -- name of multiplex\n",
    "- left -- layer id of induced duplex layer one\n",
    "- right -- layer id of induced duplex layer two\n",
    "- largest_component -- boolean flag indicating restriction to largest component\n",
    "- pfi -- relative size of _a priori_ subtensor\n",
    "- metric -- string indicator of likelihood model used\n",
    "- Accuracy  -- accuracy of classifications\n",
    "- AUROC -- area under ROC curve of prediction scores\n",
    "- dimensions -- embedding dimension\n",
    "- walk_length  -- length of samples walks\n",
    "- num_walks -- number of walks per node\n",
    "- workers -- cores (threads?) per random walk process\n",
    "- window -- ??\n",
    "- min_count -- ??\n",
    "- batch_words -- ??\n",
    "\n",
    "**Code**\n",
    "\n",
    "This experiment relies on the custom modules `synthetic.py` & `utils.py` from the `src/` directory, or functions in this document. All code from `src/` is original or only slightly modified MEC code from @Filippo Radicchi.\n",
    "\n",
    "@Elior Cohen and node2vec's [GitHub repo](https://github.com/eliorc/node2vec) inspired the function `embed_system`.\n",
    "\n",
    "Some package version updates in Gensim forced some adjustments - thanks to @555wen on [this StackExchange post](https://stackoverflow.com/questions/67413006/typeerror-init-got-an-unexpected-keyword-argument-size) from @yinky for pointing out a parameter name change. In the site-packages for node2vec, `node2vec.py:175` was altered from `if 'size' not in skip_gram_params:` to `if 'vector_size' not in skip_gram_params:`and `node2vec.py:176` was altered from `skip_gram_params['size'] = self.dimensions` to `skip_gram_params['vector_size'] = self.dimensions`.\n",
    "\n",
    "<u>**Procedure**</u>\n",
    "\n",
    "The following procedure was conducted to run this experiment and is sufficient to replicate the workflow along with code described in the \"Code\" section above.\n",
    "1. Load duplex, $\\mathcal{M} = (V, (\\alpha, \\beta))$\n",
    "2. Aggregate duplex into a monoplex, $G$, and observe some partial information for each layer $\\mathcal{O}_{\\alpha}, \\mathcal{O}_{\\beta}$\n",
    "3. Create remnants by $\\mathcal{R}_{\\alpha} = G \\setminus \\mathcal{O}_{\\beta}, \\mathcal{R}_{\\beta} = G \\setminus \\mathcal{O}_{\\alpha}$\n",
    "4. Embed $\\mathcal{R}_{\\alpha}, \\mathcal{R}_{\\beta}$ separately using node2vec. Call the resultant embedded points $\\mathcal{D}_{\\alpha}, \\mathcal{D}_{\\beta}$.\n",
    "5. For $(i, j) \\in G \\setminus (\\mathcal{O}_{\\alpha} \\cup \\mathcal{O}_{\\beta})$, classify $(i,j)$ as having originated from layer $\\alpha$ ($\\beta$) with (one minus) the following probability:\n",
    "    $$\n",
    "        P((i,j) \\in \\alpha) = \\frac{\n",
    "            \\frac{1}{d_{\\alpha}^{\\varepsilon}(i,j)}\n",
    "        }{\n",
    "            \\frac{1}{d_{\\alpha}^{\\varepsilon}(i,j)} + \\frac{1}{d_{\\beta}^{\\varepsilon}(i,j)}\n",
    "        }\n",
    "    $$\n",
    "    or\n",
    "    $$\n",
    "        P((i,j) \\in \\alpha) = \\frac{\n",
    "            e^{-d_{\\alpha}^{\\varepsilon}(i,j)}\n",
    "        }{\n",
    "            e^{-d_{\\alpha}^{\\varepsilon}(i,j)} + e^{-d_{\\beta}^{\\varepsilon}(i,j)}\n",
    "        }\n",
    "    $$\n",
    "\n",
    "6. Calling the true originating layer of $(i, j) \\in G \\setminus (\\mathcal{O}_{\\alpha} \\cup \\mathcal{O}_{\\beta})$ as $l_{ij}$, measure $\\| l - \\hat{l} \\|$\n",
    "    - NOTE: Since this is a binary classification problem, we actually elect to use the AUROC of the classification of $(i,j) \\mapsto \\hat{l}_{ij}$ with ground truth $l_{ij}$. The vector norm is simply a more general form of measuring \"difference\" in our classifications and the ground truth."
   ]
  },
  {
   "cell_type": "markdown",
   "metadata": {},
   "source": [
    "## Theoretical foundations and symbol/prior result guide"
   ]
  },
  {
   "cell_type": "markdown",
   "metadata": {},
   "source": [
    "Will eventually ill in with background from project \"MEC\" but this seemed like a waste of time at the current moment"
   ]
  },
  {
   "cell_type": "markdown",
   "metadata": {},
   "source": [
    "# Experiment\n",
    "---"
   ]
  },
  {
   "cell_type": "markdown",
   "metadata": {},
   "source": [
    "## Setup"
   ]
  },
  {
   "cell_type": "markdown",
   "metadata": {},
   "source": [
    "### Imports"
   ]
  },
  {
   "cell_type": "code",
   "execution_count": 1,
   "metadata": {},
   "outputs": [],
   "source": [
    "# --- Standard library ---\n",
    "import sys  # System pathing\n",
    "import os\n",
    "import yaml  # Configuration files\n",
    "from datetime import datetime  # Timestamping data\n",
    "from copy import deepcopy  # Parameter grid processing\n",
    "from itertools import product\n",
    "\n",
    "# --- Scientific ---\n",
    "import numpy as np  # General computational tools\n",
    "from sklearn import metrics  # Measuring classifier performance\n",
    "\n",
    "# --- Network science ---\n",
    "import networkx as nx  # General network tools\n",
    "from node2vec import Node2Vec as N2V  # Embedding tools\n",
    "\n",
    "# --- Project source code ---\n",
    "sys.path.append(\"../src/\")\n",
    "from synthetic import *  # Custom synthetic benchmarks\n",
    "from utils import *\n",
    "\n",
    "# --- Data handling and visualization ---\n",
    "import pandas as pd  # Dataframe tools\n",
    "from tabulate import tabulate  # Pretty printing for dataframes\n",
    "\n",
    "import seaborn as sns  # Easier plotting tools\n",
    "import matplotlib.pyplot as plt\n",
    "%matplotlib inline\n",
    "\n",
    "# --- Miscellaneous ---\n",
    "from tqdm.auto import tqdm  # Progress bar"
   ]
  },
  {
   "cell_type": "markdown",
   "metadata": {},
   "source": [
    "### Globals"
   ]
  },
  {
   "cell_type": "code",
   "execution_count": 2,
   "metadata": {},
   "outputs": [],
   "source": [
    "# --- Other aliases ---\n",
    "today = datetime.today\n",
    "accuracy = metrics.accuracy_score\n",
    "auroc = metrics.roc_auc_score\n",
    "\n",
    "# --- Visualization ---\n",
    "rc_dict = {\n",
    "  \"savefig.dpi\": 900,  # Saved figure dots-per-inch. 600 is \"HD\"\n",
    "  \"savefig.facecolor\": \"white\",  # This, combined with transparent setting, keeps saved figs from looking like trash on dark backgrounds \n",
    "  \"savefig.transparent\": False,\n",
    "  \"figure.figsize\": (14, 10),  # Default (width, height) of figure\n",
    "}\n",
    "plt.rcParams.update(rc_dict)"
   ]
  },
  {
   "cell_type": "markdown",
   "metadata": {},
   "source": [
    "### Configuration"
   ]
  },
  {
   "cell_type": "code",
   "execution_count": 3,
   "metadata": {},
   "outputs": [],
   "source": [
    "# - Versioning -\n",
    "project_id = \"EMB_ex07R\"\n",
    "current_version = \"v2.0\"\n",
    "researcher = \"DK\"\n",
    "date = today().strftime(\"%Y%m%d\")\n",
    "\n",
    "df_template = f\"dataframe_{project_id}{current_version}_{researcher}_{date}\""
   ]
  },
  {
   "cell_type": "markdown",
   "metadata": {},
   "source": [
    "### Functions"
   ]
  },
  {
   "cell_type": "code",
   "execution_count": 4,
   "metadata": {},
   "outputs": [],
   "source": [
    "# --- Drivers ---\n",
    "def embed_system(remnant_G, remnant_H, hyperparams, embedding_method = \"node2vec\", per_component=True):\n",
    "    N = remnant_G.number_of_nodes()\n",
    "\n",
    "    # Apply embedding to remnant graphs\n",
    "    if embedding_method == \"node2vec\":\n",
    "        R_G_embedded_model, R_H_embedded_model = helper_node2vec(remnant_G, remnant_H, hyperparams, per_component=per_component)\n",
    "\n",
    "        # * NOTE: Need to apply indexing function!\n",
    "        R_G_vectors = helper_index_vectors_from_model(R_G_embedded_model, range(N), per_component=per_component)\n",
    "        R_H_vectors = helper_index_vectors_from_model(R_H_embedded_model, range(N), per_component=per_component)\n",
    "    else:\n",
    "        raise NotImplementedError(\"Only Node2Vec prepared rn!\")\n",
    "\n",
    "    # Retrieve vectors from embedding\n",
    "\n",
    "    return R_G_vectors, R_H_vectors\n",
    "\n",
    "\n",
    "# --- Helpers ---\n",
    "def helper_node2vec(remnant_G, remnant_H, hyperparams, per_component=True):\n",
    "    # Process hyperparameters\n",
    "    # Embedding parameters\n",
    "    dimensions, walk_length, num_walks = hyperparams[\"dimensions\"], hyperparams[\"walk_length\"], hyperparams[\"num_walks\"]\n",
    "\n",
    "    # Computing parameters\n",
    "    workers, window, min_count, batch_words = hyperparams[\"workers\"], hyperparams[\"window\"], hyperparams[\"min_count\"], hyperparams[\"batch_words\"]\n",
    "\n",
    "\n",
    "    # Begin embedding (possibly by component)\n",
    "    if per_component:\n",
    "        G_ = []\n",
    "        H_ = []\n",
    "        for c, component in enumerate(nx.connected_components(remnant_G)):\n",
    "            component = remnant_G.subgraph(component).copy()\n",
    "\n",
    "            R_G_embedding = N2V(component, dimensions=dimensions, walk_length=walk_length, num_walks=num_walks, workers=workers, quiet=True)\n",
    "            R_G_embedding = R_G_embedding.fit(window=window, min_count=min_count, batch_words=batch_words)\n",
    "            R_G_embedded_model = R_G_embedding.wv\n",
    "            G_.append(R_G_embedded_model)\n",
    "\n",
    "        for component in nx.connected_components(remnant_H):\n",
    "            component = remnant_H.subgraph(component).copy()\n",
    "\n",
    "            R_H_embedding = N2V(component, dimensions=dimensions, walk_length=walk_length, num_walks=num_walks, workers=workers, quiet=True)\n",
    "            R_H_embedding = R_H_embedding.fit(window=window, min_count=min_count, batch_words=batch_words)\n",
    "            R_H_embedded_model = R_H_embedding.wv\n",
    "            H_.append(R_H_embedded_model)\n",
    "\n",
    "        return G_, H_\n",
    "\n",
    "    else:\n",
    "        # Generate walks\n",
    "        R_G_embedding = N2V(remnant_G, dimensions=dimensions, walk_length=walk_length, num_walks=num_walks, workers=workers, quiet=True)\n",
    "        R_H_embedding = N2V(remnant_H, dimensions=dimensions, walk_length=walk_length, num_walks=num_walks, workers=workers, quiet=True)\n",
    "\n",
    "        # Fit word2vec models\n",
    "        R_G_embedding = R_G_embedding.fit(window=window, min_count=min_count, batch_words=batch_words)\n",
    "        R_H_embedding = R_H_embedding.fit(window=window, min_count=min_count, batch_words=batch_words)\n",
    "\n",
    "        # Retrieve embedded models\n",
    "        R_G_embedded_model = R_G_embedding.wv\n",
    "        R_H_embedded_model = R_H_embedding.wv\n",
    "\n",
    "        return R_G_embedded_model, R_H_embedded_model, None\n",
    "\n",
    "def helper_index_vectors_from_model(embedding_model, node_index_range, per_component=True):\n",
    "    if per_component:\n",
    "        vectors = {node_: 0 for node_ in node_index_range}\n",
    "\n",
    "        for component in embedding_model:\n",
    "            index_ = component.index_to_key\n",
    "            vectors_ = component.vectors\n",
    "\n",
    "            vectors.update({\n",
    "                int(index_[idx]): vectors_[idx]\n",
    "                for idx in range(len(index_))\n",
    "            })\n",
    "\n",
    "    else:\n",
    "        index_ = embedding_model.index_to_key\n",
    "        vectors_ = embedding_model.vectors\n",
    "\n",
    "        vectors = {int(index_[idx]): vectors_[idx] for idx in node_index_range}\n",
    "\n",
    "    return vectors"
   ]
  },
  {
   "cell_type": "code",
   "execution_count": 5,
   "metadata": {},
   "outputs": [],
   "source": [
    "def format_system(params):\n",
    "    # Process parameters\n",
    "    pfi = params[\"pfi\"]\n",
    "    system = params[\"system\"]\n",
    "    left = params[\"left\"]\n",
    "    right = params[\"right\"]\n",
    "\n",
    "    # Form \"raw\" duplex\n",
    "    multiplex = read_file(f\"../data/input/preprocessed/real/duplex_system={system}.edgelist\")\n",
    "\n",
    "    # Split into layers\n",
    "    G, H = duplex_network(multiplex, left, right)\n",
    "\n",
    "    # Observe partial information\n",
    "    R_G, R_H, testset = partial_information(G, H, pfi)\n",
    "\n",
    "    # Restrict to largest connected component (if specified)\n",
    "    if params[\"largest_component\"]:\n",
    "        R_G_ = nx.Graph()\n",
    "        R_H_ = nx.Graph()\n",
    "        R_G_.add_nodes_from(R_G.nodes())\n",
    "        R_H_.add_nodes_from(R_H.nodes())\n",
    "\n",
    "        maxcc_R_G = max(nx.connected_components(R_G), key=len)\n",
    "        maxcc_R_H = max(nx.connected_components(R_H), key=len)\n",
    "\n",
    "        edges_R_G_ = set(R_G.subgraph(maxcc_R_G).edges())\n",
    "        edges_R_H_ = set(R_H.subgraph(maxcc_R_H).edges())\n",
    "        R_G_.add_edges_from(edges_R_G_)\n",
    "        R_H_.add_edges_from(edges_R_H_)\n",
    "\n",
    "        testset = {\n",
    "            edge: gt_\n",
    "            for edge, gt_ in testset.items()\n",
    "            if edge in edges_R_H_ | edges_R_H_\n",
    "        }\n",
    "\n",
    "    return G, H, R_G, R_H, testset\n",
    "\n",
    "# def embed_system(R_G, R_H, params):\n",
    "#     # Process parameters\n",
    "#     dimensions, walk_length, num_walks = params[\"dimensions\"], params[\"walk_length\"], params[\"num_walks\"]\n",
    "#     workers, window, min_count, batch_words = params[\"workers\"], params[\"window\"], params[\"min_count\"], params[\"batch_words\"]\n",
    "\n",
    "#     # Generate walks\n",
    "#     R_G_emb = N2V(R_G, dimensions=dimensions, walk_length=walk_length, num_walks=num_walks, workers=workers, quiet=True).fit(window=window, min_count=min_count, batch_words=batch_words)\n",
    "#     R_H_emb = N2V(R_H, dimensions=dimensions, walk_length=walk_length, num_walks=num_walks, workers=workers, quiet=True).fit(window=window, min_count=min_count, batch_words=batch_words)\n",
    "\n",
    "#     # Retrieve embedded models\n",
    "#     G_ = R_G_emb.wv\n",
    "#     H_ = R_H_emb.wv\n",
    "\n",
    "#     return G_, H_\n",
    "\n",
    "def reconstruct_system(testset, G, H, G_, H_, params):\n",
    "    cls = []\n",
    "    scores = []\n",
    "    gt = []\n",
    "\n",
    "    _dot = lambda x, y: np.exp(-1*np.dot(np.transpose(x), y))\n",
    "\n",
    "    for edge, gt_ in testset.items():\n",
    "        i, j = edge\n",
    "        gt.append(gt_)\n",
    "\n",
    "        v_G_i = G_[i]\n",
    "        v_G_j = G_[j]\n",
    "        v_H_i = H_[i]\n",
    "        v_H_j = H_[j]\n",
    "\n",
    "        if params[\"metric\"] == \"logistic\":\n",
    "            d_G = 1 / (1 + _dot(v_G_i, v_G_j))\n",
    "            d_H = 1 / (1 + _dot(v_H_i, v_H_j))\n",
    "        else:\n",
    "            d_G = np.linalg.norm(v_G_i - v_G_j)\n",
    "            d_H = np.linalg.norm(v_H_i - v_H_j)\n",
    "\n",
    "            if params[\"metric\"] == \"inverse\":\n",
    "                d_G = 1 / (d_G + 1e-16)\n",
    "                d_H = 1 / (d_H + 1e-16)\n",
    "            elif params[\"metric\"] == \"negexp\":\n",
    "                d_G = np.exp(-d_G)\n",
    "                d_H = np.exp(-d_H)\n",
    "\n",
    "        t_G = d_G / (d_G + d_H)\n",
    "        t_H = 1 - t_G\n",
    "\n",
    "        scores.append(t_G)\n",
    "\n",
    "        cls_ = np.random.randint(2)\n",
    "        if t_G != t_H:\n",
    "            if np.random.rand() <= t_G:\n",
    "                cls_ = 1\n",
    "            else:\n",
    "                cls_ = 0\n",
    "        cls.append(cls_)\n",
    "\n",
    "    return cls, scores, gt\n",
    "\n",
    "def measure_performance(cls, scores, gt):\n",
    "    # print(f\"Classifications: {cls}\\n Scores: {scores}\\n GT: {gt}\")\n",
    "    acc = accuracy(gt, cls)\n",
    "    auc = auroc(gt, scores)\n",
    "\n",
    "    return acc, auc"
   ]
  },
  {
   "cell_type": "markdown",
   "metadata": {},
   "source": [
    "### Workflow"
   ]
  },
  {
   "cell_type": "code",
   "execution_count": 6,
   "metadata": {},
   "outputs": [],
   "source": [
    "def _process_grid():\n",
    "    # Initialize parameter grid\n",
    "    grid = []\n",
    "\n",
    "    # Initialize grid vertex archetype\n",
    "    params = {}\n",
    "\n",
    "    # Fill in static parameters (mostly embedding)\n",
    "    params.update({\n",
    "        \"largest_component\": True,\n",
    "        \"dimensions\": 10,\n",
    "        \"walk_length\": 30,\n",
    "        \"num_walks\": 100,\n",
    "        \"workers\": 8,\n",
    "        \"window\": 10,\n",
    "        \"min_count\": 1,\n",
    "        \"batch_words\": 4\n",
    "    })\n",
    "\n",
    "\n",
    "    # Fill in each vertex with dynamic parameters (networks, mostly)\n",
    "    for repetition in range(1):\n",
    "        for system in [\"celegans\", \"london\"]: #[\"arxiv\", \"celegans\", \"drosophila\", \"london\"]:\n",
    "            for metric in [\"inverse\", \"negexp\"]:\n",
    "                for pfi in [0.10, 0.25, 0.50, 0.75, 0.95]:\n",
    "                    if system == \"arxiv\":\n",
    "                        _range = range(1, 3)  # range(1,14)\n",
    "                    elif system == \"celegans\":\n",
    "                        _range = range(1,4)\n",
    "                    elif system == \"drosophila\":\n",
    "                        _range = range(1,8)\n",
    "                    elif system == \"london\":\n",
    "                        _range = range(1,4)\n",
    "\n",
    "                    for left in _range:\n",
    "                        for right in range(1,left):\n",
    "                            params_ = deepcopy(params)\n",
    "\n",
    "                            params_[\"system\"] = system\n",
    "                            params_[\"left\"] = left\n",
    "                            params_[\"right\"] = right\n",
    "\n",
    "                            params_[\"metric\"] = metric\n",
    "                            params_[\"pfi\"] = pfi\n",
    "                            params_[\"repetition\"] = repetition\n",
    "\n",
    "                            grid.append(params_)\n",
    "\n",
    "    return grid\n",
    "\n",
    "def workflow():\n",
    "    # Process parameter grid\n",
    "    grid = _process_grid()\n",
    "\n",
    "    # Prepare results dataframe (dict)\n",
    "    df_ = {key: [] for key in grid[0].keys()}\n",
    "    df_[\"Accuracy\"] = []\n",
    "    df_[\"AUROC\"] = []\n",
    "\n",
    "    # Run experiment\n",
    "    for gv in tqdm(grid, desc=\"Experiment\", colour=\"purple\"):\n",
    "        # Track parameters\n",
    "        for key, value in gv.items():\n",
    "            df_[key].append(value)\n",
    "\n",
    "        # Generate synthetic system and form remnants\n",
    "        G, H, R_G, R_H, agg = format_system(gv)\n",
    "\n",
    "        # Apply node2vec\n",
    "        R_G_vectors, R_H_vectors = embed_system(R_G, R_H, gv, per_component=False)\n",
    "\n",
    "        # Reconstruct system from embeddings\n",
    "        cls, scores, gt = reconstruct_system(agg, G, H, R_G_vectors, R_H_vectors, gv)\n",
    "\n",
    "        # Measure performance\n",
    "        acc, auc = measure_performance(cls, scores, gt)\n",
    "\n",
    "        # Update performance measure columns\n",
    "        df_[\"Accuracy\"].append(acc)\n",
    "        df_[\"AUROC\"].append(auc)\n",
    "\n",
    "    # Format dataframe and save\n",
    "    df = pd.DataFrame(df_)\n",
    "    df.to_parquet(f\"{df_template}.parquet\")\n",
    "\n",
    "    return df"
   ]
  },
  {
   "cell_type": "markdown",
   "metadata": {},
   "source": [
    "## Computations"
   ]
  },
  {
   "cell_type": "code",
   "execution_count": 8,
   "metadata": {},
   "outputs": [
    {
     "name": "stderr",
     "output_type": "stream",
     "text": [
      "Experiment:   0%|          | 0/60 [00:52<?, ?it/s]\n"
     ]
    },
    {
     "ename": "ValueError",
     "evalue": "too many values to unpack (expected 2)",
     "output_type": "error",
     "traceback": [
      "\u001b[0;31m---------------------------------------------------------------------------\u001b[0m",
      "\u001b[0;31mValueError\u001b[0m                                Traceback (most recent call last)",
      "\u001b[1;32m/home/kaiserd/Science/research/projects/current/MultiplexReconstruction/Dyadic/Embedded/proj_naive-embedded-reconstruction/notebooks/EMB_ex07R_node2vec_remnants-components.ipynb Cell 22\u001b[0m in \u001b[0;36m<cell line: 1>\u001b[0;34m()\u001b[0m\n\u001b[0;32m----> <a href='vscode-notebook-cell:/home/kaiserd/Science/research/projects/current/MultiplexReconstruction/Dyadic/Embedded/proj_naive-embedded-reconstruction/notebooks/EMB_ex07R_node2vec_remnants-components.ipynb#X30sZmlsZQ%3D%3D?line=0'>1</a>\u001b[0m df \u001b[39m=\u001b[39m workflow()\n",
      "\u001b[1;32m/home/kaiserd/Science/research/projects/current/MultiplexReconstruction/Dyadic/Embedded/proj_naive-embedded-reconstruction/notebooks/EMB_ex07R_node2vec_remnants-components.ipynb Cell 22\u001b[0m in \u001b[0;36mworkflow\u001b[0;34m()\u001b[0m\n\u001b[1;32m     <a href='vscode-notebook-cell:/home/kaiserd/Science/research/projects/current/MultiplexReconstruction/Dyadic/Embedded/proj_naive-embedded-reconstruction/notebooks/EMB_ex07R_node2vec_remnants-components.ipynb#X30sZmlsZQ%3D%3D?line=66'>67</a>\u001b[0m G, H, R_G, R_H, agg \u001b[39m=\u001b[39m format_system(gv)\n\u001b[1;32m     <a href='vscode-notebook-cell:/home/kaiserd/Science/research/projects/current/MultiplexReconstruction/Dyadic/Embedded/proj_naive-embedded-reconstruction/notebooks/EMB_ex07R_node2vec_remnants-components.ipynb#X30sZmlsZQ%3D%3D?line=68'>69</a>\u001b[0m \u001b[39m# Apply node2vec\u001b[39;00m\n\u001b[0;32m---> <a href='vscode-notebook-cell:/home/kaiserd/Science/research/projects/current/MultiplexReconstruction/Dyadic/Embedded/proj_naive-embedded-reconstruction/notebooks/EMB_ex07R_node2vec_remnants-components.ipynb#X30sZmlsZQ%3D%3D?line=69'>70</a>\u001b[0m R_G_vectors, R_H_vectors \u001b[39m=\u001b[39m embed_system(R_G, R_H, gv, per_component\u001b[39m=\u001b[39;49m\u001b[39mFalse\u001b[39;49;00m)\n\u001b[1;32m     <a href='vscode-notebook-cell:/home/kaiserd/Science/research/projects/current/MultiplexReconstruction/Dyadic/Embedded/proj_naive-embedded-reconstruction/notebooks/EMB_ex07R_node2vec_remnants-components.ipynb#X30sZmlsZQ%3D%3D?line=71'>72</a>\u001b[0m \u001b[39m# Reconstruct system from embeddings\u001b[39;00m\n\u001b[1;32m     <a href='vscode-notebook-cell:/home/kaiserd/Science/research/projects/current/MultiplexReconstruction/Dyadic/Embedded/proj_naive-embedded-reconstruction/notebooks/EMB_ex07R_node2vec_remnants-components.ipynb#X30sZmlsZQ%3D%3D?line=72'>73</a>\u001b[0m \u001b[39mcls\u001b[39m, scores, gt \u001b[39m=\u001b[39m reconstruct_system(agg, G, H, R_G_vectors, R_H_vectors, gv)\n",
      "\u001b[1;32m/home/kaiserd/Science/research/projects/current/MultiplexReconstruction/Dyadic/Embedded/proj_naive-embedded-reconstruction/notebooks/EMB_ex07R_node2vec_remnants-components.ipynb Cell 22\u001b[0m in \u001b[0;36membed_system\u001b[0;34m(remnant_G, remnant_H, hyperparams, embedding_method, per_component)\u001b[0m\n\u001b[1;32m      <a href='vscode-notebook-cell:/home/kaiserd/Science/research/projects/current/MultiplexReconstruction/Dyadic/Embedded/proj_naive-embedded-reconstruction/notebooks/EMB_ex07R_node2vec_remnants-components.ipynb#X30sZmlsZQ%3D%3D?line=4'>5</a>\u001b[0m \u001b[39m# Apply embedding to remnant graphs\u001b[39;00m\n\u001b[1;32m      <a href='vscode-notebook-cell:/home/kaiserd/Science/research/projects/current/MultiplexReconstruction/Dyadic/Embedded/proj_naive-embedded-reconstruction/notebooks/EMB_ex07R_node2vec_remnants-components.ipynb#X30sZmlsZQ%3D%3D?line=5'>6</a>\u001b[0m \u001b[39mif\u001b[39;00m embedding_method \u001b[39m==\u001b[39m \u001b[39m\"\u001b[39m\u001b[39mnode2vec\u001b[39m\u001b[39m\"\u001b[39m:\n\u001b[0;32m----> <a href='vscode-notebook-cell:/home/kaiserd/Science/research/projects/current/MultiplexReconstruction/Dyadic/Embedded/proj_naive-embedded-reconstruction/notebooks/EMB_ex07R_node2vec_remnants-components.ipynb#X30sZmlsZQ%3D%3D?line=6'>7</a>\u001b[0m     R_G_embedded_model, R_H_embedded_model \u001b[39m=\u001b[39m helper_node2vec(remnant_G, remnant_H, hyperparams, per_component\u001b[39m=\u001b[39mper_component)\n\u001b[1;32m      <a href='vscode-notebook-cell:/home/kaiserd/Science/research/projects/current/MultiplexReconstruction/Dyadic/Embedded/proj_naive-embedded-reconstruction/notebooks/EMB_ex07R_node2vec_remnants-components.ipynb#X30sZmlsZQ%3D%3D?line=8'>9</a>\u001b[0m     \u001b[39m# * NOTE: Need to apply indexing function!\u001b[39;00m\n\u001b[1;32m     <a href='vscode-notebook-cell:/home/kaiserd/Science/research/projects/current/MultiplexReconstruction/Dyadic/Embedded/proj_naive-embedded-reconstruction/notebooks/EMB_ex07R_node2vec_remnants-components.ipynb#X30sZmlsZQ%3D%3D?line=9'>10</a>\u001b[0m     R_G_vectors \u001b[39m=\u001b[39m helper_index_vectors_from_model(R_G_embedded_model, \u001b[39mrange\u001b[39m(N), per_component\u001b[39m=\u001b[39mper_component)\n",
      "\u001b[0;31mValueError\u001b[0m: too many values to unpack (expected 2)"
     ]
    }
   ],
   "source": [
    "df = workflow()"
   ]
  },
  {
   "cell_type": "markdown",
   "metadata": {},
   "source": [
    "# Analysis\n",
    "---"
   ]
  },
  {
   "cell_type": "markdown",
   "metadata": {},
   "source": [
    "## Post-processing data"
   ]
  },
  {
   "cell_type": "markdown",
   "metadata": {},
   "source": [
    "## Visualization"
   ]
  },
  {
   "cell_type": "markdown",
   "metadata": {},
   "source": [
    "### Initial exploration"
   ]
  },
  {
   "cell_type": "code",
   "execution_count": null,
   "metadata": {},
   "outputs": [
    {
     "data": {
      "text/plain": [
       "<Figure size 1400x1000 with 0 Axes>"
      ]
     },
     "metadata": {},
     "output_type": "display_data"
    },
    {
     "data": {
      "image/png": "[encoded data removed]",
      "text/plain": [
       "<Figure size 1000x1000 with 4 Axes>"
      ]
     },
     "metadata": {},
     "output_type": "display_data"
    }
   ],
   "source": [
    "plt.figure()\n",
    "sns.relplot(\n",
    "    data=df, kind=\"scatter\",\n",
    "    x=\"pfi\", y=\"AUROC\",\n",
    "    row=\"left\",\n",
    "    col=\"right\"\n",
    ")\n",
    "\n",
    "# plt.savefig(\"../results/plots/scatter_auroc-pfi_EMB_ex07R_DK_20221003.png\")"
   ]
  },
  {
   "cell_type": "markdown",
   "metadata": {},
   "source": [
    "# Discussion\n",
    "---"
   ]
  },
  {
   "cell_type": "markdown",
   "metadata": {},
   "source": [
    "## Observations"
   ]
  },
  {
   "cell_type": "markdown",
   "metadata": {},
   "source": []
  },
  {
   "cell_type": "markdown",
   "metadata": {},
   "source": [
    "## Interpretations"
   ]
  },
  {
   "cell_type": "markdown",
   "metadata": {},
   "source": []
  },
  {
   "cell_type": "markdown",
   "metadata": {},
   "source": [
    "## Follow-up"
   ]
  },
  {
   "cell_type": "markdown",
   "metadata": {},
   "source": []
  }
 ],
 "metadata": {
  "kernelspec": {
   "display_name": "Python 3.10.6 ('EmbeddedNaive')",
   "language": "python",
   "name": "python3"
  },
  "language_info": {
   "codemirror_mode": {
    "name": "ipython",
    "version": 3
   },
   "file_extension": ".py",
   "mimetype": "text/x-python",
   "name": "python",
   "nbconvert_exporter": "python",
   "pygments_lexer": "ipython3",
   "version": "3.10.6"
  },
  "orig_nbformat": 4,
  "vscode": {
   "interpreter": {
    "hash": "f5825d70345ee2a3649307867a940362a6242bb96acddd38c1a628ab339f97fa"
   }
  }
 },
 "nbformat": 4,
 "nbformat_minor": 2
}
