{
 "cells": [
  {
   "attachments": {},
   "cell_type": "markdown",
   "metadata": {},
   "source": [
    "# Document Setup"
   ]
  },
  {
   "attachments": {},
   "cell_type": "markdown",
   "metadata": {},
   "source": [
    "- Project ID: EMB_ex19\n",
    "- Researchers: DK\n",
    "- Current Version: v1.1\n",
    "\n",
    "See associated protocol for more details."
   ]
  },
  {
   "cell_type": "code",
   "execution_count": 1,
   "metadata": {},
   "outputs": [],
   "source": [
    "# Stdlib\n",
    "import sys\n",
    "import os\n",
    "import random\n",
    "from datetime import datetime\n",
    "from IPython.display import display, Latex\n",
    "\n",
    "# Scientific computing\n",
    "import numpy as np\n",
    "from sklearn.linear_model import LogisticRegression\n",
    "\n",
    "# Network science\n",
    "import networkx as nx\n",
    "from node2vec import Node2Vec as N2V\n",
    "\n",
    "# Data handling and vis\n",
    "import pandas as pd\n",
    "import seaborn as sns\n",
    "import matplotlib.pyplot as plt\n",
    "%matplotlib inline\n",
    "\n",
    "from matplotlib.lines import Line2D\n",
    "\n",
    "# Project source\n",
    "sys.path.append(\"../../src/\")\n",
    "import synthetic\n",
    "import utils\n",
    "\n",
    "# Miscellaneous\n",
    "from tqdm.auto import tqdm"
   ]
  },
  {
   "cell_type": "code",
   "execution_count": 2,
   "metadata": {},
   "outputs": [],
   "source": [
    "metadata = {\n",
    "    \"PROJECT_ID\": \"EMB_ex19\",\n",
    "    \"RESEARCHERS\": \"DK\",\n",
    "    \"CURRENT_VERSION\": \"v1.1\",\n",
    "    \"DATE\": datetime.today().strftime(\"%Y%m%d\")\n",
    "}\n",
    "TAG = \"{PROJECT_ID}{CURRENT_VERSION}_{RESEARCHERS}_{DATE}\".format(**metadata)"
   ]
  },
  {
   "attachments": {},
   "cell_type": "markdown",
   "metadata": {},
   "source": [
    "# Experiment"
   ]
  },
  {
   "attachments": {},
   "cell_type": "markdown",
   "metadata": {},
   "source": [
    "## Preface"
   ]
  },
  {
   "attachments": {},
   "cell_type": "markdown",
   "metadata": {},
   "source": [
    "**Goal**\n",
    "\n",
    "Utilize logistic regression to reconstruct multiplexes from embedded remnants.\n",
    "\n",
    "**Procedure**\n",
    "\n",
    "1. [Set-up] Let $G, H$ be the layers of a duplex.\n",
    "2. [Set-up] Aggregate $G, H$; call it $A$.\n",
    "3. [Set-up] Observe some partial observations from $A$; call them $\\theta_G, \\theta_H$.\n",
    "4. [Set-up] Calculate the remnants; $R_G = A - \\theta_H, R_H = A - \\theta_G$.\n",
    "5. [Embedding] Embed $R_G, R_H$; call them $E_G, E_H$.\n",
    "6. [Reconstruction] Select some edge, $e = (i,j) \\in A$.\n",
    "7. [Reconstruction] Calculate $d_G(e) = d_{E_G}(i, j), d_H(e) = d_{E_H}(i, j)$ and the quotient $d(e) = \\frac{d_G(e)}{d_H(e)}$.\n",
    "8. [Reconstruction] Train a logistic regression model with $\\{ d(e)\\}$ as predictor.\n",
    "9. [Reconstruction] Predict originating layer for each edge in the test set, $A - \\theta_G - \\theta_H$.\n",
    "10. [Analysis] Analyze reconstructive performance.\n",
    "\n",
    "**Notes**\n",
    "The core of the reconstruction from embedded layers is training a logistic model\n",
    "$\\begin{equation}\\begin{aligned}\n",
    "    R(e) &= \\frac{1}{1 + e^{-\\beta_1(d_G(e) / d_H(e)) - \\beta_0}}\\\\\n",
    "    &= \\frac{1}{1 + e^{-\\beta_0}e^{-\\beta_1(d_G(e) / d_H(e))}}\\\\\n",
    "    &= \\frac{1}{1 + e^{-\\beta_0}e^{-\\beta_1d(e)}}\\\\\n",
    "\\end{aligned}\\end{equation}$\n",
    "\n",
    "where $d(e)$ is the quotient of $d_G(e), d_H(e)$ where $d_G(e) = d_G(i,j) = \\| E_G[i] - E_G[j] \\|$ for edge $e = (i,j)$ and likewise for $d_H(e)$.\n",
    "\n"
   ]
  },
  {
   "attachments": {},
   "cell_type": "markdown",
   "metadata": {},
   "source": [
    "## Prerequisite code"
   ]
  },
  {
   "cell_type": "code",
   "execution_count": 3,
   "metadata": {},
   "outputs": [],
   "source": [
    "def get_representation(G, params):\n",
    "    \"\"\"\n",
    "    Embed a monoplex with node2vec. Wrapper from @Minsuk Kim.\n",
    "    \"\"\"\n",
    "    # Unpack parameters\n",
    "    dimensions, walk_length, num_walks, workers,\\\n",
    "    window, min_count, batch_words = params\n",
    "\n",
    "    # Create node2vec model\n",
    "    n2v = N2V(G,\n",
    "        dimensions = dimensions,\n",
    "        walk_length = walk_length,\n",
    "        num_walks = num_walks,\n",
    "        workers = workers,\n",
    "        quiet = True,\n",
    "    )\n",
    "\n",
    "    # Embed topology under specified n2v model\n",
    "    embedding = n2v.fit(window = window,\n",
    "        min_count = min_count,\n",
    "        batch_words = batch_words,\n",
    "    )\n",
    "\n",
    "    # Format resultant vectors\n",
    "    # ! NOTE: Currently broken for real networks\n",
    "    # ! >>> Broken >>>\n",
    "    # * Output format: Array with row [i] corresponding to embedded vector of node i\n",
    "    # representation = np.array([\n",
    "    #     embedding.wv['%d' % i]\n",
    "    #     for i in range(G.number_of_nodes())\n",
    "    # ])\n",
    "    # ! <<< Broken <<<\n",
    "\n",
    "    # ! >>> Hot fix >>>\n",
    "    embedding = embedding.wv\n",
    "    index_ = embedding.index_to_key\n",
    "    vectors_ = embedding.vectors\n",
    "    representation = {int(index_[idx]): vectors_[idx] for idx in range(G.number_of_nodes())}\n",
    "    # ! <<< Hot fix <<<\n",
    "\n",
    "    return representation"
   ]
  },
  {
   "cell_type": "code",
   "execution_count": 4,
   "metadata": {},
   "outputs": [],
   "source": [
    "def calculate_distances(edge, E_G, E_H):\n",
    "    # Retrieve nodes incident to edge\n",
    "    i, j = edge\n",
    "\n",
    "    # Calculate distance between incident nodes in both embeddings\n",
    "    d_G = np.linalg.norm(E_G[i] - E_G[j])\n",
    "    d_H = np.linalg.norm(E_H[i] - E_H[j])\n",
    "\n",
    "    return d_G, d_H"
   ]
  },
  {
   "cell_type": "code",
   "execution_count": 5,
   "metadata": {},
   "outputs": [],
   "source": [
    "def calculate_distance_ratio(edge, E_G, E_H):\n",
    "    d_G, d_H = calculate_distances(edge, E_G, E_H)\n",
    "    if d_H == 0 or d_G == 0:\n",
    "        return 1\n",
    "    else:\n",
    "        return d_G / d_H"
   ]
  },
  {
   "attachments": {},
   "cell_type": "markdown",
   "metadata": {},
   "source": [
    "## Workflow"
   ]
  },
  {
   "cell_type": "code",
   "execution_count": 6,
   "metadata": {
    "tags": [
     "parameters"
    ]
   },
   "outputs": [],
   "source": [
    "# * Experiment Parameters\n",
    "# >>> Node2Vec embedding <<<\n",
    "dimensions = 128  # euclidean dimension to embedd\n",
    "walk_length = 30  # number of nodes in each walk\n",
    "num_walks = 100  # number of walks per node\n",
    "workers = 10  # for cpu parallel work\n",
    "window = 10  # maximum distance between the current and predicted word within a sentence.\n",
    "min_count = 1  # ignores all words with total frequency lower than this\n",
    "batch_words = 4  # [unsure]\n",
    "params = [dimensions, walk_length, num_walks, workers, window, min_count, batch_words]\n",
    "\n",
    "# >>> Logistic regression <<<\n",
    "penalty = \"l2\"  # L2 regularization\n",
    "\n",
    "# >>> Other <<<\n",
    "repeat = 100  # number of simulations"
   ]
  },
  {
   "cell_type": "code",
   "execution_count": 7,
   "metadata": {},
   "outputs": [],
   "source": [
    "# * Steps (1) - Get desired duplex\n",
    "D = utils.read_file(\"../../data/input/raw/duplex_system=london.edgelist\")\n",
    "G, H = utils.duplex_network(D, 1, 2)"
   ]
  },
  {
   "attachments": {},
   "cell_type": "markdown",
   "metadata": {},
   "source": [
    "### Single run (dev)"
   ]
  },
  {
   "cell_type": "code",
   "execution_count": 28,
   "metadata": {},
   "outputs": [],
   "source": [
    "# * Steps (2) thru (4) - Observe a priori information and calculate remnants\n",
    "theta = 0.50\n",
    "R_G, R_H, testset, trainset = utils.partial_information(G, H, theta)"
   ]
  },
  {
   "cell_type": "code",
   "execution_count": 45,
   "metadata": {},
   "outputs": [],
   "source": [
    "from collections import Counter"
   ]
  },
  {
   "cell_type": "code",
   "execution_count": 46,
   "metadata": {},
   "outputs": [
    {
     "data": {
      "text/plain": [
       "Counter({279: 1, 1: 12, 6: 1, 2: 7, 4: 1, 3: 2})"
      ]
     },
     "execution_count": 46,
     "metadata": {},
     "output_type": "execute_result"
    }
   ],
   "source": [
    "Counter([len(c) for c in nx.connected_components(R_G)])"
   ]
  },
  {
   "cell_type": "code",
   "execution_count": 49,
   "metadata": {},
   "outputs": [
    {
     "data": {
      "text/plain": [
       "{36}"
      ]
     },
     "execution_count": 49,
     "metadata": {},
     "output_type": "execute_result"
    }
   ],
   "source": [
    "list(nx.connected_components(R_G))[1]"
   ]
  },
  {
   "cell_type": "code",
   "execution_count": 62,
   "metadata": {},
   "outputs": [
    {
     "data": {
      "text/plain": [
       "array([ 3.75142135e-03, -4.75201849e-03,  2.24881992e-03, -7.18248077e-04,\n",
       "       -4.22998331e-03,  2.50223372e-03,  5.12748957e-03, -5.01570012e-03,\n",
       "        7.79978931e-03,  6.29144628e-03, -5.66317420e-03,  5.46516012e-03,\n",
       "       -7.24682491e-03,  7.57026859e-03, -4.52060066e-03,  7.29717780e-03,\n",
       "       -6.69374596e-03, -5.78700565e-04,  1.57944299e-03, -3.89733445e-03,\n",
       "       -2.42337119e-03,  1.60901994e-03, -4.48424276e-03,  1.92142371e-03,\n",
       "       -3.00390832e-03,  2.73227412e-03, -7.14848656e-03,  6.35199714e-03,\n",
       "       -3.32663115e-03, -1.96181238e-03, -7.20060989e-03, -5.82366344e-03,\n",
       "       -2.02466734e-04,  6.82527013e-03, -5.16586844e-03,  4.62900568e-03,\n",
       "       -4.64449637e-03,  2.68691126e-03, -6.16886280e-03,  1.12439319e-03,\n",
       "       -5.79071324e-03, -3.78772151e-03, -1.88661739e-03,  5.69964480e-03,\n",
       "       -7.63884559e-03,  4.55137622e-03,  4.12571058e-03, -1.49508845e-03,\n",
       "        3.21981497e-03,  1.12766773e-03, -4.84555122e-03, -6.06124941e-03,\n",
       "       -3.13559081e-03,  5.62707521e-03,  7.30080064e-03, -2.84593552e-05,\n",
       "        1.74696278e-03, -2.16615014e-03,  2.01127958e-03,  3.44112981e-03,\n",
       "        3.26705724e-03,  4.73698601e-05,  2.83075590e-03, -5.78467641e-03,\n",
       "        5.15848584e-03, -3.10940202e-03, -1.78828370e-03, -2.98890285e-03,\n",
       "       -6.89785182e-03, -7.33540021e-03,  1.01067219e-03,  3.73823009e-03,\n",
       "       -7.87699595e-04, -5.29577769e-03,  3.65427695e-03, -1.48102641e-03,\n",
       "       -6.11677393e-03, -4.36287373e-05, -2.38204934e-03, -3.28329578e-03,\n",
       "        5.93117438e-03,  3.45962122e-03,  3.40995193e-03, -4.43300791e-03,\n",
       "        5.80966752e-03, -3.09317652e-03,  4.63415775e-03, -4.77589946e-03,\n",
       "        4.88710403e-03,  6.87486026e-03,  3.86781897e-03, -1.83520745e-03,\n",
       "       -4.67877835e-03,  7.15714507e-03, -3.58805247e-03, -1.54343247e-03,\n",
       "        1.18988566e-04, -7.47778360e-03, -2.05276255e-03,  6.77372050e-03,\n",
       "        1.87711697e-03,  8.94872472e-04, -1.94862578e-03,  6.36534393e-03,\n",
       "       -7.41285272e-04, -6.65714499e-03, -4.68188338e-03, -3.84212378e-03,\n",
       "        4.25334182e-03, -3.39606032e-03,  4.01476771e-03, -6.35973178e-04,\n",
       "       -4.98865452e-03, -1.29661523e-04, -7.63068069e-03, -4.03346773e-03,\n",
       "       -5.39587997e-03,  2.85093021e-03,  2.25618761e-03,  5.03902603e-03,\n",
       "        5.09593077e-03,  4.18560579e-04, -7.53621012e-03,  3.61634884e-03,\n",
       "       -6.55343011e-03,  4.07429226e-03, -5.65521512e-03, -2.88221799e-03],\n",
       "      dtype=float32)"
      ]
     },
     "execution_count": 62,
     "metadata": {},
     "output_type": "execute_result"
    }
   ],
   "source": [
    "E_G[36]"
   ]
  },
  {
   "cell_type": "code",
   "execution_count": 41,
   "metadata": {},
   "outputs": [
    {
     "data": {
      "text/plain": [
       "(array([12.,  9.,  1.,  1.,  0.,  0.,  0.,  0.,  0.,  1.]),\n",
       " array([0.        , 0.56312118, 1.12624236, 1.68936353, 2.25248471,\n",
       "        2.81560589, 3.37872707, 3.94184825, 4.50496943, 5.0680906 ,\n",
       "        5.63121178]),\n",
       " <BarContainer object of 10 artists>)"
      ]
     },
     "execution_count": 41,
     "metadata": {},
     "output_type": "execute_result"
    },
    {
     "data": {
      "image/png": "[encoded data removed]",
      "text/plain": [
       "<Figure size 432x288 with 1 Axes>"
      ]
     },
     "metadata": {
      "needs_background": "light"
     },
     "output_type": "display_data"
    }
   ],
   "source": [
    "plt.hist([np.log(len(c)) for c in nx.connected_components(R_G)])"
   ]
  },
  {
   "cell_type": "code",
   "execution_count": 42,
   "metadata": {},
   "outputs": [
    {
     "data": {
      "text/plain": [
       "(array([56., 25., 16.,  3.,  2.,  1.,  0.,  0.,  0.,  1.]),\n",
       " array([0.        , 0.47874917, 0.95749835, 1.43624752, 1.9149967 ,\n",
       "        2.39374587, 2.87249505, 3.35124422, 3.82999339, 4.30874257,\n",
       "        4.78749174]),\n",
       " <BarContainer object of 10 artists>)"
      ]
     },
     "execution_count": 42,
     "metadata": {},
     "output_type": "execute_result"
    },
    {
     "data": {
      "image/png": "[encoded data removed]",
      "text/plain": [
       "<Figure size 432x288 with 1 Axes>"
      ]
     },
     "metadata": {
      "needs_background": "light"
     },
     "output_type": "display_data"
    }
   ],
   "source": [
    "plt.hist([np.log(len(c)) for c in nx.connected_components(R_H)])"
   ]
  },
  {
   "cell_type": "code",
   "execution_count": 29,
   "metadata": {},
   "outputs": [],
   "source": [
    "# * Step (5) - Embed remnants\n",
    "E_G = get_representation(R_G, params)\n",
    "E_H = get_representation(R_H, params)"
   ]
  },
  {
   "cell_type": "code",
   "execution_count": 61,
   "metadata": {},
   "outputs": [
    {
     "data": {
      "text/plain": [
       "[]"
      ]
     },
     "execution_count": 61,
     "metadata": {},
     "output_type": "execute_result"
    }
   ],
   "source": [
    "list(R_G.neighbors(list(trainset.keys())[np.argmin(distance_ratios_train)][0]))"
   ]
  },
  {
   "cell_type": "code",
   "execution_count": 30,
   "metadata": {},
   "outputs": [],
   "source": [
    "# * Steps (6) and (7) - Calculate distances of nodes incident to edges in both embeddings\n",
    "distance_ratios_train = np.array([\n",
    "    calculate_distance_ratio(edge, E_G, E_H)\n",
    "    for edge in trainset\n",
    "]).reshape(-1, 1)\n",
    "distance_ratios_test = np.array([\n",
    "    calculate_distance_ratio(edge, E_G, E_H)\n",
    "    for edge in testset\n",
    "]).reshape(-1, 1)\n",
    "\n",
    "labels_train = list(trainset.values())\n",
    "labels_test = list(testset.values())"
   ]
  },
  {
   "cell_type": "code",
   "execution_count": 31,
   "metadata": {},
   "outputs": [
    {
     "data": {
      "text/plain": [
       "Text(0.5, 1.0, 'Test set distances')"
      ]
     },
     "execution_count": 31,
     "metadata": {},
     "output_type": "execute_result"
    },
    {
     "data": {
      "image/png": "[encoded data removed]",
      "text/plain": [
       "<Figure size 432x288 with 1 Axes>"
      ]
     },
     "metadata": {
      "needs_background": "light"
     },
     "output_type": "display_data"
    },
    {
     "data": {
      "image/png": "[encoded data removed]",
      "text/plain": [
       "<Figure size 432x288 with 1 Axes>"
      ]
     },
     "metadata": {
      "needs_background": "light"
     },
     "output_type": "display_data"
    }
   ],
   "source": [
    "plt.figure()\n",
    "\n",
    "pts0 = [calculate_distances(edge, E_G, E_H) for edge, class_ in trainset.items() if class_ == 0]\n",
    "pts1 = [calculate_distances(edge, E_G, E_H) for edge, class_ in trainset.items() if class_ == 1]\n",
    "plt.scatter([pt[0] for pt in pts1], [pt[1] for pt in pts1], label=\"Belong to G\", color=\"orange\", alpha=0.5)\n",
    "plt.scatter([pt[0] for pt in pts0], [pt[1] for pt in pts0], label=\"Belong to H\", color=\"purple\", alpha=0.5)\n",
    "\n",
    "xmax = max(max([p[0] for p in pts0]), max([p[1] for p in pts0]))\n",
    "xrange = np.arange(0, xmax)\n",
    "plt.plot(xrange, xrange, linestyle=\"--\", color=\"darkgray\")\n",
    "\n",
    "\n",
    "plt.legend()\n",
    "\n",
    "plt.xlabel(\"d_G\")\n",
    "plt.ylabel(\"d_H\")\n",
    "plt.title(\"Training set distances\")\n",
    "\n",
    "# -----\n",
    "\n",
    "plt.figure()\n",
    "\n",
    "pts0 = [calculate_distances(edge, E_G, E_H) for edge, class_ in testset.items() if class_ == 0]\n",
    "pts1 = [calculate_distances(edge, E_G, E_H) for edge, class_ in testset.items() if class_ == 1]\n",
    "plt.scatter([pt[0] for pt in pts1], [pt[1] for pt in pts1], label=\"Belong to G\", color=\"orange\", alpha=0.5)\n",
    "plt.scatter([pt[0] for pt in pts0], [pt[1] for pt in pts0], label=\"Belong to H\", color=\"purple\", alpha=0.5)\n",
    "\n",
    "xmax = max(max([p[0] for p in pts0]), max([p[1] for p in pts0]))\n",
    "xrange = np.arange(0, xmax)\n",
    "plt.plot(xrange, xrange, linestyle=\"--\", color=\"darkgray\")\n",
    "\n",
    "plt.legend()\n",
    "\n",
    "plt.xlabel(\"d_G\")\n",
    "plt.ylabel(\"d_H\")\n",
    "plt.title(\"Test set distances\")"
   ]
  },
  {
   "cell_type": "code",
   "execution_count": 32,
   "metadata": {},
   "outputs": [
    {
     "data": {
      "text/plain": [
       "Text(0.5, 1.0, 'Layer origination as a function of distance quotient')"
      ]
     },
     "execution_count": 32,
     "metadata": {},
     "output_type": "execute_result"
    },
    {
     "data": {
      "image/png": "[encoded data removed]",
      "text/plain": [
       "<Figure size 432x288 with 1 Axes>"
      ]
     },
     "metadata": {
      "needs_background": "light"
     },
     "output_type": "display_data"
    }
   ],
   "source": [
    "plt.figure()\n",
    "\n",
    "plt.scatter(distance_ratios_train, labels_train, label=\"Training data\", color=\"blue\", marker=\"o\", alpha=0.5)\n",
    "plt.scatter(distance_ratios_test, labels_test, label=\"Test data\", color=\"red\", marker=\"+\", alpha=0.5)\n",
    "\n",
    "plt.legend()\n",
    "\n",
    "plt.xlabel(\"$d(e)$\")\n",
    "plt.ylabel(\"Layer label\")\n",
    "plt.title(\"Layer origination as a function of distance quotient\")"
   ]
  },
  {
   "cell_type": "code",
   "execution_count": 33,
   "metadata": {},
   "outputs": [],
   "source": [
    "# * Step (8) - Train a logistic regression\n",
    "model = LogisticRegression(random_state=37)\n",
    "model.fit(distance_ratios_train, labels_train)\n",
    "\n",
    "coef = model.coef_\n",
    "intercept = model.intercept_"
   ]
  },
  {
   "cell_type": "code",
   "execution_count": 34,
   "metadata": {},
   "outputs": [
    {
     "data": {
      "text/plain": [
       "Text(0.5, 1.0, 'Layer origination as a function of distance quotient')"
      ]
     },
     "execution_count": 34,
     "metadata": {},
     "output_type": "execute_result"
    },
    {
     "data": {
      "image/png": "[encoded data removed]",
      "text/plain": [
       "<Figure size 432x288 with 1 Axes>"
      ]
     },
     "metadata": {
      "needs_background": "light"
     },
     "output_type": "display_data"
    }
   ],
   "source": [
    "plt.figure()\n",
    "\n",
    "expit = lambda x: 1 / (1 + np.exp(-x*coef[0] - intercept[0]))\n",
    "xmin = min(min(distance_ratios_train), min(distance_ratios_test))\n",
    "xmax = max(max(distance_ratios_train), max(distance_ratios_test))\n",
    "xrange = np.linspace(xmin, xmax)\n",
    "\n",
    "plt.scatter(distance_ratios_train, labels_train, label=\"Training data\", color=\"blue\", marker=\"o\", alpha=0.5)\n",
    "plt.scatter(distance_ratios_test, labels_test, label=\"Test data\", color=\"red\", marker=\"+\", alpha=0.5)\n",
    "\n",
    "plt.plot(xrange, [expit(x) for x in xrange], label=\"Fit model\", color=\"black\")\n",
    "\n",
    "model_inv_threshold = -intercept[0]/coef[0]\n",
    "plt.vlines(model_inv_threshold, 0, 0.5, linestyle=\"--\", color=\"darkgray\")\n",
    "plt.hlines(0.5, xmin, model_inv_threshold, linestyle=\"--\", color=\"darkgray\")\n",
    "\n",
    "plt.legend()\n",
    "\n",
    "plt.xlabel(\"$d(e)$\")\n",
    "plt.ylabel(\"Layer label\")\n",
    "plt.title(\"Layer origination as a function of distance quotient\")"
   ]
  },
  {
   "cell_type": "code",
   "execution_count": 35,
   "metadata": {},
   "outputs": [
    {
     "name": "stdout",
     "output_type": "stream",
     "text": [
      "Model score: 0.7957\n"
     ]
    }
   ],
   "source": [
    "# * Step (9) - Predict testset with reconstruction\n",
    "print(f\"Model score: {model.score(distance_ratios_test, labels_test):.4f}\")"
   ]
  },
  {
   "cell_type": "code",
   "execution_count": null,
   "metadata": {},
   "outputs": [
    {
     "data": {
      "text/plain": [
       "0.7960526315789473"
      ]
     },
     "execution_count": 26,
     "metadata": {},
     "output_type": "execute_result"
    }
   ],
   "source": [
    "model.score(distance_ratios_train, labels_train)"
   ]
  },
  {
   "cell_type": "code",
   "execution_count": 36,
   "metadata": {},
   "outputs": [],
   "source": [
    "from sklearn.metrics import roc_auc_score"
   ]
  },
  {
   "cell_type": "code",
   "execution_count": 37,
   "metadata": {},
   "outputs": [
    {
     "ename": "ValueError",
     "evalue": "continuous-multioutput format is not supported",
     "output_type": "error",
     "traceback": [
      "\u001b[0;31m---------------------------------------------------------------------------\u001b[0m",
      "\u001b[0;31mValueError\u001b[0m                                Traceback (most recent call last)",
      "\u001b[1;32m/home/daniel/.symlinks/EMB/proj_naive-embedded-reconstruction/notebooks/ex/EMB_ex19_logistic-regression.ipynb Cell 26\u001b[0m in \u001b[0;36m<module>\u001b[0;34m\u001b[0m\n\u001b[0;32m----> <a href='vscode-notebook-cell://wsl%2Bubuntu/home/daniel/.symlinks/EMB/proj_naive-embedded-reconstruction/notebooks/ex/EMB_ex19_logistic-regression.ipynb#X41sdnNjb2RlLXJlbW90ZQ%3D%3D?line=0'>1</a>\u001b[0m roc_auc_score(model\u001b[39m.\u001b[39;49mpredict_proba(distance_ratios_test), labels_test)\n",
      "File \u001b[0;32m~/.conda/envs/EmbeddedNaive/lib/python3.10/site-packages/sklearn/metrics/_ranking.py:579\u001b[0m, in \u001b[0;36mroc_auc_score\u001b[0;34m(y_true, y_score, average, sample_weight, max_fpr, multi_class, labels)\u001b[0m\n\u001b[1;32m    571\u001b[0m     \u001b[39mreturn\u001b[39;00m _average_binary_score(\n\u001b[1;32m    572\u001b[0m         partial(_binary_roc_auc_score, max_fpr\u001b[39m=\u001b[39mmax_fpr),\n\u001b[1;32m    573\u001b[0m         y_true,\n\u001b[0;32m   (...)\u001b[0m\n\u001b[1;32m    576\u001b[0m         sample_weight\u001b[39m=\u001b[39msample_weight,\n\u001b[1;32m    577\u001b[0m     )\n\u001b[1;32m    578\u001b[0m \u001b[39melse\u001b[39;00m:  \u001b[39m# multilabel-indicator\u001b[39;00m\n\u001b[0;32m--> 579\u001b[0m     \u001b[39mreturn\u001b[39;00m _average_binary_score(\n\u001b[1;32m    580\u001b[0m         partial(_binary_roc_auc_score, max_fpr\u001b[39m=\u001b[39;49mmax_fpr),\n\u001b[1;32m    581\u001b[0m         y_true,\n\u001b[1;32m    582\u001b[0m         y_score,\n\u001b[1;32m    583\u001b[0m         average,\n\u001b[1;32m    584\u001b[0m         sample_weight\u001b[39m=\u001b[39;49msample_weight,\n\u001b[1;32m    585\u001b[0m     )\n",
      "File \u001b[0;32m~/.conda/envs/EmbeddedNaive/lib/python3.10/site-packages/sklearn/metrics/_base.py:72\u001b[0m, in \u001b[0;36m_average_binary_score\u001b[0;34m(binary_metric, y_true, y_score, average, sample_weight)\u001b[0m\n\u001b[1;32m     70\u001b[0m y_type \u001b[39m=\u001b[39m type_of_target(y_true)\n\u001b[1;32m     71\u001b[0m \u001b[39mif\u001b[39;00m y_type \u001b[39mnot\u001b[39;00m \u001b[39min\u001b[39;00m (\u001b[39m\"\u001b[39m\u001b[39mbinary\u001b[39m\u001b[39m\"\u001b[39m, \u001b[39m\"\u001b[39m\u001b[39mmultilabel-indicator\u001b[39m\u001b[39m\"\u001b[39m):\n\u001b[0;32m---> 72\u001b[0m     \u001b[39mraise\u001b[39;00m \u001b[39mValueError\u001b[39;00m(\u001b[39m\"\u001b[39m\u001b[39m{0}\u001b[39;00m\u001b[39m format is not supported\u001b[39m\u001b[39m\"\u001b[39m\u001b[39m.\u001b[39mformat(y_type))\n\u001b[1;32m     74\u001b[0m \u001b[39mif\u001b[39;00m y_type \u001b[39m==\u001b[39m \u001b[39m\"\u001b[39m\u001b[39mbinary\u001b[39m\u001b[39m\"\u001b[39m:\n\u001b[1;32m     75\u001b[0m     \u001b[39mreturn\u001b[39;00m binary_metric(y_true, y_score, sample_weight\u001b[39m=\u001b[39msample_weight)\n",
      "\u001b[0;31mValueError\u001b[0m: continuous-multioutput format is not supported"
     ]
    }
   ],
   "source": [
    "roc_auc_score(model.predict_proba(distance_ratios_test), labels_test)"
   ]
  },
  {
   "attachments": {},
   "cell_type": "markdown",
   "metadata": {},
   "source": [
    "### Full experiment"
   ]
  },
  {
   "cell_type": "code",
   "execution_count": null,
   "metadata": {},
   "outputs": [],
   "source": [
    "def workflow(G, H, theta):\n",
    "    # * Steps (2) thru (4) - Observe a priori information and calculate remnants\n",
    "    R_G, R_H, testset, trainset = utils.partial_information(G, H, theta)\n",
    "\n",
    "    # * Step (5) - Embed remnants\n",
    "    E_G = get_representation(R_G, params)\n",
    "    E_H = get_representation(R_H, params)\n",
    "\n",
    "    # * Steps (6) and (7) - Calculate distances of nodes incident to edges in both embeddings\n",
    "    distance_ratios_train = np.array([\n",
    "        calculate_distance_ratio(edge, E_G, E_H)\n",
    "        for edge in trainset\n",
    "    ]).reshape(-1, 1)\n",
    "    distance_ratios_test = np.array([\n",
    "        calculate_distance_ratio(edge, E_G, E_H)\n",
    "        for edge in testset\n",
    "    ]).reshape(-1, 1)\n",
    "\n",
    "    labels_train = list(trainset.values())\n",
    "    labels_test = list(testset.values())\n",
    "\n",
    "    # * Step (8) - Train a logistic regression\n",
    "    model = LogisticRegression(random_state=37)\n",
    "    model.fit(distance_ratios_train, labels_train)\n",
    "\n",
    "    coef = model.coef_\n",
    "    intercept = model.intercept_\n",
    "\n",
    "    # * Step (9) - Predict testset with reconstruction\n",
    "    score = model.score(distance_ratios_test, labels_test)"
   ]
  },
  {
   "attachments": {},
   "cell_type": "markdown",
   "metadata": {},
   "source": [
    "## Analysis"
   ]
  },
  {
   "attachments": {},
   "cell_type": "markdown",
   "metadata": {},
   "source": [
    "### Processing and cleanup"
   ]
  },
  {
   "attachments": {},
   "cell_type": "markdown",
   "metadata": {},
   "source": [
    "### Visualizations"
   ]
  }
 ],
 "metadata": {
  "kernelspec": {
   "display_name": "EmbeddedNaive",
   "language": "python",
   "name": "python3"
  },
  "language_info": {
   "codemirror_mode": {
    "name": "ipython",
    "version": 3
   },
   "file_extension": ".py",
   "mimetype": "text/x-python",
   "name": "python",
   "nbconvert_exporter": "python",
   "pygments_lexer": "ipython3",
   "version": "3.10.6 | packaged by conda-forge | (main, Aug 22 2022, 20:35:26) [GCC 10.4.0]"
  },
  "orig_nbformat": 4,
  "vscode": {
   "interpreter": {
    "hash": "a083d5e8c532765d2eec356e783bdd8fa78e916ec600eb079fbf4e07ec45903c"
   }
  }
 },
 "nbformat": 4,
 "nbformat_minor": 2
}
