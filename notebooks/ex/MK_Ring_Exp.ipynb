{
 "cells": [
  {
   "cell_type": "code",
   "execution_count": 329,
   "metadata": {},
   "outputs": [],
   "source": [
    "import networkx as nx\n",
    "from node2vec import Node2Vec\n",
    "import numpy as np\n",
    "import matplotlib.pyplot as plt\n",
    "from itertools import combinations"
   ]
  },
  {
   "cell_type": "code",
   "execution_count": 417,
   "metadata": {},
   "outputs": [],
   "source": [
    "n_node = 10000\n",
    "\n",
    "ring_lattice = nx.cycle_graph(n_node)\n",
    "ring_missing = nx.cycle_graph(n_node)\n",
    "ring_missing.remove_edge(0, n_node - 1)\n",
    "\n",
    "# my_edges = list(ring_lattice.edges)\n",
    "# my_edges[0][0]"
   ]
  },
  {
   "cell_type": "code",
   "execution_count": 465,
   "metadata": {},
   "outputs": [],
   "source": [
    "def remove_links(G, n_missing):\n",
    "    \n",
    "    my_edges = np.array(list(G.edges))\n",
    "    number_of_rows = my_edges.shape[0]\n",
    "    rnd_idx = np.random.choice(number_of_rows,\n",
    "                               size = n_missing,\n",
    "                               replace = False)\n",
    "\n",
    "    pair = my_edges[rnd_idx, :]\n",
    "    \n",
    "    for p in pair:\n",
    "        G.remove_edge(p[0], p[1])\n",
    "        "
   ]
  },
  {
   "cell_type": "code",
   "execution_count": 466,
   "metadata": {},
   "outputs": [],
   "source": [
    "n_rm = 20\n",
    "ring_missing = nx.cycle_graph(n_node)\n",
    "\n",
    "remove_links(ring_missing, n_rm)"
   ]
  },
  {
   "cell_type": "code",
   "execution_count": 348,
   "metadata": {},
   "outputs": [
    {
     "name": "stderr",
     "output_type": "stream",
     "text": [
      "Computing transition probabilities: 100%|███████████████████████████████████████████| 10000/10000 [00:00<00:00, 28632.02it/s]\n",
      "Generating walks (CPU: 3): 100%|██████████| 2/2 [00:19<00:00,  9.72s/it]\n",
      "Generating walks (CPU: 4): 100%|██████████| 2/2 [00:23<00:00, 11.87s/it]\n",
      "Generating walks (CPU: 1): 100%|██████████| 3/3 [00:28<00:00,  9.50s/it]\n",
      "Generating walks (CPU: 2): 100%|██████████| 3/3 [00:32<00:00, 10.90s/it]\n",
      "Computing transition probabilities: 100%|███████████████████████████████████████████| 10000/10000 [00:00<00:00, 28005.85it/s]\n",
      "Generating walks (CPU: 3): 100%|██████████| 2/2 [00:18<00:00,  9.43s/it]\n",
      "Generating walks (CPU: 4): 100%|██████████| 2/2 [00:21<00:00, 10.96s/it]\n",
      "Generating walks (CPU: 1): 100%|██████████| 3/3 [00:29<00:00,  9.75s/it]\n",
      "Generating walks (CPU: 2): 100%|██████████| 3/3 [00:35<00:00, 11.84s/it]\n"
     ]
    }
   ],
   "source": [
    "dim = 100\n",
    "\n",
    "n2v_ring = Node2Vec(ring_lattice, \n",
    "                    dimensions = 128, \n",
    "                    walk_length = 30,\n",
    "                    num_walks = 10,\n",
    "                    workers = 4,\n",
    "                    )\n",
    "\n",
    "\n",
    "n2v_ring2 = Node2Vec(ring_lattice, \n",
    "                    dimensions = 128, \n",
    "                    walk_length = 30,\n",
    "                    num_walks = 10,\n",
    "                    workers = 4,\n",
    "                    )"
   ]
  },
  {
   "cell_type": "code",
   "execution_count": 349,
   "metadata": {},
   "outputs": [
    {
     "name": "stderr",
     "output_type": "stream",
     "text": [
      "Computing transition probabilities: 100%|███████████████████████████████████████████| 10000/10000 [00:00<00:00, 28197.53it/s]\n",
      "Generating walks (CPU: 3): 100%|██████████| 2/2 [00:19<00:00,  9.68s/it]\n",
      "Generating walks (CPU: 4): 100%|██████████| 2/2 [00:23<00:00, 11.82s/it]\n",
      "Generating walks (CPU: 1): 100%|██████████| 3/3 [00:28<00:00,  9.42s/it]\n",
      "Generating walks (CPU: 2): 100%|██████████| 3/3 [00:32<00:00, 10.93s/it]\n"
     ]
    }
   ],
   "source": [
    "n2v_missing = Node2Vec(ring_missing, \n",
    "                       dimensions = 128,\n",
    "                       walk_length = 30,\n",
    "                       num_walks = 10,\n",
    "                       workers = 4,\n",
    "                       )"
   ]
  },
  {
   "cell_type": "code",
   "execution_count": 350,
   "metadata": {},
   "outputs": [],
   "source": [
    "embed_ring = n2v_ring.fit(window = 10,\n",
    "                         min_count = 1,\n",
    "                         batch_words = 4,\n",
    "                         )\n",
    "\n",
    "embed_ring2 = n2v_ring2.fit(window = 10,\n",
    "                         min_count = 1,\n",
    "                         batch_words = 4,\n",
    "                         )\n",
    "\n",
    "embed_missing = n2v_missing.fit(window = 10, \n",
    "                                min_count = 1, \n",
    "                                batch_words = 4,)"
   ]
  },
  {
   "cell_type": "code",
   "execution_count": 351,
   "metadata": {},
   "outputs": [],
   "source": [
    "# embed_ring.wv.save_word2vec_format('./ring_embed')"
   ]
  },
  {
   "cell_type": "code",
   "execution_count": 352,
   "metadata": {},
   "outputs": [],
   "source": [
    "# embed_missing.wv.save_word2vec_format('./missing_embed')"
   ]
  },
  {
   "cell_type": "code",
   "execution_count": 353,
   "metadata": {},
   "outputs": [],
   "source": [
    "vec_ring = []\n",
    "vec_ring2 = []\n",
    "vec_miss = []\n",
    "for i in range(n_node):\n",
    "    vec_ring.append(embed_ring.wv['%d'%i])\n",
    "    vec_ring2.append(embed_ring2.wv['%d'%i])\n",
    "    vec_miss.append(embed_missing.wv['%d'%i])\n"
   ]
  },
  {
   "cell_type": "code",
   "execution_count": 354,
   "metadata": {},
   "outputs": [],
   "source": [
    "# vec_ring = []\n",
    "\n",
    "# file = open('./ring_embed', 'r')\n",
    "# for line in file:\n",
    "#     val = line.split(' ')\n",
    "#     val[-1] = val[-1].strip('\\n')\n",
    "#     val = list(map(float, val))\n",
    "#     vec_ring.append(val)\n",
    "\n",
    "\n",
    "# vec_missing = []\n",
    "\n",
    "# file = open('./missing_embed', 'r')\n",
    "# for line in file:\n",
    "#     val = line.split(' ')\n",
    "#     val[-1] = val[-1].strip('\\n')\n",
    "#     val = list(map(float, val))\n",
    "#     vec_missing.append(val)\n",
    "\n",
    "    \n",
    "# vec_ring = vec_ring[1:]\n",
    "# vec_miss = vec_missing[1:]"
   ]
  },
  {
   "cell_type": "code",
   "execution_count": 355,
   "metadata": {},
   "outputs": [],
   "source": [
    "# a = combinations(range(0, n_node), 2)\n",
    "# pair = [i for i in a]\n",
    "# dist_ring = 0.\n",
    "# dist_miss = 0.\n",
    "# cosim_ring = 0.\n",
    "# cosim_miss = 0.\n",
    "\n",
    "# for p in pair:\n",
    "#     dist_ring += np.linalg.norm(np.array(vec_miss[p[0]]) - np.array(vec_ring[p[1]]))\n",
    "#     dist_miss += np.linalg.norm(np.array(vec_miss[p[0]]) - np.array(vec_miss[p[1]]))\n",
    "    \n",
    "#     cosim_ring += \\\n",
    "#     np.dot(vec_ring[p[0]], vec_ring[p[1]]) / (np.linalg.norm(vec_ring[p[0]]) * np.linalg.norm(vec_ring[p[1]]))\n",
    "    \n",
    "#     cosim_miss += \\\n",
    "#     np.dot(vec_miss[p[0]], vec_miss[p[1]]) / (np.linalg.norm(vec_miss[p[0]]) * np.linalg.norm(vec_miss[p[1]]))\n",
    "    \n",
    "\n",
    "# dist_ring = dist_ring / len(pair)\n",
    "# dist_miss = dist_miss / len(pair)\n",
    "# cosim_ring = cosim_ring / len(pair)\n",
    "# cosim_miss = cosim_miss / len(pair)\n",
    "\n",
    "# print(dist_ring)\n",
    "# print(dist_miss)\n",
    "\n",
    "# print(cosim_ring)\n",
    "# print(cosim_miss)"
   ]
  },
  {
   "cell_type": "code",
   "execution_count": 356,
   "metadata": {},
   "outputs": [],
   "source": [
    "dist_control = 0.\n",
    "cosim_control = 0.\n",
    "\n",
    "for i in range(n_node):\n",
    "    dist_control += np.linalg.norm(np.array(vec_ring2[i]) - np.array(vec_ring[i]))\n",
    "    cosim_control += np.dot(vec_ring[i], vec_ring2[i]) / (np.linalg.norm(vec_ring[i]) * np.linalg.norm(vec_ring2[i]))\n",
    "    \n",
    "    \n",
    "dist_control = dist_control / n_node\n",
    "cosim_control = cosim_control / n_node"
   ]
  },
  {
   "cell_type": "code",
   "execution_count": 357,
   "metadata": {},
   "outputs": [],
   "source": [
    "dist_exp = 0.\n",
    "cosim_exp = 0.\n",
    "\n",
    "for i in range(n_node):\n",
    "    dist_exp += np.linalg.norm(np.array(vec_miss[i]) - np.array(vec_ring[i]))\n",
    "    cosim_exp += np.dot(vec_ring[i], vec_miss[i]) / (np.linalg.norm(vec_ring[i]) * np.linalg.norm(vec_miss[i]))\n",
    "    \n",
    "    \n",
    "dist_exp = dist_exp / n_node\n",
    "cosim_exp = cosim_exp / n_node"
   ]
  },
  {
   "cell_type": "code",
   "execution_count": 358,
   "metadata": {},
   "outputs": [
    {
     "name": "stdout",
     "output_type": "stream",
     "text": [
      "9.709897774791717\n",
      "9.736059147024156\n"
     ]
    }
   ],
   "source": [
    "print(dist_control)\n",
    "print(dist_exp)"
   ]
  },
  {
   "cell_type": "code",
   "execution_count": 359,
   "metadata": {},
   "outputs": [
    {
     "name": "stdout",
     "output_type": "stream",
     "text": [
      "0.24986675921864807\n",
      "0.24568584918759298\n"
     ]
    }
   ],
   "source": [
    "print(cosim_control)\n",
    "print(cosim_exp)"
   ]
  },
  {
   "cell_type": "code",
   "execution_count": 221,
   "metadata": {},
   "outputs": [
    {
     "data": {
      "text/plain": [
       "[('1999', 0.9990344643592834),\n",
       " ('1998', 0.9979798197746277),\n",
       " ('1997', 0.9921969771385193),\n",
       " ('1996', 0.977904200553894),\n",
       " ('1995', 0.9293650388717651),\n",
       " ('1994', 0.8656020760536194),\n",
       " ('1993', 0.7891461253166199),\n",
       " ('1992', 0.7386296391487122),\n",
       " ('1991', 0.6905949115753174),\n",
       " ('1990', 0.569789707660675),\n",
       " ('1989', 0.5093412399291992),\n",
       " ('556', 0.4777481257915497),\n",
       " ('555', 0.4773986339569092),\n",
       " ('466', 0.47380587458610535),\n",
       " ('725', 0.472700297832489),\n",
       " ('728', 0.47222787141799927),\n",
       " ('553', 0.47165459394454956),\n",
       " ('557', 0.4699530005455017),\n",
       " ('1295', 0.4699190557003021),\n",
       " ('720', 0.46833011507987976)]"
      ]
     },
     "execution_count": 221,
     "metadata": {},
     "output_type": "execute_result"
    }
   ],
   "source": [
    "embed_missing.wv.most_similar('0', topn = 20)"
   ]
  },
  {
   "cell_type": "code",
   "execution_count": 222,
   "metadata": {},
   "outputs": [
    {
     "data": {
      "text/plain": [
       "[('2', 0.9985103607177734),\n",
       " ('3', 0.9984375834465027),\n",
       " ('4', 0.9908352494239807),\n",
       " ('5', 0.9722195863723755),\n",
       " ('6', 0.93645840883255),\n",
       " ('7', 0.8674032688140869),\n",
       " ('8', 0.8126690983772278),\n",
       " ('9', 0.7122371792793274),\n",
       " ('10', 0.6289634704589844),\n",
       " ('11', 0.540838360786438)]"
      ]
     },
     "execution_count": 222,
     "metadata": {},
     "output_type": "execute_result"
    }
   ],
   "source": [
    "embed_missing.wv.most_similar('1')"
   ]
  },
  {
   "cell_type": "code",
   "execution_count": null,
   "metadata": {},
   "outputs": [],
   "source": []
  }
 ],
 "metadata": {
  "kernelspec": {
   "display_name": "EmbeddedNaive",
   "language": "python",
   "name": "embeddednaive"
  },
  "language_info": {
   "codemirror_mode": {
    "name": "ipython",
    "version": 3
   },
   "file_extension": ".py",
   "mimetype": "text/x-python",
   "name": "python",
   "nbconvert_exporter": "python",
   "pygments_lexer": "ipython3",
   "version": "3.10.6"
  }
 },
 "nbformat": 4,
 "nbformat_minor": 4
}
