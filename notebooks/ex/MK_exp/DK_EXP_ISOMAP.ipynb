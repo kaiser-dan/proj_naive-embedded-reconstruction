{
 "cells": [
  {
   "attachments": {},
   "cell_type": "markdown",
   "metadata": {},
   "source": [
    "# Set-up"
   ]
  },
  {
   "attachments": {},
   "cell_type": "markdown",
   "metadata": {},
   "source": [
    "## Package management"
   ]
  },
  {
   "cell_type": "code",
   "execution_count": 25,
   "metadata": {},
   "outputs": [],
   "source": [
    "# --- Standard library ---\n",
    "import sys\n",
    "import pickle\n",
    "from enum import Enum\n",
    "import random\n",
    "\n",
    "# --- Scientific computing ---\n",
    "import numpy as np\n",
    "from sklearn.metrics import accuracy_score, roc_auc_score\n",
    "from sklearn import preprocessing, manifold\n",
    "import scipy.sparse as sp\n",
    "from scipy import linalg\n",
    "\n",
    "# --- Network science ---\n",
    "from cdlib import algorithms\n",
    "import networkx as nx\n",
    "\n",
    "# --- Data handling and visualization ---\n",
    "import matplotlib as mpl\n",
    "import matplotlib.pyplot as plt\n",
    "from matplotlib.ticker import AutoMinorLocator\n",
    "%matplotlib inline\n",
    "\n",
    "import seaborn as sns\n",
    "\n",
    "# --- Miscelleaneous ---\n",
    "from tqdm.auto import tqdm\n",
    "\n",
    "# --- Project source code ---\n",
    "sys.path.append(\"../../../\")\n",
    "sys.path.append(\"../../../src/\")\n",
    "\n",
    "from src.hypercomparison import networks as hypnet\n",
    "\n",
    "# Data\n",
    "from src.data.preprocessing import duplex_network  # handle overlap, inconsistent node sets\n",
    "from src.data.benchmarks import lfr_multiplex  # benchmark samplers\n",
    "\n",
    "# Sampling\n",
    "from src.sampling.random import partial_information  # PFI observation\n",
    "\n",
    "# Classifiers\n",
    "from src.classifiers.features import *  # degree feature calculations, label wrapper\n",
    "from src.classifiers.logreg import *  # wrappers for scikit-learn logistic regression model functions"
   ]
  },
  {
   "attachments": {},
   "cell_type": "markdown",
   "metadata": {},
   "source": [
    "# Global Config"
   ]
  },
  {
   "cell_type": "code",
   "execution_count": 26,
   "metadata": {},
   "outputs": [],
   "source": [
    "# * Pathing aliases\n",
    "_ROOT = \"../../\"\n",
    "_DATA = _ROOT + \"data/input/\"\n",
    "_DFS = _ROOT + \"results/dataframes/\"\n",
    "_FIGS = _ROOT + \"results/plots/\"\n"
   ]
  },
  {
   "cell_type": "code",
   "execution_count": 27,
   "metadata": {},
   "outputs": [],
   "source": [
    "# * Plotting parameters\n",
    "custom_plot_settings = {\n",
    "    # Figure config\n",
    "    \"figure.figsize\": (8,6),\n",
    "    \"figure.frameon\": True,\n",
    "    \"figure.autolayout\": True,\n",
    "    \"axes.titlesize\": 16,\n",
    "    # Axes config\n",
    "    \"xtick.minor.size\": 2,\n",
    "    # Save-to-disk config\n",
    "    \"savefig.facecolor\": \"white\",\n",
    "    \"savefig.transparent\": False\n",
    "}\n",
    "mpl.rcParams.update(custom_plot_settings)\n",
    "\n",
    "# * Plotting aliases\n",
    "colors_ = [\"black\", \"red\", \"blue\", \"green\"]\n",
    "markers_ = [\"o\", \"s\", \"+\", \"^\"]\n",
    "viridis_ = mpl.colormaps['viridis']"
   ]
  },
  {
   "attachments": {},
   "cell_type": "markdown",
   "metadata": {},
   "source": [
    "# Data set-up"
   ]
  },
  {
   "cell_type": "code",
   "execution_count": 28,
   "metadata": {},
   "outputs": [],
   "source": [
    "# --- Data/Experiment Configurations ---\n",
    "class NetworkParams(Enum):\n",
    "    # Shared params\n",
    "    N = 200\n",
    "    PROB = 1.0\n",
    "    T1 = 2.1\n",
    "    KMAX = np.sqrt(200)\n",
    "    # Configuration model params\n",
    "    KMIN = 3\n",
    "    SIGN = 1\n",
    "    # LFR params\n",
    "    KAVG = 5.0\n",
    "    T2 = 1.0\n",
    "    MU = 0.1\n",
    "    MIN_COMMUNITY = 1 # ignored\n",
    "\n",
    "class ExperimentParams(Enum):\n",
    "    THETAS = np.linspace(0.05, 0.95, 11, endpoint=True)\n",
    "\n",
    "LOGREG = {\n",
    "    \"fit_intercept\": True,  # include intercept accounting for class imbalance\n",
    "    \"solver\": \"newton-cholesky\",  # uses Cholesky-decomposition to approximate Hessian for Newton-esque method\n",
    "    \"penalty\": None  # do not include coefficient regularization\n",
    "}"
   ]
  },
  {
   "attachments": {},
   "cell_type": "markdown",
   "metadata": {},
   "source": [
    "## Function set-up"
   ]
  },
  {
   "cell_type": "code",
   "execution_count": 29,
   "metadata": {},
   "outputs": [],
   "source": [
    "\"\"\"\n",
    "Implementations of Isomap\n",
    "Metric MDS + shortest path length matrix of a network\n",
    "\"\"\"\n",
    "class MDSBase:\n",
    "    def __init__(self, dimension):\n",
    "        self.dimension = dimension\n",
    "\n",
    "    def train(self, network):\n",
    "        self.network = network\n",
    "        self.network.generate_shortest_path_length_matrix()\n",
    "        self.embeddings_matrix = self._get_embedding()\n",
    "\n",
    "        if len(self.embeddings_matrix) == 0:\n",
    "            self.embeddings = {}\n",
    "        else:\n",
    "            self.embeddings = {\n",
    "                self.network.id2node[i]: self.embeddings_matrix[i] for i in range(len(self.network.id2node))\n",
    "            }\n",
    "        return self.embeddings\n",
    "\n",
    "\n",
    "class Isomap(MDSBase):\n",
    "    def __init__(self, dimension=2):\n",
    "        super(Isomap, self).__init__(dimension)\n",
    "\n",
    "    def _get_embedding(self):\n",
    "        return manifold.MDS(\n",
    "            self.dimension, dissimilarity=\"precomputed\").fit_transform(\n",
    "                self.network.shortest_path_length_matrix)"
   ]
  },
  {
   "cell_type": "code",
   "execution_count": 30,
   "metadata": {},
   "outputs": [],
   "source": [
    "def get_network(\n",
    "        N=int(NetworkParams.N.value),  # number of nodes\n",
    "        T1=NetworkParams.T1.value,  # degree distribution exponent\n",
    "        T2=NetworkParams.T2.value,  # community size distribution exponent\n",
    "        MU=NetworkParams.MU.value,  # community mixing parameter\n",
    "        KAVG=NetworkParams.KAVG.value,  # average degree\n",
    "        KMAX=NetworkParams.KMAX.value,  # maximum degree\n",
    "        MIN_COMMUNITY=NetworkParams.MIN_COMMUNITY.value,  # minimum community size (ignored)\n",
    "        PROB=NetworkParams.PROB.value,  # degree sequence correlation,\n",
    "        ROOT=\"../../\"):\n",
    "    duplex, _, _, _ = lfr_multiplex(N, T1, T2, MU, KAVG, KMAX, MIN_COMMUNITY, PROB, ROOT)\n",
    "    duplex = duplex_network(duplex, 1, 2, verbose=True)\n",
    "\n",
    "    return duplex"
   ]
  },
  {
   "cell_type": "code",
   "execution_count": 31,
   "metadata": {},
   "outputs": [],
   "source": [
    "def get_remnants(theta, G, H):\n",
    "    remnant_G, remnant_H, test_edges, train_edges = partial_information(G, H, theta)\n",
    "    record = {\n",
    "        \"remnants\": (remnant_G, remnant_H),\n",
    "        \"observed_edges\": train_edges,\n",
    "        \"unobserved_edges\": test_edges\n",
    "    }\n",
    "\n",
    "    return record"
   ]
  },
  {
   "cell_type": "code",
   "execution_count": 32,
   "metadata": {},
   "outputs": [],
   "source": [
    "def embed_remnants_Isomap(\n",
    "        remnants_record,\n",
    "        params,\n",
    "        normalize=True,\n",
    "        nodelist=None):\n",
    "    g, h = remnants_record[\"remnants\"]\n",
    "    E_train = remnants_record[\"observed_edges\"]\n",
    "    E_test = remnants_record[\"unobserved_edges\"]\n",
    "\n",
    "    G_ = hypnet.NetworkBase()\n",
    "    G_.G = g\n",
    "    H_ = hypnet.NetworkBase()\n",
    "    H_.G = h\n",
    "\n",
    "    embeddings_G = Isomap(dimension=params[\"dimension\"]).train(G_)\n",
    "    embeddings_H = Isomap(dimension=params[\"dimension\"]).train(H_)\n",
    "\n",
    "    distances_G_train, distances_H_train = get_distances((embeddings_G, embeddings_H), E_train)\n",
    "    distances_G_test, distances_H_test = get_distances((embeddings_G, embeddings_H), E_test)\n",
    "\n",
    "    # * >>> Match FR notebook >>>\n",
    "    # distances_G_train = [x**2 for x in distances_G_train]\n",
    "    # distances_H_train = [x**2 for x in distances_H_train]\n",
    "    # distances_G_test = [x**2 for x in distances_G_test]\n",
    "    # distances_H_test = [x**2 for x in distances_H_test]\n",
    "    # * <<< Match FR notebook <<<\n",
    "\n",
    "    feature_distances_train = get_configuration_distances_feature(distances_G_train, distances_H_train, zde_penalty=0.1)\n",
    "    feature_distances_test = get_configuration_distances_feature(distances_G_test, distances_H_test, zde_penalty=0.1)\n",
    "\n",
    "    if normalize:\n",
    "        normalizer = max(np.abs(feature_distances_train))\n",
    "        feature_distances_train = list(map(lambda x: x / normalizer, feature_distances_train))\n",
    "\n",
    "        normalizer = max(np.abs(feature_distances_test))\n",
    "        feature_distances_test = list(map(lambda x: x / normalizer, feature_distances_test))\n",
    "\n",
    "    return feature_distances_train, feature_distances_test"
   ]
  },
  {
   "cell_type": "code",
   "execution_count": 33,
   "metadata": {},
   "outputs": [],
   "source": [
    "def get_degree_features(remnants_record):\n",
    "    G, H = remnants_record[\"remnants\"]\n",
    "    E_train = remnants_record[\"observed_edges\"]\n",
    "    E_test = remnants_record[\"unobserved_edges\"]\n",
    "    # Partially compute degree likelihood feature\n",
    "    src_degrees_train, tgt_degrees_train = get_degrees((G, H), E_train)\n",
    "    src_degrees_test, tgt_degrees_test = get_degrees((G, H), E_test)\n",
    "\n",
    "    # Complete degree likelihood feature calculations\n",
    "    feature_degrees_train = get_configuration_probabilities_feature(src_degrees_train, tgt_degrees_train)\n",
    "    feature_degrees_test = get_configuration_probabilities_feature(src_degrees_test, tgt_degrees_test)\n",
    "\n",
    "    return feature_degrees_train, feature_degrees_test"
   ]
  },
  {
   "cell_type": "code",
   "execution_count": 34,
   "metadata": {},
   "outputs": [],
   "source": [
    "def train_test_model(remnants_record, distances, degrees):\n",
    "    E_train = remnants_record[\"observed_edges\"]\n",
    "    E_test = remnants_record[\"unobserved_edges\"]\n",
    "\n",
    "    # Retrieve data labels\n",
    "    Y_train, Y_test = get_labels(E_train, E_test)\n",
    "\n",
    "    # Unpack training features\n",
    "    dist_train, dist_test = distances\n",
    "    degs_train, degs_test = degrees\n",
    "    X_train, X_test = format_feature_matrix(\n",
    "        {\"emb\", \"imb\", \"deg\"},\n",
    "        len(E_train), len(E_test),\n",
    "        dist_train, dist_test,\n",
    "        degs_train, degs_test\n",
    "    )\n",
    "\n",
    "    # Train model\n",
    "    model = train_fit_logreg(X_train, Y_train, LOGREG)\n",
    "\n",
    "    # Evaluate model\n",
    "    accuracy = get_model_accuracy(model, X_test, Y_test)\n",
    "    auroc = get_model_auroc(model, X_test, Y_test)\n",
    "    aupr = get_model_aupr(model, X_test, Y_test)\n",
    "\n",
    "    # Pack output\n",
    "    output = {\n",
    "        \"model\": model,\n",
    "        \"intercept\": model.intercept_[0],\n",
    "        \"coefs\": model.coef_[0],\n",
    "        \"accuracy\": accuracy,\n",
    "        \"auroc\": auroc,\n",
    "        \"aupr\": aupr,\n",
    "    }\n",
    "\n",
    "    return output"
   ]
  },
  {
   "cell_type": "code",
   "execution_count": 35,
   "metadata": {},
   "outputs": [],
   "source": [
    "def analysis(G, H):\n",
    "    df = dict()\n",
    "\n",
    "    params = {\"dimension\": 128, \"beta\": 0.1}\n",
    "    nodelist = sorted(G.nodes())\n",
    "\n",
    "    for theta in tqdm(ExperimentParams.THETAS.value, desc=\"Sweeping theta...\"):\n",
    "        remnants_record = get_remnants(theta, G, H)\n",
    "        degrees = get_degree_features(remnants_record)\n",
    "        distances = embed_remnants_Isomap(remnants_record, params, nodelist=nodelist)\n",
    "        df[theta] = train_test_model(remnants_record, distances, degrees)\n",
    "#         df_ = dict()\n",
    "#         for dimensions in np.linspace(10, 100, num=11, dtype=int):\n",
    "#             params[\"k\"] = dimensions\n",
    "#             distances = embed_remnants_HOPE(remnants_record, params, nodelist=nodelist)\n",
    "\n",
    "#             df_[dimensions] = train_test_model(remnants_record, distances, degrees)\n",
    "#         df[theta] = df_\n",
    "\n",
    "    return df"
   ]
  },
  {
   "attachments": {},
   "cell_type": "markdown",
   "metadata": {},
   "source": [
    "# Experiments"
   ]
  },
  {
   "cell_type": "code",
   "execution_count": 36,
   "metadata": {},
   "outputs": [
    {
     "name": "stdout",
     "output_type": "stream",
     "text": [
      "\n",
      "\n",
      "--- T1 = 2.1 ---\n",
      "\n",
      "Number of common edges removed: 12\n",
      "Number of inactive nodes removed from layer 1: 0\n",
      "Number of inactive nodes removed from layer 2: 0\n",
      "Size of active node set union from layers 1 and 2: 400\n"
     ]
    },
    {
     "name": "stderr",
     "output_type": "stream",
     "text": [
      "Sweeping theta...:  91%|█████████ | 10/11 [00:25<00:02,  2.56s/it]\n"
     ]
    },
    {
     "ename": "ValueError",
     "evalue": "Input contains NaN.",
     "output_type": "error",
     "traceback": [
      "\u001b[0;31m---------------------------------------------------------------------------\u001b[0m",
      "\u001b[0;31mValueError\u001b[0m                                Traceback (most recent call last)",
      "\u001b[1;32m/home/kaiserd/Science/projects/MultiplexReconstruction/Embedded/proj_naive-embedded-reconstruction/notebooks/ex/MK_exp/DK_EXP_ISOMAP.ipynb Cell 18\u001b[0m in \u001b[0;36m<cell line: 5>\u001b[0;34m()\u001b[0m\n\u001b[1;32m      <a href='vscode-notebook-cell:/home/kaiserd/Science/projects/MultiplexReconstruction/Embedded/proj_naive-embedded-reconstruction/notebooks/ex/MK_exp/DK_EXP_ISOMAP.ipynb#X23sZmlsZQ%3D%3D?line=5'>6</a>\u001b[0m \u001b[39mprint\u001b[39m(\u001b[39mf\u001b[39m\u001b[39m\"\u001b[39m\u001b[39m\\n\u001b[39;00m\u001b[39m\\n\u001b[39;00m\u001b[39m--- T1 = \u001b[39m\u001b[39m{\u001b[39;00mT1\u001b[39m}\u001b[39;00m\u001b[39m ---\u001b[39m\u001b[39m\\n\u001b[39;00m\u001b[39m\"\u001b[39m)\n\u001b[1;32m      <a href='vscode-notebook-cell:/home/kaiserd/Science/projects/MultiplexReconstruction/Embedded/proj_naive-embedded-reconstruction/notebooks/ex/MK_exp/DK_EXP_ISOMAP.ipynb#X23sZmlsZQ%3D%3D?line=6'>7</a>\u001b[0m G, H \u001b[39m=\u001b[39m get_network(T1\u001b[39m=\u001b[39mT1, ROOT\u001b[39m=\u001b[39m\u001b[39m\"\u001b[39m\u001b[39m../../../\u001b[39m\u001b[39m\"\u001b[39m)\n\u001b[0;32m----> <a href='vscode-notebook-cell:/home/kaiserd/Science/projects/MultiplexReconstruction/Embedded/proj_naive-embedded-reconstruction/notebooks/ex/MK_exp/DK_EXP_ISOMAP.ipynb#X23sZmlsZQ%3D%3D?line=7'>8</a>\u001b[0m results[T1] \u001b[39m=\u001b[39m analysis(G, H)\n",
      "\u001b[1;32m/home/kaiserd/Science/projects/MultiplexReconstruction/Embedded/proj_naive-embedded-reconstruction/notebooks/ex/MK_exp/DK_EXP_ISOMAP.ipynb Cell 18\u001b[0m in \u001b[0;36manalysis\u001b[0;34m(G, H)\u001b[0m\n\u001b[1;32m      <a href='vscode-notebook-cell:/home/kaiserd/Science/projects/MultiplexReconstruction/Embedded/proj_naive-embedded-reconstruction/notebooks/ex/MK_exp/DK_EXP_ISOMAP.ipynb#X23sZmlsZQ%3D%3D?line=8'>9</a>\u001b[0m         degrees \u001b[39m=\u001b[39m get_degree_features(remnants_record)\n\u001b[1;32m     <a href='vscode-notebook-cell:/home/kaiserd/Science/projects/MultiplexReconstruction/Embedded/proj_naive-embedded-reconstruction/notebooks/ex/MK_exp/DK_EXP_ISOMAP.ipynb#X23sZmlsZQ%3D%3D?line=9'>10</a>\u001b[0m         distances \u001b[39m=\u001b[39m embed_remnants_Isomap(remnants_record, params, nodelist\u001b[39m=\u001b[39mnodelist)\n\u001b[0;32m---> <a href='vscode-notebook-cell:/home/kaiserd/Science/projects/MultiplexReconstruction/Embedded/proj_naive-embedded-reconstruction/notebooks/ex/MK_exp/DK_EXP_ISOMAP.ipynb#X23sZmlsZQ%3D%3D?line=10'>11</a>\u001b[0m         df[theta] \u001b[39m=\u001b[39m train_test_model(remnants_record, distances, degrees)\n\u001b[1;32m     <a href='vscode-notebook-cell:/home/kaiserd/Science/projects/MultiplexReconstruction/Embedded/proj_naive-embedded-reconstruction/notebooks/ex/MK_exp/DK_EXP_ISOMAP.ipynb#X23sZmlsZQ%3D%3D?line=11'>12</a>\u001b[0m \u001b[39m#         df_ = dict()\u001b[39;00m\n\u001b[1;32m     <a href='vscode-notebook-cell:/home/kaiserd/Science/projects/MultiplexReconstruction/Embedded/proj_naive-embedded-reconstruction/notebooks/ex/MK_exp/DK_EXP_ISOMAP.ipynb#X23sZmlsZQ%3D%3D?line=12'>13</a>\u001b[0m \u001b[39m#         for dimensions in np.linspace(10, 100, num=11, dtype=int):\u001b[39;00m\n\u001b[1;32m     <a href='vscode-notebook-cell:/home/kaiserd/Science/projects/MultiplexReconstruction/Embedded/proj_naive-embedded-reconstruction/notebooks/ex/MK_exp/DK_EXP_ISOMAP.ipynb#X23sZmlsZQ%3D%3D?line=13'>14</a>\u001b[0m \u001b[39m#             params[\"k\"] = dimensions\u001b[39;00m\n\u001b[0;32m   (...)\u001b[0m\n\u001b[1;32m     <a href='vscode-notebook-cell:/home/kaiserd/Science/projects/MultiplexReconstruction/Embedded/proj_naive-embedded-reconstruction/notebooks/ex/MK_exp/DK_EXP_ISOMAP.ipynb#X23sZmlsZQ%3D%3D?line=16'>17</a>\u001b[0m \u001b[39m#             df_[dimensions] = train_test_model(remnants_record, distances, degrees)\u001b[39;00m\n\u001b[1;32m     <a href='vscode-notebook-cell:/home/kaiserd/Science/projects/MultiplexReconstruction/Embedded/proj_naive-embedded-reconstruction/notebooks/ex/MK_exp/DK_EXP_ISOMAP.ipynb#X23sZmlsZQ%3D%3D?line=17'>18</a>\u001b[0m \u001b[39m#         df[theta] = df_\u001b[39;00m\n\u001b[1;32m     <a href='vscode-notebook-cell:/home/kaiserd/Science/projects/MultiplexReconstruction/Embedded/proj_naive-embedded-reconstruction/notebooks/ex/MK_exp/DK_EXP_ISOMAP.ipynb#X23sZmlsZQ%3D%3D?line=19'>20</a>\u001b[0m     \u001b[39mreturn\u001b[39;00m df\n",
      "\u001b[1;32m/home/kaiserd/Science/projects/MultiplexReconstruction/Embedded/proj_naive-embedded-reconstruction/notebooks/ex/MK_exp/DK_EXP_ISOMAP.ipynb Cell 18\u001b[0m in \u001b[0;36mtrain_test_model\u001b[0;34m(remnants_record, distances, degrees)\u001b[0m\n\u001b[1;32m     <a href='vscode-notebook-cell:/home/kaiserd/Science/projects/MultiplexReconstruction/Embedded/proj_naive-embedded-reconstruction/notebooks/ex/MK_exp/DK_EXP_ISOMAP.ipynb#X23sZmlsZQ%3D%3D?line=20'>21</a>\u001b[0m \u001b[39m# Evaluate model\u001b[39;00m\n\u001b[1;32m     <a href='vscode-notebook-cell:/home/kaiserd/Science/projects/MultiplexReconstruction/Embedded/proj_naive-embedded-reconstruction/notebooks/ex/MK_exp/DK_EXP_ISOMAP.ipynb#X23sZmlsZQ%3D%3D?line=21'>22</a>\u001b[0m accuracy \u001b[39m=\u001b[39m get_model_accuracy(model, X_test, Y_test)\n\u001b[0;32m---> <a href='vscode-notebook-cell:/home/kaiserd/Science/projects/MultiplexReconstruction/Embedded/proj_naive-embedded-reconstruction/notebooks/ex/MK_exp/DK_EXP_ISOMAP.ipynb#X23sZmlsZQ%3D%3D?line=22'>23</a>\u001b[0m auroc \u001b[39m=\u001b[39m get_model_auroc(model, X_test, Y_test)\n\u001b[1;32m     <a href='vscode-notebook-cell:/home/kaiserd/Science/projects/MultiplexReconstruction/Embedded/proj_naive-embedded-reconstruction/notebooks/ex/MK_exp/DK_EXP_ISOMAP.ipynb#X23sZmlsZQ%3D%3D?line=23'>24</a>\u001b[0m aupr \u001b[39m=\u001b[39m get_model_aupr(model, X_test, Y_test)\n\u001b[1;32m     <a href='vscode-notebook-cell:/home/kaiserd/Science/projects/MultiplexReconstruction/Embedded/proj_naive-embedded-reconstruction/notebooks/ex/MK_exp/DK_EXP_ISOMAP.ipynb#X23sZmlsZQ%3D%3D?line=25'>26</a>\u001b[0m \u001b[39m# Pack output\u001b[39;00m\n",
      "File \u001b[0;32m~/Science/projects/MultiplexReconstruction/Embedded/proj_naive-embedded-reconstruction/notebooks/ex/MK_exp/../../../src/classifiers/logreg.py:36\u001b[0m, in \u001b[0;36mget_model_auroc\u001b[0;34m(model, X_test, y_test)\u001b[0m\n\u001b[1;32m     34\u001b[0m \u001b[39mdef\u001b[39;00m \u001b[39mget_model_auroc\u001b[39m(model, X_test, y_test):\n\u001b[1;32m     35\u001b[0m     scores \u001b[39m=\u001b[39m get_scores(model, X_test)\n\u001b[0;32m---> 36\u001b[0m     \u001b[39mreturn\u001b[39;00m roc_auc_score(y_test, scores)\n",
      "File \u001b[0;32m~/mambaforge/envs/EmbeddedNaive/lib/python3.10/site-packages/sklearn/metrics/_ranking.py:551\u001b[0m, in \u001b[0;36mroc_auc_score\u001b[0;34m(y_true, y_score, average, sample_weight, max_fpr, multi_class, labels)\u001b[0m\n\u001b[1;32m    549\u001b[0m y_type \u001b[39m=\u001b[39m type_of_target(y_true, input_name\u001b[39m=\u001b[39m\u001b[39m\"\u001b[39m\u001b[39my_true\u001b[39m\u001b[39m\"\u001b[39m)\n\u001b[1;32m    550\u001b[0m y_true \u001b[39m=\u001b[39m check_array(y_true, ensure_2d\u001b[39m=\u001b[39m\u001b[39mFalse\u001b[39;00m, dtype\u001b[39m=\u001b[39m\u001b[39mNone\u001b[39;00m)\n\u001b[0;32m--> 551\u001b[0m y_score \u001b[39m=\u001b[39m check_array(y_score, ensure_2d\u001b[39m=\u001b[39;49m\u001b[39mFalse\u001b[39;49;00m)\n\u001b[1;32m    553\u001b[0m \u001b[39mif\u001b[39;00m y_type \u001b[39m==\u001b[39m \u001b[39m\"\u001b[39m\u001b[39mmulticlass\u001b[39m\u001b[39m\"\u001b[39m \u001b[39mor\u001b[39;00m (\n\u001b[1;32m    554\u001b[0m     y_type \u001b[39m==\u001b[39m \u001b[39m\"\u001b[39m\u001b[39mbinary\u001b[39m\u001b[39m\"\u001b[39m \u001b[39mand\u001b[39;00m y_score\u001b[39m.\u001b[39mndim \u001b[39m==\u001b[39m \u001b[39m2\u001b[39m \u001b[39mand\u001b[39;00m y_score\u001b[39m.\u001b[39mshape[\u001b[39m1\u001b[39m] \u001b[39m>\u001b[39m \u001b[39m2\u001b[39m\n\u001b[1;32m    555\u001b[0m ):\n\u001b[1;32m    556\u001b[0m     \u001b[39m# do not support partial ROC computation for multiclass\u001b[39;00m\n\u001b[1;32m    557\u001b[0m     \u001b[39mif\u001b[39;00m max_fpr \u001b[39mis\u001b[39;00m \u001b[39mnot\u001b[39;00m \u001b[39mNone\u001b[39;00m \u001b[39mand\u001b[39;00m max_fpr \u001b[39m!=\u001b[39m \u001b[39m1.0\u001b[39m:\n",
      "File \u001b[0;32m~/mambaforge/envs/EmbeddedNaive/lib/python3.10/site-packages/sklearn/utils/validation.py:921\u001b[0m, in \u001b[0;36mcheck_array\u001b[0;34m(array, accept_sparse, accept_large_sparse, dtype, order, copy, force_all_finite, ensure_2d, allow_nd, ensure_min_samples, ensure_min_features, estimator, input_name)\u001b[0m\n\u001b[1;32m    915\u001b[0m         \u001b[39mraise\u001b[39;00m \u001b[39mValueError\u001b[39;00m(\n\u001b[1;32m    916\u001b[0m             \u001b[39m\"\u001b[39m\u001b[39mFound array with dim \u001b[39m\u001b[39m%d\u001b[39;00m\u001b[39m. \u001b[39m\u001b[39m%s\u001b[39;00m\u001b[39m expected <= 2.\u001b[39m\u001b[39m\"\u001b[39m\n\u001b[1;32m    917\u001b[0m             \u001b[39m%\u001b[39m (array\u001b[39m.\u001b[39mndim, estimator_name)\n\u001b[1;32m    918\u001b[0m         )\n\u001b[1;32m    920\u001b[0m     \u001b[39mif\u001b[39;00m force_all_finite:\n\u001b[0;32m--> 921\u001b[0m         _assert_all_finite(\n\u001b[1;32m    922\u001b[0m             array,\n\u001b[1;32m    923\u001b[0m             input_name\u001b[39m=\u001b[39;49minput_name,\n\u001b[1;32m    924\u001b[0m             estimator_name\u001b[39m=\u001b[39;49mestimator_name,\n\u001b[1;32m    925\u001b[0m             allow_nan\u001b[39m=\u001b[39;49mforce_all_finite \u001b[39m==\u001b[39;49m \u001b[39m\"\u001b[39;49m\u001b[39mallow-nan\u001b[39;49m\u001b[39m\"\u001b[39;49m,\n\u001b[1;32m    926\u001b[0m         )\n\u001b[1;32m    928\u001b[0m \u001b[39mif\u001b[39;00m ensure_min_samples \u001b[39m>\u001b[39m \u001b[39m0\u001b[39m:\n\u001b[1;32m    929\u001b[0m     n_samples \u001b[39m=\u001b[39m _num_samples(array)\n",
      "File \u001b[0;32m~/mambaforge/envs/EmbeddedNaive/lib/python3.10/site-packages/sklearn/utils/validation.py:161\u001b[0m, in \u001b[0;36m_assert_all_finite\u001b[0;34m(X, allow_nan, msg_dtype, estimator_name, input_name)\u001b[0m\n\u001b[1;32m    144\u001b[0m \u001b[39mif\u001b[39;00m estimator_name \u001b[39mand\u001b[39;00m input_name \u001b[39m==\u001b[39m \u001b[39m\"\u001b[39m\u001b[39mX\u001b[39m\u001b[39m\"\u001b[39m \u001b[39mand\u001b[39;00m has_nan_error:\n\u001b[1;32m    145\u001b[0m     \u001b[39m# Improve the error message on how to handle missing values in\u001b[39;00m\n\u001b[1;32m    146\u001b[0m     \u001b[39m# scikit-learn.\u001b[39;00m\n\u001b[1;32m    147\u001b[0m     msg_err \u001b[39m+\u001b[39m\u001b[39m=\u001b[39m (\n\u001b[1;32m    148\u001b[0m         \u001b[39mf\u001b[39m\u001b[39m\"\u001b[39m\u001b[39m\\n\u001b[39;00m\u001b[39m{\u001b[39;00mestimator_name\u001b[39m}\u001b[39;00m\u001b[39m does not accept missing values\u001b[39m\u001b[39m\"\u001b[39m\n\u001b[1;32m    149\u001b[0m         \u001b[39m\"\u001b[39m\u001b[39m encoded as NaN natively. For supervised learning, you might want\u001b[39m\u001b[39m\"\u001b[39m\n\u001b[0;32m   (...)\u001b[0m\n\u001b[1;32m    159\u001b[0m         \u001b[39m\"\u001b[39m\u001b[39m#estimators-that-handle-nan-values\u001b[39m\u001b[39m\"\u001b[39m\n\u001b[1;32m    160\u001b[0m     )\n\u001b[0;32m--> 161\u001b[0m \u001b[39mraise\u001b[39;00m \u001b[39mValueError\u001b[39;00m(msg_err)\n",
      "\u001b[0;31mValueError\u001b[0m: Input contains NaN."
     ]
    }
   ],
   "source": [
    "results = dict()  # t2 -> results\n",
    "LOGREG[\"solver\"] = 'newton-cg'\n",
    "LOGREG[\"penalty\"] = 'none'\n",
    "\n",
    "for T1 in [2.1, 2.5, 2.9, 3.5]:\n",
    "    print(f\"\\n\\n--- T1 = {T1} ---\\n\")\n",
    "    G, H = get_network(T1=T1, ROOT=\"../../../\")\n",
    "    results[T1] = analysis(G, H)"
   ]
  },
  {
   "cell_type": "code",
   "execution_count": null,
   "metadata": {
    "jupyter": {
     "outputs_hidden": true
    },
    "scrolled": true,
    "tags": []
   },
   "outputs": [],
   "source": [
    "auroc_df = {}\n",
    "\n",
    "for T1 in [2.1, 2.5, 2.9, 3.5]:\n",
    "    auroc_df[T1] = [[], []]\n",
    "    for k, v in results[T1].items():\n",
    "        auroc_df[T1][0].append(k)\n",
    "        auroc_df[T1][1].append(v['auroc'])"
   ]
  },
  {
   "cell_type": "code",
   "execution_count": null,
   "metadata": {},
   "outputs": [
    {
     "data": {
      "image/png": "[encoded data removed]",
      "text/plain": [
       "<Figure size 800x600 with 1 Axes>"
      ]
     },
     "metadata": {},
     "output_type": "display_data"
    }
   ],
   "source": [
    "fig, ax = plt.subplots()\n",
    "\n",
    "ax.set_title(r'$D=128$', fontsize=20)\n",
    "\n",
    "for T1 in [2.1, 2.5, 2.9, 3.5]:\n",
    "        ax.plot(\n",
    "                auroc_df[T1][0], auroc_df[T1][1],\n",
    "                ls='-', lw=3.0,\n",
    "                label=f'$T_1={T1}$')\n",
    "\n",
    "ax.axhline(y=0.5, c='k', ls='--')\n",
    "ax.set_xlabel(r'$\\theta$', fontsize=20)\n",
    "ax.set_ylabel('AUROC', fontsize=20)\n",
    "ax.tick_params(axis='both', which='major', labelsize=20)\n",
    "ax.legend(fontsize=20)\n",
    "\n",
    "plt.show()"
   ]
  },
  {
   "cell_type": "code",
   "execution_count": null,
   "metadata": {},
   "outputs": [],
   "source": []
  }
 ],
 "metadata": {
  "kernelspec": {
   "display_name": "EmbeddedNaive",
   "language": "python",
   "name": "python3"
  },
  "language_info": {
   "codemirror_mode": {
    "name": "ipython",
    "version": 3
   },
   "file_extension": ".py",
   "mimetype": "text/x-python",
   "name": "python",
   "nbconvert_exporter": "python",
   "pygments_lexer": "ipython3",
   "version": "3.10.9"
  }
 },
 "nbformat": 4,
 "nbformat_minor": 4
}
