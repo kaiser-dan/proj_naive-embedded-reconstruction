{
 "cells": [
  {
   "attachments": {},
   "cell_type": "markdown",
   "metadata": {},
   "source": [
    "# Set-up"
   ]
  },
  {
   "attachments": {},
   "cell_type": "markdown",
   "metadata": {},
   "source": [
    "## Package management"
   ]
  },
  {
   "cell_type": "code",
   "execution_count": 1,
   "metadata": {},
   "outputs": [
    {
     "name": "stdout",
     "output_type": "stream",
     "text": [
      "Note: to be able to use all crisp methods, you need to install some additional packages:  {'graph_tool', 'leidenalg', 'wurlitzer', 'infomap', 'karateclub'}\n",
      "Note: to be able to use all overlapping methods, you need to install some additional packages:  {'ASLPAw', 'karateclub'}\n",
      "Note: to be able to use all bipartite methods, you need to install some additional packages:  {'infomap', 'wurlitzer', 'leidenalg'}\n"
     ]
    }
   ],
   "source": [
    "# --- Standard library ---\n",
    "import sys\n",
    "import pickle\n",
    "from enum import Enum\n",
    "import random\n",
    "\n",
    "# --- Scientific computing ---\n",
    "import numpy as np\n",
    "from sklearn.metrics import accuracy_score, roc_auc_score\n",
    "from sklearn import preprocessing, manifold\n",
    "import scipy.sparse as sp\n",
    "from scipy import linalg\n",
    "\n",
    "# --- Network science ---\n",
    "from cdlib import algorithms\n",
    "import networkx as nx\n",
    "\n",
    "# --- Data handling and visualization ---\n",
    "import matplotlib as mpl\n",
    "import matplotlib.pyplot as plt\n",
    "from matplotlib.ticker import AutoMinorLocator\n",
    "%matplotlib inline\n",
    "\n",
    "import seaborn as sns\n",
    "\n",
    "# --- Miscelleaneous ---\n",
    "from tqdm.auto import tqdm\n",
    "\n",
    "# --- Project source code ---\n",
    "sys.path.append(\"../../../\")\n",
    "sys.path.append(\"../../../src/\")\n",
    "\n",
    "from src.hypercomparison import networks as hypnet\n",
    "\n",
    "# Data\n",
    "from src.data.preprocessing import duplex_network  # handle overlap, inconsistent node sets\n",
    "from src.data.benchmarks import lfr_multiplex  # benchmark samplers\n",
    "\n",
    "# Sampling\n",
    "from src.sampling.random import partial_information  # PFI observation\n",
    "\n",
    "# Classifiers\n",
    "from src.classifiers.features import *  # degree feature calculations, label wrapper\n",
    "from src.classifiers.logreg import *  # wrappers for scikit-learn logistic regression model functions"
   ]
  },
  {
   "attachments": {},
   "cell_type": "markdown",
   "metadata": {},
   "source": [
    "# Global Config"
   ]
  },
  {
   "cell_type": "code",
   "execution_count": 2,
   "metadata": {},
   "outputs": [],
   "source": [
    "# * Pathing aliases\n",
    "_ROOT = \"../../\"\n",
    "_DATA = _ROOT + \"data/input/\"\n",
    "_DFS = _ROOT + \"results/dataframes/\"\n",
    "_FIGS = _ROOT + \"results/plots/\"\n"
   ]
  },
  {
   "cell_type": "code",
   "execution_count": 3,
   "metadata": {},
   "outputs": [],
   "source": [
    "# * Plotting parameters\n",
    "custom_plot_settings = {\n",
    "    # Figure config\n",
    "    \"figure.figsize\": (8,6),\n",
    "    \"figure.frameon\": True,\n",
    "    \"figure.autolayout\": True,\n",
    "    \"axes.titlesize\": 16,\n",
    "    # Axes config\n",
    "    \"xtick.minor.size\": 2,\n",
    "    # Save-to-disk config\n",
    "    \"savefig.facecolor\": \"white\",\n",
    "    \"savefig.transparent\": False\n",
    "}\n",
    "mpl.rcParams.update(custom_plot_settings)\n",
    "\n",
    "# * Plotting aliases\n",
    "colors_ = [\"black\", \"red\", \"blue\", \"green\"]\n",
    "markers_ = [\"o\", \"s\", \"+\", \"^\"]\n",
    "viridis_ = mpl.colormaps['viridis']"
   ]
  },
  {
   "attachments": {},
   "cell_type": "markdown",
   "metadata": {},
   "source": [
    "# Data set-up"
   ]
  },
  {
   "cell_type": "code",
   "execution_count": 4,
   "metadata": {},
   "outputs": [],
   "source": [
    "# --- Data/Experiment Configurations ---\n",
    "class NetworkParams(Enum):\n",
    "    # Shared params\n",
    "    N = 200\n",
    "    PROB = 1.0\n",
    "    T1 = 2.1\n",
    "    KMAX = np.sqrt(200)\n",
    "    # Configuration model params\n",
    "    KMIN = 3\n",
    "    SIGN = 1\n",
    "    # LFR params\n",
    "    KAVG = 5.0\n",
    "    T2 = 1.0\n",
    "    MU = 0.1\n",
    "    MIN_COMMUNITY = 1 # ignored\n",
    "\n",
    "class ExperimentParams(Enum):\n",
    "    THETAS = np.linspace(0.05, 0.95, 11, endpoint=True)\n",
    "\n",
    "LOGREG = {\n",
    "    \"fit_intercept\": True,  # include intercept accounting for class imbalance\n",
    "    \"solver\": \"newton-cholesky\",  # uses Cholesky-decomposition to approximate Hessian for Newton-esque method\n",
    "    \"penalty\": None  # do not include coefficient regularization\n",
    "}"
   ]
  },
  {
   "attachments": {},
   "cell_type": "markdown",
   "metadata": {},
   "source": [
    "## Function set-up"
   ]
  },
  {
   "cell_type": "code",
   "execution_count": 5,
   "metadata": {},
   "outputs": [],
   "source": [
    "\"\"\"\n",
    "Implementations of Isomap\n",
    "Metric MDS + shortest path length matrix of a network\n",
    "\"\"\"\n",
    "class MDSBase:\n",
    "    def __init__(self, dimension):\n",
    "        self.dimension = dimension\n",
    "\n",
    "    def train(self, network):\n",
    "        self.network = network\n",
    "        self.network.generate_shortest_path_length_matrix()\n",
    "        self.embeddings_matrix = self._get_embedding()\n",
    "\n",
    "        if len(self.embeddings_matrix) == 0:\n",
    "            self.embeddings = {}\n",
    "        else:\n",
    "            self.embeddings = {\n",
    "                self.network.id2node[i]: self.embeddings_matrix[i] for i in range(len(self.network.id2node))\n",
    "            }\n",
    "        return self.embeddings\n",
    "\n",
    "\n",
    "class Isomap(MDSBase):\n",
    "    def __init__(self, dimension=2):\n",
    "        super(Isomap, self).__init__(dimension)\n",
    "\n",
    "    def _get_embedding(self):\n",
    "        return manifold.MDS(\n",
    "            self.dimension, dissimilarity=\"precomputed\").fit_transform(\n",
    "                self.network.shortest_path_length_matrix)"
   ]
  },
  {
   "cell_type": "code",
   "execution_count": 6,
   "metadata": {},
   "outputs": [],
   "source": [
    "def get_network(\n",
    "        N=int(NetworkParams.N.value),  # number of nodes\n",
    "        T1=NetworkParams.T1.value,  # degree distribution exponent\n",
    "        T2=NetworkParams.T2.value,  # community size distribution exponent\n",
    "        MU=NetworkParams.MU.value,  # community mixing parameter\n",
    "        KAVG=NetworkParams.KAVG.value,  # average degree\n",
    "        KMAX=NetworkParams.KMAX.value,  # maximum degree\n",
    "        MIN_COMMUNITY=NetworkParams.MIN_COMMUNITY.value,  # minimum community size (ignored)\n",
    "        PROB=NetworkParams.PROB.value,  # degree sequence correlation,\n",
    "        ROOT=\"../../\"):\n",
    "    duplex, _, _, _ = lfr_multiplex(N, T1, T2, MU, KAVG, KMAX, MIN_COMMUNITY, PROB, ROOT)\n",
    "    duplex = duplex_network(duplex, 1, 2, verbose=True)\n",
    "\n",
    "    return duplex"
   ]
  },
  {
   "cell_type": "code",
   "execution_count": 7,
   "metadata": {},
   "outputs": [],
   "source": [
    "def get_remnants(theta, G, H):\n",
    "    remnant_G, remnant_H, test_edges, train_edges = partial_information(G, H, theta)\n",
    "    record = {\n",
    "        \"remnants\": (remnant_G, remnant_H),\n",
    "        \"observed_edges\": train_edges,\n",
    "        \"unobserved_edges\": test_edges\n",
    "    }\n",
    "\n",
    "    return record"
   ]
  },
  {
   "cell_type": "code",
   "execution_count": 8,
   "metadata": {},
   "outputs": [],
   "source": [
    "def embed_remnants_Isomap(\n",
    "        remnants_record,\n",
    "        params,\n",
    "        normalize=True,\n",
    "        nodelist=None):\n",
    "    g, h = remnants_record[\"remnants\"]\n",
    "    E_train = remnants_record[\"observed_edges\"]\n",
    "    E_test = remnants_record[\"unobserved_edges\"]\n",
    "\n",
    "    G_ = hypnet.NetworkBase()\n",
    "    G_.G = g\n",
    "    H_ = hypnet.NetworkBase()\n",
    "    H_.G = h\n",
    "\n",
    "    embeddings_G = Isomap(dimension=params[\"dimension\"]).train(G_)\n",
    "    embeddings_H = Isomap(dimension=params[\"dimension\"]).train(H_)\n",
    "\n",
    "    distances_G_train, distances_H_train = get_distances((embeddings_G, embeddings_H), E_train)\n",
    "    distances_G_test, distances_H_test = get_distances((embeddings_G, embeddings_H), E_test)\n",
    "\n",
    "    # * >>> Match FR notebook >>>\n",
    "    # distances_G_train = [x**2 for x in distances_G_train]\n",
    "    # distances_H_train = [x**2 for x in distances_H_train]\n",
    "    # distances_G_test = [x**2 for x in distances_G_test]\n",
    "    # distances_H_test = [x**2 for x in distances_H_test]\n",
    "    # * <<< Match FR notebook <<<\n",
    "\n",
    "    feature_distances_train = get_configuration_distances_feature(distances_G_train, distances_H_train, zde_penalty=0.1)\n",
    "    feature_distances_test = get_configuration_distances_feature(distances_G_test, distances_H_test, zde_penalty=0.1)\n",
    "\n",
    "    if normalize:\n",
    "        normalizer = max(np.abs(feature_distances_train))\n",
    "        feature_distances_train = list(map(lambda x: x / normalizer, feature_distances_train))\n",
    "\n",
    "        normalizer = max(np.abs(feature_distances_test))\n",
    "        feature_distances_test = list(map(lambda x: x / normalizer, feature_distances_test))\n",
    "\n",
    "    return feature_distances_train, feature_distances_test"
   ]
  },
  {
   "cell_type": "code",
   "execution_count": 9,
   "metadata": {},
   "outputs": [],
   "source": [
    "def get_degree_features(remnants_record):\n",
    "    G, H = remnants_record[\"remnants\"]\n",
    "    E_train = remnants_record[\"observed_edges\"]\n",
    "    E_test = remnants_record[\"unobserved_edges\"]\n",
    "    # Partially compute degree likelihood feature\n",
    "    src_degrees_train, tgt_degrees_train = get_degrees((G, H), E_train)\n",
    "    src_degrees_test, tgt_degrees_test = get_degrees((G, H), E_test)\n",
    "\n",
    "    # Complete degree likelihood feature calculations\n",
    "    feature_degrees_train = get_configuration_probabilities_feature(src_degrees_train, tgt_degrees_train)\n",
    "    feature_degrees_test = get_configuration_probabilities_feature(src_degrees_test, tgt_degrees_test)\n",
    "\n",
    "    return feature_degrees_train, feature_degrees_test"
   ]
  },
  {
   "cell_type": "code",
   "execution_count": 10,
   "metadata": {},
   "outputs": [],
   "source": [
    "def train_test_model(remnants_record, distances, degrees):\n",
    "    E_train = remnants_record[\"observed_edges\"]\n",
    "    E_test = remnants_record[\"unobserved_edges\"]\n",
    "\n",
    "    # Retrieve data labels\n",
    "    Y_train, Y_test = get_labels(E_train, E_test)\n",
    "\n",
    "    # Unpack training features\n",
    "    dist_train, dist_test = distances\n",
    "    degs_train, degs_test = degrees\n",
    "    X_train, X_test = format_feature_matrix(\n",
    "        {\"emb\", \"imb\", \"deg\"},\n",
    "        len(E_train), len(E_test),\n",
    "        dist_train, dist_test,\n",
    "        degs_train, degs_test\n",
    "    )\n",
    "\n",
    "    # Train model\n",
    "    model = train_fit_logreg(X_train, Y_train, LOGREG)\n",
    "\n",
    "    # Evaluate model\n",
    "    accuracy = get_model_accuracy(model, X_test, Y_test)\n",
    "    auroc = get_model_auroc(model, X_test, Y_test)\n",
    "    aupr = get_model_aupr(model, X_test, Y_test)\n",
    "\n",
    "    # Pack output\n",
    "    output = {\n",
    "        \"model\": model,\n",
    "        \"intercept\": model.intercept_[0],\n",
    "        \"coefs\": model.coef_[0],\n",
    "        \"accuracy\": accuracy,\n",
    "        \"auroc\": auroc,\n",
    "        \"aupr\": aupr,\n",
    "    }\n",
    "\n",
    "    return output"
   ]
  },
  {
   "cell_type": "code",
   "execution_count": 11,
   "metadata": {},
   "outputs": [],
   "source": [
    "def analysis(G, H):\n",
    "    df = dict()\n",
    "\n",
    "    params = {\"dimension\": 128, \"beta\": 0.1}\n",
    "    nodelist = sorted(G.nodes())\n",
    "\n",
    "    for theta in tqdm(ExperimentParams.THETAS.value, desc=\"Sweeping theta...\"):\n",
    "        remnants_record = get_remnants(theta, G, H)\n",
    "        degrees = get_degree_features(remnants_record)\n",
    "        distances = embed_remnants_Isomap(remnants_record, params, nodelist=nodelist)\n",
    "\n",
    "        # ! NaN hotfix\n",
    "        try:\n",
    "            df[theta] = train_test_model(remnants_record, distances, degrees)\n",
    "        except ValueError:\n",
    "            continue\n",
    "        except Exception as err:\n",
    "            raise err\n",
    "\n",
    "\n",
    "    return df"
   ]
  },
  {
   "attachments": {},
   "cell_type": "markdown",
   "metadata": {},
   "source": [
    "# Experiments"
   ]
  },
  {
   "cell_type": "code",
   "execution_count": 12,
   "metadata": {},
   "outputs": [
    {
     "name": "stdout",
     "output_type": "stream",
     "text": [
      "\n",
      "\n",
      "--- T1 = 2.1 ---\n",
      "\n",
      "Number of common edges removed: 18\n",
      "Number of inactive nodes removed from layer 1: 0\n",
      "Number of inactive nodes removed from layer 2: 0\n",
      "Size of active node set union from layers 1 and 2: 400\n"
     ]
    },
    {
     "data": {
      "application/json": {
       "ascii": false,
       "bar_format": null,
       "colour": null,
       "elapsed": 0.03307771682739258,
       "initial": 0,
       "n": 0,
       "ncols": null,
       "nrows": null,
       "postfix": null,
       "prefix": "Sweeping theta...",
       "rate": null,
       "total": 11,
       "unit": "it",
       "unit_divisor": 1000,
       "unit_scale": false
      },
      "application/vnd.jupyter.widget-view+json": {
       "model_id": "b35ef6e150044de0b1a863273edd3e1e",
       "version_major": 2,
       "version_minor": 0
      },
      "text/plain": [
       "Sweeping theta...:   0%|          | 0/11 [00:00<?, ?it/s]"
      ]
     },
     "metadata": {},
     "output_type": "display_data"
    },
    {
     "name": "stdout",
     "output_type": "stream",
     "text": [
      "\n",
      "\n",
      "--- T1 = 2.5 ---\n",
      "\n",
      "Number of common edges removed: 14\n",
      "Number of inactive nodes removed from layer 1: 0\n",
      "Number of inactive nodes removed from layer 2: 0\n",
      "Size of active node set union from layers 1 and 2: 400\n"
     ]
    },
    {
     "data": {
      "application/json": {
       "ascii": false,
       "bar_format": null,
       "colour": null,
       "elapsed": 0.02083277702331543,
       "initial": 0,
       "n": 0,
       "ncols": null,
       "nrows": null,
       "postfix": null,
       "prefix": "Sweeping theta...",
       "rate": null,
       "total": 11,
       "unit": "it",
       "unit_divisor": 1000,
       "unit_scale": false
      },
      "application/vnd.jupyter.widget-view+json": {
       "model_id": "cbde1f889d9c4ed794d81d0a0c1969bc",
       "version_major": 2,
       "version_minor": 0
      },
      "text/plain": [
       "Sweeping theta...:   0%|          | 0/11 [00:00<?, ?it/s]"
      ]
     },
     "metadata": {},
     "output_type": "display_data"
    },
    {
     "name": "stdout",
     "output_type": "stream",
     "text": [
      "\n",
      "\n",
      "--- T1 = 2.9 ---\n",
      "\n",
      "Number of common edges removed: 9\n",
      "Number of inactive nodes removed from layer 1: 0\n",
      "Number of inactive nodes removed from layer 2: 0\n",
      "Size of active node set union from layers 1 and 2: 400\n"
     ]
    },
    {
     "data": {
      "application/json": {
       "ascii": false,
       "bar_format": null,
       "colour": null,
       "elapsed": 0.02005934715270996,
       "initial": 0,
       "n": 0,
       "ncols": null,
       "nrows": null,
       "postfix": null,
       "prefix": "Sweeping theta...",
       "rate": null,
       "total": 11,
       "unit": "it",
       "unit_divisor": 1000,
       "unit_scale": false
      },
      "application/vnd.jupyter.widget-view+json": {
       "model_id": "92d34a9ab6ce48bc916e1120c7fea22b",
       "version_major": 2,
       "version_minor": 0
      },
      "text/plain": [
       "Sweeping theta...:   0%|          | 0/11 [00:00<?, ?it/s]"
      ]
     },
     "metadata": {},
     "output_type": "display_data"
    },
    {
     "name": "stdout",
     "output_type": "stream",
     "text": [
      "\n",
      "\n",
      "--- T1 = 3.5 ---\n",
      "\n",
      "Number of common edges removed: 22\n",
      "Number of inactive nodes removed from layer 1: 0\n",
      "Number of inactive nodes removed from layer 2: 0\n",
      "Size of active node set union from layers 1 and 2: 400\n"
     ]
    },
    {
     "data": {
      "application/json": {
       "ascii": false,
       "bar_format": null,
       "colour": null,
       "elapsed": 0.02024555206298828,
       "initial": 0,
       "n": 0,
       "ncols": null,
       "nrows": null,
       "postfix": null,
       "prefix": "Sweeping theta...",
       "rate": null,
       "total": 11,
       "unit": "it",
       "unit_divisor": 1000,
       "unit_scale": false
      },
      "application/vnd.jupyter.widget-view+json": {
       "model_id": "8c4753742375447f81376bee6e8df027",
       "version_major": 2,
       "version_minor": 0
      },
      "text/plain": [
       "Sweeping theta...:   0%|          | 0/11 [00:00<?, ?it/s]"
      ]
     },
     "metadata": {},
     "output_type": "display_data"
    }
   ],
   "source": [
    "results = dict()  # t2 -> results\n",
    "LOGREG[\"solver\"] = 'newton-cg'\n",
    "LOGREG[\"penalty\"] = 'none'\n",
    "\n",
    "for T1 in [2.1, 2.5, 2.9, 3.5]:\n",
    "    print(f\"\\n\\n--- T1 = {T1} ---\\n\")\n",
    "    G, H = get_network(T1=T1, ROOT=\"../../../\")\n",
    "    results[T1] = analysis(G, H)"
   ]
  },
  {
   "cell_type": "code",
   "execution_count": 13,
   "metadata": {
    "jupyter": {
     "outputs_hidden": true
    },
    "scrolled": true,
    "tags": []
   },
   "outputs": [],
   "source": [
    "auroc_df = {}\n",
    "\n",
    "for T1 in [2.1, 2.5, 2.9, 3.5]:\n",
    "    auroc_df[T1] = [[], []]\n",
    "    for k, v in results[T1].items():\n",
    "        auroc_df[T1][0].append(k)\n",
    "        auroc_df[T1][1].append(v['auroc'])"
   ]
  },
  {
   "cell_type": "code",
   "execution_count": 15,
   "metadata": {},
   "outputs": [
    {
     "data": {
      "image/png": "[encoded data removed]",
      "text/plain": [
       "<Figure size 576x432 with 1 Axes>"
      ]
     },
     "metadata": {
      "needs_background": "light"
     },
     "output_type": "display_data"
    }
   ],
   "source": [
    "fig, ax = plt.subplots()\n",
    "\n",
    "ax.set_title(r'$D=128$', fontsize=20)\n",
    "\n",
    "for T1 in [2.1, 2.5, 2.9, 3.5]:\n",
    "    ax.plot(\n",
    "        auroc_df[T1][0], auroc_df[T1][1],\n",
    "        ls='-', lw=3.0,\n",
    "        label=f'$T_1={T1}$'\n",
    "    )\n",
    "\n",
    "ax.axhline(y=0.5, c='k', ls='--')\n",
    "ax.set_xlabel(r'$\\theta$', fontsize=20)\n",
    "ax.set_ylabel('AUROC', fontsize=20)\n",
    "ax.tick_params(axis='both', which='major', labelsize=20)\n",
    "ax.legend(fontsize=20)\n",
    "\n",
    "plt.show()"
   ]
  },
  {
   "cell_type": "code",
   "execution_count": null,
   "metadata": {},
   "outputs": [],
   "source": []
  }
 ],
 "metadata": {
  "kernelspec": {
   "display_name": "EmbeddedNaive",
   "language": "python",
   "name": "python3"
  },
  "language_info": {
   "codemirror_mode": {
    "name": "ipython",
    "version": 3
   },
   "file_extension": ".py",
   "mimetype": "text/x-python",
   "name": "python",
   "nbconvert_exporter": "python",
   "pygments_lexer": "ipython3",
   "version": "3.10.10"
  }
 },
 "nbformat": 4,
 "nbformat_minor": 4
}
