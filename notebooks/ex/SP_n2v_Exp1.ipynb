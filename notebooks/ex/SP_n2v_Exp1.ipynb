{
 "cells": [
  {
   "cell_type": "code",
   "execution_count": 1,
   "metadata": {},
   "outputs": [],
   "source": [
    "# Stdlib\n",
    "import sys\n",
    "import os\n",
    "import random\n",
    "\n",
    "# Scientific computing\n",
    "import numpy as np\n",
    "\n",
    "# Network science\n",
    "import networkx as nx\n",
    "\n",
    "# Data handling and vis\n",
    "import pandas as pd\n",
    "\n",
    "import matplotlib.pyplot as plt\n",
    "%matplotlib inline\n",
    "\n",
    "from node2vec import Node2Vec\n",
    "\n",
    "# Project source\n",
    "sys.path.append(\"../../src/\")\n",
    "from synthetic import *\n",
    "from utils import *\n",
    "import copy"
   ]
  },
  {
   "attachments": {},
   "cell_type": "markdown",
   "metadata": {},
   "source": [
    "# Functions"
   ]
  },
  {
   "cell_type": "code",
   "execution_count": 2,
   "metadata": {},
   "outputs": [],
   "source": [
    "# ============= FUNCTIONS =================\n",
    "def N2V(graph, parameters, hyperparameters):\n",
    "    \"\"\"Embed `graph` using node2vec.\n",
    "    Parameters\n",
    "    ----------\n",
    "    graph : nx.Graph\n",
    "        Graph to embed. Node and edge attributes are ignored.\n",
    "    parameters : dict\n",
    "        Keyword arguments for node2vec walk generation.\n",
    "    hyperparameters : dict\n",
    "        Keyword arguments for word2vec fitting on node2vec-generated walks.\n",
    "    Returns\n",
    "    -------\n",
    "    dict\n",
    "        Map of node ids to embedded vectors.\n",
    "    \"\"\"\n",
    "    # Sample random walks\n",
    "    embedding_model = Node2Vec(graph, **{k: v for k, v in parameters.items() if k in [\"dimensions\",\"walk_length\",\"num_walks\",\"workers\",\"quiet\"]})\n",
    "\n",
    "    # Embed walks with word2vec and retrieve model\n",
    "    embedding_model = embedding_model.fit()#**hyperparameters)\n",
    "    embedding_model = embedding_model.wv\n",
    "\n",
    "    # Retrieve resultant vectors\n",
    "    vectors = embedding_model.vectors\n",
    "\n",
    "    # Retrieve word2vec internal hash of node ids to vector indices\n",
    "    node_labels = embedding_model.index_to_key\n",
    "\n",
    "    # Map node ids into corresponding vector\n",
    "    # This accounts for graphs with non-consecutive node ids\n",
    "    embedding = {\n",
    "        int(node_label): vectors[node_index]\n",
    "        for node_index, node_label in enumerate(node_labels)\n",
    "    }\n",
    "\n",
    "    return embedding\n",
    "\n",
    "\n",
    "\n",
    "def set_parameters_N2V(\n",
    "    dimensions=128,\n",
    "    walk_length=30,\n",
    "    num_walks=100,\n",
    "    workers=8,\n",
    "    quiet=True,\n",
    "    window=10,\n",
    "    min_count=1,\n",
    "    batch_words=4,\n",
    "    penalty=\"l2\",\n",
    "    theta_min=0.05,\n",
    "    theta_max=0.5,\n",
    "    theta_num=10,\n",
    "    repeat=5\n",
    "        ):\n",
    "    parameters = {\n",
    "        # >>> Node2Vec embedding <<<\n",
    "        \"dimensions\": dimensions,  # euclidean dimension to embedd\n",
    "        \"walk_length\": walk_length,  # number of nodes in each walk\n",
    "        \"num_walks\": num_walks,  # number of walks per node\n",
    "        \"workers\": workers,  # for cpu parallel work\n",
    "        \"quiet\": quiet,  # verbose printing\n",
    "        # >>> Simulations <<<\n",
    "        \"theta_min\": theta_min,\n",
    "        \"theta_max\": theta_max,\n",
    "        \"theta_num\": theta_num,\n",
    "    }\n",
    "\n",
    "    hyperparameters = {\n",
    "        # >>> Node2Vec embedding <<<\n",
    "        \"window\": window,  # maximum distance between the current and predicted word within a sentence.\n",
    "        \"min_count\": min_count,  # ignores all words with total frequency lower than this\n",
    "        \"batch_words\": batch_words,  # [unsure]\n",
    "\n",
    "        # >>> Logistic regression <<<\n",
    "        \"penalty\": penalty,  # L2 regularization\n",
    "\n",
    "        # >>> Other <<<\n",
    "        \"repeat\": repeat  # number of simulations\n",
    "    }\n",
    "\n",
    "    return parameters, hyperparameters\n",
    "\n",
    "\n",
    "\"\"\"Project source code for applying Laplacian Eigenmap embedding.\n",
    "\"\"\"\n",
    "# ============= SET-UP =================\n",
    "# --- Scientific computing ---\n",
    "from scipy.sparse.linalg import eigsh  # eigensolver\n",
    "from scipy.linalg import eigh\n",
    "\n",
    "# --- Network science ---\n",
    "import networkx as nx\n",
    "\n",
    "\n",
    "# ============= FUNCTIONS =================\n",
    "# --- Helpers ---\n",
    "def _reindex_nodes(graph):\n",
    "    reindexed_nodes = {\n",
    "        index: new_index\n",
    "        for new_index, index in enumerate(sorted(graph.nodes()))\n",
    "    }  # Allow for non-contiguous node indices\n",
    "    return reindexed_nodes\n",
    "\n",
    "\n",
    "# --- Driver ---\n",
    "def LE(graph, parameters, hyperparameters, dense_error=False):\n",
    "    \"\"\"Embed `graph` using Laplacian eigenmaps.\n",
    "    Parameters\n",
    "    ----------\n",
    "    graph : nx.Graph\n",
    "        Graph to embed. Node and edge attributes are ignored.\n",
    "    parameters : dict\n",
    "        Keyword arguments for LE parameter selection.\n",
    "    hyperparameters : dict\n",
    "        Keyword arguments for ARPACK convergence parameters.\\\n",
    "    dense_error : bool\n",
    "        Indicator if graph is dense, i.e., k >= N, by default False.\n",
    "    Returns\n",
    "    -------\n",
    "    ~~np.array~~\n",
    "    dict\n",
    "        Map of node ids to embedded vectors (as rows).\n",
    "    \"\"\"\n",
    "    # >>> Book-keeping >>>\n",
    "    reindexed_nodes = _reindex_nodes(graph)  # fix networkx indexing\n",
    "    vectors = dict()\n",
    "    # ! >>> BROKEN >>>\n",
    "    # ! Non-contiguous indexing in some real remnants is causing\n",
    "    # ! indexing errors with arrays - generalizing to a dict instead\n",
    "    # ! All downstream analyses are able to proceed\n",
    "    # vectors = np.zeros(\n",
    "    #     (graph.number_of_nodes(), parameters[\"k\"])  # needs k for scipy.sparse.linalg.eigsh\n",
    "    # )  # initialize embedded vectors\n",
    "    # ! <<< BROKEN <<<\n",
    "    # <<< Book-keeping <<<\n",
    "\n",
    "    # Calculate normalized Laplacian matrix\n",
    "    L = nx.normalized_laplacian_matrix(graph, nodelist=sorted(graph.nodes()))\n",
    "\n",
    "    # Compute the eigenspectra of the normalized Laplacian matrix\n",
    "    # ! >>> BROKEN >>>\n",
    "    #_, eigenvectors = \\\n",
    "    #    eigsh(L, **parameters, **hyperparameters)\n",
    "    # ! <<< BROKEN <<<\n",
    "    # ! >>> HOTFIX >>>\n",
    "    if dense_error:\n",
    "        _, eigenvectors = eigh(L.toarray())\n",
    "    else:\n",
    "        _, eigenvectors = \\\n",
    "            eigsh(\n",
    "                L, k=parameters[\"k\"],\n",
    "                maxiter=hyperparameters[\"maxiter\"],\n",
    "                tol=hyperparameters[\"tol\"],\n",
    "                ncv=hyperparameters[\"NCV\"]*graph.number_of_nodes()\n",
    "            )\n",
    "    # ! <<< HOTFIX <<<\n",
    "\n",
    "    # Apply node reindexing (thanks networkx :/)\n",
    "    for index, new_index in reindexed_nodes.items():\n",
    "        vectors[index] = eigenvectors[new_index]\n",
    "\n",
    "    return vectors\n",
    "\n",
    "\n",
    "def LE_per_component(graph, parameters, hyperparameters, dense_error=False):\n",
    "    # >>> Book-keeping >>>\n",
    "    vectors_per_component = []  # list of vector embeddings, canonical ordering\n",
    "    vectors = {}  # amalgamated mapping of nodes to their embedded vectors (by component)\n",
    "    # <<< Book-keeping <<<\n",
    "\n",
    "    # Retrieve each component as a graph\n",
    "    component_subgraphs = [\n",
    "        graph.subgraph(component).copy()\n",
    "        for component in nx.connected_components(graph)\n",
    "    ]\n",
    "\n",
    "    # Embed each component by themselves\n",
    "    for component_subgraph in component_subgraphs:\n",
    "        vectors_per_component.append(\n",
    "            LE(component_subgraph, parameters, hyperparameters, dense_error=dense_error)\n",
    "        )\n",
    "\n",
    "    # Amalgamate results\n",
    "    for component_vectors in vectors_per_component:\n",
    "        for node, vector in component_vectors.items():\n",
    "            vectors[node] = vector\n",
    "\n",
    "    return vectors\n",
    "\n",
    "def set_parameters_LE(\n",
    "    dimensions=128,\n",
    "    maxiter=100,\n",
    "    tol=-8,\n",
    "    penalty=\"l2\",\n",
    "    theta_min=0.05,\n",
    "    theta_max=0.5,\n",
    "    theta_num=10,\n",
    "    repeat=5\n",
    "        ):\n",
    "    parameters = {\n",
    "        # >>> LE embedding <<<\n",
    "        \"k\": dimensions,  # needs k for scipy.sparse.linalg.eigsh\n",
    "\n",
    "        # >>> Simulations <<<\n",
    "        \"theta_min\": theta_min,\n",
    "        \"theta_max\": theta_max,\n",
    "        \"theta_num\": theta_num,\n",
    "    }\n",
    "\n",
    "    hyperparameters = {\n",
    "        # >>> LE embedding <<<\n",
    "        \"maxiter\": maxiter,\n",
    "        \"tol\": tol,\n",
    "        \"NCV\": 6,\n",
    "\n",
    "        # >>> Logistic regression <<<\n",
    "        \"penalty\": penalty,  # L2 regularization\n",
    "\n",
    "        # >>> Other <<<\n",
    "        \"repeat\": repeat  # number of simulations\n",
    "    }\n",
    "\n",
    "    return parameters, hyperparameters\n",
    "\n",
    "def format_system(params):\n",
    "    # Process parameters\n",
    "    pfi = params[\"pfi\"]\n",
    "    graphs = params[\"graphs\"]\n",
    "    left = params[\"left\"]\n",
    "    right = params[\"right\"]\n",
    "\n",
    "    # Form \"raw\" duplex\n",
    "    multiplex = graphs\n",
    "\n",
    "    # Split into layers\n",
    "    G, H = duplex_network(multiplex, left, right)\n",
    "\n",
    "    # Observe partial information\n",
    "    R_G, R_H, testset = partial_information(G, H, pfi)\n",
    "\n",
    "    # Restrict to largest connected component (if specified)\n",
    "    if params[\"largest_component\"]:\n",
    "        R_G_ = nx.Graph()\n",
    "        R_H_ = nx.Graph()\n",
    "        R_G_.add_nodes_from(R_G.nodes())\n",
    "        R_H_.add_nodes_from(R_H.nodes())\n",
    "\n",
    "        maxcc_R_G = max(nx.connected_components(R_G), key=len)\n",
    "        maxcc_R_H = max(nx.connected_components(R_H), key=len)\n",
    "\n",
    "        edges_R_G_ = set(R_G.subgraph(maxcc_R_G).edges())\n",
    "        edges_R_H_ = set(R_H.subgraph(maxcc_R_H).edges())\n",
    "        R_G_.add_edges_from(edges_R_G_)\n",
    "        R_H_.add_edges_from(edges_R_H_)\n",
    "\n",
    "        testset = {\n",
    "            edge: gt_\n",
    "            for edge, gt_ in testset.items()\n",
    "            if edge in edges_R_H_ | edges_R_H_\n",
    "        }\n",
    "\n",
    "    return G, H, R_G, R_H, testset\n",
    "\n",
    "\n",
    "def reconstruct_system(testset, G, H, G_, H_, params):\n",
    "    cls,scores,gt = [],[],[]\n",
    "\n",
    "    for edge, gt_ in testset.items():\n",
    "        i, j = edge\n",
    "        gt.append(gt_)\n",
    "        if params[\"metric\"] == \"logistic\":\n",
    "            d_G = np.linalg.norm(G_[i] - G_[j])\n",
    "            d_H = np.linalg.norm(H_[i] - H_[j])\n",
    "        t_G = d_G / (d_G + d_H)\n",
    "        t_H = d_H / (d_G + d_H)\n",
    "        scores.append(t_G)\n",
    "        if t_G != t_H:\n",
    "            if t_H > t_G:\n",
    "                cls_ = 1\n",
    "            elif t_H < t_G:\n",
    "                cls_ = 0\n",
    "            else:\n",
    "                cls_=np.random.randint(2)\n",
    "        cls.append(cls_)\n",
    "    return cls, scores, gt\n",
    "\n",
    "\n"
   ]
  },
  {
   "attachments": {},
   "cell_type": "markdown",
   "metadata": {},
   "source": [
    "# London Analysis"
   ]
  },
  {
   "cell_type": "code",
   "execution_count": 3,
   "metadata": {},
   "outputs": [],
   "source": [
    "path='/Users/siddharthpatwardhan/Downloads/Archived/MRP_Figures/Figure4/Data/multiplex_network-'\n",
    "G=read_file(path+'london'+'.edgelist')"
   ]
  },
  {
   "cell_type": "code",
   "execution_count": null,
   "metadata": {},
   "outputs": [],
   "source": [
    "pis=np.linspace(0,1,11)[:-1]\n",
    "accs,aucs=[],[]\n",
    "for pi in pis:\n",
    "    aac,aau=[],[]\n",
    "    for _ in range(2):\n",
    "        _, _, R_G, R_H, testset=format_system({'pfi':pi,'graphs':G,'left':1,'right':2,'largest_component':False})\n",
    "        test=list(testset.values())\n",
    "        results=[]\n",
    "        scores=[]\n",
    "        BG,BH=nx.edge_betweenness_centrality(R_G),nx.edge_betweenness_centrality(R_H)\n",
    "        for e in testset:\n",
    "            try:\n",
    "                bG,bH=BG[e],BH[e]\n",
    "            except:\n",
    "                bG,bH=BG[(e[1],e[0])],BH[(e[1],e[0])]\n",
    "            if bG>bH:\n",
    "                results.append(1)\n",
    "                # scores.append(bG/(bG+bH))\n",
    "            else:\n",
    "                results.append(0)\n",
    "                # scores.append(bH/(bG+bH))\n",
    "        aac.append(accuracy_score(list(testset.values()),results))\n",
    "        # aau.append(roc_auc_score(list(testset.values()),scores))\n",
    "    accs.append(np.mean(aac))\n",
    "    # aucs.append(np.mean(aau))"
   ]
  },
  {
   "cell_type": "code",
   "execution_count": 57,
   "metadata": {},
   "outputs": [
    {
     "data": {
      "text/plain": [
       "<matplotlib.legend.Legend at 0x7f8f72e37e50>"
      ]
     },
     "execution_count": 57,
     "metadata": {},
     "output_type": "execute_result"
    },
    {
     "data": {
      "image/png": "[encoded data removed]",
      "text/plain": [
       "<Figure size 800x600 with 1 Axes>"
      ]
     },
     "metadata": {},
     "output_type": "display_data"
    }
   ],
   "source": [
    "plt.figure(figsize=(8,6))\n",
    "plt.plot(pis,accs,label='Accuracy (2,3)')\n",
    "# plt.plot(pis,aucs,label='ROC AUC (2,3)')\n",
    "plt.legend(fontsize=15)"
   ]
  },
  {
   "cell_type": "code",
   "execution_count": 5,
   "metadata": {},
   "outputs": [],
   "source": [
    "_, _, R_G, R_H, testset=format_system({'pfi':0.3,'graphs':G,'left':2,'right':3,'largest_component':False})"
   ]
  },
  {
   "cell_type": "code",
   "execution_count": 33,
   "metadata": {},
   "outputs": [],
   "source": [
    "test=list(testset.values())\n",
    "between_results=[]\n",
    "BG,BH=nx.edge_betweenness_centrality(R_G),nx.edge_betweenness_centrality(R_H)\n",
    "for e in testset:\n",
    "    try:\n",
    "        bG=BG[e]\n",
    "        bH=BH[e]\n",
    "    except:\n",
    "        bG=BG[(e[1],e[0])]\n",
    "        bH=BH[(e[1],e[0])]\n",
    "    if bG>bH:\n",
    "        between_results.append(1)\n",
    "    else:\n",
    "        between_results.append(0)"
   ]
  },
  {
   "cell_type": "code",
   "execution_count": 34,
   "metadata": {},
   "outputs": [
    {
     "data": {
      "text/plain": [
       "0.9550561797752809"
      ]
     },
     "execution_count": 34,
     "metadata": {},
     "output_type": "execute_result"
    }
   ],
   "source": [
    "accuracy_score(list(testset.values()),between_results)"
   ]
  },
  {
   "cell_type": "code",
   "execution_count": null,
   "metadata": {},
   "outputs": [],
   "source": [
    "pm,hm=set_parameters_N2V()\n",
    "G_=N2V(R_G,pm,hm)\n",
    "H_=N2V(R_H,pm,hm)"
   ]
  },
  {
   "cell_type": "code",
   "execution_count": null,
   "metadata": {},
   "outputs": [],
   "source": [
    "[a,b,c]=reconstruct_system(testset, G, H, G_, H_, {'metric':'logistic'})"
   ]
  },
  {
   "attachments": {},
   "cell_type": "markdown",
   "metadata": {},
   "source": [
    "# Error Analysis"
   ]
  },
  {
   "cell_type": "code",
   "execution_count": 118,
   "metadata": {},
   "outputs": [
    {
     "name": "stdout",
     "output_type": "stream",
     "text": [
      "4 2 3 2\n",
      "9.604995838089977e-05 3.454175966527893e-15\n"
     ]
    }
   ],
   "source": [
    "i,j=1,77\n",
    "print(R_G.degree(i),R_G.degree(j),R_H.degree(i),R_H.degree(j))\n",
    "print(np.linalg.norm(G_[i] - G_[j]),np.linalg.norm(H_[i] - H_[j]))"
   ]
  },
  {
   "cell_type": "code",
   "execution_count": null,
   "metadata": {},
   "outputs": [],
   "source": [
    "testset"
   ]
  },
  {
   "attachments": {},
   "cell_type": "markdown",
   "metadata": {},
   "source": [
    "# Average Distance Scaling with Number of Edges"
   ]
  },
  {
   "cell_type": "code",
   "execution_count": 13,
   "metadata": {},
   "outputs": [],
   "source": [
    "gs=[nx.grid_2d_graph(i,i,periodic=True) for i in range(5,20)]\n",
    "gs=[nx.convert_node_labels_to_integers(gs[i]) for i in range(15)]\n",
    "for i in range(15):\n",
    "    gs[i].add_nodes_from(list(range(int(i*i),400)))"
   ]
  },
  {
   "cell_type": "code",
   "execution_count": null,
   "metadata": {},
   "outputs": [],
   "source": [
    "avg_neighbor_distance=[]\n",
    "for net in gs:\n",
    "    avg=[]\n",
    "    pm,hm=set_parameters_N2V(dimensions=128)\n",
    "    e=N2V(net,pm,hm)\n",
    "    for ed in net.edges():\n",
    "        avg.append(np.linalg.norm(e[ed[0]] - e[ed[1]]))\n",
    "    avg_neighbor_distance.append(np.mean(avg))\n",
    "\n",
    "plt.plot([g.number_of_edges() for g in gs],[i for i in avg_neighbor_distance],'^--r')\n",
    "plt.xlabel('Number of Edges',fontsize=15)\n",
    "plt.ylabel('Average Distance (neighbors)',fontsize=15)\n",
    "plt.xticks(fontsize=13)\n",
    "plt.yticks(fontsize=13)"
   ]
  },
  {
   "cell_type": "code",
   "execution_count": null,
   "metadata": {},
   "outputs": [],
   "source": [
    "plt.plot([g.number_of_edges() for g in gs],[i for i in avg_neighbor_distance],'^--r')\n",
    "plt.xlabel('Number of Edges',fontsize=15)\n",
    "plt.ylabel('Average Distance (neighbors)',fontsize=15)\n",
    "plt.xticks(fontsize=13)\n",
    "plt.yticks(fontsize=13)"
   ]
  },
  {
   "cell_type": "code",
   "execution_count": null,
   "metadata": {},
   "outputs": [],
   "source": [
    "gs=[nx.gnm_random_graph(100,i) for i in range(200,400,20)]\n",
    "gs=[nx.convert_node_labels_to_integers(gs[i]) for i in range(len(range(200,400,20)))]\n",
    "\n",
    "avg_neighbor_distance=[]\n",
    "for net in gs:\n",
    "    avg=[]\n",
    "    pm,hm=set_parameters_N2V(dimensions=128)\n",
    "    e=N2V(net,pm,hm)\n",
    "    for ed in net.edges():\n",
    "        avg.append(np.linalg.norm(e[ed[0]] - e[ed[1]]))\n",
    "    avg_neighbor_distance.append(np.mean(avg))\n",
    "\n",
    "plt.plot([g.number_of_edges() for g in gs],[i for i in avg_neighbor_distance],'^--r')\n",
    "plt.xlabel('Number of Edges',fontsize=15)\n",
    "plt.ylabel('Average Distance (neighbors)',fontsize=15)\n",
    "plt.xticks(fontsize=13)\n",
    "plt.yticks(fontsize=13)"
   ]
  },
  {
   "attachments": {},
   "cell_type": "markdown",
   "metadata": {},
   "source": [
    "## SP Logistic Regression Exploration"
   ]
  },
  {
   "cell_type": "code",
   "execution_count": 3,
   "metadata": {},
   "outputs": [],
   "source": [
    "# --- Scientific computing ---\n",
    "import numpy as np\n",
    "from sklearn.linear_model import LogisticRegression\n",
    "from sklearn.metrics import roc_auc_score\n",
    "\n",
    "# ========== FUNCTIONS ==========\n",
    "# --- Model training ---\n",
    "def train_fit_logreg(X_train, y_train, seed=37):\n",
    "    model = LogisticRegression(random_state=seed)\n",
    "    model.fit(X_train, y_train)\n",
    "\n",
    "    return model\n",
    "\n",
    "def get_model_fit(model):\n",
    "    return model.intercept_[0], model.coef_\n",
    "\n",
    "# --- Reconstruction ---\n",
    "def get_reconstruction(model, X_test):\n",
    "    return model.predict(X_test)\n",
    "\n",
    "def get_scores(model, X_test, class_label=1):\n",
    "    # class_label = 1 indicates scoring for classification in G.\n",
    "    return model.predict_proba(X_test)[:, class_label]\n",
    "\n",
    "# --- Performance measures ---\n",
    "def get_model_accuracy(model, X_test, y_test):\n",
    "    return model.score(X_test, y_test)\n",
    "\n",
    "def get_model_auroc(model, X_test, y_test):\n",
    "    scores = get_scores(model, X_test)\n",
    "    return roc_auc_score(y_test, scores)\n",
    "\n",
    "\n",
    "# --- Helpers ---\n",
    "def prepare_feature_matrix(\n",
    "    distances_G, distances_H,\n",
    "    degrees_i_G, degrees_i_H,\n",
    "    degrees_j_G, degrees_j_H\n",
    "):\n",
    "    # >>> Book-keeping >>>\n",
    "    NUM_FEATURES = 6  # number of features\n",
    "    length = len(distances_G)  # number of observations in dataset\n",
    "    feature_matrix = np.empty((length, NUM_FEATURES))  # initialize feature matrix\n",
    "    # <<< Book-keeping <<<\n",
    "\n",
    "    # >>> Format feature matrix >>>\n",
    "    feature_matrix[:, 0] = distances_G\n",
    "    feature_matrix[:, 1] = distances_H\n",
    "    feature_matrix[:, 2] = degrees_i_G\n",
    "    feature_matrix[:, 3] = degrees_i_H\n",
    "    feature_matrix[:, 4] = degrees_j_G\n",
    "    feature_matrix[:, 5] = degrees_j_H\n",
    "    # <<< Format feature matrix <<<\n",
    "\n",
    "    return feature_matrix"
   ]
  },
  {
   "cell_type": "code",
   "execution_count": 39,
   "metadata": {},
   "outputs": [],
   "source": [
    "#create train and test for logreg\n",
    "path='/Users/siddharthpatwardhan/Downloads/Archived/MRP_Figures/Figure4/Data/multiplex_network-'\n",
    "G=read_file(path+'london'+'.edgelist')\n",
    "g, h, R_G, R_H, testset=format_system({'pfi':0.3,'graphs':G,'left':1,'right':2,'largest_component':False})\n",
    "EG=set(R_G.edges())\n",
    "EH=set(R_H.edges())\n",
    "EGL=list(R_G.edges())\n",
    "EHL=list(R_H.edges())\n",
    "\n",
    "trainset={(i,j):1 for (i,j) in EGL if (i,j) not in EH}\n",
    "trainset.update({(i,j):0 for (i,j) in EHL if (i,j) not in EG})\n",
    "\n",
    "pm,hm=set_parameters_N2V()\n",
    "E1=N2V_per_component(R_G,pm,hm)\n",
    "E2=N2V_per_component(R_H,pm,hm)"
   ]
  },
  {
   "cell_type": "code",
   "execution_count": 40,
   "metadata": {},
   "outputs": [
    {
     "name": "stdout",
     "output_type": "stream",
     "text": [
      "Model 1: combined degrees\n",
      "Model (0.0026401135925588895, array([[ 0.03717931, -0.00051635]]))\n",
      "Accuracy: 0.8274509803921568\n",
      "AUROC: 0.8704710144927535\n"
     ]
    },
    {
     "name": "stderr",
     "output_type": "stream",
     "text": [
      "/Users/siddharthpatwardhan/opt/anaconda3/lib/python3.8/site-packages/sklearn/linear_model/_logistic.py:763: ConvergenceWarning: lbfgs failed to converge (status=2):\n",
      "ABNORMAL_TERMINATION_IN_LNSRCH.\n",
      "\n",
      "Increase the number of iterations (max_iter) or scale the data as shown in:\n",
      "    https://scikit-learn.org/stable/modules/preprocessing.html\n",
      "Please also refer to the documentation for alternative solver options:\n",
      "    https://scikit-learn.org/stable/modules/linear_model.html#logistic-regression\n",
      "  n_iter_i = _check_optimize_result(\n"
     ]
    }
   ],
   "source": [
    "#F1\n",
    "def degree_ratio(r1,r2,i,j,norm=True):\n",
    "    try:\n",
    "        r=(r1.degree(i)*r1.degree(j))/(r2.degree(i)*r2.degree(j))\n",
    "    except:\n",
    "        r=r1.degree(i)*r1.degree(j)/0.0001\n",
    "    if norm:\n",
    "        return 2*r-1\n",
    "    else:\n",
    "        return r\n",
    "\n",
    "def degree_g1(r1,r2,i,j,norm=True):\n",
    "    return r1.degree(i)\n",
    "def degree_g2(r1,r2,i,j,norm=True):\n",
    "    return r1.degree(j)\n",
    "def degree_h1(r1,r2,i,j,norm=True):\n",
    "    return r2.degree(i)\n",
    "def degree_h2(r1,r2,i,j,norm=True):\n",
    "    return r2.degree(j)\n",
    "\n",
    "\n",
    "\n",
    "#F3\n",
    "def dist_ratio(r1,r2,i,j,norm=True):\n",
    "    r=np.linalg.norm(E1[i] - E1[j])/(np.linalg.norm(E2[i] - E2[j])+1e-6)\n",
    "    if norm==True:\n",
    "        return 2*r-1\n",
    "    else:\n",
    "        return r\n",
    "\n",
    "\n",
    "\n",
    "\n",
    "norm=True\n",
    "\n",
    "print('Model 1: combined degrees')\n",
    "features=[degree_ratio,dist_ratio]\n",
    "xtr,ytr=np.zeros((len(trainset),len(features))),np.zeros(len(trainset))\n",
    "for n,e in enumerate(trainset):\n",
    "    for f in range(len(features)):\n",
    "        xtr[n][f]=features[f](R_G,R_H,e[0],e[1],norm=norm)\n",
    "        ytr[n]=trainset[e]\n",
    "# for f in range(len(features)):\n",
    "#     m,s=np.mean(xtr[:,f]),np.std(xtr[:,f])\n",
    "#     xtr[:,f]=np.asarray([(i-m)/s for i in xtr[:,f]])\n",
    "xts,yts=np.zeros((len(testset),len(features))),np.zeros(len(testset))\n",
    "for n,e in enumerate(testset):\n",
    "    for f in range(len(features)):\n",
    "        xts[n][f]=features[f](R_G,R_H,e[0],e[1],norm=norm)\n",
    "        yts[n]=testset[e]\n",
    "# for f in range(len(features)):\n",
    "#     m,s=np.mean(xts[:,f]),np.std(xts[:,f])\n",
    "#     xts[:,f]=np.asarray([(i-m)/s for i in xts[:,f]])\n",
    "model=train_fit_logreg(xtr,ytr)\n",
    "print('Model',get_model_fit(model))\n",
    "print('Accuracy:',get_model_accuracy(model,xts,yts))\n",
    "print('AUROC:',get_model_auroc(model,xts,yts))\n",
    "\n",
    "\n"
   ]
  },
  {
   "cell_type": "code",
   "execution_count": null,
   "metadata": {},
   "outputs": [],
   "source": [
    "tr1=[x[0] for i,x in enumerate(xtr) if ytr[i]==0]\n",
    "tr2=[x[0] for i,x in enumerate(xtr) if ytr[i]==1]\n",
    "\n",
    "plt.hist(tr2)"
   ]
  },
  {
   "cell_type": "code",
   "execution_count": 87,
   "metadata": {},
   "outputs": [],
   "source": [
    "def full_model_results(net='london',layers=[2,3],per_component=True):\n",
    "    accs,aucs=[],[]\n",
    "    #create train and test for logreg\n",
    "    path='/Users/siddharthpatwardhan/Downloads/Archived/MRP_Figures/Figure4/Data/multiplex_network-'\n",
    "    G=read_file(path+net+'.edgelist')\n",
    "    pis=np.linspace(0.1,0.9,9)\n",
    "    for pi in pis:    \n",
    "        g, h, R_G, R_H, testset=format_system({'pfi':pi,'graphs':G,'left':layers[0],'right':layers[1],'largest_component':False})\n",
    "        EG=set(R_G.edges())\n",
    "        EH=set(R_H.edges())\n",
    "        EGL=list(R_G.edges())\n",
    "        EHL=list(R_H.edges())\n",
    "\n",
    "        trainset={(i,j):1 for (i,j) in EGL if (i,j) not in EH}\n",
    "        trainset.update({(i,j):0 for (i,j) in EHL if (i,j) not in EG})\n",
    "\n",
    "        pm,hm=set_parameters_N2V()\n",
    "        if per_component:\n",
    "            E1=N2V_per_component(R_G,pm,hm)\n",
    "            E2=N2V_per_component(R_H,pm,hm)\n",
    "        else:\n",
    "            E1=N2V(R_G,pm,hm)\n",
    "            E2=N2V(R_H,pm,hm)\n",
    "        # print('Model 1: combined degrees')\n",
    "        features=['distance']\n",
    "        xtr,ytr=np.zeros((len(trainset),len(features))),np.zeros(len(trainset))\n",
    "        for n,e in enumerate(trainset):\n",
    "            i,j=e[0],e[1]\n",
    "            r=R_G.degree(i)*R_G.degree(j)/(R_H.degree(i)*R_H.degree(j)+0.001)\n",
    "            d=np.linalg.norm(E1[i] - E1[j])/(np.linalg.norm(E2[i] - E2[j])+1e-6)\n",
    "            xtr[n][0]=2*d-1\n",
    "            # xtr[n][1]=2*d-1\n",
    "            ytr[n]=trainset[e]\n",
    "\n",
    "        xts,yts=np.zeros((len(testset),len(features))),np.zeros(len(testset))\n",
    "        for n,e in enumerate(testset):\n",
    "            i,j=e[0],e[1]\n",
    "            r=R_G.degree(i)*R_G.degree(j)/(R_H.degree(i)*R_H.degree(j)+0.001)\n",
    "            d=np.linalg.norm(E1[i] - E1[j])/(np.linalg.norm(E2[i] - E2[j])+1e-6)\n",
    "            # xts[n][0]=2*r-1\n",
    "            xts[n][0]=2*d-1\n",
    "            yts[n]=testset[e]\n",
    "\n",
    "        model=train_fit_logreg(xtr,ytr)\n",
    "        print('Model',get_model_fit(model))\n",
    "        print('Accuracy:',get_model_accuracy(model,xts,yts))\n",
    "        print('AUROC:',get_model_auroc(model,xts,yts))\n",
    "        aucs.append(get_model_auroc(model,xts,yts))\n",
    "        accs.append(get_model_accuracy(model,xts,yts))\n",
    "        \n",
    "    return aucs,accs\n",
    "\n",
    "\n",
    "        "
   ]
  },
  {
   "cell_type": "code",
   "execution_count": 89,
   "metadata": {},
   "outputs": [
    {
     "data": {
      "text/plain": [
       "Text(0.5, 1.0, 'London: Layers 1 and 2')"
      ]
     },
     "execution_count": 89,
     "metadata": {},
     "output_type": "execute_result"
    },
    {
     "data": {
      "image/png": "[encoded data removed]",
      "text/plain": [
       "<Figure size 640x480 with 1 Axes>"
      ]
     },
     "metadata": {},
     "output_type": "display_data"
    }
   ],
   "source": [
    "\n",
    "\n",
    "# AUC=np.zeros(9)\n",
    "# ACC=np.zeros(9)\n",
    "# for _ in range(2):\n",
    "#     aucs,accs=full_model_results(layers=[1,2])\n",
    "#     AUC=AUC+np.asarray(aucs)\n",
    "#     ACC=ACC+np.asarray(accs)\n",
    "# AUC=AUC/2\n",
    "# ACC=ACC/2\n",
    "\n",
    "# AUC_=np.zeros(9)\n",
    "# ACC_=np.zeros(9)\n",
    "# for _ in range(2):\n",
    "#     aucs,accs=full_model_results(layers=[1,2],per_component=False)\n",
    "#     AUC_=AUC_+np.asarray(aucs)\n",
    "#     ACC_=ACC_+np.asarray(accs)\n",
    "# AUC_=AUC_/2\n",
    "# ACC_=ACC_/2\n",
    "\n",
    "plt.plot(np.linspace(0.1,0.9,9),ACC,'>-',label='Scaled per-component')\n",
    "plt.plot(np.linspace(0.1,0.9,9),ACC_,'s-',label='Node2Vec')\n",
    "\n",
    "plt.ylim(0.5,1.01)\n",
    "plt.xlabel('Partial Information',fontsize=15)\n",
    "plt.ylabel('AUROC',fontsize=15)\n",
    "plt.legend(fontsize=13)\n",
    "plt.title('London: Layers 1 and 2',fontsize=15)"
   ]
  },
  {
   "cell_type": "code",
   "execution_count": 67,
   "metadata": {},
   "outputs": [
    {
     "data": {
      "text/plain": [
       "Text(0.5, 1.0, 'London: Layers 2 and 3')"
      ]
     },
     "execution_count": 67,
     "metadata": {},
     "output_type": "execute_result"
    },
    {
     "data": {
      "image/png": "[encoded data removed]",
      "text/plain": [
       "<Figure size 640x480 with 1 Axes>"
      ]
     },
     "metadata": {},
     "output_type": "display_data"
    }
   ],
   "source": [
    "plt.plot(np.linspace(0.1,0.9,9),AUC,'>-',label='Scaled per-component')\n",
    "plt.plot(np.linspace(0.1,0.9,9),AUC_,'s-',label='Node2Vec')\n",
    "\n",
    "plt.ylim(0.5,1.01)\n",
    "plt.xlabel('Partial Information',fontsize=15)\n",
    "plt.ylabel('AUROC',fontsize=15)\n",
    "plt.legend(fontsize=13)\n",
    "plt.title('London: Layers 2 and 3',fontsize=15)"
   ]
  },
  {
   "attachments": {},
   "cell_type": "markdown",
   "metadata": {},
   "source": [
    "# SP node2vec scaled per component"
   ]
  },
  {
   "cell_type": "code",
   "execution_count": 28,
   "metadata": {},
   "outputs": [],
   "source": [
    "\n",
    "G=nx.erdos_renyi_graph(100,0.015)\n",
    "\n"
   ]
  },
  {
   "cell_type": "code",
   "execution_count": 102,
   "metadata": {},
   "outputs": [],
   "source": [
    "'''\n",
    "This function takes a graph, parameters and hyperparameters as input and returns a mapping of nodes to their embedded vectors.\n",
    "The function performs the following steps:\n",
    "\n",
    "1. Initializes two empty data structures: \n",
    "vectors_per_component and vectors\n",
    "2. Retrieves each component as a graph and stores them in a list sorted by size in descending order\n",
    "3. Embeds each component by themselves using the N2V function\n",
    "4. Scales the results of each component by the average norm of the largest component\n",
    "5. Amalgamates the results by mapping each node to its embedded vector\n",
    "6. Finally, the function returns the mapping of nodes to their embedded vectors.\n",
    "\n",
    "Thank ChatGPT for this! :D \n",
    "'''\n",
    "\n",
    "def N2V_normalized_per_component(graph, parameters, hyperparameters):\n",
    "    vectors_per_component = []  # list of vector embeddings, canonical ordering\n",
    "    vectors = {}  # amalgamated mapping of nodes to their embedded vectors (by component)\n",
    "    # Retrieve each component as a graph\n",
    "    component_subgraphs = sorted([ graph.subgraph(component).copy() for component in nx.connected_components(graph)], key=len,reverse=True)\n",
    "    # Embed each component by themselves\n",
    "    for component_subgraph in component_subgraphs:\n",
    "        vectors_per_component.append(N2V(component_subgraph, parameters, hyperparameters))\n",
    "    #scale results\n",
    "    average_norm_gcc=np.mean([np.linalg.norm(i) for i in vectors_per_component[0].values()])\n",
    "    for n,component_subgraph in enumerate(vectors_per_component[1:]):\n",
    "        average_norm_multiplier=average_norm_gcc/np.mean([np.linalg.norm(i) for i in component_subgraph.values()])\n",
    "        for node in component_subgraph:\n",
    "            component_subgraph[node]=average_norm_multiplier*(component_subgraph[node])\n",
    "    # Amalgamate results\n",
    "    for component_vectors in vectors_per_component:\n",
    "        for node, vector in component_vectors.items():\n",
    "            vectors[node] = vector\n",
    "    return vectors"
   ]
  },
  {
   "cell_type": "code",
   "execution_count": 81,
   "metadata": {},
   "outputs": [],
   "source": [
    "path='/Users/siddharthpatwardhan/Downloads/Archived/MRP_Figures/Figure4/Data/multiplex_network-'\n",
    "G=read_file(path+'london'+'.edgelist')\n",
    "g, h, R_G, R_H, testset=format_system({'pfi':0.5,'graphs':G,'left':1,'right':2,'largest_component':False})\n",
    "EG=set(R_G.edges())\n",
    "EH=set(R_H.edges())\n",
    "EGL=list(R_G.edges())\n",
    "EHL=list(R_H.edges())\n",
    "\n",
    "pm,hm=set_parameters_N2V()\n",
    "E1=N2V(R_H,pm,hm)\n",
    "E2=N2V_per_component(R_H,pm,hm)"
   ]
  },
  {
   "cell_type": "code",
   "execution_count": 121,
   "metadata": {},
   "outputs": [
    {
     "name": "stdout",
     "output_type": "stream",
     "text": [
      "Model (2.777619147853626, array([[-0.92610388]]))\n",
      "Accuracy: 0.6229508196721312\n",
      "AUROC: 0.319693847512511\n",
      "Model (1.3120776707889799, array([[-0.74976856]]))\n",
      "Accuracy: 0.42574257425742573\n",
      "AUROC: 0.29411764705882354\n"
     ]
    },
    {
     "name": "stderr",
     "output_type": "stream",
     "text": [
      "/Users/siddharthpatwardhan/opt/anaconda3/lib/python3.8/site-packages/sklearn/linear_model/_logistic.py:763: ConvergenceWarning: lbfgs failed to converge (status=2):\n",
      "ABNORMAL_TERMINATION_IN_LNSRCH.\n",
      "\n",
      "Increase the number of iterations (max_iter) or scale the data as shown in:\n",
      "    https://scikit-learn.org/stable/modules/preprocessing.html\n",
      "Please also refer to the documentation for alternative solver options:\n",
      "    https://scikit-learn.org/stable/modules/linear_model.html#logistic-regression\n",
      "  n_iter_i = _check_optimize_result(\n"
     ]
    },
    {
     "name": "stdout",
     "output_type": "stream",
     "text": [
      "Model (0.34282177128767133, array([[0.00128047]]))\n",
      "Accuracy: 0.6707317073170732\n",
      "AUROC: 0.896969696969697\n",
      "Model (0.4699918560679636, array([[6.17014109e-06]]))\n",
      "Accuracy: 0.6176470588235294\n",
      "AUROC: 0.966117216117216\n"
     ]
    },
    {
     "name": "stderr",
     "output_type": "stream",
     "text": [
      "/Users/siddharthpatwardhan/opt/anaconda3/lib/python3.8/site-packages/sklearn/linear_model/_logistic.py:763: ConvergenceWarning: lbfgs failed to converge (status=2):\n",
      "ABNORMAL_TERMINATION_IN_LNSRCH.\n",
      "\n",
      "Increase the number of iterations (max_iter) or scale the data as shown in:\n",
      "    https://scikit-learn.org/stable/modules/preprocessing.html\n",
      "Please also refer to the documentation for alternative solver options:\n",
      "    https://scikit-learn.org/stable/modules/linear_model.html#logistic-regression\n",
      "  n_iter_i = _check_optimize_result(\n"
     ]
    },
    {
     "name": "stdout",
     "output_type": "stream",
     "text": [
      "Model (2.910484093465784e-10, array([[0.00045447]]))\n",
      "Accuracy: 0.8153846153846154\n",
      "AUROC: 0.9545454545454545\n",
      "Model (0.36463633728764594, array([[6.79102291e-06]]))\n",
      "Accuracy: 0.5227272727272727\n",
      "AUROC: 1.0\n",
      "Model (0.030437388151682856, array([[0.01723377]]))\n",
      "Accuracy: 0.75\n",
      "AUROC: 1.0\n"
     ]
    },
    {
     "name": "stderr",
     "output_type": "stream",
     "text": [
      "/Users/siddharthpatwardhan/opt/anaconda3/lib/python3.8/site-packages/sklearn/linear_model/_logistic.py:763: ConvergenceWarning: lbfgs failed to converge (status=2):\n",
      "ABNORMAL_TERMINATION_IN_LNSRCH.\n",
      "\n",
      "Increase the number of iterations (max_iter) or scale the data as shown in:\n",
      "    https://scikit-learn.org/stable/modules/preprocessing.html\n",
      "Please also refer to the documentation for alternative solver options:\n",
      "    https://scikit-learn.org/stable/modules/linear_model.html#logistic-regression\n",
      "  n_iter_i = _check_optimize_result(\n"
     ]
    },
    {
     "name": "stdout",
     "output_type": "stream",
     "text": [
      "Model (1.4844553244228132e-10, array([[0.00045379]]))\n",
      "Accuracy: 0.7916666666666666\n",
      "AUROC: 1.0\n",
      "Model (-0.7419383010969511, array([[9.06683295e-06]]))\n",
      "Accuracy: 0.23529411764705882\n",
      "AUROC: 1.0\n",
      "Model (3.7248630543968577, array([[-1.08904367]]))\n",
      "Accuracy: 0.5739130434782609\n",
      "AUROC: 0.30916282135794326\n",
      "Model (0.8266633535389659, array([[4.53550734e-06]]))\n",
      "Accuracy: 0.6285714285714286\n",
      "AUROC: 0.7983682983682984\n",
      "Model (4.004976720909377, array([[-1.48860889]]))\n",
      "Accuracy: 0.425531914893617\n",
      "AUROC: 0.2821659215101838\n",
      "Model (0.5212850271617938, array([[6.50082615e-06]]))\n",
      "Accuracy: 0.6197183098591549\n",
      "AUROC: 0.9722222222222221\n"
     ]
    },
    {
     "name": "stderr",
     "output_type": "stream",
     "text": [
      "/Users/siddharthpatwardhan/opt/anaconda3/lib/python3.8/site-packages/sklearn/linear_model/_logistic.py:763: ConvergenceWarning: lbfgs failed to converge (status=2):\n",
      "ABNORMAL_TERMINATION_IN_LNSRCH.\n",
      "\n",
      "Increase the number of iterations (max_iter) or scale the data as shown in:\n",
      "    https://scikit-learn.org/stable/modules/preprocessing.html\n",
      "Please also refer to the documentation for alternative solver options:\n",
      "    https://scikit-learn.org/stable/modules/linear_model.html#logistic-regression\n",
      "  n_iter_i = _check_optimize_result(\n"
     ]
    },
    {
     "name": "stdout",
     "output_type": "stream",
     "text": [
      "Model (2.1049749155909694e-10, array([[0.00045446]]))\n",
      "Accuracy: 0.890625\n",
      "AUROC: 0.9384057971014492\n"
     ]
    },
    {
     "name": "stderr",
     "output_type": "stream",
     "text": [
      "/Users/siddharthpatwardhan/opt/anaconda3/lib/python3.8/site-packages/sklearn/linear_model/_logistic.py:763: ConvergenceWarning: lbfgs failed to converge (status=2):\n",
      "ABNORMAL_TERMINATION_IN_LNSRCH.\n",
      "\n",
      "Increase the number of iterations (max_iter) or scale the data as shown in:\n",
      "    https://scikit-learn.org/stable/modules/preprocessing.html\n",
      "Please also refer to the documentation for alternative solver options:\n",
      "    https://scikit-learn.org/stable/modules/linear_model.html#logistic-regression\n",
      "  n_iter_i = _check_optimize_result(\n"
     ]
    },
    {
     "name": "stdout",
     "output_type": "stream",
     "text": [
      "Model (2.2176404069318097e-10, array([[0.00045376]]))\n",
      "Accuracy: 0.782608695652174\n",
      "AUROC: 0.9865384615384616\n",
      "Model (0.09218184791272732, array([[6.9712365e-06]]))\n",
      "Accuracy: 0.65\n",
      "AUROC: 0.9972527472527473\n"
     ]
    },
    {
     "name": "stderr",
     "output_type": "stream",
     "text": [
      "/Users/siddharthpatwardhan/opt/anaconda3/lib/python3.8/site-packages/sklearn/linear_model/_logistic.py:763: ConvergenceWarning: lbfgs failed to converge (status=2):\n",
      "ABNORMAL_TERMINATION_IN_LNSRCH.\n",
      "\n",
      "Increase the number of iterations (max_iter) or scale the data as shown in:\n",
      "    https://scikit-learn.org/stable/modules/preprocessing.html\n",
      "Please also refer to the documentation for alternative solver options:\n",
      "    https://scikit-learn.org/stable/modules/linear_model.html#logistic-regression\n",
      "  n_iter_i = _check_optimize_result(\n"
     ]
    },
    {
     "name": "stdout",
     "output_type": "stream",
     "text": [
      "Model (1.830359460227827e-10, array([[0.00045381]]))\n",
      "Accuracy: 0.88\n",
      "AUROC: 1.0\n"
     ]
    },
    {
     "name": "stderr",
     "output_type": "stream",
     "text": [
      "/Users/siddharthpatwardhan/opt/anaconda3/lib/python3.8/site-packages/sklearn/linear_model/_logistic.py:763: ConvergenceWarning: lbfgs failed to converge (status=2):\n",
      "ABNORMAL_TERMINATION_IN_LNSRCH.\n",
      "\n",
      "Increase the number of iterations (max_iter) or scale the data as shown in:\n",
      "    https://scikit-learn.org/stable/modules/preprocessing.html\n",
      "Please also refer to the documentation for alternative solver options:\n",
      "    https://scikit-learn.org/stable/modules/linear_model.html#logistic-regression\n",
      "  n_iter_i = _check_optimize_result(\n"
     ]
    },
    {
     "name": "stdout",
     "output_type": "stream",
     "text": [
      "Model (1.436766887173791e-10, array([[0.00045378]]))\n",
      "Accuracy: 1.0\n",
      "AUROC: 1.0\n",
      "Model (1.8200627599725823, array([[-1.24509396]]))\n",
      "Accuracy: 0.6228070175438597\n",
      "AUROC: 0.2396723646723647\n",
      "Model (1.0724862323151862, array([[-0.17998211]]))\n",
      "Accuracy: 0.6476190476190476\n",
      "AUROC: 0.1478537360890302\n",
      "Model (0.9400861008443422, array([[-0.01390212]]))\n",
      "Accuracy: 0.611764705882353\n",
      "AUROC: 0.03787878787878787\n",
      "Model (0.48681736441782236, array([[0.00288967]]))\n",
      "Accuracy: 0.6578947368421053\n",
      "AUROC: 0.9184615384615384\n",
      "Model (0.7020349649273624, array([[-0.02921862]]))\n",
      "Accuracy: 0.6486486486486487\n",
      "AUROC: 0.023237179487179474\n",
      "Model (0.4563199946405068, array([[0.01969053]]))\n",
      "Accuracy: 0.6481481481481481\n",
      "AUROC: 1.0\n",
      "Model (0.20968971494022434, array([[0.04392867]]))\n",
      "Accuracy: 0.6818181818181818\n",
      "AUROC: 0.9952380952380953\n",
      "Model (-0.4089770179589574, array([[0.10876113]]))\n",
      "Accuracy: 0.52\n",
      "AUROC: 0.9935897435897436\n",
      "Model (-0.9711087330258202, array([[0.15309531]]))\n",
      "Accuracy: 0.4\n",
      "AUROC: 1.0\n",
      "Model (3.2660992951878125, array([[-1.07000527]]))\n",
      "Accuracy: 0.6302521008403361\n",
      "AUROC: 0.3233333333333333\n",
      "Model (3.4295865369217196, array([[-1.34020825]]))\n",
      "Accuracy: 0.6634615384615384\n",
      "AUROC: 0.11925465838509318\n",
      "Model (1.2014709264015384, array([[-0.0282503]]))\n",
      "Accuracy: 0.6\n",
      "AUROC: 0.08024691358024691\n",
      "Model (1.019319752221667, array([[-0.20216758]]))\n",
      "Accuracy: 0.6666666666666666\n",
      "AUROC: 0.019199999999999995\n",
      "Model (0.676844781350245, array([[-0.05347815]]))\n",
      "Accuracy: 0.6567164179104478\n",
      "AUROC: 0.031620553359683785\n",
      "Model (0.3018978201055158, array([[0.04194413]]))\n",
      "Accuracy: 0.6363636363636364\n",
      "AUROC: 0.9642857142857143\n",
      "Model (0.2072118177289297, array([[0.04103462]]))\n",
      "Accuracy: 0.725\n",
      "AUROC: 1.0\n",
      "Model (-0.01769945726682112, array([[0.08846955]]))\n",
      "Accuracy: 0.5357142857142857\n",
      "AUROC: 1.0\n",
      "Model (-1.257642158790627, array([[0.17143939]]))\n",
      "Accuracy: 0.5\n",
      "AUROC: 1.0\n"
     ]
    },
    {
     "data": {
      "text/plain": [
       "Text(0.5, 1.0, 'London: Layers 2 and 3 (embeddings only)')"
      ]
     },
     "execution_count": 121,
     "metadata": {},
     "output_type": "execute_result"
    },
    {
     "data": {
      "image/png": "[encoded data removed]",
      "text/plain": [
       "<Figure size 640x480 with 1 Axes>"
      ]
     },
     "metadata": {},
     "output_type": "display_data"
    }
   ],
   "source": [
    "AUC=np.zeros(9)\n",
    "ACC=np.zeros(9)\n",
    "for _ in range(2):\n",
    "    aucs,accs=full_model_results(layers=[2,3],)\n",
    "    AUC=AUC+np.asarray(aucs)\n",
    "    ACC=ACC+np.asarray(accs)\n",
    "AUC=AUC/2\n",
    "ACC=ACC/2\n",
    "\n",
    "AUC_=np.zeros(9)\n",
    "ACC_=np.zeros(9)\n",
    "for _ in range(2):\n",
    "    aucs,accs=full_model_results(layers=[2,3],per_component=False)\n",
    "    AUC_=AUC_+np.asarray(aucs)\n",
    "    ACC_=ACC_+np.asarray(accs)\n",
    "AUC_=AUC_/2\n",
    "ACC_=ACC_/2\n",
    "\n",
    "plt.plot(np.linspace(0.1,0.9,9),AUC,'>-',label='Scaled per-component')\n",
    "plt.plot(np.linspace(0.1,0.9,9),AUC_,'s-',label='Node2Vec')\n",
    "\n",
    "# plt.ylim(0.5,1.01)\n",
    "plt.xlabel('Partial Information',fontsize=15)\n",
    "plt.ylabel('AUROC',fontsize=15)\n",
    "plt.legend(fontsize=13)\n",
    "plt.title('London: Layers 2 and 3 (embeddings only)',fontsize=15)"
   ]
  },
  {
   "cell_type": "code",
   "execution_count": 119,
   "metadata": {},
   "outputs": [
    {
     "data": {
      "image/png": "[encoded data removed]",
      "text/plain": [
       "<Figure size 900x400 with 2 Axes>"
      ]
     },
     "metadata": {},
     "output_type": "display_data"
    }
   ],
   "source": [
    "g1=nx.barabasi_albert_graph(20,1)\n",
    "g2=nx.barabasi_albert_graph(5,1)\n",
    "fig=plt.figure(figsize=(9,4))\n",
    "ax1=fig.add_subplot(121)\n",
    "\n",
    "plt.title('Layer 1')\n",
    "nx.draw(g1,with_labels=True)\n",
    "ax2=fig.add_subplot(122)\n",
    "plt.title('Layer 2')\n",
    "nx.draw(g2,node_color='orange',with_labels=True)"
   ]
  },
  {
   "cell_type": "code",
   "execution_count": null,
   "metadata": {},
   "outputs": [],
   "source": []
  }
 ],
 "metadata": {
  "kernelspec": {
   "display_name": "Python 3",
   "language": "python",
   "name": "python3"
  },
  "language_info": {
   "codemirror_mode": {
    "name": "ipython",
    "version": 3
   },
   "file_extension": ".py",
   "mimetype": "text/x-python",
   "name": "python",
   "nbconvert_exporter": "python",
   "pygments_lexer": "ipython3",
   "version": "3.8.13 | packaged by conda-forge | (default, Mar 25 2022, 06:05:47) \n[Clang 12.0.1 ]"
  },
  "orig_nbformat": 4,
  "vscode": {
   "interpreter": {
    "hash": "e7ccdd153c5405b73d2006ceda2f83e69bc9ae98daaf6184c656d5c8737101ed"
   }
  }
 },
 "nbformat": 4,
 "nbformat_minor": 2
}
