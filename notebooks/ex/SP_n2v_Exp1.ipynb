{
 "cells": [
  {
   "cell_type": "code",
   "execution_count": 2,
   "metadata": {},
   "outputs": [],
   "source": [
    "# Stdlib\n",
    "import sys\n",
    "import os\n",
    "import random\n",
    "\n",
    "# Scientific computing\n",
    "import numpy as np\n",
    "\n",
    "# Network science\n",
    "import networkx as nx\n",
    "\n",
    "# Data handling and vis\n",
    "import pandas as pd\n",
    "\n",
    "import matplotlib.pyplot as plt\n",
    "%matplotlib inline\n",
    "\n",
    "\n",
    "# Project source\n",
    "sys.path.append(\"../../src/\")\n",
    "from synthetic import *\n",
    "from utils import *\n",
    "import copy"
   ]
  },
  {
   "cell_type": "code",
   "execution_count": 28,
   "metadata": {},
   "outputs": [],
   "source": [
    "G=read_file('/Users/siddharthpatwardhan/Downloads/Archived/MRP_Figures/Figure2/multiplex_network-london.edgelist')"
   ]
  },
  {
   "cell_type": "code",
   "execution_count": 29,
   "metadata": {},
   "outputs": [],
   "source": [
    "G, H, R_G, R_H, testset = format_system({'graphs':G,'pfi':0.5,'left':1,'right':2,'largest_component':False})"
   ]
  },
  {
   "cell_type": "code",
   "execution_count": null,
   "metadata": {},
   "outputs": [],
   "source": [
    "X1,X2=n2v(R_G),n2v(R_H)"
   ]
  },
  {
   "cell_type": "code",
   "execution_count": null,
   "metadata": {},
   "outputs": [],
   "source": [
    "\n",
    "for e in testset:\n",
    "    print(np.linalg.norm(X1[e[0]]-X1[e[1]]),np.linalg.norm(X2[e[0]]-X2[e[1]]))\n",
    "    print(testset[e])"
   ]
  },
  {
   "cell_type": "code",
   "execution_count": null,
   "metadata": {},
   "outputs": [],
   "source": [
    "testset"
   ]
  },
  {
   "cell_type": "code",
   "execution_count": 14,
   "metadata": {},
   "outputs": [],
   "source": [
    "def format_system(params):\n",
    "    # Process parameters\n",
    "    pfi = params[\"pfi\"]\n",
    "    graphs = params[\"graphs\"]\n",
    "    left = params[\"left\"]\n",
    "    right = params[\"right\"]\n",
    "\n",
    "    # Form \"raw\" duplex\n",
    "    multiplex = graphs\n",
    "\n",
    "    # Split into layers\n",
    "    G, H = duplex_network(multiplex, left, right)\n",
    "\n",
    "    # Observe partial information\n",
    "    R_G, R_H, testset = partial_information(G, H, pfi)\n",
    "\n",
    "    # Restrict to largest connected component (if specified)\n",
    "    if params[\"largest_component\"]:\n",
    "        R_G_ = nx.Graph()\n",
    "        R_H_ = nx.Graph()\n",
    "        R_G_.add_nodes_from(R_G.nodes())\n",
    "        R_H_.add_nodes_from(R_H.nodes())\n",
    "\n",
    "        maxcc_R_G = max(nx.connected_components(R_G), key=len)\n",
    "        maxcc_R_H = max(nx.connected_components(R_H), key=len)\n",
    "\n",
    "        edges_R_G_ = set(R_G.subgraph(maxcc_R_G).edges())\n",
    "        edges_R_H_ = set(R_H.subgraph(maxcc_R_H).edges())\n",
    "        R_G_.add_edges_from(edges_R_G_)\n",
    "        R_H_.add_edges_from(edges_R_H_)\n",
    "\n",
    "        testset = {\n",
    "            edge: gt_\n",
    "            for edge, gt_ in testset.items()\n",
    "            if edge in edges_R_H_ | edges_R_H_\n",
    "        }\n",
    "\n",
    "    return G, H, R_G, R_H, testset\n",
    "\n",
    "\n",
    "def reconstruct_system(testset, G, H, G_, H_, params):\n",
    "    cls = []\n",
    "    scores = []\n",
    "    gt = []\n",
    "\n",
    "    _dot = lambda x, y: np.exp(-1*np.dot(np.transpose(x), y))\n",
    "\n",
    "    for edge, gt_ in testset.items():\n",
    "        i, j = edge\n",
    "        gt.append(gt_)\n",
    "\n",
    "        v_G_i = G_[i]\n",
    "        v_G_j = G_[j]\n",
    "        v_H_i = H_[i]\n",
    "        v_H_j = H_[j]\n",
    "\n",
    "        if params[\"metric\"] == \"logistic\":\n",
    "            d_G = 1 / (1 + _dot(v_G_i, v_G_j))\n",
    "            d_H = 1 / (1 + _dot(v_H_i, v_H_j))\n",
    "        else:\n",
    "            d_G = np.linalg.norm(v_G_i - v_G_j)\n",
    "            d_H = np.linalg.norm(v_H_i - v_H_j)\n",
    "\n",
    "            if params[\"metric\"] == \"inverse\":\n",
    "                d_G = 1 / (d_G + 1e-16)\n",
    "                d_H = 1 / (d_H + 1e-16)\n",
    "            elif params[\"metric\"] == \"negexp\":\n",
    "                d_G = np.exp(-d_G)\n",
    "                d_H = np.exp(-d_H)\n",
    "\n",
    "        t_G = d_G / (d_G + d_H)\n",
    "        t_H = 1 - t_G\n",
    "\n",
    "        scores.append(t_G)\n",
    "\n",
    "        cls_ = np.random.randint(2)\n",
    "        if t_G != t_H:\n",
    "            if np.random.rand() <= t_G:\n",
    "                cls_ = 1\n",
    "            else:\n",
    "                cls_ = 0\n",
    "        cls.append(cls_)\n",
    "\n",
    "    return cls, scores, gt\n",
    "\n",
    "def measure_performance(cls, scores, gt):\n",
    "    # print(f\"Classifications: {cls}\\n Scores: {scores}\\n GT: {gt}\")\n",
    "    acc = accuracy(gt, cls)\n",
    "    auc = auroc(gt, scores)\n",
    "\n",
    "    return acc, auc"
   ]
  },
  {
   "cell_type": "code",
   "execution_count": 21,
   "metadata": {},
   "outputs": [],
   "source": [
    "G, H, R_G, R_H, testset=format_system({'pfi':0.5,'graphs':G,'left':1,'right':2,'largest_component':False})"
   ]
  },
  {
   "cell_type": "code",
   "execution_count": 36,
   "metadata": {},
   "outputs": [],
   "source": [
    "G_=n2v(R_G)\n",
    "H_=n2v(R_H)"
   ]
  },
  {
   "cell_type": "code",
   "execution_count": null,
   "metadata": {},
   "outputs": [],
   "source": [
    "reconstruct_system(testset, G, H, G_, H_, {'metric':'logistic'})"
   ]
  },
  {
   "cell_type": "code",
   "execution_count": 10,
   "metadata": {},
   "outputs": [
    {
     "data": {
      "text/plain": [
       "78"
      ]
     },
     "execution_count": 10,
     "metadata": {},
     "output_type": "execute_result"
    }
   ],
   "source": [
    "random.choice(list(g.nodes()))"
   ]
  },
  {
   "cell_type": "code",
   "execution_count": 9,
   "metadata": {},
   "outputs": [],
   "source": [
    "def overlap_multiplex(n=100,o=0.5):\n",
    "    '''\n",
    "    Input: n: Size of active nodes on each layer, overlapping nodes: Fraction of nodes appearing on both layers\n",
    "    Output: [nx object layer 1, nx object layer 2]\n",
    "    '''\n",
    "\n",
    "    #create layer 1\n",
    "    g1=nx.barabasi_albert_graph(n,1)\n",
    "    g1.add_edges_from([(random.choice(list(g1.nodes())),random.choice(list(g1.nodes()))) for _ in range(10)])\n",
    "    g1.remove_edges_from(nx.selfloop_edges(g1))\n",
    "\n",
    "    #create layer 2\n",
    "    g2=nx.barabasi_albert_graph(n,1)\n",
    "    g2.add_edges_from([(random.choice(list(g2.nodes())),random.choice(list(g2.nodes()))) for _ in range(10)])\n",
    "    g2.remove_edges_from(nx.selfloop_edges(g2))\n",
    "\n",
    "    #relabel nodes\n",
    "    shuffle=random.sample(g2.nodes(),n)\n",
    "    mapping={i:shuffle[i] for i in g2.nodes()}\n",
    "    g2=nx.relabel_nodes(g2,mapping)\n",
    "\n",
    "    g1.add_nodes_from(list(range(n,2*n)))\n",
    "    g2.add_nodes_from(list(range(n,2*n)))\n",
    "\n",
    "    #overlapping nodes\n",
    "    move=int((1-o)*n)\n",
    "    mapping={i:(i+move)%(2*n) for i in g2.nodes()}\n",
    "    g2=nx.relabel_nodes(g2,mapping)\n",
    "\n",
    "    return [g1,g2]"
   ]
  },
  {
   "cell_type": "code",
   "execution_count": 1,
   "metadata": {},
   "outputs": [
    {
     "ename": "NameError",
     "evalue": "name 'overlap_multiplex' is not defined",
     "output_type": "error",
     "traceback": [
      "\u001b[0;31m---------------------------------------------------------------------------\u001b[0m",
      "\u001b[0;31mNameError\u001b[0m                                 Traceback (most recent call last)",
      "\u001b[1;32m/Users/siddharthpatwardhan/Downloads/proj_naive-embedded-reconstruction/notebooks/ex/SP_n2v_Exp1.ipynb Cell 14\u001b[0m in \u001b[0;36m<cell line: 1>\u001b[0;34m()\u001b[0m\n\u001b[0;32m----> <a href='vscode-notebook-cell:/Users/siddharthpatwardhan/Downloads/proj_naive-embedded-reconstruction/notebooks/ex/SP_n2v_Exp1.ipynb#X16sZmlsZQ%3D%3D?line=0'>1</a>\u001b[0m G\u001b[39m=\u001b[39moverlap_multiplex()\n",
      "\u001b[0;31mNameError\u001b[0m: name 'overlap_multiplex' is not defined"
     ]
    }
   ],
   "source": [
    "G=overlap_multiplex()\n"
   ]
  },
  {
   "cell_type": "code",
   "execution_count": null,
   "metadata": {},
   "outputs": [],
   "source": [
    "G[1].edges()"
   ]
  },
  {
   "cell_type": "code",
   "execution_count": null,
   "metadata": {},
   "outputs": [],
   "source": []
  }
 ],
 "metadata": {
  "kernelspec": {
   "display_name": "Python 3",
   "language": "python",
   "name": "python3"
  },
  "language_info": {
   "codemirror_mode": {
    "name": "ipython",
    "version": 3
   },
   "file_extension": ".py",
   "mimetype": "text/x-python",
   "name": "python",
   "nbconvert_exporter": "python",
   "pygments_lexer": "ipython3",
   "version": "3.8.13"
  },
  "orig_nbformat": 4,
  "vscode": {
   "interpreter": {
    "hash": "e7ccdd153c5405b73d2006ceda2f83e69bc9ae98daaf6184c656d5c8737101ed"
   }
  }
 },
 "nbformat": 4,
 "nbformat_minor": 2
}
