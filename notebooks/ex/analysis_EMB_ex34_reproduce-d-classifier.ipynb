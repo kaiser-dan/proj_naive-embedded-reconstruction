{
 "cells": [
  {
   "attachments": {},
   "cell_type": "markdown",
   "metadata": {},
   "source": [
    "# Reproducing prior \"D\"-classifier with current workflow"
   ]
  },
  {
   "attachments": {},
   "cell_type": "markdown",
   "metadata": {},
   "source": [
    "## Experiment description\n",
    "### Narrative set-up\n",
    "Recent results suggest that our current methodology is unable to reproduce the prior results utilizing only degree information (ex33v2.1, see [Reference Figure (1)](#ref-fig-1)). However, this does not rely on embedding information at all and hence, under logistic regression, should be able to reproduce prior \"D\"-classifier results nearly exactly, up to very minor fluctuations due to random observations. Hence, we find ourselves needing to re-examine the fundamentals of our current workflow's reconstruction.\n",
    "\n",
    "### Goal\n",
    "The main goal of this notebook is to examine where the discrepancy in our current results and our previous \"D\"-classifier results are occurring. This notebook will be limited to exploring configuration models - any actionable insights will be discussed before similar notebooks are created to examine the LFR setting, or (hopefully), we adjust the current code base for more trustworthy results.\n"
   ]
  },
  {
   "attachments": {},
   "cell_type": "markdown",
   "metadata": {},
   "source": [
    "---\n",
    "---"
   ]
  },
  {
   "attachments": {},
   "cell_type": "markdown",
   "metadata": {},
   "source": [
    "# Set-up"
   ]
  },
  {
   "attachments": {},
   "cell_type": "markdown",
   "metadata": {},
   "source": [
    "## Package management"
   ]
  },
  {
   "cell_type": "code",
   "execution_count": 3,
   "metadata": {},
   "outputs": [],
   "source": [
    "# --- Standard library ---\n",
    "import sys\n",
    "import pickle\n",
    "from enum import Enum\n",
    "import random\n",
    "\n",
    "# --- Scientific computing ---\n",
    "import numpy as np\n",
    "from sklearn.metrics import accuracy_score, roc_auc_score\n",
    "\n",
    "# --- Network science ---\n",
    "\n",
    "# --- Data handling and visualization ---\n",
    "import pandas as pd\n",
    "\n",
    "import matplotlib as mpl\n",
    "import matplotlib.pyplot as plt\n",
    "from matplotlib.ticker import AutoMinorLocator\n",
    "%matplotlib inline\n",
    "\n",
    "# --- Project source code ---\n",
    "sys.path.append(\"../../src/\")\n",
    "from src.data.preprocessing import duplex_network  # handle overlap, inconsistent node sets\n",
    "from src.data.benchmarks import generate_multiplex_configuration, lfr_multiplex  # benchmark samplers\n",
    "from src.sampling.random import partial_information  # PFI observation\n",
    "from src.classifiers.features import get_degrees, get_configuration_probabilities_feature, get_labels  # degree feature calculations, label wrapper\n",
    "from src.classifiers.logreg import *  # wrappers for scikit-learn logistic regression model functions"
   ]
  },
  {
   "attachments": {},
   "cell_type": "markdown",
   "metadata": {},
   "source": [
    "## Global config"
   ]
  },
  {
   "cell_type": "code",
   "execution_count": 4,
   "metadata": {},
   "outputs": [],
   "source": [
    "# * Pathing aliases\n",
    "_ROOT = \"../../\"\n",
    "_DATA = _ROOT + \"data/input/\"\n",
    "_DFS = _ROOT + \"results/dataframes/\"\n",
    "_FIGS = _ROOT + \"results/plots/\""
   ]
  },
  {
   "cell_type": "code",
   "execution_count": 5,
   "metadata": {},
   "outputs": [],
   "source": [
    "# * Plotting parameters\n",
    "custom_plot_settings = {\n",
    "    # Figure config\n",
    "    \"figure.figsize\": (8,6),\n",
    "    \"figure.frameon\": True,\n",
    "    \"figure.autolayout\": True,\n",
    "    \"axes.titlesize\": 16,\n",
    "    # Axes config\n",
    "    \"xtick.minor.size\": 2,\n",
    "    # Save-to-disk config\n",
    "    \"savefig.facecolor\": \"white\",\n",
    "    \"savefig.transparent\": False\n",
    "}\n",
    "mpl.rcParams.update(custom_plot_settings)\n",
    "\n",
    "# * Plotting aliases\n",
    "colors_ = [\"black\", \"red\", \"blue\", \"green\"]\n",
    "markers_ = [\"o\", \"s\", \"+\", \"^\"]\n",
    "viridis_ = mpl.colormaps['viridis']"
   ]
  },
  {
   "attachments": {},
   "cell_type": "markdown",
   "metadata": {},
   "source": [
    "---"
   ]
  },
  {
   "attachments": {},
   "cell_type": "markdown",
   "metadata": {},
   "source": [
    "# Experiment"
   ]
  },
  {
   "attachments": {},
   "cell_type": "markdown",
   "metadata": {},
   "source": [
    "## Data set-up"
   ]
  },
  {
   "attachments": {},
   "cell_type": "markdown",
   "metadata": {},
   "source": [
    "### Specify parameters"
   ]
  },
  {
   "cell_type": "code",
   "execution_count": 6,
   "metadata": {},
   "outputs": [],
   "source": [
    "_DATA_DICT = {\n",
    "    \"N\": \"number of nodes (in shared node set)\",\n",
    "    \"GAMMA\": \"degree exponent of power-law degree distribution (from sampled distribution, finite sampling effects may yield different exponent if re-fit)\",\n",
    "    \"MU\": \"mixing parameter for LFR model. Smaller MU implies (and is implied by) stronger modular structure.\",\n",
    "    \"KMIN\": \"minimum degree (in either layer)\",\n",
    "    \"KMAX\": \"maximum degree (in either layer)\",\n",
    "    \"AVG_K\": \"average degree (in both layers)\",\n",
    "    \"T1\": \"equivalent to GAMMA for LFR models\",\n",
    "    \"T2\": \"community size power-law distribution exponent\",\n",
    "    \"PROB\": \"relabeling probability. Controls correlation, with 0->1 = correlated->uncorrelated\",\n",
    "    \"SIGN\": \"degree sequence sorting. Couples with PROB to produce anti/directly correlated degree sequences. -1 => anticorrelated, 1 => correlated\"\n",
    "}"
   ]
  },
  {
   "cell_type": "code",
   "execution_count": 7,
   "metadata": {},
   "outputs": [],
   "source": [
    "class NetworkParams(Enum):\n",
    "    # Shared params\n",
    "    N = 100_000\n",
    "    PROB = 1.0\n",
    "    GAMMA = 2.1\n",
    "    KMAX = np.sqrt(100_000)\n",
    "    # Configuration model params\n",
    "    KMIN = 3\n",
    "    SIGN = 1\n",
    "    # LFR params\n",
    "    AVG_K = 6.0\n",
    "    T2 = 1.0\n",
    "    MU = 0.1\n",
    "    MIN_COMMUNITY = 1 # ignored"
   ]
  },
  {
   "cell_type": "code",
   "execution_count": 8,
   "metadata": {},
   "outputs": [],
   "source": [
    "class ExperimentParams(Enum):\n",
    "    THETAS = np.linspace(0.05, 0.95, 11, endpoint=True)"
   ]
  },
  {
   "cell_type": "code",
   "execution_count": 9,
   "metadata": {},
   "outputs": [],
   "source": [
    "LOGREG = {\"fit_intercept\": True, \"solver\": \"newton-cholesky\", \"penalty\": None}"
   ]
  },
  {
   "attachments": {},
   "cell_type": "markdown",
   "metadata": {},
   "source": [
    "### Sample duplex"
   ]
  },
  {
   "cell_type": "code",
   "execution_count": 199,
   "metadata": {},
   "outputs": [],
   "source": [
    "duplex = generate_multiplex_configuration(\n",
    "    int(NetworkParams.N.value),  # number of nodes\n",
    "    NetworkParams.GAMMA.value,  # degree distribution exponent\n",
    "    NetworkParams.KMIN.value,  # minimum degree\n",
    "    NetworkParams.KMAX.value,  # maximum degree\n",
    "    NetworkParams.PROB.value,  # degree sequence correlation\n",
    "    NetworkParams.SIGN.value  # (anti)-correlation direction indicator\n",
    ")"
   ]
  },
  {
   "cell_type": "code",
   "execution_count": 200,
   "metadata": {},
   "outputs": [
    {
     "name": "stdout",
     "output_type": "stream",
     "text": [
      "Number of common edges removed: 79\n",
      "Number of inactive nodes removed from layer 1: 0\n",
      "Number of inactive nodes removed from layer 2: 0\n",
      "Size of active node set union from layers 1 and 2: 200000\n"
     ]
    }
   ],
   "source": [
    "G, H = duplex_network(duplex, 1, 2, verbose=True)"
   ]
  },
  {
   "attachments": {},
   "cell_type": "markdown",
   "metadata": {},
   "source": [
    "### Compute remnants"
   ]
  },
  {
   "cell_type": "code",
   "execution_count": 201,
   "metadata": {},
   "outputs": [],
   "source": [
    "remnants = dict()  # theta -> [remnants infomation] mapping\n",
    "for theta in ExperimentParams.THETAS.value:\n",
    "    remnant_G, remnant_H, test_edges, train_edges = partial_information(G, H, theta)\n",
    "    record = {\n",
    "        \"remnants\": (remnant_G, remnant_H),\n",
    "        \"observed_edges\": train_edges,\n",
    "        \"unobserved_edges\": test_edges\n",
    "    }\n",
    "    remnants[theta] = record"
   ]
  },
  {
   "attachments": {},
   "cell_type": "markdown",
   "metadata": {},
   "source": [
    "## Feature calculation"
   ]
  },
  {
   "cell_type": "code",
   "execution_count": 202,
   "metadata": {},
   "outputs": [],
   "source": [
    "features = dict()  # theta -> [train features, test features]\n",
    "labels = dict()  # theta -> [train labels, test labels]"
   ]
  },
  {
   "cell_type": "code",
   "execution_count": 203,
   "metadata": {},
   "outputs": [],
   "source": [
    "for theta, record in remnants.items():\n",
    "    # Partially compute degree likelihood feature\n",
    "    src_degrees_train, tgt_degrees_train = get_degrees(record[\"remnants\"], list(record[\"observed_edges\"].keys()))\n",
    "    src_degrees_test, tgt_degrees_test = get_degrees(record[\"remnants\"], list(record[\"unobserved_edges\"].keys()))\n",
    "\n",
    "    # Complete degree likelihood feature calculations\n",
    "    feature_train = get_configuration_probabilities_feature(src_degrees_train, tgt_degrees_train)\n",
    "    feature_test = get_configuration_probabilities_feature(src_degrees_test, tgt_degrees_test)\n",
    "\n",
    "    # Retrieve labels\n",
    "    labels_train, labels_test = get_labels(record[\"observed_edges\"], record[\"unobserved_edges\"])\n",
    "\n",
    "    # Save to feature and label mappings\n",
    "    features[theta] = (feature_train, feature_test)\n",
    "    labels[theta] = (labels_train, labels_test)"
   ]
  },
  {
   "attachments": {},
   "cell_type": "markdown",
   "metadata": {},
   "source": [
    "## Model training and evaluation"
   ]
  },
  {
   "cell_type": "code",
   "execution_count": 204,
   "metadata": {},
   "outputs": [],
   "source": [
    "models = dict()  # theta -> [trained logistic regression]"
   ]
  },
  {
   "cell_type": "code",
   "execution_count": 205,
   "metadata": {},
   "outputs": [],
   "source": [
    "for theta in ExperimentParams.THETAS.value:\n",
    "    # Retrieve training labels\n",
    "    Y = labels[theta][0]\n",
    "\n",
    "    # Retrieve training features\n",
    "    X = features[theta][0]\n",
    "\n",
    "    # Format training features for scikit-learn models\n",
    "    X = np.array(X).reshape(-1,1)\n",
    "\n",
    "    # Train model\n",
    "    model = train_fit_logreg(X, Y, LOGREG)\n",
    "\n",
    "    # Save to models mapping\n",
    "    models[theta] = model"
   ]
  },
  {
   "cell_type": "code",
   "execution_count": 206,
   "metadata": {},
   "outputs": [],
   "source": [
    "model_performances = dict()  # theta -> [performances]"
   ]
  },
  {
   "cell_type": "code",
   "execution_count": 207,
   "metadata": {},
   "outputs": [],
   "source": [
    "for theta in ExperimentParams.THETAS.value:\n",
    "    # Retrieve testing labels\n",
    "    Y = labels[theta][1]\n",
    "\n",
    "    # Retrieve testing features\n",
    "    X = features[theta][1]\n",
    "\n",
    "    # Format testing features for scikit-learn models\n",
    "    X = np.array(X).reshape(-1,1)\n",
    "\n",
    "    # Apply model to test data\n",
    "    model = models[theta]\n",
    "    accuracy = get_model_accuracy(model, X, Y)\n",
    "    auroc = get_model_auroc(model, X, Y)\n",
    "    aupr = get_model_aupr(model, X, Y)\n",
    "    performances = {\n",
    "        \"accuracy\": accuracy,\n",
    "        \"auroc\": auroc,\n",
    "        \"aupr\": aupr,\n",
    "    }\n",
    "\n",
    "    # Save to models mapping\n",
    "    model_performances[theta] = performances"
   ]
  },
  {
   "attachments": {},
   "cell_type": "markdown",
   "metadata": {},
   "source": [
    "---"
   ]
  },
  {
   "attachments": {},
   "cell_type": "markdown",
   "metadata": {},
   "source": [
    "# Analysis"
   ]
  },
  {
   "attachments": {},
   "cell_type": "markdown",
   "metadata": {},
   "source": [
    "## Retrieving prior results"
   ]
  },
  {
   "cell_type": "code",
   "execution_count": 208,
   "metadata": {},
   "outputs": [],
   "source": [
    "# Load prior results\n",
    "with open(\"../../results/MEC/figure2a_data.pk\", \"rb\") as _fh:\n",
    "    df_f2a = pickle.load(_fh)\n",
    "\n",
    "# Reformat synthetic data\n",
    "gammas = []\n",
    "pfis = []\n",
    "aurocs = []\n",
    "accs = []\n",
    "\n",
    "for gamma, data_ in df_f2a.items():\n",
    "    for idx, pfi in enumerate([0.0, 0.1, 0.2, 0.3, 0.4, 0.5, 0.6, 0.7, 0.8, 0.9]):\n",
    "        gammas.append(gamma)\n",
    "        pfis.append(pfi)\n",
    "        aurocs.append(data_[-1][idx])\n",
    "        accs.append(data_[-2][idx])\n",
    "\n",
    "df_f2 = pd.DataFrame({\n",
    "    \"avg_k\": [5]*len(gammas),\n",
    "    \"gamma\": gammas,\n",
    "    \"method\": [\"D\"]*len(gammas),\n",
    "    \"pfi\": pfis,\n",
    "    \"AUROC\": aurocs,\n",
    "    \"Accuracy\": accs,\n",
    "})"
   ]
  },
  {
   "attachments": {},
   "cell_type": "markdown",
   "metadata": {},
   "source": [
    "## Basic performance analysis and comparison"
   ]
  },
  {
   "cell_type": "code",
   "execution_count": 209,
   "metadata": {},
   "outputs": [
    {
     "data": {
      "text/plain": [
       "Text(0.5, 1.0, 'Comparing prior \"D\"-classifier and current code')"
      ]
     },
     "execution_count": 209,
     "metadata": {},
     "output_type": "execute_result"
    },
    {
     "data": {
      "image/png": "[encoded data removed]",
      "text/plain": [
       "<Figure size 576x432 with 1 Axes>"
      ]
     },
     "metadata": {
      "needs_background": "light"
     },
     "output_type": "display_data"
    }
   ],
   "source": [
    "# Instantiate figure, subset relevant data\n",
    "fig = plt.figure()\n",
    "X = ExperimentParams.THETAS.value\n",
    "Y = [perfs[\"auroc\"] for perfs in model_performances.values()]\n",
    "df_ = df_f2.query(\"gamma == 2.1\")\n",
    "\n",
    "# Plotting data\n",
    "plt.plot(\n",
    "    X, Y,\n",
    "    label=\"Current Code\",\n",
    "    color=\"red\",\n",
    "    marker=\"s\"\n",
    ")\n",
    "plt.plot(\n",
    "    df_[\"pfi\"], df_[\"AUROC\"],\n",
    "    label=\"Prior Results\",\n",
    "    color=\"blue\",\n",
    "    marker=\"o\"\n",
    ")\n",
    "\n",
    "# Axes configuration\n",
    "ax = fig.axes[0]\n",
    "\n",
    "plt.xticks(np.linspace(0, 1, 11))\n",
    "ax.xaxis.set_minor_locator(AutoMinorLocator(2))\n",
    "\n",
    "plt.xlabel(\"$\\\\theta$\")\n",
    "plt.ylabel(\"ROC-AUC\")\n",
    "\n",
    "# Figure-level attributes\n",
    "plt.legend(title=\"Code base\")\n",
    "plt.title(\"Comparing prior \\\"D\\\"-classifier and current code\")\n",
    "\n",
    "# Save plot"
   ]
  },
  {
   "attachments": {},
   "cell_type": "markdown",
   "metadata": {},
   "source": [
    "The performances appear to match now!\n",
    "\n",
    "The [preliminary results](#ref-fig-1) should match the corresponding case by parameters nearly exactly, except for network size. Perhaps the effect of network size is stronger with our current code base than our previous code base?"
   ]
  },
  {
   "attachments": {},
   "cell_type": "markdown",
   "metadata": {},
   "source": [
    "# Size Effect"
   ]
  },
  {
   "cell_type": "markdown",
   "metadata": {},
   "source": [
    "\n",
    "Let's examine our code base by itself controlling network size across a few orders of magnitude."
   ]
  },
  {
   "cell_type": "code",
   "execution_count": 10,
   "metadata": {},
   "outputs": [
    {
     "name": "stdout",
     "output_type": "stream",
     "text": [
      "Number of common edges removed: 4\n",
      "Number of inactive nodes removed from layer 1: 0\n",
      "Number of inactive nodes removed from layer 2: 0\n",
      "Size of active node set union from layers 1 and 2: 200\n",
      "Number of common edges removed: 27\n",
      "Number of inactive nodes removed from layer 1: 0\n",
      "Number of inactive nodes removed from layer 2: 0\n",
      "Size of active node set union from layers 1 and 2: 2000\n",
      "Number of common edges removed: 58\n",
      "Number of inactive nodes removed from layer 1: 0\n",
      "Number of inactive nodes removed from layer 2: 0\n",
      "Size of active node set union from layers 1 and 2: 20000\n",
      "Number of common edges removed: 79\n",
      "Number of inactive nodes removed from layer 1: 0\n",
      "Number of inactive nodes removed from layer 2: 0\n",
      "Size of active node set union from layers 1 and 2: 200000\n"
     ]
    }
   ],
   "source": [
    "results = dict()  # N -> experiment results\n",
    "\n",
    "for N in np.logspace(2, 5, num=4):\n",
    "    # ~~~~~~~~~~~~~~~~~~~~~~~~~~\n",
    "    duplex = generate_multiplex_configuration(\n",
    "        int(N),  # number of nodes\n",
    "        NetworkParams.GAMMA.value,  # degree distribution exponent\n",
    "        NetworkParams.KMIN.value,  # minimum degree\n",
    "        np.sqrt(N),  # maximum degree\n",
    "        NetworkParams.PROB.value,  # degree sequence correlation\n",
    "        NetworkParams.SIGN.value  # (anti)-correlation direction indicator\n",
    "    )\n",
    "    G, H = duplex_network(duplex, 1, 2, verbose=True)\n",
    "\n",
    "    # ~~~~~~~~~~~~~~~~~~~~~~~~~~\n",
    "    remnants = dict()  # theta -> [remnants infomation] mapping\n",
    "    for theta in ExperimentParams.THETAS.value:\n",
    "        remnant_G, remnant_H, test_edges, train_edges = partial_information(G, H, theta)\n",
    "        record = {\n",
    "            \"remnants\": (remnant_G, remnant_H),\n",
    "            \"observed_edges\": train_edges,\n",
    "            \"unobserved_edges\": test_edges\n",
    "        }\n",
    "        remnants[theta] = record\n",
    "\n",
    "    # ~~~~~~~~~~~~~~~~~~~~~~~~~~~~~~~\n",
    "    features = dict()  # theta -> [train features, test features]\n",
    "    labels = dict()  # theta -> [train labels, test labels]\n",
    "    for theta, record in remnants.items():\n",
    "        # Partially compute degree likelihood feature\n",
    "        src_degrees_train, tgt_degrees_train = get_degrees(record[\"remnants\"], list(record[\"observed_edges\"].keys()))\n",
    "        src_degrees_test, tgt_degrees_test = get_degrees(record[\"remnants\"], list(record[\"unobserved_edges\"].keys()))\n",
    "\n",
    "        # Complete degree likelihood feature calculations\n",
    "        feature_train = get_configuration_probabilities_feature(src_degrees_train, tgt_degrees_train)\n",
    "        feature_test = get_configuration_probabilities_feature(src_degrees_test, tgt_degrees_test)\n",
    "\n",
    "        # Retrieve labels\n",
    "        labels_train, labels_test = get_labels(record[\"observed_edges\"], record[\"unobserved_edges\"])\n",
    "\n",
    "        # Save to feature and label mappings\n",
    "        features[theta] = (feature_train, feature_test)\n",
    "        labels[theta] = (labels_train, labels_test)\n",
    "\n",
    "    # ~~~~~~~~~~~~~~~~~~~~~~~~\n",
    "    models = dict()  # theta -> [trained logistic regression]\n",
    "    for theta in ExperimentParams.THETAS.value:\n",
    "        # Retrieve training labels\n",
    "        Y = labels[theta][0]\n",
    "\n",
    "        # Retrieve training features\n",
    "        X = features[theta][0]\n",
    "\n",
    "        # Format training features for scikit-learn models\n",
    "        X = np.array(X).reshape(-1,1)\n",
    "\n",
    "        # Train model\n",
    "        model = train_fit_logreg(X, Y, LOGREG)\n",
    "\n",
    "        # Save to models mapping\n",
    "        models[theta] = model\n",
    "\n",
    "    # ~~~~~~~~~~~~~~~~~~~~~\n",
    "    model_performances = dict()  # theta -> [performances]\n",
    "    for theta in ExperimentParams.THETAS.value:\n",
    "        # Retrieve testing labels\n",
    "        Y = labels[theta][1]\n",
    "\n",
    "        # Retrieve testing features\n",
    "        X = features[theta][1]\n",
    "\n",
    "        # Format testing features for scikit-learn models\n",
    "        X = np.array(X).reshape(-1,1)\n",
    "\n",
    "        # Apply model to test data\n",
    "        model = models[theta]\n",
    "        accuracy = get_model_accuracy(model, X, Y)\n",
    "        auroc = get_model_auroc(model, X, Y)\n",
    "        aupr = get_model_aupr(model, X, Y)\n",
    "        performances = {\n",
    "            \"accuracy\": accuracy,\n",
    "            \"auroc\": auroc,\n",
    "            \"aupr\": aupr,\n",
    "        }\n",
    "\n",
    "        # Save to models mapping\n",
    "        model_performances[theta] = performances\n",
    "\n",
    "    results[N] = model_performances"
   ]
  },
  {
   "cell_type": "code",
   "execution_count": 11,
   "metadata": {},
   "outputs": [
    {
     "data": {
      "text/plain": [
       "Text(0.5, 1.0, 'Examining size effect on current code-base')"
      ]
     },
     "execution_count": 11,
     "metadata": {},
     "output_type": "execute_result"
    },
    {
     "data": {
      "image/png": "[encoded data removed]",
      "text/plain": [
       "<Figure size 576x432 with 1 Axes>"
      ]
     },
     "metadata": {
      "needs_background": "light"
     },
     "output_type": "display_data"
    }
   ],
   "source": [
    "# Instantiate figure, subset relevant data\n",
    "fig = plt.figure()\n",
    "X = ExperimentParams.THETAS.value\n",
    "\n",
    "# Plotting data\n",
    "for idx, (N, results_) in enumerate(results.items()):\n",
    "    Y = [perfs[\"auroc\"] for perfs in results_.values()]\n",
    "    plt.plot(\n",
    "        X, Y,\n",
    "        label=int(np.log10(N)),\n",
    "        color=colors_[idx],\n",
    "        marker=markers_[idx]\n",
    ")\n",
    "plt.hlines(0.5, 0, 1, linestyles=\"--\", color=\"gray\", alpha=0.5)\n",
    "\n",
    "# Axes configuration\n",
    "ax = fig.axes[0]\n",
    "\n",
    "plt.xticks(np.linspace(0, 1, 11))\n",
    "ax.xaxis.set_minor_locator(AutoMinorLocator(2))\n",
    "\n",
    "plt.xlabel(\"$\\\\theta$\")\n",
    "plt.ylabel(\"ROC-AUC\")\n",
    "\n",
    "# Figure-level attributes\n",
    "plt.legend(title=\"Network Size (log base 10)\")\n",
    "plt.title(\"Examining size effect on current code-base\")\n",
    "\n",
    "# Save plot"
   ]
  },
  {
   "attachments": {},
   "cell_type": "markdown",
   "metadata": {},
   "source": [
    "As we can see, there is a pretty strong effect from network size on our current code. I don't recall this being the case for our previous work, so let's recreate the \"D\"-classifier from the [published source code](https://github.com/kaiser-dan/parametric-dyadic-multiplex-reconstruction/blob/main/experiments/Figure2/figure2.ipynb) now and verify the size effect is weaker in that setting."
   ]
  },
  {
   "cell_type": "code",
   "execution_count": 12,
   "metadata": {},
   "outputs": [],
   "source": [
    "def classifier (rem_G1, rem_G2, Etest, TT = 1, show_log = False):\n",
    "    # >>> D Classifier >>>\n",
    "    if TT == 1:\n",
    "        classification, scores, ground_truth = [], [], []\n",
    "\n",
    "        for e in Etest:\n",
    "            n = e[0]\n",
    "            m = e[1]\n",
    "\n",
    "            s1 = rem_G1.degree(n)*rem_G1.degree(m)\n",
    "            s2 = rem_G2.degree(n)*rem_G2.degree(m)\n",
    "\n",
    "            t1 = t2 = 0.5\n",
    "            if s1 + s2 > 0.0:\n",
    "                t1 = s1 / (s1 + s2)\n",
    "                t2 = s2 / (s1 + s2)\n",
    "\n",
    "            s = random.randint(0,1)\n",
    "            if t1 > t2:\n",
    "                s = 1\n",
    "            if t2 > t1:\n",
    "                s = 0\n",
    "\n",
    "            scores.append(t1)\n",
    "            classification.append(s)\n",
    "            ground_truth.append(Etest[e])\n",
    "\n",
    "        return classification, scores, ground_truth\n",
    "    # <<< D Classifier <<<"
   ]
  },
  {
   "cell_type": "code",
   "execution_count": 13,
   "metadata": {},
   "outputs": [],
   "source": [
    "def perform_analysis (G1, G2, step, TT = 1):\n",
    "\n",
    "    # >>> Book-keeping >>>\n",
    "    x , y, z  = [], [], []\n",
    "    frac = 0.0\n",
    "    # <<< Book-keeping <<<\n",
    "\n",
    "    # >>> Sweep over relative size of training set >>>\n",
    "    while frac < 1.0:\n",
    "        if frac <= 1.0 - step:\n",
    "            print ('# %.2f ' %frac, ' %.2f' %(1.0 - step))\n",
    "\n",
    "            # Observe information\n",
    "            rem_G1, rem_G2, Etest, Etrain  = partial_information (G1, G2, frac)\n",
    "\n",
    "            # Reconstruct multiplex\n",
    "            classification, scores, ground_truth = classifier (rem_G1, rem_G2, Etest, TT)\n",
    "\n",
    "            # Measure reconstruction performance\n",
    "            acc = accuracy_score(ground_truth, classification)\n",
    "            auc = roc_auc_score(ground_truth, scores)\n",
    "\n",
    "            x.append(frac)\n",
    "            y.append(acc)\n",
    "            z.append(auc)\n",
    "\n",
    "        frac += step\n",
    "    # <<< Sweep over relative size of training set <<<\n",
    "\n",
    "    results = [x, y, z]\n",
    "    return results"
   ]
  },
  {
   "cell_type": "code",
   "execution_count": 14,
   "metadata": {},
   "outputs": [
    {
     "name": "stdout",
     "output_type": "stream",
     "text": [
      "Number of common edges removed: 17\n",
      "Number of inactive nodes removed from layer 1: 0\n",
      "Number of inactive nodes removed from layer 2: 0\n",
      "Size of active node set union from layers 1 and 2: 200\n",
      "# 0.00   0.90\n",
      "# 0.10   0.90\n",
      "# 0.20   0.90\n",
      "# 0.30   0.90\n",
      "# 0.40   0.90\n",
      "# 0.50   0.90\n",
      "# 0.60   0.90\n",
      "# 0.70   0.90\n",
      "# 0.80   0.90\n",
      "# 0.90   0.90\n",
      "Number of common edges removed: 36\n",
      "Number of inactive nodes removed from layer 1: 0\n",
      "Number of inactive nodes removed from layer 2: 0\n",
      "Size of active node set union from layers 1 and 2: 2000\n",
      "# 0.00   0.90\n",
      "# 0.10   0.90\n",
      "# 0.20   0.90\n",
      "# 0.30   0.90\n",
      "# 0.40   0.90\n",
      "# 0.50   0.90\n",
      "# 0.60   0.90\n",
      "# 0.70   0.90\n",
      "# 0.80   0.90\n",
      "# 0.90   0.90\n",
      "Number of common edges removed: 52\n",
      "Number of inactive nodes removed from layer 1: 0\n",
      "Number of inactive nodes removed from layer 2: 0\n",
      "Size of active node set union from layers 1 and 2: 20000\n",
      "# 0.00   0.90\n",
      "# 0.10   0.90\n",
      "# 0.20   0.90\n",
      "# 0.30   0.90\n",
      "# 0.40   0.90\n",
      "# 0.50   0.90\n",
      "# 0.60   0.90\n",
      "# 0.70   0.90\n",
      "# 0.80   0.90\n",
      "# 0.90   0.90\n",
      "Number of common edges removed: 75\n",
      "Number of inactive nodes removed from layer 1: 0\n",
      "Number of inactive nodes removed from layer 2: 0\n",
      "Size of active node set union from layers 1 and 2: 200000\n",
      "# 0.00   0.90\n",
      "# 0.10   0.90\n",
      "# 0.20   0.90\n",
      "# 0.30   0.90\n",
      "# 0.40   0.90\n",
      "# 0.50   0.90\n",
      "# 0.60   0.90\n",
      "# 0.70   0.90\n",
      "# 0.80   0.90\n",
      "# 0.90   0.90\n"
     ]
    }
   ],
   "source": [
    "results_D = dict()  # N -> experiment results\n",
    "\n",
    "for N in np.logspace(2, 5, num=4):\n",
    "    # ~~~~~~~~~~~~~~~~~~~~~~~~~~\n",
    "    duplex = generate_multiplex_configuration(\n",
    "        int(N),  # number of nodes\n",
    "        NetworkParams.GAMMA.value,  # degree distribution exponent\n",
    "        NetworkParams.KMIN.value,  # minimum degree\n",
    "        np.sqrt(N),  # maximum degree\n",
    "        NetworkParams.PROB.value,  # degree sequence correlation\n",
    "        NetworkParams.SIGN.value  # (anti)-correlation direction indicator\n",
    "    )\n",
    "    G, H = duplex_network(duplex, 1, 2, verbose=True)\n",
    "\n",
    "    # ~~~~~~~~~~~~~~~~~~~~~~~~~~\n",
    "    fracs, accs, aucs = perform_analysis(G, H, 0.1)\n",
    "\n",
    "    results_D[N] = aucs"
   ]
  },
  {
   "cell_type": "code",
   "execution_count": 15,
   "metadata": {},
   "outputs": [
    {
     "data": {
      "text/plain": [
       "Text(0.5, 1.0, 'Examining size effect on \"D\"-classifier')"
      ]
     },
     "execution_count": 15,
     "metadata": {},
     "output_type": "execute_result"
    },
    {
     "data": {
      "image/png": "[encoded data removed]",
      "text/plain": [
       "<Figure size 576x432 with 1 Axes>"
      ]
     },
     "metadata": {
      "needs_background": "light"
     },
     "output_type": "display_data"
    }
   ],
   "source": [
    "# Instantiate figure, subset relevant data\n",
    "fig = plt.figure()\n",
    "X = np.linspace(0,0.9,10)\n",
    "\n",
    "# Plotting data\n",
    "for idx, (N, Y) in enumerate(results_D.items()):\n",
    "    plt.plot(\n",
    "        X, Y,\n",
    "        label=int(np.log10(N)),\n",
    "        color=colors_[idx],\n",
    "        marker=markers_[idx]\n",
    ")\n",
    "plt.hlines(0.5, 0, 1, linestyles=\"--\", color=\"gray\", alpha=0.5)\n",
    "\n",
    "# Axes configuration\n",
    "ax = fig.axes[0]\n",
    "\n",
    "plt.xticks(np.linspace(0, 1, 11))\n",
    "ax.xaxis.set_minor_locator(AutoMinorLocator(2))\n",
    "\n",
    "plt.xlabel(\"$\\\\theta$\")\n",
    "plt.ylabel(\"ROC-AUC\")\n",
    "\n",
    "# Figure-level attributes\n",
    "plt.legend(title=\"Network Size (log base 10)\")\n",
    "plt.title(\"Examining size effect on \\\"D\\\"-classifier\")\n",
    "\n",
    "# Save plot"
   ]
  },
  {
   "attachments": {},
   "cell_type": "markdown",
   "metadata": {},
   "source": [
    "Ok so it appears I misremembered - there is indeed a seemingly equally strong effect due to network size with the \"D\"-classifier as well.\n",
    "\n",
    "Let's quickly examine the results together"
   ]
  },
  {
   "cell_type": "code",
   "execution_count": 20,
   "metadata": {},
   "outputs": [
    {
     "data": {
      "image/png": "[encoded data removed]",
      "text/plain": [
       "<Figure size 576x432 with 1 Axes>"
      ]
     },
     "metadata": {
      "needs_background": "light"
     },
     "output_type": "display_data"
    }
   ],
   "source": [
    "# Instantiate figure, subset relevant data\n",
    "fig = plt.figure()\n",
    "\n",
    "# Plotting data\n",
    "X = ExperimentParams.THETAS.value\n",
    "for idx, (N, results_) in enumerate(results.items()):\n",
    "    Y = [perfs[\"auroc\"] for perfs in results_.values()]\n",
    "    plt.plot(\n",
    "        X, Y,\n",
    "        label=f\"{int(np.log10(N))} - LogReg-classifier\",\n",
    "        color=colors_[idx],\n",
    "        marker=markers_[idx]\n",
    ")\n",
    "X = np.linspace(0,0.9,10)\n",
    "for idx, (N, Y) in enumerate(results_D.items()):\n",
    "    plt.plot(\n",
    "        X, Y,\n",
    "        label=f\"{int(np.log10(N))} - \\\"D\\\"-classifier\",\n",
    "        color=colors_[idx],\n",
    "        marker=markers_[idx],\n",
    "        linestyle=\"--\"\n",
    ")\n",
    "\n",
    "plt.hlines(0.5, 0, 1, linestyles=\":\", color=\"gray\", alpha=0.5)\n",
    "\n",
    "# Axes configuration\n",
    "ax = fig.axes[0]\n",
    "\n",
    "plt.xticks(np.linspace(0, 1, 11))\n",
    "ax.xaxis.set_minor_locator(AutoMinorLocator(2))\n",
    "\n",
    "plt.xlabel(\"$\\\\theta$\")\n",
    "plt.ylabel(\"ROC-AUC\")\n",
    "\n",
    "# Figure-level attributes\n",
    "plt.legend(title=\"Network Size - Code base\\n [color/marker] - [style]\", ncol=2)\n",
    "plt.title(\"Examining size effect\")\n",
    "plt.annotate(\n",
    "    \"What we were comparing against\",\n",
    "    xy=(0.5, 0.9), xytext=(0.05,0.93),\n",
    "    arrowprops={\n",
    "        \"shrink\": 0.1,\n",
    "        \"color\": \"black\"\n",
    "    }\n",
    ")\n",
    "plt.annotate(\n",
    "    \"What we were observing\",\n",
    "    xy=(0.5, 0.68), xytext=(0.7,0.55),\n",
    "    arrowprops={\n",
    "        # \"shrink\": 0.1,\n",
    "        \"color\": \"black\"\n",
    "    }\n",
    ")\n",
    "\n",
    "# Save plot\n",
    "plt.savefig(f\"{_FIGS}/line_auroc-pfi_hue-size_style-method_EMBex34.png\")"
   ]
  },
  {
   "attachments": {},
   "cell_type": "markdown",
   "metadata": {},
   "source": [
    "Fantastic! So if we are careful with our network size, the results may very well match up just fine."
   ]
  },
  {
   "attachments": {},
   "cell_type": "markdown",
   "metadata": {},
   "source": [
    "---\n",
    "---"
   ]
  },
  {
   "attachments": {},
   "cell_type": "markdown",
   "metadata": {},
   "source": [
    "# Appendix"
   ]
  },
  {
   "attachments": {},
   "cell_type": "markdown",
   "metadata": {},
   "source": [
    "## Referenced figures"
   ]
  },
  {
   "attachments": {},
   "cell_type": "markdown",
   "metadata": {},
   "source": [
    "<figure>\n",
    "    <center>\n",
    "    <img src=\"../../results/plots/line_auroc-theta_hue-features_gamma-2.1_compare-DC_EMB_ex33v2.1_DK_20230417.png\" alt=\"ex33v2.1_comparison-fig\" class=\"bg-primary\" style=\"width:50%\">\n",
    "    <figcaption><a id='ref-fig-1'>Reference Figure (1)</a>: EMBex32v2.1 results compared with prior results. </figcaption>\n",
    "    </center>\n",
    "</figure>"
   ]
  },
  {
   "attachments": {},
   "cell_type": "markdown",
   "metadata": {},
   "source": [
    "<!-- ![Extra in case HTML does not render in pandoc export](\"../../results/plots/line_auroc-theta_hue-features_gamma-2.1_compare-DC_EMB_ex33v2.1_DK_20230417.png\") -->"
   ]
  },
  {
   "cell_type": "markdown",
   "metadata": {},
   "source": []
  }
 ],
 "metadata": {
  "kernelspec": {
   "display_name": "EmbeddedNaive",
   "language": "python",
   "name": "python3"
  },
  "language_info": {
   "codemirror_mode": {
    "name": "ipython",
    "version": 3
   },
   "file_extension": ".py",
   "mimetype": "text/x-python",
   "name": "python",
   "nbconvert_exporter": "python",
   "pygments_lexer": "ipython3",
   "version": "3.10.10"
  },
  "orig_nbformat": 4
 },
 "nbformat": 4,
 "nbformat_minor": 2
}
