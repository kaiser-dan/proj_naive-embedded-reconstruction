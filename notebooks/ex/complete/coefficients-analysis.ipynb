{
 "cells": [
  {
   "attachments": {},
   "cell_type": "markdown",
   "metadata": {},
   "source": [
    "# Set-up"
   ]
  },
  {
   "attachments": {},
   "cell_type": "markdown",
   "metadata": {},
   "source": [
    "## Globals"
   ]
  },
  {
   "cell_type": "code",
   "execution_count": 132,
   "metadata": {},
   "outputs": [],
   "source": [
    "# --- Standard library ---\n",
    "import sys\n",
    "import os\n",
    "\n",
    "# --- Scientific computing ---\n",
    "import numpy as np\n",
    "import scipy.stats as stats\n",
    "\n",
    "from sklearn.linear_model import LogisticRegression\n",
    "from sklearn.metrics import accuracy_score, roc_auc_score, precision_score, recall_score, confusion_matrix, ConfusionMatrixDisplay\n",
    "from sklearn.metrics import roc_curve, auc\n",
    "\n",
    "# --- Network science ---\n",
    "import networkx as nx\n",
    "\n",
    "# --- Data handling and visualization ---\n",
    "import pandas as pd\n",
    "\n",
    "import seaborn as sns\n",
    "import matplotlib as mpl\n",
    "import matplotlib.pyplot as plt\n",
    "%matplotlib inline\n",
    "\n",
    "# --- Project source code ---\n",
    "sys.path.append(\"../../src/\")\n",
    "\n",
    "from classifiers.features import get_degrees, get_configuration_probabilities_feature\n",
    "from classifiers.features import get_distances, get_configuration_distances_feature, get_distance_ratios_feature\n",
    "# from classifiers.features import get_labels, format_feature_matrix\n",
    "from classifiers.logreg import *\n",
    "from data.observations import get_preprocessed_data"
   ]
  },
  {
   "cell_type": "code",
   "execution_count": 133,
   "metadata": {},
   "outputs": [],
   "source": [
    "SYSTEM = \"LFR_gamma-3.5\"\n",
    "LAYERS = [1, 2]\n",
    "REP = 1\n",
    "\n",
    "THETAS = np.linspace(0.05, 0.95, 37, endpoint=True)\n",
    "THETA = 0.5"
   ]
  },
  {
   "attachments": {},
   "cell_type": "markdown",
   "metadata": {},
   "source": [
    "## Loading cache and applying transformations"
   ]
  },
  {
   "cell_type": "code",
   "execution_count": 134,
   "metadata": {},
   "outputs": [],
   "source": [
    "cache = get_preprocessed_data(SYSTEM, LAYERS, THETA, REP, ROOT=\"../../data/input/preprocessed/synthetic/\")\n",
    "cache.embeddings = cache.renormalize()\n",
    "cache.embeddings = cache.align_centers()"
   ]
  },
  {
   "attachments": {},
   "cell_type": "markdown",
   "metadata": {},
   "source": [
    "# Precomputing features"
   ]
  },
  {
   "cell_type": "code",
   "execution_count": 135,
   "metadata": {},
   "outputs": [],
   "source": [
    "edges = cache.observed_edges.copy()\n",
    "edges.update(cache.unobserved_edges)"
   ]
  },
  {
   "cell_type": "code",
   "execution_count": 136,
   "metadata": {},
   "outputs": [],
   "source": [
    "# distances_G, distances_H = get_distances(cache.embeddings, edges.keys())\n",
    "# distances = get_configuration_distances_feature(distances_G, distances_H, zde_penalty=0.1)\n",
    "\n",
    "distances_G, distances_H = get_degrees(cache.remnants, edges.keys())\n",
    "distances = get_configuration_probabilities_feature(distances_G, distances_H)"
   ]
  },
  {
   "cell_type": "code",
   "execution_count": 137,
   "metadata": {},
   "outputs": [],
   "source": [
    "df = pd.DataFrame({\n",
    "    \"edge\": edges.keys(),\n",
    "    \"layer_actual\": edges.values(),\n",
    "    # \"distance_G\": distances_G,\n",
    "    # \"distance_H\": distances_H,\n",
    "    \"distances\": distances,\n",
    "})"
   ]
  },
  {
   "attachments": {},
   "cell_type": "markdown",
   "metadata": {},
   "source": [
    "## Transformations, melts, and pivots"
   ]
  },
  {
   "cell_type": "code",
   "execution_count": 138,
   "metadata": {},
   "outputs": [],
   "source": [
    "# Notating TTS\n",
    "df[\"tts\"] = [\n",
    "    \"Train\" if row[1][\"edge\"] in cache.observed_edges else \"Test\"\n",
    "    for row in df.iterrows()\n",
    "]\n",
    "\n",
    "normalizer = max(np.abs(df.distances.min()), df.distances.max())\n",
    "df[\"distances_minmax\"] = df[\"distances\"].apply(lambda x: x / normalizer)"
   ]
  },
  {
   "cell_type": "code",
   "execution_count": 139,
   "metadata": {},
   "outputs": [],
   "source": [
    "# Melting main quantitative variables\n",
    "df_melted = df.melt(\n",
    "    id_vars=[\"edge\", \"layer_actual\", \"tts\"],\n",
    "    value_vars=[\"distances\", \"distances_minmax\"],\n",
    "    var_name=\"distance_layer\", value_name=\"distance_value\"\n",
    ")"
   ]
  },
  {
   "cell_type": "code",
   "execution_count": 140,
   "metadata": {},
   "outputs": [],
   "source": [
    "df_melted = df_melted.replace({\n",
    "    # \"distance_G\": \"G\",\n",
    "    # \"distance_H\": \"H\",\n",
    "    \"distances\": \"Configuration\",\n",
    "    \"distances_minmax\": \"Configuration (MinMax normalized)\",\n",
    "})"
   ]
  },
  {
   "attachments": {},
   "cell_type": "markdown",
   "metadata": {},
   "source": [
    "# Coefficient Analysis"
   ]
  },
  {
   "attachments": {},
   "cell_type": "markdown",
   "metadata": {},
   "source": [
    "## Sign and Magnitude"
   ]
  },
  {
   "cell_type": "code",
   "execution_count": 141,
   "metadata": {},
   "outputs": [
    {
     "data": {
      "text/plain": [
       "<Figure size 640x480 with 0 Axes>"
      ]
     },
     "metadata": {},
     "output_type": "display_data"
    },
    {
     "data": {
      "image/png": "[encoded data removed]",
      "text/plain": [
       "<Figure size 816.111x600 with 1 Axes>"
      ]
     },
     "metadata": {},
     "output_type": "display_data"
    }
   ],
   "source": [
    "# Instantiate figure, subset relevant data\n",
    "plt.figure()\n",
    "\n",
    "# Plotting data\n",
    "sns.displot(\n",
    "    data=df, kind=\"hist\",\n",
    "    x=\"distances\",\n",
    "    hue=\"layer_actual\",\n",
    "    height=6, aspect=1.2,\n",
    "    stat=\"proportion\"\n",
    ")\n",
    "\n",
    "# Axes configuration\n",
    "\n",
    "# Figure-level attributes\n",
    "\n",
    "# Save plot\n",
    "plt.tight_layout()"
   ]
  },
  {
   "cell_type": "code",
   "execution_count": null,
   "metadata": {},
   "outputs": [],
   "source": []
  }
 ],
 "metadata": {
  "kernelspec": {
   "display_name": "EmbeddedNaive",
   "language": "python",
   "name": "python3"
  },
  "language_info": {
   "codemirror_mode": {
    "name": "ipython",
    "version": 3
   },
   "file_extension": ".py",
   "mimetype": "text/x-python",
   "name": "python",
   "nbconvert_exporter": "python",
   "pygments_lexer": "ipython3",
   "version": "3.10.9"
  },
  "orig_nbformat": 4
 },
 "nbformat": 4,
 "nbformat_minor": 2
}
