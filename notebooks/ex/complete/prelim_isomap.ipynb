{
 "cells": [
  {
   "attachments": {},
   "cell_type": "markdown",
   "metadata": {},
   "source": [
    "# _setup"
   ]
  },
  {
   "attachments": {},
   "cell_type": "markdown",
   "metadata": {},
   "source": [
    "## Package management"
   ]
  },
  {
   "cell_type": "code",
   "execution_count": 33,
   "metadata": {},
   "outputs": [],
   "source": [
    "# --- Standard library ---\n",
    "import os\n",
    "import sys\n",
    "from enum import Enum\n",
    "\n",
    "# --- Network science ---\n",
    "import networkx as nx\n",
    "\n",
    "# --- Scientific computing ---\n",
    "import numpy as np\n",
    "from sklearn import manifold\n",
    "\n",
    "# --- Data handling and visualization ---\n",
    "import pandas as pd\n",
    "\n",
    "import matplotlib as mpl\n",
    "import matplotlib.pyplot as plt\n",
    "from matplotlib.ticker import AutoMinorLocator\n",
    "%matplotlib inline\n",
    "\n",
    "import seaborn as sns\n",
    "\n",
    "# --- Miscelleaneous ---\n",
    "from tqdm.auto import tqdm\n",
    "\n",
    "# --- Project source code ---\n",
    "## PATH adjustments\n",
    "FP_ROOT = os.path.join(\"..\", \"..\", \"\")\n",
    "FP_SRC = os.path.join(FP_ROOT, \"src\", \"\")\n",
    "sys.path.append(FP_ROOT)\n",
    "sys.path.append(FP_SRC)\n",
    "\n",
    "## Data\n",
    "from src.data.preprocessing import duplex_network  # handle overlap, inconsistent node sets\n",
    "from src.data.benchmarks import generate_multiplex_LFR  # benchmark samplers\n",
    "\n",
    "## Embedding\n",
    "from src.embed.N2V import N2V\n",
    "from src.embed.helpers import get_components\n",
    "\n",
    "## Sampling\n",
    "from src.sampling.random import partial_information  # PFI observation\n",
    "\n",
    "## Classifiers\n",
    "from src.classifiers.features import *  # degree feature calculations, label wrapper\n",
    "from src.classifiers.logreg import *  # wrappers for scikit-learn logistic regression model functions\n",
    "\n",
    "## Hypercompare - Isomap\n",
    "from src.hypercomparison import networks"
   ]
  },
  {
   "attachments": {},
   "cell_type": "markdown",
   "metadata": {},
   "source": [
    "## Global Config"
   ]
  },
  {
   "cell_type": "code",
   "execution_count": 34,
   "metadata": {},
   "outputs": [],
   "source": [
    "# * Pathing aliases\n",
    "FP_REMNANTS = os.path.join(FP_ROOT, \"data\", \"input\", \"edgelists\", \"\")\n",
    "FP_DFS = os.path.join(FP_ROOT, \"data\", \"output\", \"dataframes\", \"\")\n",
    "FP_FIGS = os.path.join(FP_ROOT, \"data\", \"output\", \"figures\", \"\")"
   ]
  },
  {
   "cell_type": "code",
   "execution_count": 35,
   "metadata": {},
   "outputs": [],
   "source": [
    "# * Plotting parameters\n",
    "custom_plot_settings = {\n",
    "    # Figure config\n",
    "    \"figure.figsize\": (8,6),\n",
    "    \"figure.frameon\": True,\n",
    "    \"figure.autolayout\": True,\n",
    "    \"axes.titlesize\": 16,\n",
    "    # Axes config\n",
    "    \"xtick.minor.size\": 2,\n",
    "    # Save-to-disk config\n",
    "    \"savefig.facecolor\": \"white\",\n",
    "    \"savefig.transparent\": False\n",
    "}\n",
    "mpl.rcParams.update(custom_plot_settings)\n",
    "\n",
    "# * Plotting aliases\n",
    "colors_ = [\"black\", \"red\", \"blue\", \"green\"]\n",
    "markers_ = [\"o\", \"s\", \"+\", \"^\"]\n",
    "viridis_ = mpl.colormaps['viridis']"
   ]
  },
  {
   "attachments": {},
   "cell_type": "markdown",
   "metadata": {},
   "source": [
    "# Experiment"
   ]
  },
  {
   "attachments": {},
   "cell_type": "markdown",
   "metadata": {},
   "source": [
    "## Preparations"
   ]
  },
  {
   "attachments": {},
   "cell_type": "markdown",
   "metadata": {},
   "source": [
    "### Initializaing parameters"
   ]
  },
  {
   "cell_type": "code",
   "execution_count": 36,
   "metadata": {},
   "outputs": [],
   "source": [
    "# --- Data/Experiment Configurations ---\n",
    "class NetworkParams(Enum):\n",
    "    # Shared params\n",
    "    N = 1000\n",
    "    PROB = 1.0\n",
    "    T1 = 2.1\n",
    "    KMAX = np.sqrt(1000)\n",
    "    # Configuration model params\n",
    "    KMIN = 3\n",
    "    SIGN = 1\n",
    "    # LFR params\n",
    "    KAVG = 5.0\n",
    "    T2 = 1.0\n",
    "    MU = 0.1\n",
    "    MIN_COMMUNITY = 1 # ignored\n",
    "\n",
    "class ExperimentParams(Enum):\n",
    "    THETAS = np.linspace(0.05, 0.95, 11, endpoint=True)\n",
    "\n",
    "LOGREG = {\n",
    "    \"fit_intercept\": True,  # include intercept accounting for class imbalance\n",
    "    \"solver\": \"newton-cholesky\",  # uses Cholesky-decomposition to approximate Hessian for Newton-esque method\n",
    "    \"penalty\": None  # do not include coefficient regularization\n",
    "}"
   ]
  },
  {
   "attachments": {},
   "cell_type": "markdown",
   "metadata": {},
   "source": [
    "### Defining functions"
   ]
  },
  {
   "cell_type": "code",
   "execution_count": 37,
   "metadata": {},
   "outputs": [],
   "source": [
    "\"\"\"\n",
    "Implementations of Isomap\n",
    "Metric MDS + shortest path length matrix of a network\n",
    "\"\"\"\n",
    "class MDSBase:\n",
    "    def __init__(self, dimension):\n",
    "        self.dimension = dimension\n",
    "\n",
    "    def train(self, network):\n",
    "        self.network = network\n",
    "        self.network.generate_shortest_path_length_matrix()\n",
    "        self.embeddings_matrix = self._get_embedding()\n",
    "\n",
    "        if len(self.embeddings_matrix) == 0:\n",
    "            self.embeddings = {}\n",
    "        else:\n",
    "            self.embeddings = {\n",
    "                self.network.id2node[i]: self.embeddings_matrix[i] for i in range(len(self.network.id2node))\n",
    "            }\n",
    "        return self.embeddings\n",
    "\n",
    "\n",
    "class Isomap(MDSBase):\n",
    "    def __init__(self, dimension=2):\n",
    "        super(Isomap, self).__init__(dimension)\n",
    "\n",
    "    def _get_embedding(self):\n",
    "        return manifold.MDS(\n",
    "            self.dimension, dissimilarity=\"precomputed\").fit_transform(\n",
    "                self.network.shortest_path_length_matrix)"
   ]
  },
  {
   "cell_type": "code",
   "execution_count": 38,
   "metadata": {},
   "outputs": [],
   "source": [
    "\"\"\"Network initialization\n",
    "\"\"\"\n",
    "def get_network(\n",
    "        N=int(NetworkParams.N.value),  # number of nodes\n",
    "        T1=NetworkParams.T1.value,  # degree distribution exponent\n",
    "        T2=NetworkParams.T2.value,  # community size distribution exponent\n",
    "        MU=NetworkParams.MU.value,  # community mixing parameter\n",
    "        KAVG=NetworkParams.KAVG.value,  # average degree\n",
    "        KMAX=NetworkParams.KMAX.value,  # maximum degree\n",
    "        MIN_COMMUNITY=NetworkParams.MIN_COMMUNITY.value,  # minimum community size (ignored)\n",
    "        PROB=NetworkParams.PROB.value,  # degree sequence correlation,\n",
    "        ROOT=\"../../\"):\n",
    "    duplex, _, _, _ = generate_multiplex_LFR(N, T1, T2, MU, KAVG, KMAX, MIN_COMMUNITY, PROB, ROOT)\n",
    "    duplex = duplex_network(duplex, 1, 2, verbose=True)\n",
    "\n",
    "    return duplex\n",
    "\n",
    "def get_network_debug(\n",
    "        N=int(NetworkParams.N.value),  # number of nodes\n",
    "        T1=NetworkParams.T1.value,  # degree distribution exponent\n",
    "        T2=NetworkParams.T2.value,  # community size distribution exponent\n",
    "        MU=NetworkParams.MU.value,  # community mixing parameter\n",
    "        KAVG=NetworkParams.KAVG.value,  # average degree\n",
    "        KMAX=NetworkParams.KMAX.value,  # maximum degree\n",
    "        MIN_COMMUNITY=NetworkParams.MIN_COMMUNITY.value,  # minimum community size (ignored)\n",
    "        PROB=NetworkParams.PROB.value,  # degree sequence correlation,\n",
    "        ROOT=\"../../\"):\n",
    "    G = nx.erdos_renyi_graph(N, KAVG/N)\n",
    "    H = nx.erdos_renyi_graph(N, KAVG/N)\n",
    "    duplex = {1: G, 2: H}\n",
    "    duplex = duplex_network(duplex, 1, 2, verbose=True)\n",
    "\n",
    "    return duplex\n",
    "\n",
    "def get_remnants(theta, G, H):\n",
    "    remnant_G, remnant_H, test_edges, train_edges = partial_information(G, H, theta)\n",
    "\n",
    "    return remnant_G, remnant_H, test_edges, train_edges\n",
    "\n",
    "def prepare_system(theta):\n",
    "    G, H = get_network()\n",
    "    remnants_data = get_remnants(theta, G, H)\n",
    "\n",
    "    return remnants_data"
   ]
  },
  {
   "cell_type": "code",
   "execution_count": 39,
   "metadata": {},
   "outputs": [],
   "source": [
    "\"\"\"Features\n",
    "\"\"\"\n",
    "# --- Degrees ---\n",
    "def get_degree_features(remnants_data):\n",
    "    G, H, E_test, E_train = remnants_data\n",
    "    G, H = G.remnant, H.remnant\n",
    "\n",
    "    src_G, tgt_G = get_degrees(G, E_train)\n",
    "    src_H, tgt_H = get_degrees(H, E_train)\n",
    "    degree_products_G_train = src_G * tgt_G\n",
    "    degree_products_H_train = src_H * tgt_H\n",
    "\n",
    "    feature_degrees_train = as_configuration(degree_products_G_train, degree_products_H_train)\n",
    "\n",
    "    src_G, tgt_G = get_degrees(G, E_test)\n",
    "    src_H, tgt_H = get_degrees(H, E_test)\n",
    "    degree_products_G_test = src_G * tgt_G\n",
    "    degree_products_H_test = src_H * tgt_H\n",
    "\n",
    "    feature_degrees_test = as_configuration(degree_products_G_test, degree_products_H_test)\n",
    "\n",
    "    return feature_degrees_train, feature_degrees_test\n",
    "\n",
    "# --- Embedding ---\n",
    "def get_distance_features(\n",
    "        remnants_data,\n",
    "        per_component=False):\n",
    "    g, h, E_test, E_train = remnants_data\n",
    "    g, h = g.remnant, h.remnant\n",
    "\n",
    "    # Cast as NetworkBase class object for hypercomparison\n",
    "    G_ = networks.NetworkBase()\n",
    "    H_ = networks.NetworkBase()\n",
    "    G_.G = g\n",
    "    H_.G = h\n",
    "    G_.convert_to_undirected()\n",
    "    H_.convert_to_undirected()\n",
    "\n",
    "    embeddings_G = Isomap(dimension=128).train(G_)\n",
    "    embeddings_H = Isomap(dimension=128).train(H_)\n",
    "\n",
    "    distances_G_train = get_distances(embeddings_G, E_train)\n",
    "    distances_H_train = get_distances(embeddings_H, E_train)\n",
    "    distances_G_test = get_distances(embeddings_G, E_test)\n",
    "    distances_H_test = get_distances(embeddings_H, E_test)\n",
    "\n",
    "    feature_distances_train = as_configuration(distances_G_train, distances_H_train)\n",
    "    feature_distances_test = as_configuration(distances_G_test, distances_H_test)\n",
    "\n",
    "    return feature_distances_train, feature_distances_test\n",
    "\n",
    "def get_distance_features_N2V(\n",
    "        remnants_data,\n",
    "        per_component=False):\n",
    "    G, H, E_test, E_train = remnants_data\n",
    "    G, H = G.remnant, H.remnant\n",
    "\n",
    "    embeddings_G = N2V(G, {\"quiet\": True}, dict())\n",
    "    embeddings_H = N2V(H, {\"quiet\": True}, dict())\n",
    "    # embeddings_G.normalize(get_components(G))\n",
    "    # embeddings_G.normalize(get_components(H))\n",
    "    embeddings_G = embeddings_G.vectors\n",
    "    embeddings_H = embeddings_H.vectors\n",
    "    vectors = (embeddings_G, embeddings_H)\n",
    "\n",
    "    distances_G_train = get_distances(embeddings_G, E_train)\n",
    "    distances_H_train = get_distances(embeddings_H, E_train)\n",
    "    distances_G_test = get_distances(embeddings_G, E_test)\n",
    "    distances_H_test = get_distances(embeddings_H, E_test)\n",
    "    distances = (distances_G_train, distances_H_train, distances_G_test, distances_H_test)\n",
    "\n",
    "    feature_distances_train = as_configuration(distances_G_train, distances_H_train)\n",
    "    feature_distances_test = as_configuration(distances_G_test, distances_H_test)\n",
    "\n",
    "    return feature_distances_train, feature_distances_test, distances, vectors\n",
    "\n",
    "def get_features(remnants_data):\n",
    "    feature_degrees_train, feature_degrees_test = get_degree_features(remnants_data)\n",
    "    feature_distances_train, feature_distances_test = get_distance_features(remnants_data)\n",
    "\n",
    "    X_train = format_feature_matrix((feature_degrees_train, feature_distances_train))\n",
    "    X_test = format_feature_matrix((feature_degrees_test, feature_distances_test))\n",
    "\n",
    "    Y_train = get_labels(remnants_data[-1])\n",
    "    Y_test = get_labels(remnants_data[-2])\n",
    "\n",
    "    return (X_train, Y_train), (X_test, Y_test)\n",
    "\n",
    "def get_features_debug(remnants_data):\n",
    "    # feature_degrees_train, feature_degrees_test = get_degree_features(remnants_data)\n",
    "    feature_distances_train, feature_distances_test, distances, vectors = get_distance_features_N2V(remnants_data)\n",
    "\n",
    "    # ! >>> DEBUG >>>\n",
    "    # X_train = format_feature_matrix((feature_degrees_train, feature_distances_train))\n",
    "    # X_test = format_feature_matrix((feature_degrees_test, feature_distances_test))\n",
    "    # ! ---\n",
    "    X_train = np.array(feature_distances_train).reshape(-1,1)\n",
    "    X_test = np.array(feature_distances_test).reshape(-1,1)\n",
    "    # ! ---\n",
    "    # X_train = np.array(feature_degrees_train).reshape(-1,1)\n",
    "    # X_test = np.array(feature_degrees_test).reshape(-1,1)\n",
    "    # ! <<< DEBUG <<<\n",
    "\n",
    "    Y_train = get_labels(remnants_data[-1])\n",
    "    Y_test = get_labels(remnants_data[-2])\n",
    "\n",
    "    return (X_train, Y_train), (X_test, Y_test), distances, vectors"
   ]
  },
  {
   "cell_type": "code",
   "execution_count": 40,
   "metadata": {},
   "outputs": [],
   "source": [
    "\"\"\"Reconstruction as classification\n",
    "\"\"\"\n",
    "def train_model(X_train, Y_train):\n",
    "    model = LogReg(\"LogReg\", (\"degrees\", \"distances\"), dict(), X_train, Y_train, LOGREG)\n",
    "    return model\n",
    "\n",
    "def train_model_debug(X_train, Y_train):\n",
    "    # ! >>> DEBUG >>>\n",
    "    # model = LogReg(\"LogReg\", (\"degrees\", \"distances\"), dict(), X_train, Y_train, LOGREG)\n",
    "    # ! ---\n",
    "    model = LogReg(\"LogReg\", tuple([\"distances\"]), dict(), X_train, Y_train, LOGREG)\n",
    "    # ! <<< DEBUG <<<\n",
    "    return model\n",
    "\n",
    "def reconstruct(model, X_test, Y_test):\n",
    "    predicted_labels = model.get_reconstruction(X_test)\n",
    "    scored_labels = model.get_scores(X_test)\n",
    "    acc = performance(scored_labels, predicted_labels, Y_test, \"accuracy\")\n",
    "    auc = performance(scored_labels, predicted_labels, Y_test, \"AUC\")\n",
    "    pr = performance(scored_labels, predicted_labels, Y_test, \"PR\")\n",
    "\n",
    "    return (acc, auc, pr)\n",
    "\n",
    "def get_performances(X_train, Y_train, X_test, Y_test):\n",
    "    model = train_model(X_train, Y_train)\n",
    "    perfs = reconstruct(model, X_test, Y_test)\n",
    "\n",
    "    return perfs\n",
    "\n",
    "def get_performances_debug(X_train, Y_train, X_test, Y_test):\n",
    "    model = train_model_debug(X_train, Y_train)\n",
    "    perfs = reconstruct(model, X_test, Y_test)\n",
    "\n",
    "    return perfs, model\n"
   ]
  },
  {
   "attachments": {},
   "cell_type": "markdown",
   "metadata": {},
   "source": [
    "### Defining main"
   ]
  },
  {
   "cell_type": "code",
   "execution_count": 41,
   "metadata": {},
   "outputs": [],
   "source": [
    "def analysis(parameters):\n",
    "    # >>> Book-keeping >>>\n",
    "    # Unpack paramaters\n",
    "    ## Ensure safety with downstream unpacking\n",
    "    if \"network\" not in parameters:\n",
    "        parameters.update({\"network\": {}})\n",
    "\n",
    "    # Initialize output structs\n",
    "    records = []\n",
    "\n",
    "    # Initialize topology used across thetas\n",
    "    G, H = get_network(**parameters[\"network\"])\n",
    "    # <<< Book-keeping <<<\n",
    "\n",
    "    # >>> Sweep >>>\n",
    "    for theta in tqdm(ExperimentParams.THETAS.value, desc=\"Preliminary Isomap Reconstruction\"):\n",
    "        # Observe remnant at given theta\n",
    "        remnants_data = get_remnants(theta, G, H)\n",
    "\n",
    "        # Get features\n",
    "        features_train, features_test = get_features(remnants_data)\n",
    "        X_train, Y_train = features_train\n",
    "        X_test, Y_test = features_test\n",
    "\n",
    "        # Reconstruct mulitplex\n",
    "        acc, auc, pr = get_performances(X_train, Y_train, X_test, Y_test)\n",
    "\n",
    "        records.append({\n",
    "            \"theta\": theta,\n",
    "            \"acc\": acc,\n",
    "            \"auc\": auc,\n",
    "            \"pr\": pr\n",
    "        })\n",
    "    # <<< Sweep <<<\n",
    "\n",
    "    df = pd.DataFrame.from_records(records)\n",
    "    return df\n",
    "\n",
    "def analysis_debug(parameters):\n",
    "    # >>> Book-keeping >>>\n",
    "    # Unpack paramaters\n",
    "    ## Ensure safety with downstream unpacking\n",
    "    if \"network\" not in parameters:\n",
    "        parameters.update({\"network\": {}})\n",
    "\n",
    "    # Initialize output structs\n",
    "    records = []\n",
    "\n",
    "    # Initialize topology used across thetas\n",
    "    # ! >>>\n",
    "    # G, H = get_network_debug(**parameters[\"network\"])\n",
    "    # ! ---\n",
    "    G, H = get_network(**parameters[\"network\"])\n",
    "    # ! <<<\n",
    "    # <<< Book-keeping <<<\n",
    "\n",
    "    # >>> Sweep >>>\n",
    "    models = []\n",
    "    distances = []\n",
    "    vectors = []\n",
    "    for theta in tqdm(ExperimentParams.THETAS.value, desc=\"DEBUG Preliminary Isomap Reconstruction\"):\n",
    "        # Observe remnant at given theta\n",
    "        remnants_data = get_remnants(theta, G, H)\n",
    "\n",
    "        # Get features\n",
    "        features_train, features_test, distance, vector = get_features_debug(remnants_data)\n",
    "        X_train, Y_train = features_train\n",
    "        X_test, Y_test = features_test\n",
    "\n",
    "        # Reconstruct mulitplex\n",
    "        (acc, auc, pr), model = get_performances_debug(X_train, Y_train, X_test, Y_test)\n",
    "\n",
    "        records.append({\n",
    "            \"theta\": theta,\n",
    "            \"acc\": acc,\n",
    "            \"auc\": auc,\n",
    "            \"pr\": pr\n",
    "        })\n",
    "        models.append(model)\n",
    "        distances.append(distance)\n",
    "        vectors.append(vector)\n",
    "    # <<< Sweep <<<\n",
    "\n",
    "    df = pd.DataFrame.from_records(records)\n",
    "    return df, models, distances, vectors"
   ]
  },
  {
   "attachments": {},
   "cell_type": "markdown",
   "metadata": {},
   "source": [
    "## Calculations"
   ]
  },
  {
   "attachments": {},
   "cell_type": "markdown",
   "metadata": {},
   "source": [
    "### Final setup"
   ]
  },
  {
   "attachments": {},
   "cell_type": "markdown",
   "metadata": {},
   "source": [
    "### Running main experiment"
   ]
  },
  {
   "cell_type": "code",
   "execution_count": 42,
   "metadata": {},
   "outputs": [
    {
     "name": "stdout",
     "output_type": "stream",
     "text": [
      "Number of common edges removed: 17\n",
      "Number of inactive nodes removed from layer 1: 0\n",
      "Number of inactive nodes removed from layer 2: 1\n",
      "Size of active node set union from layers 1 and 2: 1999\n"
     ]
    },
    {
     "name": "stderr",
     "output_type": "stream",
     "text": [
      "Preliminary Isomap Reconstruction: 100%|██████████| 11/11 [12:42<00:00, 69.31s/it]\n"
     ]
    }
   ],
   "source": [
    "# df, models, distances, vectors = analysis_debug(dict())\n",
    "df = analysis(dict())"
   ]
  },
  {
   "cell_type": "code",
   "execution_count": 43,
   "metadata": {},
   "outputs": [],
   "source": [
    "# df.to_csv(\"dataframe_prelim-isomap.csv\", index=False)"
   ]
  },
  {
   "attachments": {},
   "cell_type": "markdown",
   "metadata": {},
   "source": [
    "# Analysis"
   ]
  },
  {
   "attachments": {},
   "cell_type": "markdown",
   "metadata": {},
   "source": [
    "## Preprocessing"
   ]
  },
  {
   "cell_type": "code",
   "execution_count": 44,
   "metadata": {},
   "outputs": [],
   "source": [
    "# df = pd.read_csv(\"dataframe_prelim-isomap.csv\")\n",
    "# df.head()"
   ]
  },
  {
   "cell_type": "code",
   "execution_count": 45,
   "metadata": {},
   "outputs": [
    {
     "data": {
      "text/html": [
       "<div>\n",
       "<style scoped>\n",
       "    .dataframe tbody tr th:only-of-type {\n",
       "        vertical-align: middle;\n",
       "    }\n",
       "\n",
       "    .dataframe tbody tr th {\n",
       "        vertical-align: top;\n",
       "    }\n",
       "\n",
       "    .dataframe thead th {\n",
       "        text-align: right;\n",
       "    }\n",
       "</style>\n",
       "<table border=\"1\" class=\"dataframe\">\n",
       "  <thead>\n",
       "    <tr style=\"text-align: right;\">\n",
       "      <th></th>\n",
       "      <th>theta</th>\n",
       "      <th>performance</th>\n",
       "      <th>value</th>\n",
       "    </tr>\n",
       "  </thead>\n",
       "  <tbody>\n",
       "    <tr>\n",
       "      <th>0</th>\n",
       "      <td>0.05</td>\n",
       "      <td>acc</td>\n",
       "      <td>0.608964</td>\n",
       "    </tr>\n",
       "    <tr>\n",
       "      <th>1</th>\n",
       "      <td>0.14</td>\n",
       "      <td>acc</td>\n",
       "      <td>0.634195</td>\n",
       "    </tr>\n",
       "    <tr>\n",
       "      <th>2</th>\n",
       "      <td>0.23</td>\n",
       "      <td>acc</td>\n",
       "      <td>0.689392</td>\n",
       "    </tr>\n",
       "    <tr>\n",
       "      <th>3</th>\n",
       "      <td>0.32</td>\n",
       "      <td>acc</td>\n",
       "      <td>0.732695</td>\n",
       "    </tr>\n",
       "    <tr>\n",
       "      <th>4</th>\n",
       "      <td>0.41</td>\n",
       "      <td>acc</td>\n",
       "      <td>0.768284</td>\n",
       "    </tr>\n",
       "  </tbody>\n",
       "</table>\n",
       "</div>"
      ],
      "text/plain": [
       "   theta performance     value\n",
       "0   0.05         acc  0.608964\n",
       "1   0.14         acc  0.634195\n",
       "2   0.23         acc  0.689392\n",
       "3   0.32         acc  0.732695\n",
       "4   0.41         acc  0.768284"
      ]
     },
     "execution_count": 45,
     "metadata": {},
     "output_type": "execute_result"
    }
   ],
   "source": [
    "df = df.melt(id_vars=[\"theta\"], value_vars=[\"acc\", \"auc\", \"pr\"], var_name=\"performance\")\n",
    "df.head()"
   ]
  },
  {
   "attachments": {},
   "cell_type": "markdown",
   "metadata": {},
   "source": [
    "## Visualizations"
   ]
  },
  {
   "cell_type": "code",
   "execution_count": 46,
   "metadata": {},
   "outputs": [
    {
     "data": {
      "text/plain": [
       "<Figure size 800x600 with 0 Axes>"
      ]
     },
     "metadata": {},
     "output_type": "display_data"
    },
    {
     "data": {
      "image/png": "[encoded data removed]",
      "text/plain": [
       "<Figure size 600.236x500 with 1 Axes>"
      ]
     },
     "metadata": {},
     "output_type": "display_data"
    }
   ],
   "source": [
    "# Instantiate figure, subset relevant data\n",
    "fig = plt.figure()\n",
    "\n",
    "# Plotting data\n",
    "sns.relplot(\n",
    "    data=df, kind=\"line\",\n",
    "    x=\"theta\", y=\"value\",\n",
    "    hue=\"performance\",\n",
    "    marker=\"o\"\n",
    ")\n",
    "\n",
    "# Axes configuration\n",
    "plt.xlabel(\"$\\\\theta$\")\n",
    "plt.ylabel(\"ROC-AUC\")\n",
    "\n",
    "\n",
    "# Figure-level attributes\n",
    "plt.title(\"Reconstructing LFRs with Isomap\")\n",
    "\n",
    "# Save plot\n",
    "plt.tight_layout()\n",
    "# plt.savefig(f\"{FP_FIGS}/line_auroc-pfi_prelim-isomap.png\")"
   ]
  }
 ],
 "metadata": {
  "kernelspec": {
   "display_name": "EmbeddedNaive",
   "language": "python",
   "name": "python3"
  },
  "language_info": {
   "codemirror_mode": {
    "name": "ipython",
    "version": 3
   },
   "file_extension": ".py",
   "mimetype": "text/x-python",
   "name": "python",
   "nbconvert_exporter": "python",
   "pygments_lexer": "ipython3",
   "version": "3.10.9"
  }
 },
 "nbformat": 4,
 "nbformat_minor": 4
}
