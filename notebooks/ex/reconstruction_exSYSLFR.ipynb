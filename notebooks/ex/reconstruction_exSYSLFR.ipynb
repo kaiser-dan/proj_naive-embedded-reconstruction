{
 "cells": [
  {
   "cell_type": "code",
   "execution_count": null,
   "metadata": {},
   "outputs": [],
   "source": [
    "# --- Standard library ---\n",
    "import os\n",
    "import sys\n",
    "\n",
    "# --- Network science ---\n",
    "import networkx as nx\n",
    "\n",
    "# --- Scientific computing ---\n",
    "import numpy as np\n",
    "\n",
    "# --- Data handling and visualization ---\n",
    "import pandas as pd\n",
    "\n",
    "import matplotlib as mpl\n",
    "import matplotlib.pyplot as plt\n",
    "from matplotlib.ticker import AutoMinorLocator\n",
    "%matplotlib inline\n",
    "\n",
    "import seaborn as sns\n",
    "\n",
    "# --- Miscelleaneous ---\n",
    "from tqdm.auto import tqdm\n",
    "\n",
    "# --- Project source code ---\n",
    "## PATH adjustments\n",
    "FP_ROOT = os.path.join(\"..\", \"..\", \"\")\n",
    "FP_SRC = os.path.join(FP_ROOT, \"src\", \"\")\n",
    "sys.path.append(FP_ROOT)\n",
    "sys.path.append(FP_SRC)\n",
    "\n",
    "## Data\n",
    "from src.data import caches\n",
    "\n",
    "## Classifiers\n",
    "from src.classifiers.features import *  # degree feature calculations, label wrapper\n",
    "from src.classifiers.logreg import *  # wrappers for scikit-learn logistic regression model functions"
   ]
  },
  {
   "cell_type": "code",
   "execution_count": null,
   "metadata": {},
   "outputs": [],
   "source": [
    "\"\"\"\n",
    "1. Load data\n",
    "2. Form feature matrix\n",
    "3. Train classifier\n",
    "4. Test classifier\n",
    "5. Save performance data to disk\n",
    "\"\"\""
   ]
  },
  {
   "cell_type": "code",
   "execution_count": null,
   "metadata": {},
   "outputs": [],
   "source": [
    "# Load data\n",
    "with open(f\"../../data/input/SYSLFR/caches/{FILEHANDLE}\", 'rb') as _fh:\n",
    "    cache = pickle.load(_fh)"
   ]
  },
  {
   "cell_type": "code",
   "execution_count": null,
   "metadata": {},
   "outputs": [],
   "source": [
    "# Form feature matrix\n",
    "# AGH many careful pre-processing steps. Check unpushed code at home.\n",
    "# Get training and test edges\n",
    "# TODO\n",
    "training_edges = {}\n",
    "test_edges = {}\n",
    "\n",
    "# Get degree feature\n",
    "# TODO\n",
    "src_G, tgt_G = get_degrees(rem_G, training_edges)\n",
    "src_H, tgt_H = get_degrees(rem_H, training_edges)\n",
    "deg_prod_G_train = src_G * tgt_G\n",
    "deg_prod_H_train = src_H * tgt_H\n",
    "feature_degs_train = as_configuration(deg_prod_G_train, deg_prod_H_train)\n",
    "\n",
    "src_G, tgt_G = get_degrees(rem_G, test_edges)\n",
    "src_H, tgt_H = get_degrees(rem_H, test_edges)\n",
    "deg_prod_G_test = src_G * tgt_G\n",
    "deg_prod_H_test = src_H * tgt_H\n",
    "feature_degs_test = as_configuration(deg_prod_G_test, deg_prod_H_test)\n",
    "\n",
    "# Get distances feature\n",
    "# TODO\n",
    "dists_G_train = get_distances(emb_G, training_edges)\n",
    "dists_H_train = get_distances(emb_H, training_edges)\n",
    "dists_G_test = get_distances(emb_G, test_edges)\n",
    "dists_H_test = get_distances(emb_H, test_edges)\n",
    "feature_dists_train = as_configuration(dists_G_train, dists_H_train)\n",
    "feature_dists_test = as_configuration(dists_G_test, dists_H_test)\n",
    "\n",
    "\n",
    "# Form feature matrix\n",
    "X_train = format_feature_matrix((feature_degs_train, feature_dists_train))\n",
    "X_test = format_feature_matrix((feature_degs_test, feature_dists_test))\n",
    "\n",
    "# Get labels\n",
    "Y_train = get_labels(training_edges)\n",
    "Y_test = get_labels(test_edges)"
   ]
  },
  {
   "cell_type": "code",
   "execution_count": null,
   "metadata": {},
   "outputs": [],
   "source": [
    "# Train classifier\n",
    "logreg_params = {\n",
    "    \"fit_intercept\": True,  # include intercept accounting for class imbalance\n",
    "    \"solver\": \"newton-cholesky\",  # uses Cholesky-decomposition to approximate Hessian for Newton-esque method\n",
    "    \"penalty\": None  # do not include coefficient regularization\n",
    "}\n",
    "model = LogReg(\"LogReg\", (\"deg\", \"emb\"), dict(), X_train, Y_train, logreg_params)"
   ]
  },
  {
   "cell_type": "code",
   "execution_count": null,
   "metadata": {},
   "outputs": [],
   "source": [
    "# Test classifier\n",
    "scored_labels = model.get_scores(X_test)\n",
    "predicted_labels = model.get_reconstruction(X_test)\n",
    "true_labels = Y_true\n",
    "accuracy = performance(scored_labels, predicted_labels, true_labels, \"accuracy\")\n",
    "auroc = performance(scored_labels, predicted_labels, true_labels, \"auroc\")\n",
    "pr = performance(scored_labels, predicted_labels, true_labels, \"pr\")"
   ]
  }
 ],
 "metadata": {
  "language_info": {
   "name": "python"
  },
  "orig_nbformat": 4
 },
 "nbformat": 4,
 "nbformat_minor": 2
}
