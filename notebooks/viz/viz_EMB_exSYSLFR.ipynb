{
 "cells": [
  {
   "cell_type": "code",
   "execution_count": 1,
   "metadata": {},
   "outputs": [],
   "source": [
    "# --- Standard library ---\n",
    "import os\n",
    "import sys\n",
    "\n",
    "# --- Scientific computing ---\n",
    "import numpy as np\n",
    "\n",
    "# --- Data handling and visualization ---\n",
    "import pandas as pd  # dataframes\n",
    "\n",
    "import matplotlib as mpl  # fine-tuned figure config\n",
    "import matplotlib.pyplot as plt  # figures\n",
    "%matplotlib inline\n",
    "\n",
    "import seaborn as sns  # better figures"
   ]
  },
  {
   "cell_type": "code",
   "execution_count": null,
   "metadata": {},
   "outputs": [],
   "source": [
    "# * Plotting parameters\n",
    "custom_plot_settings = {\n",
    "    # Figure config\n",
    "    \"figure.figsize\": (8,6),\n",
    "    \"figure.frameon\": True,\n",
    "    \"figure.autolayout\": True,\n",
    "    \"axes.titlesize\": 16,\n",
    "    # Axes config\n",
    "    \"xtick.minor.size\": 2,\n",
    "    # Save-to-disk config\n",
    "    \"savefig.facecolor\": \"white\",\n",
    "    \"savefig.transparent\": False\n",
    "}\n",
    "mpl.rcParams.update(custom_plot_settings)"
   ]
  },
  {
   "cell_type": "code",
   "execution_count": null,
   "metadata": {},
   "outputs": [],
   "source": []
  }
 ],
 "metadata": {
  "kernelspec": {
   "display_name": "EmbeddedNaive",
   "language": "python",
   "name": "python3"
  },
  "language_info": {
   "codemirror_mode": {
    "name": "ipython",
    "version": 3
   },
   "file_extension": ".py",
   "mimetype": "text/x-python",
   "name": "python",
   "nbconvert_exporter": "python",
   "pygments_lexer": "ipython3",
   "version": "3.10.9"
  },
  "orig_nbformat": 4
 },
 "nbformat": 4,
 "nbformat_minor": 2
}
