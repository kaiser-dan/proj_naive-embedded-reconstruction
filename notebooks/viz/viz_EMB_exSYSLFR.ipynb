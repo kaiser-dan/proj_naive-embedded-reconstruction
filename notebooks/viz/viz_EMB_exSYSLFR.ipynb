{
 "cells": [
  {
   "cell_type": "markdown",
   "metadata": {},
   "source": [
    "# Setup"
   ]
  },
  {
   "cell_type": "code",
   "execution_count": 1,
   "metadata": {},
   "outputs": [],
   "source": [
    "import pickle\n",
    "import pandas as pd\n",
    "\n",
    "import seaborn as sns\n",
    "import matplotlib as mpl\n",
    "import matplotlib.pyplot as plt\n",
    "%matplotlib inline\n"
   ]
  },
  {
   "cell_type": "code",
   "execution_count": 2,
   "metadata": {},
   "outputs": [],
   "source": [
    "# * Plotting parameters\n",
    "custom_plot_settings = {\n",
    "    # Figure config\n",
    "    \"figure.figsize\": (8,6),\n",
    "    \"figure.frameon\": True,\n",
    "    \"figure.autolayout\": True,\n",
    "    \"axes.titlesize\": 16,\n",
    "    # Axes config\n",
    "    \"xtick.minor.size\": 2,\n",
    "    # Save-to-disk config\n",
    "    \"savefig.facecolor\": \"white\",\n",
    "    \"savefig.transparent\": False\n",
    "}\n",
    "mpl.rcParams.update(custom_plot_settings)\n",
    "\n",
    "# * Plotting aliases\n",
    "colors_ = [\"black\", \"red\", \"blue\", \"green\"]\n",
    "markers_ = [\"o\", \"s\", \"+\", \"^\"]\n",
    "viridis_ = mpl.colormaps['viridis']"
   ]
  },
  {
   "cell_type": "markdown",
   "metadata": {},
   "source": [
    "# Pre-processing"
   ]
  },
  {
   "cell_type": "code",
   "execution_count": 3,
   "metadata": {},
   "outputs": [],
   "source": [
    "# Get prior manuscript results\n",
    "with open(\"../../data/input/figure2b_data.pk\", 'rb') as _fh:\n",
    "    f1d = pickle.load(_fh)[2.1]  # 2.1 gamma\n",
    "    n = len(f1d[0])\n",
    "\n",
    "df_f1d = pd.DataFrame.from_dict({\n",
    "    \"method\": [\"DC\"]*n,\n",
    "    \"mu\": [0.1]*n,\n",
    "    \"theta\": f1d[0],\n",
    "    \"accuracy\": f1d[1],\n",
    "    \"auroc\": f1d[2],\n",
    "    \"pr\": [None]*n\n",
    "})"
   ]
  },
  {
   "cell_type": "code",
   "execution_count": 4,
   "metadata": {},
   "outputs": [
    {
     "data": {
      "text/html": [
       "<div>\n",
       "<style scoped>\n",
       "    .dataframe tbody tr th:only-of-type {\n",
       "        vertical-align: middle;\n",
       "    }\n",
       "\n",
       "    .dataframe tbody tr th {\n",
       "        vertical-align: top;\n",
       "    }\n",
       "\n",
       "    .dataframe thead th {\n",
       "        text-align: right;\n",
       "    }\n",
       "</style>\n",
       "<table border=\"1\" class=\"dataframe\">\n",
       "  <thead>\n",
       "    <tr style=\"text-align: right;\">\n",
       "      <th></th>\n",
       "      <th>accuracy</th>\n",
       "      <th>auroc</th>\n",
       "      <th>pr</th>\n",
       "      <th>method</th>\n",
       "      <th>theta</th>\n",
       "      <th>mu</th>\n",
       "    </tr>\n",
       "  </thead>\n",
       "  <tbody>\n",
       "    <tr>\n",
       "      <th>0</th>\n",
       "      <td>0.876078</td>\n",
       "      <td>0.955119</td>\n",
       "      <td>0.957066</td>\n",
       "      <td>ISOMAP</td>\n",
       "      <td>0.60</td>\n",
       "      <td>0.1</td>\n",
       "    </tr>\n",
       "    <tr>\n",
       "      <th>1</th>\n",
       "      <td>0.882622</td>\n",
       "      <td>0.962058</td>\n",
       "      <td>0.962878</td>\n",
       "      <td>ISOMAP</td>\n",
       "      <td>0.75</td>\n",
       "      <td>0.1</td>\n",
       "    </tr>\n",
       "    <tr>\n",
       "      <th>2</th>\n",
       "      <td>0.811483</td>\n",
       "      <td>0.895997</td>\n",
       "      <td>0.896544</td>\n",
       "      <td>N2V</td>\n",
       "      <td>0.35</td>\n",
       "      <td>0.1</td>\n",
       "    </tr>\n",
       "    <tr>\n",
       "      <th>3</th>\n",
       "      <td>0.819700</td>\n",
       "      <td>0.902901</td>\n",
       "      <td>0.903441</td>\n",
       "      <td>N2V</td>\n",
       "      <td>0.40</td>\n",
       "      <td>0.1</td>\n",
       "    </tr>\n",
       "    <tr>\n",
       "      <th>4</th>\n",
       "      <td>0.909608</td>\n",
       "      <td>0.972039</td>\n",
       "      <td>0.973079</td>\n",
       "      <td>LE</td>\n",
       "      <td>0.65</td>\n",
       "      <td>0.1</td>\n",
       "    </tr>\n",
       "  </tbody>\n",
       "</table>\n",
       "</div>"
      ],
      "text/plain": [
       "   accuracy     auroc        pr  method  theta   mu\n",
       "0  0.876078  0.955119  0.957066  ISOMAP   0.60  0.1\n",
       "1  0.882622  0.962058  0.962878  ISOMAP   0.75  0.1\n",
       "2  0.811483  0.895997  0.896544     N2V   0.35  0.1\n",
       "3  0.819700  0.902901  0.903441     N2V   0.40  0.1\n",
       "4  0.909608  0.972039  0.973079      LE   0.65  0.1"
      ]
     },
     "execution_count": 4,
     "metadata": {},
     "output_type": "execute_result"
    }
   ],
   "source": [
    "df = pd.read_csv(\"../../data/output/dataframes/dataframe_EMB_exSYSLFR_normalized.csv\")\n",
    "THETAS = sorted(df[\"theta\"].unique())\n",
    "\n",
    "df = pd.concat([df, df_f1d])\n",
    "df.head()"
   ]
  },
  {
   "cell_type": "code",
   "execution_count": 5,
   "metadata": {},
   "outputs": [
    {
     "data": {
      "text/html": [
       "<div>\n",
       "<style scoped>\n",
       "    .dataframe tbody tr th:only-of-type {\n",
       "        vertical-align: middle;\n",
       "    }\n",
       "\n",
       "    .dataframe tbody tr th {\n",
       "        vertical-align: top;\n",
       "    }\n",
       "\n",
       "    .dataframe thead th {\n",
       "        text-align: right;\n",
       "    }\n",
       "</style>\n",
       "<table border=\"1\" class=\"dataframe\">\n",
       "  <thead>\n",
       "    <tr style=\"text-align: right;\">\n",
       "      <th></th>\n",
       "      <th>method</th>\n",
       "      <th>theta</th>\n",
       "      <th>performance_measurement</th>\n",
       "      <th>performance_value</th>\n",
       "    </tr>\n",
       "  </thead>\n",
       "  <tbody>\n",
       "    <tr>\n",
       "      <th>0</th>\n",
       "      <td>ISOMAP</td>\n",
       "      <td>0.60</td>\n",
       "      <td>accuracy</td>\n",
       "      <td>0.876078</td>\n",
       "    </tr>\n",
       "    <tr>\n",
       "      <th>1</th>\n",
       "      <td>ISOMAP</td>\n",
       "      <td>0.75</td>\n",
       "      <td>accuracy</td>\n",
       "      <td>0.882622</td>\n",
       "    </tr>\n",
       "    <tr>\n",
       "      <th>2</th>\n",
       "      <td>N2V</td>\n",
       "      <td>0.35</td>\n",
       "      <td>accuracy</td>\n",
       "      <td>0.811483</td>\n",
       "    </tr>\n",
       "    <tr>\n",
       "      <th>3</th>\n",
       "      <td>N2V</td>\n",
       "      <td>0.40</td>\n",
       "      <td>accuracy</td>\n",
       "      <td>0.8197</td>\n",
       "    </tr>\n",
       "    <tr>\n",
       "      <th>4</th>\n",
       "      <td>LE</td>\n",
       "      <td>0.65</td>\n",
       "      <td>accuracy</td>\n",
       "      <td>0.909608</td>\n",
       "    </tr>\n",
       "  </tbody>\n",
       "</table>\n",
       "</div>"
      ],
      "text/plain": [
       "   method  theta performance_measurement performance_value\n",
       "0  ISOMAP   0.60                accuracy          0.876078\n",
       "1  ISOMAP   0.75                accuracy          0.882622\n",
       "2     N2V   0.35                accuracy          0.811483\n",
       "3     N2V   0.40                accuracy            0.8197\n",
       "4      LE   0.65                accuracy          0.909608"
      ]
     },
     "execution_count": 5,
     "metadata": {},
     "output_type": "execute_result"
    }
   ],
   "source": [
    "df = df.melt(\n",
    "    id_vars=[\"method\", \"theta\"],\n",
    "    value_vars=[\"accuracy\", \"auroc\", \"pr\"],\n",
    "    var_name=\"performance_measurement\",\n",
    "    value_name=\"performance_value\"\n",
    ")\n",
    "df.head()"
   ]
  },
  {
   "cell_type": "markdown",
   "metadata": {},
   "source": [
    "# Visualizations"
   ]
  },
  {
   "cell_type": "code",
   "execution_count": 6,
   "metadata": {},
   "outputs": [
    {
     "data": {
      "text/plain": [
       "<Figure size 576x432 with 0 Axes>"
      ]
     },
     "metadata": {},
     "output_type": "display_data"
    },
    {
     "data": {
      "image/png": "[encoded data removed]",
      "text/plain": [
       "<Figure size 592.775x432 with 1 Axes>"
      ]
     },
     "metadata": {
      "needs_background": "light"
     },
     "output_type": "display_data"
    }
   ],
   "source": [
    "# Instantiate figure, subset relevant data\n",
    "plt.figure()\n",
    "df_ = df.query(\"performance_measurement == 'auroc'\")\n",
    "\n",
    "# Plotting data\n",
    "sns.relplot(\n",
    "    data=df_, kind=\"line\",\n",
    "    x=\"theta\", y=\"performance_value\",\n",
    "    hue=\"method\",\n",
    "    style=\"method\", markers=[\"s\", \"o\", \"^\", \"d\"],\n",
    "    height=6, aspect=1.2\n",
    ")\n",
    "\n",
    "# Axes configuration\n",
    "plt.xlabel(r\"$\\theta$\")\n",
    "plt.ylabel(\"AUROC\")\n",
    "plt.xticks(THETAS[::2])\n",
    "\n",
    "# Figure-level attributes\n",
    "plt.title(r\"Reconstruction of $\\mu=0.1$ LFRs\")\n",
    "\n",
    "\n",
    "# Save plot\n",
    "plt.tight_layout()\n",
    "plt.savefig(\n",
    "    \"figure_EMB_exSYSLFR_kind-scatter_data-auroc-theta_by-method-normalized_input-LFR-manuscript.png\",\n",
    "    facecolor=\"white\",\n",
    "    transparent=False\n",
    ")"
   ]
  },
  {
   "cell_type": "code",
   "execution_count": null,
   "metadata": {},
   "outputs": [],
   "source": []
  },
  {
   "cell_type": "code",
   "execution_count": null,
   "metadata": {},
   "outputs": [],
   "source": []
  },
  {
   "cell_type": "code",
   "execution_count": null,
   "metadata": {},
   "outputs": [],
   "source": []
  }
 ],
 "metadata": {
  "kernelspec": {
   "display_name": "EmbeddedNaive",
   "language": "python",
   "name": "python3"
  },
  "language_info": {
   "codemirror_mode": {
    "name": "ipython",
    "version": 3
   },
   "file_extension": ".py",
   "mimetype": "text/x-python",
   "name": "python",
   "nbconvert_exporter": "python",
   "pygments_lexer": "ipython3",
   "version": "3.10.10"
  },
  "orig_nbformat": 4
 },
 "nbformat": 4,
 "nbformat_minor": 2
}
