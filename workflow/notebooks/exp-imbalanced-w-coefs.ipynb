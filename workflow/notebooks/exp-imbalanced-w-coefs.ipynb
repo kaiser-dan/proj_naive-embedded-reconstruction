{
 "cells": [
  {
   "cell_type": "code",
   "execution_count": 1,
   "metadata": {},
   "outputs": [],
   "source": [
    "import os\n",
    "import shelve\n",
    "\n",
    "import numpy as np\n",
    "import networkx as nx\n",
    "from tqdm.notebook import tqdm_notebook\n",
    "import matplotlib.pyplot as plt\n",
    "%matplotlib inline\n",
    "\n",
    "import EMB"
   ]
  },
  {
   "cell_type": "markdown",
   "metadata": {},
   "source": [
    "# Performance as function of $\\theta$"
   ]
  },
  {
   "cell_type": "code",
   "execution_count": null,
   "metadata": {},
   "outputs": [],
   "source": [
    "# 1 Generate duplex\n",
    "G = EMB.netsci.models.benchmarks.generate_network_LFR(\n",
    "        1000, 2.1, 1.0, 0.1, 6, 32, 1, os.path.join(\"..\", \"..\", \"\")\n",
    ")[0]\n",
    "H = EMB.netsci.models.benchmarks.generate_network_LFR(\n",
    "        1000, 2.1, 1.0, 0.1, 20, 32, 1, os.path.join(\"..\", \"..\", \"\")\n",
    ")[0]\n",
    "\n",
    "D = dict(enumerate(EMB.netsci.models.preprocessing.make_layers_disjoint(G, H)))\n",
    "print(G.number_of_edges() / H.number_of_edges())"
   ]
  },
  {
   "cell_type": "code",
   "execution_count": null,
   "metadata": {},
   "outputs": [],
   "source": [
    "# 1.5 Instantiate records\n",
    "records = {}"
   ]
  },
  {
   "cell_type": "code",
   "execution_count": null,
   "metadata": {},
   "outputs": [],
   "source": [
    "for theta in tqdm_notebook(np.linspace(0.05, 0.95, 19)):\n",
    "    # 2 Observe remnants\n",
    "    remnant_multiplex = EMB.remnants.observer.random_observations_multiplex(D, theta)\n",
    "    remnant_multiplex = EMB.remnants.observer.build_remnant_multiplex(D, remnant_multiplex)\n",
    "\n",
    "    # 3 Embed multiplex\n",
    "    vectors = EMB.embeddings.embed_multiplex_N2V(remnant_multiplex, dimensions=128)\n",
    "\n",
    "    # 4 Calculate features\n",
    "    testing_edges = remnant_multiplex[-1].edges()\n",
    "    training_edges = EMB.netsci.all_edges(*remnant_multiplex.values()) - set(testing_edges)\n",
    "    y_train = {edge: EMB.netsci.find_edge(edge, *D.values())[0] for edge in training_edges}\n",
    "    y_test = {edge: EMB.netsci.find_edge(edge, *D.values())[0] for edge in testing_edges}\n",
    "    remnant_multiplex = EMB.utils.cutkey(remnant_multiplex, -1)\n",
    "    components = {\n",
    "        label: sorted(nx.connected_components(graph))\n",
    "        for label, graph in remnant_multiplex.items()\n",
    "    }\n",
    "    vectors = EMB.utils.cutkey(vectors, -1)\n",
    "    for label, vectorset in vectors.items():\n",
    "        node2id = dict()\n",
    "        vectors[label] = EMB.embeddings.normalize_vectors(vectorset, components[label], node2id=node2id)\n",
    "    training_distances = EMB.classifiers.get_distances_feature(vectors.values(), training_edges, training=True)\n",
    "    testing_distances = EMB.classifiers.get_distances_feature(vectors.values(), testing_edges, training=False)\n",
    "    training_degrees = EMB.classifiers.get_degrees_feature(remnant_multiplex.values(), training_edges, training=True)\n",
    "    testing_degrees = EMB.classifiers.get_degrees_feature(remnant_multiplex.values(), testing_edges, training=False)\n",
    "    X_train = np.array([training_distances, training_degrees]).transpose()\n",
    "    X_test = np.array([testing_distances, testing_degrees]).transpose()\n",
    "\n",
    "    # 5 Train model\n",
    "    model = EMB.classifiers.train_model(X_train, list(y_train.values()))\n",
    "    intercept = model.intercept_[0]\n",
    "    coef_dists = model.coef_[0][0]\n",
    "    coef_degs = model.coef_[0][1]\n",
    "\n",
    "    # 6 Evaluate model\n",
    "    accuracy, auroc, pr = EMB.classifiers.evaluate_model(model, X_test, list(y_test.values()))\n",
    "\n",
    "    # 7 Add evaluation to records\n",
    "    records[theta] = (accuracy, auroc, pr, intercept, coef_dists, coef_degs)\n",
    "\n",
    "with shelve.open('records_imbalanced.shelf') as shelf:\n",
    "    shelf['N2V'] = records"
   ]
  },
  {
   "cell_type": "code",
   "execution_count": null,
   "metadata": {},
   "outputs": [],
   "source": [
    "with shelve.open('records_imbalanced.shelf') as shelf:\n",
    "    records = shelf['N2V']"
   ]
  },
  {
   "cell_type": "code",
   "execution_count": null,
   "metadata": {},
   "outputs": [],
   "source": [
    "plt.figure()\n",
    "\n",
    "x = sorted(records.keys())\n",
    "accuracy = [x[0] for x in records.values()]\n",
    "auroc = [x[1] for x in records.values()]\n",
    "pr = [x[2] for x in records.values()]\n",
    "\n",
    "plt.plot(\n",
    "    x, accuracy,\n",
    "    label=\"Accuracy\",\n",
    "    marker=\"o\")\n",
    "plt.plot(\n",
    "    x, auroc,\n",
    "    label=\"ROC-AUC\",\n",
    "    marker=\"x\")\n",
    "plt.plot(\n",
    "    x, pr,\n",
    "    label=\"PR-AUC\",\n",
    "    marker=\"s\")\n",
    "plt.legend(title=\"Performance measure\")\n",
    "\n",
    "plt.xticks(x, rotation=60)\n",
    "plt.xlabel(r\"$\\theta$\")\n",
    "plt.ylabel(\"Reconstruction performance\")\n",
    "\n",
    "plt.title(\"Imbalanced duplex reconstruction\")\n",
    "plt.tight_layout()\n",
    "plt.savefig(os.path.join(\"..\", \"..\", \"results\", \"figures\", \"figure_perf-auroc_hue-perftype_data-imbalanced-LFR.png\"), transparent=False, facecolor=\"white\")"
   ]
  },
  {
   "cell_type": "markdown",
   "metadata": {},
   "source": [
    "# Coefficients as imbalance varies"
   ]
  },
  {
   "cell_type": "code",
   "execution_count": 2,
   "metadata": {},
   "outputs": [
    {
     "name": "stdout",
     "output_type": "stream",
     "text": [
      "0.32674959265588366\n"
     ]
    }
   ],
   "source": [
    "# 1 Generate duplex\n",
    "G = EMB.netsci.models.benchmarks.generate_network_LFR(\n",
    "        10000, 2.1, 1.0, 0.1, 6, 32, 1, os.path.join(\"..\", \"..\", \"\")\n",
    ")[0]\n",
    "H = EMB.netsci.models.benchmarks.generate_network_LFR(\n",
    "        10000, 2.1, 1.0, 0.1, 20, 32, 1, os.path.join(\"..\", \"..\", \"\")\n",
    ")[0]\n",
    "\n",
    "D = dict(enumerate(EMB.netsci.models.preprocessing.make_layers_disjoint(G, H)))\n",
    "print(G.number_of_edges() / H.number_of_edges())"
   ]
  },
  {
   "cell_type": "code",
   "execution_count": 3,
   "metadata": {},
   "outputs": [],
   "source": [
    "# 1.5 Instantiate records\n",
    "records = {}"
   ]
  },
  {
   "cell_type": "code",
   "execution_count": 4,
   "metadata": {},
   "outputs": [],
   "source": [
    "for theta in [0.3]:\n",
    "    # 2 Observe remnants\n",
    "    remnant_multiplex = EMB.remnants.observer.random_observations_multiplex(D, theta)\n",
    "    remnant_multiplex = EMB.remnants.observer.build_remnant_multiplex(D, remnant_multiplex)\n",
    "\n",
    "    # 3 Embed multiplex\n",
    "    vectors = EMB.embeddings.embed_multiplex_N2V(remnant_multiplex, dimensions=128)\n",
    "\n",
    "    # 4 Calculate features\n",
    "    testing_edges = remnant_multiplex[-1].edges()\n",
    "    training_edges = EMB.netsci.all_edges(*remnant_multiplex.values()) - set(testing_edges)\n",
    "    y_train = {edge: EMB.netsci.find_edge(edge, *D.values())[0] for edge in training_edges}\n",
    "    y_test = {edge: EMB.netsci.find_edge(edge, *D.values())[0] for edge in testing_edges}\n",
    "    remnant_multiplex = EMB.utils.cutkey(remnant_multiplex, -1)\n",
    "    components = {\n",
    "        label: sorted(nx.connected_components(graph))\n",
    "        for label, graph in remnant_multiplex.items()\n",
    "    }\n",
    "    vectors = EMB.utils.cutkey(vectors, -1)\n",
    "    for label, vectorset in vectors.items():\n",
    "        node2id = dict()\n",
    "        vectors[label] = EMB.embeddings.normalize_vectors(vectorset, components[label], node2id=node2id)\n",
    "    training_distances = EMB.classifiers.get_distances_feature(vectors.values(), training_edges, training=True)\n",
    "    testing_distances = EMB.classifiers.get_distances_feature(vectors.values(), testing_edges, training=False)\n",
    "    training_degrees = EMB.classifiers.get_degrees_feature(remnant_multiplex.values(), training_edges, training=True)\n",
    "    testing_degrees = EMB.classifiers.get_degrees_feature(remnant_multiplex.values(), testing_edges, training=False)\n",
    "    X_train = np.array([training_distances, training_degrees]).transpose()\n",
    "    X_test = np.array([testing_distances, testing_degrees]).transpose()\n",
    "\n",
    "    # 5 Train model\n",
    "    model = EMB.classifiers.train_model(X_train, list(y_train.values()))\n",
    "    intercept = model.intercept_[0]\n",
    "    coef_dists = model.coef_[0][0]\n",
    "    coef_degs = model.coef_[0][1]\n",
    "\n",
    "    # 6 Evaluate model\n",
    "    accuracy, auroc, pr = EMB.classifiers.evaluate_model(model, X_test, list(y_test.values()))\n",
    "\n",
    "    # 7 Add evaluation to records\n",
    "    records[theta] = (accuracy, auroc, pr, intercept, coef_dists, coef_degs)\n",
    "\n",
    "with shelve.open('coefs_imbalanced.shelf') as shelf:\n",
    "    shelf['N2V'] = records"
   ]
  }
 ],
 "metadata": {
  "kernelspec": {
   "display_name": ".venv",
   "language": "python",
   "name": "python3"
  },
  "language_info": {
   "codemirror_mode": {
    "name": "ipython",
    "version": 3
   },
   "file_extension": ".py",
   "mimetype": "text/x-python",
   "name": "python",
   "nbconvert_exporter": "python",
   "pygments_lexer": "ipython3",
   "version": "3.10.13"
  },
  "orig_nbformat": 4
 },
 "nbformat": 4,
 "nbformat_minor": 2
}
