{
 "cells": [
  {
   "cell_type": "code",
   "execution_count": 1,
   "metadata": {},
   "outputs": [],
   "source": [
    "from os.path import join as jn\n",
    "import shelve\n",
    "\n",
    "import numpy as np\n",
    "import networkx as nx\n",
    "from tqdm.notebook import tqdm_notebook\n",
    "\n",
    "import seaborn as sns\n",
    "import matplotlib.pyplot as plt\n",
    "%matplotlib inline\n",
    "\n",
    "import EMB\n",
    "\n",
    "ROOT = jn(\"..\", \"..\", \"\")\n",
    "DATA = jn(ROOT, \"data\", \"\")\n",
    "FIGURES = jn(ROOT, \"results\", \"figures\", \"\")"
   ]
  },
  {
   "cell_type": "code",
   "execution_count": 2,
   "metadata": {},
   "outputs": [],
   "source": [
    "N = 1_000\n",
    "k = 128\n",
    "MUS = np.linspace(0.1, 0.5, num=20)\n",
    "GAMMAS = np.linspace(2.1, 3.9, num=20)"
   ]
  },
  {
   "cell_type": "code",
   "execution_count": 3,
   "metadata": {},
   "outputs": [
    {
     "data": {
      "application/vnd.jupyter.widget-view+json": {
       "model_id": "5da59a5ba717418a89bb07beb6812425",
       "version_major": 2,
       "version_minor": 0
      },
      "text/plain": [
       "mu:   0%|          | 0/20 [00:00<?, ?it/s]"
      ]
     },
     "metadata": {},
     "output_type": "display_data"
    },
    {
     "data": {
      "application/vnd.jupyter.widget-view+json": {
       "model_id": "fc60d8b45a034effb9bf0d619df62e6e",
       "version_major": 2,
       "version_minor": 0
      },
      "text/plain": [
       "gamma:   0%|          | 0/20 [00:00<?, ?it/s]"
      ]
     },
     "metadata": {},
     "output_type": "display_data"
    },
    {
     "data": {
      "application/vnd.jupyter.widget-view+json": {
       "model_id": "19f938a0fb4b4c1997cda1fee89852fe",
       "version_major": 2,
       "version_minor": 0
      },
      "text/plain": [
       "gamma:   0%|          | 0/20 [00:00<?, ?it/s]"
      ]
     },
     "metadata": {},
     "output_type": "display_data"
    },
    {
     "data": {
      "application/vnd.jupyter.widget-view+json": {
       "model_id": "4a44f1aafa6e4909b8e3b0ead0be8d04",
       "version_major": 2,
       "version_minor": 0
      },
      "text/plain": [
       "gamma:   0%|          | 0/20 [00:00<?, ?it/s]"
      ]
     },
     "metadata": {},
     "output_type": "display_data"
    },
    {
     "data": {
      "application/vnd.jupyter.widget-view+json": {
       "model_id": "1fa12c6cbceb45858b778f5363df4253",
       "version_major": 2,
       "version_minor": 0
      },
      "text/plain": [
       "gamma:   0%|          | 0/20 [00:00<?, ?it/s]"
      ]
     },
     "metadata": {},
     "output_type": "display_data"
    },
    {
     "data": {
      "application/vnd.jupyter.widget-view+json": {
       "model_id": "9a99998d7656450e827f6abafe6cac11",
       "version_major": 2,
       "version_minor": 0
      },
      "text/plain": [
       "gamma:   0%|          | 0/20 [00:00<?, ?it/s]"
      ]
     },
     "metadata": {},
     "output_type": "display_data"
    },
    {
     "data": {
      "application/vnd.jupyter.widget-view+json": {
       "model_id": "0577ed3e1d8946d2b1146e9c07e2e690",
       "version_major": 2,
       "version_minor": 0
      },
      "text/plain": [
       "gamma:   0%|          | 0/20 [00:00<?, ?it/s]"
      ]
     },
     "metadata": {},
     "output_type": "display_data"
    },
    {
     "data": {
      "application/vnd.jupyter.widget-view+json": {
       "model_id": "96184758f82e4239bbe74e4b5fae9708",
       "version_major": 2,
       "version_minor": 0
      },
      "text/plain": [
       "gamma:   0%|          | 0/20 [00:00<?, ?it/s]"
      ]
     },
     "metadata": {},
     "output_type": "display_data"
    },
    {
     "data": {
      "application/vnd.jupyter.widget-view+json": {
       "model_id": "10777ff7f2bd482b92e948c8197b3a9a",
       "version_major": 2,
       "version_minor": 0
      },
      "text/plain": [
       "gamma:   0%|          | 0/20 [00:00<?, ?it/s]"
      ]
     },
     "metadata": {},
     "output_type": "display_data"
    },
    {
     "data": {
      "application/vnd.jupyter.widget-view+json": {
       "model_id": "971e15292b8a48a39dca6be779989666",
       "version_major": 2,
       "version_minor": 0
      },
      "text/plain": [
       "gamma:   0%|          | 0/20 [00:00<?, ?it/s]"
      ]
     },
     "metadata": {},
     "output_type": "display_data"
    },
    {
     "data": {
      "application/vnd.jupyter.widget-view+json": {
       "model_id": "eaaf9a47e5ca4599a9db81f2c233701c",
       "version_major": 2,
       "version_minor": 0
      },
      "text/plain": [
       "gamma:   0%|          | 0/20 [00:00<?, ?it/s]"
      ]
     },
     "metadata": {},
     "output_type": "display_data"
    },
    {
     "data": {
      "application/vnd.jupyter.widget-view+json": {
       "model_id": "2e8f08978c714eea96ca7c50f5f7bc24",
       "version_major": 2,
       "version_minor": 0
      },
      "text/plain": [
       "gamma:   0%|          | 0/20 [00:00<?, ?it/s]"
      ]
     },
     "metadata": {},
     "output_type": "display_data"
    },
    {
     "data": {
      "application/vnd.jupyter.widget-view+json": {
       "model_id": "a1d5aadb09c442308ac230323198ff63",
       "version_major": 2,
       "version_minor": 0
      },
      "text/plain": [
       "gamma:   0%|          | 0/20 [00:00<?, ?it/s]"
      ]
     },
     "metadata": {},
     "output_type": "display_data"
    },
    {
     "data": {
      "application/vnd.jupyter.widget-view+json": {
       "model_id": "5a02a3d78c984f6085bf9c7991ca02a5",
       "version_major": 2,
       "version_minor": 0
      },
      "text/plain": [
       "gamma:   0%|          | 0/20 [00:00<?, ?it/s]"
      ]
     },
     "metadata": {},
     "output_type": "display_data"
    },
    {
     "data": {
      "application/vnd.jupyter.widget-view+json": {
       "model_id": "12b099604ce544f0b3b90aa75f5181c7",
       "version_major": 2,
       "version_minor": 0
      },
      "text/plain": [
       "gamma:   0%|          | 0/20 [00:00<?, ?it/s]"
      ]
     },
     "metadata": {},
     "output_type": "display_data"
    },
    {
     "data": {
      "application/vnd.jupyter.widget-view+json": {
       "model_id": "6427e06a8e3847f38dc9cca3b0a93dfe",
       "version_major": 2,
       "version_minor": 0
      },
      "text/plain": [
       "gamma:   0%|          | 0/20 [00:00<?, ?it/s]"
      ]
     },
     "metadata": {},
     "output_type": "display_data"
    },
    {
     "data": {
      "application/vnd.jupyter.widget-view+json": {
       "model_id": "7c3ee276e5b54e03a78e7eebf1a6cfb2",
       "version_major": 2,
       "version_minor": 0
      },
      "text/plain": [
       "gamma:   0%|          | 0/20 [00:00<?, ?it/s]"
      ]
     },
     "metadata": {},
     "output_type": "display_data"
    },
    {
     "data": {
      "application/vnd.jupyter.widget-view+json": {
       "model_id": "cea4b6ff97b543698bfd4196aeda0751",
       "version_major": 2,
       "version_minor": 0
      },
      "text/plain": [
       "gamma:   0%|          | 0/20 [00:00<?, ?it/s]"
      ]
     },
     "metadata": {},
     "output_type": "display_data"
    },
    {
     "data": {
      "application/vnd.jupyter.widget-view+json": {
       "model_id": "258414f03d064b3b93e17342c5bfeafa",
       "version_major": 2,
       "version_minor": 0
      },
      "text/plain": [
       "gamma:   0%|          | 0/20 [00:00<?, ?it/s]"
      ]
     },
     "metadata": {},
     "output_type": "display_data"
    },
    {
     "data": {
      "application/vnd.jupyter.widget-view+json": {
       "model_id": "f2c9f09a4bfb4dd5961c0253d27df434",
       "version_major": 2,
       "version_minor": 0
      },
      "text/plain": [
       "gamma:   0%|          | 0/20 [00:00<?, ?it/s]"
      ]
     },
     "metadata": {},
     "output_type": "display_data"
    },
    {
     "data": {
      "application/vnd.jupyter.widget-view+json": {
       "model_id": "06bd335ee2ad4e899ac533a774825bb5",
       "version_major": 2,
       "version_minor": 0
      },
      "text/plain": [
       "gamma:   0%|          | 0/20 [00:00<?, ?it/s]"
      ]
     },
     "metadata": {},
     "output_type": "display_data"
    }
   ],
   "source": [
    "shelf = shelve.open(jn(DATA, \"data_exp-mu-gamma-phasespace-LE.shelf\"))\n",
    "\n",
    "for mu in tqdm_notebook(MUS, colour=\"red\", desc=\"mu\", leave=True):\n",
    "    for gamma in tqdm_notebook(GAMMAS, colour=\"blue\", desc=\"gamma\", leave=False):\n",
    "        if shelf.get(f\"{mu}-{gamma}\", None) is not None:\n",
    "            # print(f\"Data exists in shelf, skipping this mu,gamma pair (mu-gamma={mu}-{gamma})!\")\n",
    "            continue\n",
    "\n",
    "        rel_dists_ = []\n",
    "        perfs_ = []\n",
    "        for _ in range(5):\n",
    "            # 1 Generate duplex\n",
    "            G = EMB.netsci.models.benchmarks.generate_network_LFR(\n",
    "                    N, gamma, 1.0, mu, 6, np.sqrt(N), 1, ROOT\n",
    "            )[0]\n",
    "            H = EMB.netsci.models.benchmarks.generate_network_LFR(\n",
    "                    N, gamma, 1.0, mu, 6, np.sqrt(N), 1, ROOT\n",
    "            )[0]\n",
    "\n",
    "            D = dict(enumerate(EMB.netsci.models.preprocessing.make_layers_disjoint(G, H)))\n",
    "\n",
    "            # 2 Observe remnants\n",
    "            remnant_multiplex = EMB.remnants.observer.random_observations_multiplex(D, 0.3)\n",
    "            remnant_multiplex = EMB.remnants.observer.build_remnant_multiplex(D, remnant_multiplex)\n",
    "\n",
    "            # 3 Embed multiplex\n",
    "            vectors = EMB.embeddings.embed_multiplex_LE(remnant_multiplex, k=k)\n",
    "\n",
    "            # 4 Calculate features\n",
    "            testing_edges = remnant_multiplex[-1].edges()\n",
    "            training_edges = EMB.netsci.all_edges(*remnant_multiplex.values()) - set(testing_edges)\n",
    "            y_train = {edge: EMB.netsci.find_edge(edge, *D.values())[0] for edge in training_edges}\n",
    "            y_test = {edge: EMB.netsci.find_edge(edge, *D.values())[0] for edge in testing_edges}\n",
    "            remnant_multiplex = EMB.utils.cutkey(remnant_multiplex, -1)\n",
    "            components = {\n",
    "                label: sorted(nx.connected_components(graph))\n",
    "                for label, graph in remnant_multiplex.items()\n",
    "            }\n",
    "            vectors = EMB.utils.cutkey(vectors, -1)\n",
    "            for label, vectorset in vectors.items():\n",
    "                node2id = dict()\n",
    "                vectors[label] = EMB.embeddings.normalize_vectors(vectorset, components[label], node2id=node2id)\n",
    "            training_distances = EMB.classifiers.get_distances_feature(vectors.values(), training_edges, training=True)\n",
    "            testing_distances = EMB.classifiers.get_distances_feature(vectors.values(), testing_edges, training=False)\n",
    "            training_degrees = EMB.classifiers.get_degrees_feature(remnant_multiplex.values(), training_edges, training=True)\n",
    "            testing_degrees = EMB.classifiers.get_degrees_feature(remnant_multiplex.values(), testing_edges, training=False)\n",
    "            X_train = np.array([training_distances, training_degrees]).transpose()\n",
    "            X_test = np.array([testing_distances, testing_degrees]).transpose()\n",
    "\n",
    "            # 5 Train model\n",
    "            model = EMB.classifiers.train_model(X_train, list(y_train.values()))\n",
    "\n",
    "            # 6 Retrieve coefficient relation\n",
    "            dists, degs = model.coef_[0]\n",
    "            rel_dists = abs(dists) / (abs(dists) + abs(degs))\n",
    "            _, auroc, _ = EMB.classifiers.evaluate_model(model, X_test, list(y_test.values()))\n",
    "            rel_dists_.append(rel_dists)\n",
    "            perfs_.append(auroc)\n",
    "\n",
    "        # 7 Add evaluation to records\n",
    "        shelf[f\"{mu}-{gamma}\"] = (np.mean(rel_dists_), np.mean(perfs_))\n",
    "\n",
    "shelf.close()"
   ]
  },
  {
   "cell_type": "code",
   "execution_count": 4,
   "metadata": {},
   "outputs": [],
   "source": [
    "with shelve.open(jn(DATA, \"data_exp-mu-gamma-phasespace-LE.shelf\")) as shelf:\n",
    "    records = {key: value for key, value in shelf.items()}"
   ]
  },
  {
   "cell_type": "code",
   "execution_count": 5,
   "metadata": {},
   "outputs": [],
   "source": [
    "rel_dists = []\n",
    "perfs = []\n",
    "for mu in MUS:\n",
    "    for gamma in GAMMAS:\n",
    "        rel_dists.append(records[f\"{mu}-{gamma}\"][0])\n",
    "        perfs.append(records[f\"{mu}-{gamma}\"][1])"
   ]
  },
  {
   "cell_type": "code",
   "execution_count": 6,
   "metadata": {},
   "outputs": [
    {
     "data": {
      "image/png": "[encoded data removed]",
      "text/plain": [
       "<Figure size 640x480 with 2 Axes>"
      ]
     },
     "metadata": {},
     "output_type": "display_data"
    }
   ],
   "source": [
    "plt.figure()\n",
    "\n",
    "sns.heatmap(np.array(perfs).reshape((len(MUS),len(GAMMAS))))\n",
    "\n",
    "plt.xticks(range(len(GAMMAS)), labels=[f\"{x:.2f}\" for x in GAMMAS], rotation=45)\n",
    "plt.yticks(range(len(MUS)), labels=[f\"{x:.2f}\" for x in MUS], rotation=45)\n",
    "plt.xlabel(r\"$\\gamma$\")\n",
    "plt.ylabel(r\"$\\mu$\")\n",
    "\n",
    "plt.title(r\"$\\theta=0.3$\")\n",
    "plt.tight_layout()\n",
    "plt.savefig(jn(FIGURES, \"figure_heatmap-perf-mu-gamma_data-LFR-theta-0.3_LE.png\"), transparent=False, facecolor=\"white\")"
   ]
  },
  {
   "cell_type": "code",
   "execution_count": null,
   "metadata": {},
   "outputs": [],
   "source": []
  }
 ],
 "metadata": {
  "kernelspec": {
   "display_name": ".venv",
   "language": "python",
   "name": "python3"
  },
  "language_info": {
   "codemirror_mode": {
    "name": "ipython",
    "version": 3
   },
   "file_extension": ".py",
   "mimetype": "text/x-python",
   "name": "python",
   "nbconvert_exporter": "python",
   "pygments_lexer": "ipython3",
   "version": "3.10.13"
  },
  "orig_nbformat": 4
 },
 "nbformat": 4,
 "nbformat_minor": 2
}
