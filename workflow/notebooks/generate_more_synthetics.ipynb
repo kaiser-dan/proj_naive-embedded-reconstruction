{
 "cells": [
  {
   "cell_type": "code",
   "execution_count": 1,
   "metadata": {},
   "outputs": [],
   "source": [
    "import os\n",
    "\n",
    "import EMB"
   ]
  },
  {
   "cell_type": "code",
   "execution_count": 2,
   "metadata": {},
   "outputs": [
    {
     "name": "stdout",
     "output_type": "stream",
     "text": [
      "/home/kaiserd/Science/projects/MultiplexReconstruction/Embedded/fix_EMB/scratch\n",
      "setting... -N 10000\n",
      "setting... -t1 4.0\n",
      "setting... -t2 1.0\n",
      "setting... -mu 0.1\n",
      "setting... -k 6\n",
      "setting... -maxk 100\n",
      "\n",
      "**************************************************************\n",
      "number of nodes:\t10000\n",
      "average degree:\t6\n",
      "maximum degree:\t100\n",
      "exponent for the degree distribution:\t4\n",
      "exponent for the community size distribution:\t1\n",
      "mixing parameter:\t0.1\n",
      "number of overlapping nodes:\t0\n",
      "number of memberships of the overlapping nodes:\t0\n",
      "**************************************************************\n",
      "\n",
      "-----------------------------------------------------------\n",
      "community size range automatically set equal to [4 , 100]\n",
      "it took too long to decide the memberships; I will try to change the community sizes\n",
      "new community sizes\n",
      "7 51 12 93 58 22 6 70 5 16 52 37 6 32 61 6 12 58 14 7 17 9 14 12 13 6 18 16 6 92 24 5 7 19 46 13 26 45 8 16 98 7 80 19 7 19 63 25 58 15 6 6 16 25 25 8 20 4 59 52 72 46 77 81 5 8 4 67 29 22 6 44 6 57 39 4 4 31 19 33 40 57 51 27 6 5 35 28 38 21 5 48 5 4 33 4 24 19 12 95 14 64 7 20 8 39 32 23 47 24 21 4 29 23 85 27 80 44 34 33 7 17 7 11 28 56 32 62 55 30 8 8 7 9 8 15 70 40 30 19 4 66 33 17 20 7 87 59 5 65 46 8 15 6 4 5 17 48 77 8 4 22 10 13 16 9 43 23 7 11 28 5 34 14 72 44 19 5 25 30 14 9 82 65 44 7 10 8 6 14 8 45 13 98 16 4 57 14 19 12 32 83 58 53 5 26 26 6 34 46 55 80 16 17 43 71 70 56 24 4 30 13 30 7 48 16 5 82 38 9 7 25 10 23 15 44 10 40 14 22 81 5 16 13 19 56 67 57 12 30 46 12 33 27 21 42 27 12 14 5 5 9 4 62 74 27 53 6 79 88 91 7 89 79 70 4 5 28 22 84 33 16 4 11 5 76 32 58 18 20 38 60 47 61 41 5 17 68 4 5 15 16 12 60 90 30 21 6 24 27 6 49 15 51 17 4 9 56 55 5 25 5 74 19 61 10 33 13 17 29 12 7 74 8 39 \n",
      "\n",
      "it took too long to decide the memberships; I will try to change the community sizes\n",
      "new community sizes\n",
      "51 12 93 58 22 6 70 5 16 52 37 6 32 61 6 12 58 14 7 17 9 14 12 13 6 18 16 6 92 24 5 7 19 46 13 26 45 8 16 98 7 80 19 7 19 63 25 58 15 6 6 16 25 25 8 20 4 59 52 72 46 77 81 5 8 4 67 29 22 6 44 6 57 39 4 4 31 19 33 40 57 51 27 6 5 35 28 38 21 5 48 5 4 33 4 24 19 12 95 14 64 7 20 8 39 32 23 47 24 21 4 29 23 85 27 80 44 34 33 7 17 7 11 28 56 32 62 55 30 8 8 7 9 8 15 70 40 30 19 4 66 33 17 20 7 87 59 5 65 46 8 15 6 4 5 17 48 77 8 4 22 10 13 16 9 43 23 7 11 28 5 34 14 72 44 19 5 25 30 14 9 82 65 44 7 10 8 6 14 8 45 13 98 16 4 57 14 19 12 32 83 58 53 5 26 26 6 34 46 55 80 16 17 43 71 70 56 24 4 30 13 30 7 48 16 5 82 38 9 7 25 10 23 15 44 10 40 14 22 81 5 16 13 19 56 67 57 12 30 46 12 33 27 21 42 27 12 14 5 5 9 4 62 74 27 53 6 79 88 91 7 89 79 70 4 5 28 22 84 33 16 4 11 5 76 32 58 18 20 38 60 47 61 41 5 17 68 4 5 15 16 12 60 90 30 21 6 24 27 6 49 15 51 17 9 9 56 55 5 25 7 74 19 61 10 33 13 17 29 12 7 74 8 39 \n",
      "\n",
      "it took too long to decide the memberships; I will try to change the community sizes\n",
      "new community sizes\n",
      "12 93 58 22 6 70 5 16 52 37 6 32 61 6 12 58 14 7 17 9 14 12 13 6 18 16 6 92 24 5 7 19 46 13 26 45 8 16 98 7 80 19 7 19 63 25 58 15 6 6 16 25 25 8 20 4 59 52 72 46 77 81 5 8 4 67 29 22 6 44 6 57 39 4 4 31 19 33 40 57 51 27 6 5 35 28 38 21 5 48 5 4 33 4 24 19 12 95 14 64 7 20 8 39 32 23 47 24 21 4 29 23 85 27 80 44 34 33 7 17 7 11 28 56 32 62 55 30 8 8 7 9 8 15 70 40 30 19 4 66 33 17 20 7 87 59 5 65 46 8 15 6 4 5 17 48 77 8 4 22 10 13 16 9 43 23 7 11 28 5 34 14 72 44 19 5 25 30 14 9 82 65 44 7 10 8 6 14 8 45 13 98 16 4 57 14 19 12 32 83 58 53 5 26 26 6 34 46 55 80 16 17 43 71 70 56 24 4 30 13 30 7 48 16 5 82 38 9 7 25 10 23 15 44 10 40 14 22 81 5 16 13 19 56 67 57 12 30 46 12 33 27 21 42 27 12 14 5 5 9 4 62 74 27 53 6 79 88 91 7 89 79 70 4 5 28 22 84 33 16 4 11 5 76 32 58 18 20 38 60 47 61 41 5 17 68 9 5 15 16 12 60 90 30 21 6 24 27 6 49 15 51 17 9 9 56 55 51 25 7 74 19 61 10 33 13 17 29 12 7 74 8 39 \n",
      "\n",
      "it took too long to decide the memberships; I will try to change the community sizes\n",
      "new community sizes\n",
      "93 58 22 6 70 5 16 52 37 6 32 61 6 12 58 14 7 17 9 14 12 13 6 18 16 6 92 24 5 7 19 46 13 26 45 8 16 98 7 80 19 7 19 63 25 58 15 6 6 16 25 25 8 20 4 59 52 72 46 77 81 5 8 4 67 29 22 6 44 6 57 39 4 4 31 19 33 40 57 51 27 6 5 35 28 38 21 5 48 5 4 33 4 24 19 12 95 14 64 7 20 8 39 32 23 47 24 21 4 29 23 85 27 80 44 34 33 7 17 7 11 28 56 32 62 55 30 8 8 7 9 8 15 70 40 30 19 4 66 33 17 20 7 87 59 5 65 46 8 15 6 4 5 17 48 77 8 4 22 10 13 16 9 43 23 7 11 28 5 34 14 72 44 19 5 25 30 14 9 82 65 44 7 10 8 6 14 8 45 13 98 16 4 57 14 19 12 32 83 58 53 5 26 26 6 34 46 55 80 16 17 43 71 70 56 24 4 30 13 30 7 48 16 5 82 38 9 7 25 10 23 15 44 10 40 14 22 81 5 16 13 19 56 67 57 12 30 46 12 33 27 21 42 27 12 14 5 5 9 4 62 74 27 53 6 79 88 91 7 89 79 70 4 5 28 22 84 33 16 9 11 5 76 32 58 18 20 38 60 47 61 41 5 17 68 9 12 15 16 12 60 90 30 21 6 24 27 6 49 15 51 17 9 9 56 55 51 25 7 74 19 61 10 33 13 17 29 12 7 74 8 39 \n",
      "\n",
      "it took too long to decide the memberships; I will try to change the community sizes\n",
      "new community sizes\n",
      "58 22 6 70 5 16 52 37 6 32 61 6 12 58 14 7 17 9 14 12 13 6 18 16 6 92 24 5 7 19 46 13 26 45 8 16 98 7 80 19 7 19 63 25 58 15 6 6 16 25 25 8 20 4 59 52 72 46 77 81 5 8 4 67 29 22 6 44 6 57 39 4 4 31 19 33 40 57 51 27 6 5 35 28 38 21 5 48 5 4 33 4 24 19 12 95 14 64 7 20 8 39 32 23 47 24 21 4 29 23 85 27 80 44 34 33 7 17 7 11 28 56 32 62 55 30 8 8 7 9 8 15 70 40 30 19 4 66 33 17 20 7 87 59 5 65 46 8 15 6 4 5 17 48 77 8 4 22 10 13 16 9 43 23 7 11 28 5 34 14 72 44 19 5 25 30 14 9 82 65 44 7 10 8 6 14 8 45 13 98 16 4 57 14 19 12 32 83 58 53 5 26 26 6 34 46 55 80 16 17 43 71 70 56 24 4 30 13 30 7 48 16 5 82 38 9 7 25 10 23 15 44 10 40 14 22 81 5 16 13 19 56 67 57 12 30 46 12 33 27 21 42 27 12 14 5 5 9 4 62 74 27 53 6 79 88 91 7 89 79 70 9 5 28 22 84 33 16 9 11 5 76 32 58 18 20 38 60 47 61 41 93 17 68 9 12 15 16 12 60 90 30 21 6 24 27 6 49 15 51 17 9 9 56 55 51 25 7 74 19 61 10 33 13 17 29 12 7 74 8 39 \n",
      "\n",
      "it took too long to decide the memberships; I will try to change the community sizes\n",
      "new community sizes\n",
      "22 6 70 5 16 52 37 6 32 61 6 12 58 14 7 17 9 14 12 13 6 18 16 6 92 24 5 7 19 46 13 26 45 8 16 98 7 80 19 7 19 63 25 58 15 6 6 16 25 25 8 20 4 59 52 72 46 77 81 5 8 4 67 29 22 6 44 6 57 39 4 4 31 19 33 40 57 51 27 6 5 35 28 38 21 5 48 5 4 33 4 24 19 12 95 14 64 7 20 8 39 32 23 47 24 21 4 29 23 85 27 80 44 34 33 7 17 7 11 28 56 32 62 55 30 8 8 7 9 8 15 70 40 30 19 4 66 33 17 20 7 87 59 5 65 46 8 15 6 4 5 17 48 77 8 4 22 10 13 16 9 43 23 7 11 28 5 34 14 72 44 19 5 25 30 14 9 82 65 44 7 10 8 6 14 8 45 13 98 16 4 57 14 19 12 32 83 58 53 5 26 26 6 34 46 55 80 16 17 43 71 70 56 24 4 30 13 30 7 48 16 5 82 38 9 7 25 10 23 15 44 10 40 14 22 81 5 16 13 19 56 67 57 12 30 46 12 33 27 21 42 27 12 14 5 5 9 9 62 74 27 53 6 79 88 91 7 89 79 70 9 5 28 22 84 33 16 9 11 58 76 32 58 18 20 38 60 47 61 41 93 17 68 9 12 15 16 12 60 90 30 21 6 24 27 6 49 15 51 17 9 9 56 55 51 25 7 74 19 61 10 33 13 17 29 12 7 74 8 39 \n",
      "\n",
      "it took too long to decide the memberships; I will try to change the community sizes\n",
      "new community sizes\n",
      "6 70 5 16 52 37 6 32 61 6 12 58 14 7 17 9 14 12 13 6 18 16 6 92 24 5 7 19 46 13 26 45 8 16 98 7 80 19 7 19 63 25 58 15 6 6 16 25 25 8 20 4 59 52 72 46 77 81 5 8 4 67 29 22 6 44 6 57 39 4 4 31 19 33 40 57 51 27 6 5 35 28 38 21 5 48 5 4 33 4 24 19 12 95 14 64 7 20 8 39 32 23 47 24 21 4 29 23 85 27 80 44 34 33 7 17 7 11 28 56 32 62 55 30 8 8 7 9 8 15 70 40 30 19 4 66 33 17 20 7 87 59 5 65 46 8 15 6 4 5 17 48 77 8 4 22 10 13 16 9 43 23 7 11 28 5 34 14 72 44 19 5 25 30 14 9 82 65 44 7 10 8 6 14 8 45 13 98 16 4 57 14 19 12 32 83 58 53 5 26 26 6 34 46 55 80 16 17 43 71 70 56 24 9 30 13 30 7 48 16 5 82 38 9 7 25 10 23 15 44 10 40 14 22 81 5 16 13 19 56 67 57 12 30 46 12 33 27 21 42 27 12 14 5 5 9 9 62 74 27 53 6 79 88 91 7 89 79 70 9 22 28 22 84 33 16 9 11 58 76 32 58 18 20 38 60 47 61 41 93 17 68 9 12 15 16 12 60 90 30 21 6 24 27 6 49 15 51 17 9 9 56 55 51 25 7 74 19 61 10 33 13 17 29 12 7 74 8 39 \n",
      "\n",
      "it took too long to decide the memberships; I will try to change the community sizes\n",
      "new community sizes\n",
      "70 5 16 52 37 6 32 61 6 12 58 14 7 17 9 14 12 13 6 18 16 6 92 24 5 7 19 46 13 26 45 8 16 98 7 80 19 7 19 63 25 58 15 6 6 16 25 25 8 20 4 59 52 72 46 77 81 5 8 4 67 29 22 6 44 6 57 39 4 4 31 19 33 40 57 51 27 6 5 35 28 38 21 5 48 5 4 33 4 24 19 12 95 14 64 7 20 8 39 32 23 47 24 21 4 29 23 85 27 80 44 34 33 7 17 7 11 28 56 32 62 55 30 8 8 7 9 8 15 70 40 30 19 4 66 33 17 20 7 87 59 5 65 46 8 15 6 4 5 17 48 77 8 4 22 10 13 16 9 43 23 7 11 28 5 34 14 72 44 19 5 25 30 14 9 82 65 44 7 10 8 6 14 8 45 13 98 16 9 57 14 19 12 32 83 58 53 5 26 26 6 34 46 55 80 16 17 43 71 70 56 24 9 30 13 30 7 48 16 5 82 38 9 7 25 10 23 15 44 10 40 14 22 81 5 16 13 19 56 67 57 12 30 46 12 33 27 21 42 27 12 14 5 6 9 9 62 74 27 53 6 79 88 91 7 89 79 70 9 22 28 22 84 33 16 9 11 58 76 32 58 18 20 38 60 47 61 41 93 17 68 9 12 15 16 12 60 90 30 21 6 24 27 6 49 15 51 17 9 9 56 55 51 25 7 74 19 61 10 33 13 17 29 12 7 74 8 39 \n",
      "\n",
      "building communities... \n",
      "connecting communities... \n",
      "recording network...\n",
      "\n",
      "\n",
      "---------------------------------------------------------------------------\n",
      "network of 10000 vertices and 26732 edges;\t average degree = 5.3464\n",
      "\n",
      "average mixing parameter: 0.100049 +/- 0.107144\n",
      "p_in: 0.326987\tp_out: 5.38671e-05\n"
     ]
    },
    {
     "name": "stderr",
     "output_type": "stream",
     "text": [
      "Segmentation fault (core dumped)\n"
     ]
    }
   ],
   "source": [
    "# Strong mu, homogenous gamma\n",
    "D, sigma1, sigma2, mu = \\\n",
    "    EMB.netsci.models.generate_duplex_LFR(\n",
    "        num_nodes=10_000,\n",
    "        degree_heterogeneity=4.0,\n",
    "        community_heterogeneity=1.0,\n",
    "        community_mixing=0.1,\n",
    "        degree_average=6,\n",
    "        degree_max=100,\n",
    "        probability_relabel=1.0,\n",
    "        ROOT=\"../\")\n",
    "\n",
    "D = dict(enumerate(EMB.netsci.models.preprocessing.make_layers_disjoint(*D.values())))\n",
    "\n",
    "EMB.mplxio.to_edgelist(\n",
    "    D,\n",
    "    os.path.join(\n",
    "    \"..\", \"data\", \"edgelists\",\n",
    "    \"multiplex-LFR_N-10000_T1-4.0_T2-1.0_kavg-6.0_kmax-100_mu-0.1_prob-1.0.mplx\"\n",
    "))"
   ]
  },
  {
   "cell_type": "code",
   "execution_count": 3,
   "metadata": {},
   "outputs": [
    {
     "name": "stdout",
     "output_type": "stream",
     "text": [
      "/home/kaiserd/Science/projects/MultiplexReconstruction/Embedded/fix_EMB/scratch\n",
      "setting... -N 10000\n",
      "setting... -t1 2.1\n",
      "setting... -t2 1.0\n",
      "setting... -mu 0.5\n",
      "setting... -k 6\n",
      "setting... -maxk 100\n",
      "\n",
      "**************************************************************\n",
      "number of nodes:\t10000\n",
      "average degree:\t6\n",
      "maximum degree:\t100\n",
      "exponent for the degree distribution:\t2.1\n",
      "exponent for the community size distribution:\t1\n",
      "mixing parameter:\t0.5\n",
      "number of overlapping nodes:\t0\n",
      "number of memberships of the overlapping nodes:\t0\n",
      "**************************************************************\n",
      "\n",
      "-----------------------------------------------------------\n",
      "community size range automatically set equal to [3 , 100]\n",
      "building communities... \n",
      "connecting communities... \n",
      "recording network...\n",
      "\n",
      "\n",
      "---------------------------------------------------------------------------\n",
      "network of 10000 vertices and 29067 edges;\t average degree = 5.8134\n",
      "\n",
      "average mixing parameter: 0.501269 +/- 0.0931475\n",
      "p_in: 0.222765\tp_out: 0.00023964\n"
     ]
    },
    {
     "name": "stderr",
     "output_type": "stream",
     "text": [
      "Segmentation fault (core dumped)\n"
     ]
    }
   ],
   "source": [
    "# Weak mu, heterogenous gamma\n",
    "D, sigma1, sigma2, mu = \\\n",
    "    EMB.netsci.models.generate_duplex_LFR(\n",
    "        num_nodes=10_000,\n",
    "        degree_heterogeneity=2.1,\n",
    "        community_heterogeneity=1.0,\n",
    "        community_mixing=0.5,\n",
    "        degree_average=6,\n",
    "        degree_max=100,\n",
    "        probability_relabel=1.0,\n",
    "        ROOT=\"../\")\n",
    "\n",
    "D = dict(enumerate(EMB.netsci.models.preprocessing.make_layers_disjoint(*D.values())))\n",
    "\n",
    "EMB.mplxio.to_edgelist(\n",
    "    D,\n",
    "    os.path.join(\n",
    "    \"..\", \"data\", \"edgelists\",\n",
    "    \"multiplex-LFR_N-10000_T1-2.1_T2-1.0_kavg-6.0_kmax-100_mu-0.5_prob-1.0.mplx\"\n",
    "))"
   ]
  },
  {
   "cell_type": "code",
   "execution_count": 4,
   "metadata": {},
   "outputs": [
    {
     "name": "stdout",
     "output_type": "stream",
     "text": [
      "/home/kaiserd/Science/projects/MultiplexReconstruction/Embedded/fix_EMB/scratch\n",
      "setting... -N 10000\n",
      "setting... -t1 2.7\n",
      "setting... -t2 1.0\n",
      "setting... -mu 0.3\n",
      "setting... -k 6\n",
      "setting... -maxk 100\n",
      "\n",
      "**************************************************************\n",
      "number of nodes:\t10000\n",
      "average degree:\t6\n",
      "maximum degree:\t100\n",
      "exponent for the degree distribution:\t2.7\n",
      "exponent for the community size distribution:\t1\n",
      "mixing parameter:\t0.3\n",
      "number of overlapping nodes:\t0\n",
      "number of memberships of the overlapping nodes:\t0\n",
      "**************************************************************\n",
      "\n",
      "-----------------------------------------------------------\n",
      "community size range automatically set equal to [3 , 100]\n",
      "building communities... \n",
      "connecting communities... \n",
      "recording network...\n",
      "\n",
      "\n",
      "---------------------------------------------------------------------------\n",
      "network of 10000 vertices and 28744 edges;\t average degree = 5.7488\n",
      "\n",
      "average mixing parameter: 0.301065 +/- 0.0938722\n",
      "p_in: 0.348135\tp_out: 0.000148984\n"
     ]
    },
    {
     "name": "stderr",
     "output_type": "stream",
     "text": [
      "Segmentation fault (core dumped)\n"
     ]
    }
   ],
   "source": [
    "# Mid mu, mid gamma\n",
    "D, sigma1, sigma2, mu = \\\n",
    "    EMB.netsci.models.generate_duplex_LFR(\n",
    "        num_nodes=10_000,\n",
    "        degree_heterogeneity=2.7,\n",
    "        community_heterogeneity=1.0,\n",
    "        community_mixing=0.3,\n",
    "        degree_average=6,\n",
    "        degree_max=100,\n",
    "        probability_relabel=1.0,\n",
    "        ROOT=\"../\")\n",
    "\n",
    "D = dict(enumerate(EMB.netsci.models.preprocessing.make_layers_disjoint(*D.values())))\n",
    "\n",
    "EMB.mplxio.to_edgelist(\n",
    "    D,\n",
    "    os.path.join(\n",
    "    \"..\", \"data\", \"edgelists\",\n",
    "    \"multiplex-LFR_N-10000_T1-2.7_T2-1.0_kavg-6.0_kmax-100_mu-0.3_prob-1.0.mplx\"\n",
    "))"
   ]
  },
  {
   "cell_type": "code",
   "execution_count": null,
   "metadata": {},
   "outputs": [],
   "source": []
  }
 ],
 "metadata": {
  "kernelspec": {
   "display_name": ".venv",
   "language": "python",
   "name": "python3"
  },
  "language_info": {
   "codemirror_mode": {
    "name": "ipython",
    "version": 3
   },
   "file_extension": ".py",
   "mimetype": "text/x-python",
   "name": "python",
   "nbconvert_exporter": "python",
   "pygments_lexer": "ipython3",
   "version": "3.10.6"
  },
  "orig_nbformat": 4
 },
 "nbformat": 4,
 "nbformat_minor": 2
}
